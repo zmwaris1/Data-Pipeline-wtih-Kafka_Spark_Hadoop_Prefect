{
 "cells": [
  {
   "cell_type": "code",
   "execution_count": 6,
   "id": "30edd59e",
   "metadata": {},
   "outputs": [
    {
     "name": "stderr",
     "output_type": "stream",
     "text": [
      "/media/zmwaris/mydrive/apps/Anaconda/anaconda3/lib/python3.11/site-packages/prefect/tasks.py:333: UserWarning: A task named 'first_etl' and defined at '/tmp/ipykernel_9036/2870931583.py:14' conflicts with another task. Consider specifying a unique `name` parameter in the task definition:\n",
      "\n",
      " `@task(name='my_unique_name', ...)`\n",
      "  warnings.warn(\n",
      "/media/zmwaris/mydrive/apps/Anaconda/anaconda3/lib/python3.11/site-packages/prefect/flows.py:285: UserWarning: A flow named 'first_etl' and defined at '/tmp/ipykernel_9036/2870931583.py:32' conflicts with another flow. Consider specifying a unique `name` parameter in the flow definition:\n",
      "\n",
      " `@flow(name='my_unique_name', ...)`\n",
      "  warnings.warn(\n"
     ]
    },
    {
     "data": {
      "text/html": [
       "<pre style=\"white-space:pre;overflow-x:auto;line-height:normal;font-family:Menlo,'DejaVu Sans Mono',consolas,'Courier New',monospace\">09:13:32.362 | <span style=\"color: #008080; text-decoration-color: #008080\">INFO</span>    | prefect.engine - Created flow run<span style=\"color: #800080; text-decoration-color: #800080\"> 'caped-jaybird'</span> for flow<span style=\"color: #800080; text-decoration-color: #800080; font-weight: bold\"> 'first_etl'</span>\n",
       "</pre>\n"
      ],
      "text/plain": [
       "09:13:32.362 | \u001b[36mINFO\u001b[0m    | prefect.engine - Created flow run\u001b[35m 'caped-jaybird'\u001b[0m for flow\u001b[1;35m 'first_etl'\u001b[0m\n"
      ]
     },
     "metadata": {},
     "output_type": "display_data"
    },
    {
     "data": {
      "text/html": [
       "<pre style=\"white-space:pre;overflow-x:auto;line-height:normal;font-family:Menlo,'DejaVu Sans Mono',consolas,'Courier New',monospace\">09:13:32.569 | <span style=\"color: #008080; text-decoration-color: #008080\">INFO</span>    | Flow run<span style=\"color: #800080; text-decoration-color: #800080\"> 'caped-jaybird'</span> - Created task run 'first_etl-0' for task 'first_etl'\n",
       "</pre>\n"
      ],
      "text/plain": [
       "09:13:32.569 | \u001b[36mINFO\u001b[0m    | Flow run\u001b[35m 'caped-jaybird'\u001b[0m - Created task run 'first_etl-0' for task 'first_etl'\n"
      ]
     },
     "metadata": {},
     "output_type": "display_data"
    },
    {
     "data": {
      "text/html": [
       "<pre style=\"white-space:pre;overflow-x:auto;line-height:normal;font-family:Menlo,'DejaVu Sans Mono',consolas,'Courier New',monospace\">09:13:32.571 | <span style=\"color: #008080; text-decoration-color: #008080\">INFO</span>    | Flow run<span style=\"color: #800080; text-decoration-color: #800080\"> 'caped-jaybird'</span> - Executing 'first_etl-0' immediately...\n",
       "</pre>\n"
      ],
      "text/plain": [
       "09:13:32.571 | \u001b[36mINFO\u001b[0m    | Flow run\u001b[35m 'caped-jaybird'\u001b[0m - Executing 'first_etl-0' immediately...\n"
      ]
     },
     "metadata": {},
     "output_type": "display_data"
    },
    {
     "data": {
      "text/html": [
       "<pre style=\"white-space:pre;overflow-x:auto;line-height:normal;font-family:Menlo,'DejaVu Sans Mono',consolas,'Courier New',monospace\">09:13:35.508 | <span style=\"color: #008080; text-decoration-color: #008080\">INFO</span>    | Task run 'first_etl-0' - &lt;class 'pandas.core.frame.DataFrame'&gt;\n",
       "</pre>\n"
      ],
      "text/plain": [
       "09:13:35.508 | \u001b[36mINFO\u001b[0m    | Task run 'first_etl-0' - <class 'pandas.core.frame.DataFrame'>\n"
      ]
     },
     "metadata": {},
     "output_type": "display_data"
    },
    {
     "data": {
      "text/html": [
       "<pre style=\"white-space:pre;overflow-x:auto;line-height:normal;font-family:Menlo,'DejaVu Sans Mono',consolas,'Courier New',monospace\">09:13:35.510 | <span style=\"color: #008080; text-decoration-color: #008080\">INFO</span>    | Task run 'first_etl-0' - &lt;class 'pandas.core.frame.DataFrame'&gt;\n",
       "</pre>\n"
      ],
      "text/plain": [
       "09:13:35.510 | \u001b[36mINFO\u001b[0m    | Task run 'first_etl-0' - <class 'pandas.core.frame.DataFrame'>\n"
      ]
     },
     "metadata": {},
     "output_type": "display_data"
    },
    {
     "data": {
      "text/html": [
       "<pre style=\"white-space:pre;overflow-x:auto;line-height:normal;font-family:Menlo,'DejaVu Sans Mono',consolas,'Courier New',monospace\">09:13:35.512 | <span style=\"color: #008080; text-decoration-color: #008080\">INFO</span>    | Task run 'first_etl-0' - &lt;class 'pandas.core.frame.DataFrame'&gt;\n",
       "</pre>\n"
      ],
      "text/plain": [
       "09:13:35.512 | \u001b[36mINFO\u001b[0m    | Task run 'first_etl-0' - <class 'pandas.core.frame.DataFrame'>\n"
      ]
     },
     "metadata": {},
     "output_type": "display_data"
    },
    {
     "data": {
      "text/html": [
       "<pre style=\"white-space:pre;overflow-x:auto;line-height:normal;font-family:Menlo,'DejaVu Sans Mono',consolas,'Courier New',monospace\">09:13:35.515 | <span style=\"color: #008080; text-decoration-color: #008080\">INFO</span>    | Task run 'first_etl-0' - &lt;class 'pandas.core.frame.DataFrame'&gt;\n",
       "</pre>\n"
      ],
      "text/plain": [
       "09:13:35.515 | \u001b[36mINFO\u001b[0m    | Task run 'first_etl-0' - <class 'pandas.core.frame.DataFrame'>\n"
      ]
     },
     "metadata": {},
     "output_type": "display_data"
    },
    {
     "data": {
      "text/html": [
       "<pre style=\"white-space:pre;overflow-x:auto;line-height:normal;font-family:Menlo,'DejaVu Sans Mono',consolas,'Courier New',monospace\">09:13:35.518 | <span style=\"color: #008080; text-decoration-color: #008080\">INFO</span>    | Task run 'first_etl-0' - &lt;class 'pandas.core.frame.DataFrame'&gt;\n",
       "</pre>\n"
      ],
      "text/plain": [
       "09:13:35.518 | \u001b[36mINFO\u001b[0m    | Task run 'first_etl-0' - <class 'pandas.core.frame.DataFrame'>\n"
      ]
     },
     "metadata": {},
     "output_type": "display_data"
    },
    {
     "data": {
      "text/html": [
       "<pre style=\"white-space:pre;overflow-x:auto;line-height:normal;font-family:Menlo,'DejaVu Sans Mono',consolas,'Courier New',monospace\">09:13:35.521 | <span style=\"color: #008080; text-decoration-color: #008080\">INFO</span>    | Task run 'first_etl-0' - &lt;class 'pandas.core.frame.DataFrame'&gt;\n",
       "</pre>\n"
      ],
      "text/plain": [
       "09:13:35.521 | \u001b[36mINFO\u001b[0m    | Task run 'first_etl-0' - <class 'pandas.core.frame.DataFrame'>\n"
      ]
     },
     "metadata": {},
     "output_type": "display_data"
    },
    {
     "data": {
      "text/html": [
       "<pre style=\"white-space:pre;overflow-x:auto;line-height:normal;font-family:Menlo,'DejaVu Sans Mono',consolas,'Courier New',monospace\">09:13:35.525 | <span style=\"color: #008080; text-decoration-color: #008080\">INFO</span>    | Task run 'first_etl-0' - &lt;class 'pandas.core.frame.DataFrame'&gt;\n",
       "</pre>\n"
      ],
      "text/plain": [
       "09:13:35.525 | \u001b[36mINFO\u001b[0m    | Task run 'first_etl-0' - <class 'pandas.core.frame.DataFrame'>\n"
      ]
     },
     "metadata": {},
     "output_type": "display_data"
    },
    {
     "data": {
      "text/html": [
       "<pre style=\"white-space:pre;overflow-x:auto;line-height:normal;font-family:Menlo,'DejaVu Sans Mono',consolas,'Courier New',monospace\">09:13:35.530 | <span style=\"color: #008080; text-decoration-color: #008080\">INFO</span>    | Task run 'first_etl-0' - &lt;class 'pandas.core.frame.DataFrame'&gt;\n",
       "</pre>\n"
      ],
      "text/plain": [
       "09:13:35.530 | \u001b[36mINFO\u001b[0m    | Task run 'first_etl-0' - <class 'pandas.core.frame.DataFrame'>\n"
      ]
     },
     "metadata": {},
     "output_type": "display_data"
    },
    {
     "data": {
      "text/html": [
       "<pre style=\"white-space:pre;overflow-x:auto;line-height:normal;font-family:Menlo,'DejaVu Sans Mono',consolas,'Courier New',monospace\">09:13:35.534 | <span style=\"color: #008080; text-decoration-color: #008080\">INFO</span>    | Task run 'first_etl-0' - &lt;class 'pandas.core.frame.DataFrame'&gt;\n",
       "</pre>\n"
      ],
      "text/plain": [
       "09:13:35.534 | \u001b[36mINFO\u001b[0m    | Task run 'first_etl-0' - <class 'pandas.core.frame.DataFrame'>\n"
      ]
     },
     "metadata": {},
     "output_type": "display_data"
    },
    {
     "data": {
      "text/html": [
       "<pre style=\"white-space:pre;overflow-x:auto;line-height:normal;font-family:Menlo,'DejaVu Sans Mono',consolas,'Courier New',monospace\">09:13:35.539 | <span style=\"color: #008080; text-decoration-color: #008080\">INFO</span>    | Task run 'first_etl-0' - &lt;class 'pandas.core.frame.DataFrame'&gt;\n",
       "</pre>\n"
      ],
      "text/plain": [
       "09:13:35.539 | \u001b[36mINFO\u001b[0m    | Task run 'first_etl-0' - <class 'pandas.core.frame.DataFrame'>\n"
      ]
     },
     "metadata": {},
     "output_type": "display_data"
    },
    {
     "data": {
      "text/html": [
       "<pre style=\"white-space:pre;overflow-x:auto;line-height:normal;font-family:Menlo,'DejaVu Sans Mono',consolas,'Courier New',monospace\">09:13:35.544 | <span style=\"color: #008080; text-decoration-color: #008080\">INFO</span>    | Task run 'first_etl-0' - &lt;class 'pandas.core.frame.DataFrame'&gt;\n",
       "</pre>\n"
      ],
      "text/plain": [
       "09:13:35.544 | \u001b[36mINFO\u001b[0m    | Task run 'first_etl-0' - <class 'pandas.core.frame.DataFrame'>\n"
      ]
     },
     "metadata": {},
     "output_type": "display_data"
    },
    {
     "data": {
      "text/html": [
       "<pre style=\"white-space:pre;overflow-x:auto;line-height:normal;font-family:Menlo,'DejaVu Sans Mono',consolas,'Courier New',monospace\">09:13:35.547 | <span style=\"color: #008080; text-decoration-color: #008080\">INFO</span>    | Task run 'first_etl-0' - &lt;class 'pandas.core.frame.DataFrame'&gt;\n",
       "</pre>\n"
      ],
      "text/plain": [
       "09:13:35.547 | \u001b[36mINFO\u001b[0m    | Task run 'first_etl-0' - <class 'pandas.core.frame.DataFrame'>\n"
      ]
     },
     "metadata": {},
     "output_type": "display_data"
    },
    {
     "data": {
      "text/html": [
       "<pre style=\"white-space:pre;overflow-x:auto;line-height:normal;font-family:Menlo,'DejaVu Sans Mono',consolas,'Courier New',monospace\">09:13:35.551 | <span style=\"color: #008080; text-decoration-color: #008080\">INFO</span>    | Task run 'first_etl-0' - &lt;class 'pandas.core.frame.DataFrame'&gt;\n",
       "</pre>\n"
      ],
      "text/plain": [
       "09:13:35.551 | \u001b[36mINFO\u001b[0m    | Task run 'first_etl-0' - <class 'pandas.core.frame.DataFrame'>\n"
      ]
     },
     "metadata": {},
     "output_type": "display_data"
    },
    {
     "data": {
      "text/html": [
       "<pre style=\"white-space:pre;overflow-x:auto;line-height:normal;font-family:Menlo,'DejaVu Sans Mono',consolas,'Courier New',monospace\">09:13:35.555 | <span style=\"color: #008080; text-decoration-color: #008080\">INFO</span>    | Task run 'first_etl-0' - &lt;class 'pandas.core.frame.DataFrame'&gt;\n",
       "</pre>\n"
      ],
      "text/plain": [
       "09:13:35.555 | \u001b[36mINFO\u001b[0m    | Task run 'first_etl-0' - <class 'pandas.core.frame.DataFrame'>\n"
      ]
     },
     "metadata": {},
     "output_type": "display_data"
    },
    {
     "data": {
      "text/html": [
       "<pre style=\"white-space:pre;overflow-x:auto;line-height:normal;font-family:Menlo,'DejaVu Sans Mono',consolas,'Courier New',monospace\">09:13:35.559 | <span style=\"color: #008080; text-decoration-color: #008080\">INFO</span>    | Task run 'first_etl-0' - &lt;class 'pandas.core.frame.DataFrame'&gt;\n",
       "</pre>\n"
      ],
      "text/plain": [
       "09:13:35.559 | \u001b[36mINFO\u001b[0m    | Task run 'first_etl-0' - <class 'pandas.core.frame.DataFrame'>\n"
      ]
     },
     "metadata": {},
     "output_type": "display_data"
    },
    {
     "data": {
      "text/html": [
       "<pre style=\"white-space:pre;overflow-x:auto;line-height:normal;font-family:Menlo,'DejaVu Sans Mono',consolas,'Courier New',monospace\">09:13:35.563 | <span style=\"color: #008080; text-decoration-color: #008080\">INFO</span>    | Task run 'first_etl-0' - &lt;class 'pandas.core.frame.DataFrame'&gt;\n",
       "</pre>\n"
      ],
      "text/plain": [
       "09:13:35.563 | \u001b[36mINFO\u001b[0m    | Task run 'first_etl-0' - <class 'pandas.core.frame.DataFrame'>\n"
      ]
     },
     "metadata": {},
     "output_type": "display_data"
    },
    {
     "data": {
      "text/html": [
       "<pre style=\"white-space:pre;overflow-x:auto;line-height:normal;font-family:Menlo,'DejaVu Sans Mono',consolas,'Courier New',monospace\">09:13:35.567 | <span style=\"color: #008080; text-decoration-color: #008080\">INFO</span>    | Task run 'first_etl-0' - &lt;class 'pandas.core.frame.DataFrame'&gt;\n",
       "</pre>\n"
      ],
      "text/plain": [
       "09:13:35.567 | \u001b[36mINFO\u001b[0m    | Task run 'first_etl-0' - <class 'pandas.core.frame.DataFrame'>\n"
      ]
     },
     "metadata": {},
     "output_type": "display_data"
    },
    {
     "data": {
      "text/html": [
       "<pre style=\"white-space:pre;overflow-x:auto;line-height:normal;font-family:Menlo,'DejaVu Sans Mono',consolas,'Courier New',monospace\">09:13:35.570 | <span style=\"color: #008080; text-decoration-color: #008080\">INFO</span>    | Task run 'first_etl-0' - &lt;class 'pandas.core.frame.DataFrame'&gt;\n",
       "</pre>\n"
      ],
      "text/plain": [
       "09:13:35.570 | \u001b[36mINFO\u001b[0m    | Task run 'first_etl-0' - <class 'pandas.core.frame.DataFrame'>\n"
      ]
     },
     "metadata": {},
     "output_type": "display_data"
    },
    {
     "data": {
      "text/html": [
       "<pre style=\"white-space:pre;overflow-x:auto;line-height:normal;font-family:Menlo,'DejaVu Sans Mono',consolas,'Courier New',monospace\">09:13:35.575 | <span style=\"color: #008080; text-decoration-color: #008080\">INFO</span>    | Task run 'first_etl-0' - &lt;class 'pandas.core.frame.DataFrame'&gt;\n",
       "</pre>\n"
      ],
      "text/plain": [
       "09:13:35.575 | \u001b[36mINFO\u001b[0m    | Task run 'first_etl-0' - <class 'pandas.core.frame.DataFrame'>\n"
      ]
     },
     "metadata": {},
     "output_type": "display_data"
    },
    {
     "data": {
      "text/html": [
       "<pre style=\"white-space:pre;overflow-x:auto;line-height:normal;font-family:Menlo,'DejaVu Sans Mono',consolas,'Courier New',monospace\">09:13:35.578 | <span style=\"color: #008080; text-decoration-color: #008080\">INFO</span>    | Task run 'first_etl-0' - &lt;class 'pandas.core.frame.DataFrame'&gt;\n",
       "</pre>\n"
      ],
      "text/plain": [
       "09:13:35.578 | \u001b[36mINFO\u001b[0m    | Task run 'first_etl-0' - <class 'pandas.core.frame.DataFrame'>\n"
      ]
     },
     "metadata": {},
     "output_type": "display_data"
    },
    {
     "data": {
      "text/html": [
       "<pre style=\"white-space:pre;overflow-x:auto;line-height:normal;font-family:Menlo,'DejaVu Sans Mono',consolas,'Courier New',monospace\">09:13:35.582 | <span style=\"color: #008080; text-decoration-color: #008080\">INFO</span>    | Task run 'first_etl-0' - &lt;class 'pandas.core.frame.DataFrame'&gt;\n",
       "</pre>\n"
      ],
      "text/plain": [
       "09:13:35.582 | \u001b[36mINFO\u001b[0m    | Task run 'first_etl-0' - <class 'pandas.core.frame.DataFrame'>\n"
      ]
     },
     "metadata": {},
     "output_type": "display_data"
    },
    {
     "data": {
      "text/html": [
       "<pre style=\"white-space:pre;overflow-x:auto;line-height:normal;font-family:Menlo,'DejaVu Sans Mono',consolas,'Courier New',monospace\">09:13:35.585 | <span style=\"color: #008080; text-decoration-color: #008080\">INFO</span>    | Task run 'first_etl-0' - &lt;class 'pandas.core.frame.DataFrame'&gt;\n",
       "</pre>\n"
      ],
      "text/plain": [
       "09:13:35.585 | \u001b[36mINFO\u001b[0m    | Task run 'first_etl-0' - <class 'pandas.core.frame.DataFrame'>\n"
      ]
     },
     "metadata": {},
     "output_type": "display_data"
    },
    {
     "data": {
      "text/html": [
       "<pre style=\"white-space:pre;overflow-x:auto;line-height:normal;font-family:Menlo,'DejaVu Sans Mono',consolas,'Courier New',monospace\">09:13:35.588 | <span style=\"color: #008080; text-decoration-color: #008080\">INFO</span>    | Task run 'first_etl-0' - &lt;class 'pandas.core.frame.DataFrame'&gt;\n",
       "</pre>\n"
      ],
      "text/plain": [
       "09:13:35.588 | \u001b[36mINFO\u001b[0m    | Task run 'first_etl-0' - <class 'pandas.core.frame.DataFrame'>\n"
      ]
     },
     "metadata": {},
     "output_type": "display_data"
    },
    {
     "data": {
      "text/html": [
       "<pre style=\"white-space:pre;overflow-x:auto;line-height:normal;font-family:Menlo,'DejaVu Sans Mono',consolas,'Courier New',monospace\">09:13:35.592 | <span style=\"color: #008080; text-decoration-color: #008080\">INFO</span>    | Task run 'first_etl-0' - &lt;class 'pandas.core.frame.DataFrame'&gt;\n",
       "</pre>\n"
      ],
      "text/plain": [
       "09:13:35.592 | \u001b[36mINFO\u001b[0m    | Task run 'first_etl-0' - <class 'pandas.core.frame.DataFrame'>\n"
      ]
     },
     "metadata": {},
     "output_type": "display_data"
    },
    {
     "data": {
      "text/html": [
       "<pre style=\"white-space:pre;overflow-x:auto;line-height:normal;font-family:Menlo,'DejaVu Sans Mono',consolas,'Courier New',monospace\">09:13:35.595 | <span style=\"color: #008080; text-decoration-color: #008080\">INFO</span>    | Task run 'first_etl-0' - &lt;class 'pandas.core.frame.DataFrame'&gt;\n",
       "</pre>\n"
      ],
      "text/plain": [
       "09:13:35.595 | \u001b[36mINFO\u001b[0m    | Task run 'first_etl-0' - <class 'pandas.core.frame.DataFrame'>\n"
      ]
     },
     "metadata": {},
     "output_type": "display_data"
    },
    {
     "data": {
      "text/html": [
       "<pre style=\"white-space:pre;overflow-x:auto;line-height:normal;font-family:Menlo,'DejaVu Sans Mono',consolas,'Courier New',monospace\">09:13:35.598 | <span style=\"color: #008080; text-decoration-color: #008080\">INFO</span>    | Task run 'first_etl-0' - &lt;class 'pandas.core.frame.DataFrame'&gt;\n",
       "</pre>\n"
      ],
      "text/plain": [
       "09:13:35.598 | \u001b[36mINFO\u001b[0m    | Task run 'first_etl-0' - <class 'pandas.core.frame.DataFrame'>\n"
      ]
     },
     "metadata": {},
     "output_type": "display_data"
    },
    {
     "data": {
      "text/html": [
       "<pre style=\"white-space:pre;overflow-x:auto;line-height:normal;font-family:Menlo,'DejaVu Sans Mono',consolas,'Courier New',monospace\">09:13:35.601 | <span style=\"color: #008080; text-decoration-color: #008080\">INFO</span>    | Task run 'first_etl-0' - &lt;class 'pandas.core.frame.DataFrame'&gt;\n",
       "</pre>\n"
      ],
      "text/plain": [
       "09:13:35.601 | \u001b[36mINFO\u001b[0m    | Task run 'first_etl-0' - <class 'pandas.core.frame.DataFrame'>\n"
      ]
     },
     "metadata": {},
     "output_type": "display_data"
    },
    {
     "data": {
      "text/html": [
       "<pre style=\"white-space:pre;overflow-x:auto;line-height:normal;font-family:Menlo,'DejaVu Sans Mono',consolas,'Courier New',monospace\">09:13:35.604 | <span style=\"color: #008080; text-decoration-color: #008080\">INFO</span>    | Task run 'first_etl-0' - &lt;class 'pandas.core.frame.DataFrame'&gt;\n",
       "</pre>\n"
      ],
      "text/plain": [
       "09:13:35.604 | \u001b[36mINFO\u001b[0m    | Task run 'first_etl-0' - <class 'pandas.core.frame.DataFrame'>\n"
      ]
     },
     "metadata": {},
     "output_type": "display_data"
    },
    {
     "data": {
      "text/html": [
       "<pre style=\"white-space:pre;overflow-x:auto;line-height:normal;font-family:Menlo,'DejaVu Sans Mono',consolas,'Courier New',monospace\">09:13:35.607 | <span style=\"color: #008080; text-decoration-color: #008080\">INFO</span>    | Task run 'first_etl-0' - &lt;class 'pandas.core.frame.DataFrame'&gt;\n",
       "</pre>\n"
      ],
      "text/plain": [
       "09:13:35.607 | \u001b[36mINFO\u001b[0m    | Task run 'first_etl-0' - <class 'pandas.core.frame.DataFrame'>\n"
      ]
     },
     "metadata": {},
     "output_type": "display_data"
    },
    {
     "data": {
      "text/html": [
       "<pre style=\"white-space:pre;overflow-x:auto;line-height:normal;font-family:Menlo,'DejaVu Sans Mono',consolas,'Courier New',monospace\">09:13:35.610 | <span style=\"color: #008080; text-decoration-color: #008080\">INFO</span>    | Task run 'first_etl-0' - &lt;class 'pandas.core.frame.DataFrame'&gt;\n",
       "</pre>\n"
      ],
      "text/plain": [
       "09:13:35.610 | \u001b[36mINFO\u001b[0m    | Task run 'first_etl-0' - <class 'pandas.core.frame.DataFrame'>\n"
      ]
     },
     "metadata": {},
     "output_type": "display_data"
    },
    {
     "data": {
      "text/html": [
       "<pre style=\"white-space:pre;overflow-x:auto;line-height:normal;font-family:Menlo,'DejaVu Sans Mono',consolas,'Courier New',monospace\">09:13:35.613 | <span style=\"color: #008080; text-decoration-color: #008080\">INFO</span>    | Task run 'first_etl-0' - &lt;class 'pandas.core.frame.DataFrame'&gt;\n",
       "</pre>\n"
      ],
      "text/plain": [
       "09:13:35.613 | \u001b[36mINFO\u001b[0m    | Task run 'first_etl-0' - <class 'pandas.core.frame.DataFrame'>\n"
      ]
     },
     "metadata": {},
     "output_type": "display_data"
    },
    {
     "data": {
      "text/html": [
       "<pre style=\"white-space:pre;overflow-x:auto;line-height:normal;font-family:Menlo,'DejaVu Sans Mono',consolas,'Courier New',monospace\">09:13:35.615 | <span style=\"color: #008080; text-decoration-color: #008080\">INFO</span>    | Task run 'first_etl-0' - &lt;class 'pandas.core.frame.DataFrame'&gt;\n",
       "</pre>\n"
      ],
      "text/plain": [
       "09:13:35.615 | \u001b[36mINFO\u001b[0m    | Task run 'first_etl-0' - <class 'pandas.core.frame.DataFrame'>\n"
      ]
     },
     "metadata": {},
     "output_type": "display_data"
    },
    {
     "data": {
      "text/html": [
       "<pre style=\"white-space:pre;overflow-x:auto;line-height:normal;font-family:Menlo,'DejaVu Sans Mono',consolas,'Courier New',monospace\">09:13:35.619 | <span style=\"color: #008080; text-decoration-color: #008080\">INFO</span>    | Task run 'first_etl-0' - &lt;class 'pandas.core.frame.DataFrame'&gt;\n",
       "</pre>\n"
      ],
      "text/plain": [
       "09:13:35.619 | \u001b[36mINFO\u001b[0m    | Task run 'first_etl-0' - <class 'pandas.core.frame.DataFrame'>\n"
      ]
     },
     "metadata": {},
     "output_type": "display_data"
    },
    {
     "data": {
      "text/html": [
       "<pre style=\"white-space:pre;overflow-x:auto;line-height:normal;font-family:Menlo,'DejaVu Sans Mono',consolas,'Courier New',monospace\">09:13:35.621 | <span style=\"color: #008080; text-decoration-color: #008080\">INFO</span>    | Task run 'first_etl-0' - &lt;class 'pandas.core.frame.DataFrame'&gt;\n",
       "</pre>\n"
      ],
      "text/plain": [
       "09:13:35.621 | \u001b[36mINFO\u001b[0m    | Task run 'first_etl-0' - <class 'pandas.core.frame.DataFrame'>\n"
      ]
     },
     "metadata": {},
     "output_type": "display_data"
    },
    {
     "data": {
      "text/html": [
       "<pre style=\"white-space:pre;overflow-x:auto;line-height:normal;font-family:Menlo,'DejaVu Sans Mono',consolas,'Courier New',monospace\">09:13:35.624 | <span style=\"color: #008080; text-decoration-color: #008080\">INFO</span>    | Task run 'first_etl-0' - &lt;class 'pandas.core.frame.DataFrame'&gt;\n",
       "</pre>\n"
      ],
      "text/plain": [
       "09:13:35.624 | \u001b[36mINFO\u001b[0m    | Task run 'first_etl-0' - <class 'pandas.core.frame.DataFrame'>\n"
      ]
     },
     "metadata": {},
     "output_type": "display_data"
    },
    {
     "data": {
      "text/html": [
       "<pre style=\"white-space:pre;overflow-x:auto;line-height:normal;font-family:Menlo,'DejaVu Sans Mono',consolas,'Courier New',monospace\">09:13:35.626 | <span style=\"color: #008080; text-decoration-color: #008080\">INFO</span>    | Task run 'first_etl-0' - &lt;class 'pandas.core.frame.DataFrame'&gt;\n",
       "</pre>\n"
      ],
      "text/plain": [
       "09:13:35.626 | \u001b[36mINFO\u001b[0m    | Task run 'first_etl-0' - <class 'pandas.core.frame.DataFrame'>\n"
      ]
     },
     "metadata": {},
     "output_type": "display_data"
    },
    {
     "data": {
      "text/html": [
       "<pre style=\"white-space:pre;overflow-x:auto;line-height:normal;font-family:Menlo,'DejaVu Sans Mono',consolas,'Courier New',monospace\">09:13:35.629 | <span style=\"color: #008080; text-decoration-color: #008080\">INFO</span>    | Task run 'first_etl-0' - &lt;class 'pandas.core.frame.DataFrame'&gt;\n",
       "</pre>\n"
      ],
      "text/plain": [
       "09:13:35.629 | \u001b[36mINFO\u001b[0m    | Task run 'first_etl-0' - <class 'pandas.core.frame.DataFrame'>\n"
      ]
     },
     "metadata": {},
     "output_type": "display_data"
    },
    {
     "data": {
      "text/html": [
       "<pre style=\"white-space:pre;overflow-x:auto;line-height:normal;font-family:Menlo,'DejaVu Sans Mono',consolas,'Courier New',monospace\">09:13:35.632 | <span style=\"color: #008080; text-decoration-color: #008080\">INFO</span>    | Task run 'first_etl-0' - &lt;class 'pandas.core.frame.DataFrame'&gt;\n",
       "</pre>\n"
      ],
      "text/plain": [
       "09:13:35.632 | \u001b[36mINFO\u001b[0m    | Task run 'first_etl-0' - <class 'pandas.core.frame.DataFrame'>\n"
      ]
     },
     "metadata": {},
     "output_type": "display_data"
    },
    {
     "data": {
      "text/html": [
       "<pre style=\"white-space:pre;overflow-x:auto;line-height:normal;font-family:Menlo,'DejaVu Sans Mono',consolas,'Courier New',monospace\">09:13:35.634 | <span style=\"color: #008080; text-decoration-color: #008080\">INFO</span>    | Task run 'first_etl-0' - &lt;class 'pandas.core.frame.DataFrame'&gt;\n",
       "</pre>\n"
      ],
      "text/plain": [
       "09:13:35.634 | \u001b[36mINFO\u001b[0m    | Task run 'first_etl-0' - <class 'pandas.core.frame.DataFrame'>\n"
      ]
     },
     "metadata": {},
     "output_type": "display_data"
    },
    {
     "data": {
      "text/html": [
       "<pre style=\"white-space:pre;overflow-x:auto;line-height:normal;font-family:Menlo,'DejaVu Sans Mono',consolas,'Courier New',monospace\">09:13:35.637 | <span style=\"color: #008080; text-decoration-color: #008080\">INFO</span>    | Task run 'first_etl-0' - &lt;class 'pandas.core.frame.DataFrame'&gt;\n",
       "</pre>\n"
      ],
      "text/plain": [
       "09:13:35.637 | \u001b[36mINFO\u001b[0m    | Task run 'first_etl-0' - <class 'pandas.core.frame.DataFrame'>\n"
      ]
     },
     "metadata": {},
     "output_type": "display_data"
    },
    {
     "data": {
      "text/html": [
       "<pre style=\"white-space:pre;overflow-x:auto;line-height:normal;font-family:Menlo,'DejaVu Sans Mono',consolas,'Courier New',monospace\">09:13:35.640 | <span style=\"color: #008080; text-decoration-color: #008080\">INFO</span>    | Task run 'first_etl-0' - &lt;class 'pandas.core.frame.DataFrame'&gt;\n",
       "</pre>\n"
      ],
      "text/plain": [
       "09:13:35.640 | \u001b[36mINFO\u001b[0m    | Task run 'first_etl-0' - <class 'pandas.core.frame.DataFrame'>\n"
      ]
     },
     "metadata": {},
     "output_type": "display_data"
    },
    {
     "data": {
      "text/html": [
       "<pre style=\"white-space:pre;overflow-x:auto;line-height:normal;font-family:Menlo,'DejaVu Sans Mono',consolas,'Courier New',monospace\">09:13:35.644 | <span style=\"color: #008080; text-decoration-color: #008080\">INFO</span>    | Task run 'first_etl-0' - &lt;class 'pandas.core.frame.DataFrame'&gt;\n",
       "</pre>\n"
      ],
      "text/plain": [
       "09:13:35.644 | \u001b[36mINFO\u001b[0m    | Task run 'first_etl-0' - <class 'pandas.core.frame.DataFrame'>\n"
      ]
     },
     "metadata": {},
     "output_type": "display_data"
    },
    {
     "data": {
      "text/html": [
       "<pre style=\"white-space:pre;overflow-x:auto;line-height:normal;font-family:Menlo,'DejaVu Sans Mono',consolas,'Courier New',monospace\">09:13:35.647 | <span style=\"color: #008080; text-decoration-color: #008080\">INFO</span>    | Task run 'first_etl-0' - &lt;class 'pandas.core.frame.DataFrame'&gt;\n",
       "</pre>\n"
      ],
      "text/plain": [
       "09:13:35.647 | \u001b[36mINFO\u001b[0m    | Task run 'first_etl-0' - <class 'pandas.core.frame.DataFrame'>\n"
      ]
     },
     "metadata": {},
     "output_type": "display_data"
    },
    {
     "data": {
      "text/html": [
       "<pre style=\"white-space:pre;overflow-x:auto;line-height:normal;font-family:Menlo,'DejaVu Sans Mono',consolas,'Courier New',monospace\">09:13:35.650 | <span style=\"color: #008080; text-decoration-color: #008080\">INFO</span>    | Task run 'first_etl-0' - &lt;class 'pandas.core.frame.DataFrame'&gt;\n",
       "</pre>\n"
      ],
      "text/plain": [
       "09:13:35.650 | \u001b[36mINFO\u001b[0m    | Task run 'first_etl-0' - <class 'pandas.core.frame.DataFrame'>\n"
      ]
     },
     "metadata": {},
     "output_type": "display_data"
    },
    {
     "data": {
      "text/html": [
       "<pre style=\"white-space:pre;overflow-x:auto;line-height:normal;font-family:Menlo,'DejaVu Sans Mono',consolas,'Courier New',monospace\">09:13:35.652 | <span style=\"color: #008080; text-decoration-color: #008080\">INFO</span>    | Task run 'first_etl-0' - &lt;class 'pandas.core.frame.DataFrame'&gt;\n",
       "</pre>\n"
      ],
      "text/plain": [
       "09:13:35.652 | \u001b[36mINFO\u001b[0m    | Task run 'first_etl-0' - <class 'pandas.core.frame.DataFrame'>\n"
      ]
     },
     "metadata": {},
     "output_type": "display_data"
    },
    {
     "data": {
      "text/html": [
       "<pre style=\"white-space:pre;overflow-x:auto;line-height:normal;font-family:Menlo,'DejaVu Sans Mono',consolas,'Courier New',monospace\">09:13:35.655 | <span style=\"color: #008080; text-decoration-color: #008080\">INFO</span>    | Task run 'first_etl-0' - &lt;class 'pandas.core.frame.DataFrame'&gt;\n",
       "</pre>\n"
      ],
      "text/plain": [
       "09:13:35.655 | \u001b[36mINFO\u001b[0m    | Task run 'first_etl-0' - <class 'pandas.core.frame.DataFrame'>\n"
      ]
     },
     "metadata": {},
     "output_type": "display_data"
    },
    {
     "data": {
      "text/html": [
       "<pre style=\"white-space:pre;overflow-x:auto;line-height:normal;font-family:Menlo,'DejaVu Sans Mono',consolas,'Courier New',monospace\">09:13:35.659 | <span style=\"color: #008080; text-decoration-color: #008080\">INFO</span>    | Task run 'first_etl-0' - &lt;class 'pandas.core.frame.DataFrame'&gt;\n",
       "</pre>\n"
      ],
      "text/plain": [
       "09:13:35.659 | \u001b[36mINFO\u001b[0m    | Task run 'first_etl-0' - <class 'pandas.core.frame.DataFrame'>\n"
      ]
     },
     "metadata": {},
     "output_type": "display_data"
    },
    {
     "data": {
      "text/html": [
       "<pre style=\"white-space:pre;overflow-x:auto;line-height:normal;font-family:Menlo,'DejaVu Sans Mono',consolas,'Courier New',monospace\">09:13:35.662 | <span style=\"color: #008080; text-decoration-color: #008080\">INFO</span>    | Task run 'first_etl-0' - &lt;class 'pandas.core.frame.DataFrame'&gt;\n",
       "</pre>\n"
      ],
      "text/plain": [
       "09:13:35.662 | \u001b[36mINFO\u001b[0m    | Task run 'first_etl-0' - <class 'pandas.core.frame.DataFrame'>\n"
      ]
     },
     "metadata": {},
     "output_type": "display_data"
    },
    {
     "data": {
      "text/html": [
       "<pre style=\"white-space:pre;overflow-x:auto;line-height:normal;font-family:Menlo,'DejaVu Sans Mono',consolas,'Courier New',monospace\">09:13:35.664 | <span style=\"color: #008080; text-decoration-color: #008080\">INFO</span>    | Task run 'first_etl-0' - &lt;class 'pandas.core.frame.DataFrame'&gt;\n",
       "</pre>\n"
      ],
      "text/plain": [
       "09:13:35.664 | \u001b[36mINFO\u001b[0m    | Task run 'first_etl-0' - <class 'pandas.core.frame.DataFrame'>\n"
      ]
     },
     "metadata": {},
     "output_type": "display_data"
    },
    {
     "data": {
      "text/html": [
       "<pre style=\"white-space:pre;overflow-x:auto;line-height:normal;font-family:Menlo,'DejaVu Sans Mono',consolas,'Courier New',monospace\">09:13:35.667 | <span style=\"color: #008080; text-decoration-color: #008080\">INFO</span>    | Task run 'first_etl-0' - &lt;class 'pandas.core.frame.DataFrame'&gt;\n",
       "</pre>\n"
      ],
      "text/plain": [
       "09:13:35.667 | \u001b[36mINFO\u001b[0m    | Task run 'first_etl-0' - <class 'pandas.core.frame.DataFrame'>\n"
      ]
     },
     "metadata": {},
     "output_type": "display_data"
    },
    {
     "data": {
      "text/html": [
       "<pre style=\"white-space:pre;overflow-x:auto;line-height:normal;font-family:Menlo,'DejaVu Sans Mono',consolas,'Courier New',monospace\">09:13:35.670 | <span style=\"color: #008080; text-decoration-color: #008080\">INFO</span>    | Task run 'first_etl-0' - &lt;class 'pandas.core.frame.DataFrame'&gt;\n",
       "</pre>\n"
      ],
      "text/plain": [
       "09:13:35.670 | \u001b[36mINFO\u001b[0m    | Task run 'first_etl-0' - <class 'pandas.core.frame.DataFrame'>\n"
      ]
     },
     "metadata": {},
     "output_type": "display_data"
    },
    {
     "data": {
      "text/html": [
       "<pre style=\"white-space:pre;overflow-x:auto;line-height:normal;font-family:Menlo,'DejaVu Sans Mono',consolas,'Courier New',monospace\">09:13:35.674 | <span style=\"color: #008080; text-decoration-color: #008080\">INFO</span>    | Task run 'first_etl-0' - &lt;class 'pandas.core.frame.DataFrame'&gt;\n",
       "</pre>\n"
      ],
      "text/plain": [
       "09:13:35.674 | \u001b[36mINFO\u001b[0m    | Task run 'first_etl-0' - <class 'pandas.core.frame.DataFrame'>\n"
      ]
     },
     "metadata": {},
     "output_type": "display_data"
    },
    {
     "data": {
      "text/html": [
       "<pre style=\"white-space:pre;overflow-x:auto;line-height:normal;font-family:Menlo,'DejaVu Sans Mono',consolas,'Courier New',monospace\">09:13:35.678 | <span style=\"color: #008080; text-decoration-color: #008080\">INFO</span>    | Task run 'first_etl-0' - &lt;class 'pandas.core.frame.DataFrame'&gt;\n",
       "</pre>\n"
      ],
      "text/plain": [
       "09:13:35.678 | \u001b[36mINFO\u001b[0m    | Task run 'first_etl-0' - <class 'pandas.core.frame.DataFrame'>\n"
      ]
     },
     "metadata": {},
     "output_type": "display_data"
    },
    {
     "data": {
      "text/html": [
       "<pre style=\"white-space:pre;overflow-x:auto;line-height:normal;font-family:Menlo,'DejaVu Sans Mono',consolas,'Courier New',monospace\">09:13:35.681 | <span style=\"color: #008080; text-decoration-color: #008080\">INFO</span>    | Task run 'first_etl-0' - &lt;class 'pandas.core.frame.DataFrame'&gt;\n",
       "</pre>\n"
      ],
      "text/plain": [
       "09:13:35.681 | \u001b[36mINFO\u001b[0m    | Task run 'first_etl-0' - <class 'pandas.core.frame.DataFrame'>\n"
      ]
     },
     "metadata": {},
     "output_type": "display_data"
    },
    {
     "data": {
      "text/html": [
       "<pre style=\"white-space:pre;overflow-x:auto;line-height:normal;font-family:Menlo,'DejaVu Sans Mono',consolas,'Courier New',monospace\">09:13:35.683 | <span style=\"color: #008080; text-decoration-color: #008080\">INFO</span>    | Task run 'first_etl-0' - &lt;class 'pandas.core.frame.DataFrame'&gt;\n",
       "</pre>\n"
      ],
      "text/plain": [
       "09:13:35.683 | \u001b[36mINFO\u001b[0m    | Task run 'first_etl-0' - <class 'pandas.core.frame.DataFrame'>\n"
      ]
     },
     "metadata": {},
     "output_type": "display_data"
    },
    {
     "data": {
      "text/html": [
       "<pre style=\"white-space:pre;overflow-x:auto;line-height:normal;font-family:Menlo,'DejaVu Sans Mono',consolas,'Courier New',monospace\">09:13:35.686 | <span style=\"color: #008080; text-decoration-color: #008080\">INFO</span>    | Task run 'first_etl-0' - &lt;class 'pandas.core.frame.DataFrame'&gt;\n",
       "</pre>\n"
      ],
      "text/plain": [
       "09:13:35.686 | \u001b[36mINFO\u001b[0m    | Task run 'first_etl-0' - <class 'pandas.core.frame.DataFrame'>\n"
      ]
     },
     "metadata": {},
     "output_type": "display_data"
    },
    {
     "data": {
      "text/html": [
       "<pre style=\"white-space:pre;overflow-x:auto;line-height:normal;font-family:Menlo,'DejaVu Sans Mono',consolas,'Courier New',monospace\">09:13:35.689 | <span style=\"color: #008080; text-decoration-color: #008080\">INFO</span>    | Task run 'first_etl-0' - &lt;class 'pandas.core.frame.DataFrame'&gt;\n",
       "</pre>\n"
      ],
      "text/plain": [
       "09:13:35.689 | \u001b[36mINFO\u001b[0m    | Task run 'first_etl-0' - <class 'pandas.core.frame.DataFrame'>\n"
      ]
     },
     "metadata": {},
     "output_type": "display_data"
    },
    {
     "data": {
      "text/html": [
       "<pre style=\"white-space:pre;overflow-x:auto;line-height:normal;font-family:Menlo,'DejaVu Sans Mono',consolas,'Courier New',monospace\">09:13:35.693 | <span style=\"color: #008080; text-decoration-color: #008080\">INFO</span>    | Task run 'first_etl-0' - &lt;class 'pandas.core.frame.DataFrame'&gt;\n",
       "</pre>\n"
      ],
      "text/plain": [
       "09:13:35.693 | \u001b[36mINFO\u001b[0m    | Task run 'first_etl-0' - <class 'pandas.core.frame.DataFrame'>\n"
      ]
     },
     "metadata": {},
     "output_type": "display_data"
    },
    {
     "data": {
      "text/html": [
       "<pre style=\"white-space:pre;overflow-x:auto;line-height:normal;font-family:Menlo,'DejaVu Sans Mono',consolas,'Courier New',monospace\">09:13:35.698 | <span style=\"color: #008080; text-decoration-color: #008080\">INFO</span>    | Task run 'first_etl-0' - &lt;class 'pandas.core.frame.DataFrame'&gt;\n",
       "</pre>\n"
      ],
      "text/plain": [
       "09:13:35.698 | \u001b[36mINFO\u001b[0m    | Task run 'first_etl-0' - <class 'pandas.core.frame.DataFrame'>\n"
      ]
     },
     "metadata": {},
     "output_type": "display_data"
    },
    {
     "data": {
      "text/html": [
       "<pre style=\"white-space:pre;overflow-x:auto;line-height:normal;font-family:Menlo,'DejaVu Sans Mono',consolas,'Courier New',monospace\">09:13:35.707 | <span style=\"color: #008080; text-decoration-color: #008080\">INFO</span>    | Task run 'first_etl-0' - &lt;class 'pandas.core.frame.DataFrame'&gt;\n",
       "</pre>\n"
      ],
      "text/plain": [
       "09:13:35.707 | \u001b[36mINFO\u001b[0m    | Task run 'first_etl-0' - <class 'pandas.core.frame.DataFrame'>\n"
      ]
     },
     "metadata": {},
     "output_type": "display_data"
    },
    {
     "data": {
      "text/html": [
       "<pre style=\"white-space:pre;overflow-x:auto;line-height:normal;font-family:Menlo,'DejaVu Sans Mono',consolas,'Courier New',monospace\">09:13:35.716 | <span style=\"color: #008080; text-decoration-color: #008080\">INFO</span>    | Task run 'first_etl-0' - &lt;class 'pandas.core.frame.DataFrame'&gt;\n",
       "</pre>\n"
      ],
      "text/plain": [
       "09:13:35.716 | \u001b[36mINFO\u001b[0m    | Task run 'first_etl-0' - <class 'pandas.core.frame.DataFrame'>\n"
      ]
     },
     "metadata": {},
     "output_type": "display_data"
    },
    {
     "data": {
      "text/html": [
       "<pre style=\"white-space:pre;overflow-x:auto;line-height:normal;font-family:Menlo,'DejaVu Sans Mono',consolas,'Courier New',monospace\">09:13:35.720 | <span style=\"color: #008080; text-decoration-color: #008080\">INFO</span>    | Task run 'first_etl-0' - &lt;class 'pandas.core.frame.DataFrame'&gt;\n",
       "</pre>\n"
      ],
      "text/plain": [
       "09:13:35.720 | \u001b[36mINFO\u001b[0m    | Task run 'first_etl-0' - <class 'pandas.core.frame.DataFrame'>\n"
      ]
     },
     "metadata": {},
     "output_type": "display_data"
    },
    {
     "data": {
      "text/html": [
       "<pre style=\"white-space:pre;overflow-x:auto;line-height:normal;font-family:Menlo,'DejaVu Sans Mono',consolas,'Courier New',monospace\">09:13:35.724 | <span style=\"color: #008080; text-decoration-color: #008080\">INFO</span>    | Task run 'first_etl-0' - &lt;class 'pandas.core.frame.DataFrame'&gt;\n",
       "</pre>\n"
      ],
      "text/plain": [
       "09:13:35.724 | \u001b[36mINFO\u001b[0m    | Task run 'first_etl-0' - <class 'pandas.core.frame.DataFrame'>\n"
      ]
     },
     "metadata": {},
     "output_type": "display_data"
    },
    {
     "data": {
      "text/html": [
       "<pre style=\"white-space:pre;overflow-x:auto;line-height:normal;font-family:Menlo,'DejaVu Sans Mono',consolas,'Courier New',monospace\">09:13:35.729 | <span style=\"color: #008080; text-decoration-color: #008080\">INFO</span>    | Task run 'first_etl-0' - &lt;class 'pandas.core.frame.DataFrame'&gt;\n",
       "</pre>\n"
      ],
      "text/plain": [
       "09:13:35.729 | \u001b[36mINFO\u001b[0m    | Task run 'first_etl-0' - <class 'pandas.core.frame.DataFrame'>\n"
      ]
     },
     "metadata": {},
     "output_type": "display_data"
    },
    {
     "data": {
      "text/html": [
       "<pre style=\"white-space:pre;overflow-x:auto;line-height:normal;font-family:Menlo,'DejaVu Sans Mono',consolas,'Courier New',monospace\">09:13:35.732 | <span style=\"color: #008080; text-decoration-color: #008080\">INFO</span>    | Task run 'first_etl-0' - &lt;class 'pandas.core.frame.DataFrame'&gt;\n",
       "</pre>\n"
      ],
      "text/plain": [
       "09:13:35.732 | \u001b[36mINFO\u001b[0m    | Task run 'first_etl-0' - <class 'pandas.core.frame.DataFrame'>\n"
      ]
     },
     "metadata": {},
     "output_type": "display_data"
    },
    {
     "data": {
      "text/html": [
       "<pre style=\"white-space:pre;overflow-x:auto;line-height:normal;font-family:Menlo,'DejaVu Sans Mono',consolas,'Courier New',monospace\">09:13:35.736 | <span style=\"color: #008080; text-decoration-color: #008080\">INFO</span>    | Task run 'first_etl-0' - &lt;class 'pandas.core.frame.DataFrame'&gt;\n",
       "</pre>\n"
      ],
      "text/plain": [
       "09:13:35.736 | \u001b[36mINFO\u001b[0m    | Task run 'first_etl-0' - <class 'pandas.core.frame.DataFrame'>\n"
      ]
     },
     "metadata": {},
     "output_type": "display_data"
    },
    {
     "data": {
      "text/html": [
       "<pre style=\"white-space:pre;overflow-x:auto;line-height:normal;font-family:Menlo,'DejaVu Sans Mono',consolas,'Courier New',monospace\">09:13:35.740 | <span style=\"color: #008080; text-decoration-color: #008080\">INFO</span>    | Task run 'first_etl-0' - &lt;class 'pandas.core.frame.DataFrame'&gt;\n",
       "</pre>\n"
      ],
      "text/plain": [
       "09:13:35.740 | \u001b[36mINFO\u001b[0m    | Task run 'first_etl-0' - <class 'pandas.core.frame.DataFrame'>\n"
      ]
     },
     "metadata": {},
     "output_type": "display_data"
    },
    {
     "data": {
      "text/html": [
       "<pre style=\"white-space:pre;overflow-x:auto;line-height:normal;font-family:Menlo,'DejaVu Sans Mono',consolas,'Courier New',monospace\">09:13:35.743 | <span style=\"color: #008080; text-decoration-color: #008080\">INFO</span>    | Task run 'first_etl-0' - &lt;class 'pandas.core.frame.DataFrame'&gt;\n",
       "</pre>\n"
      ],
      "text/plain": [
       "09:13:35.743 | \u001b[36mINFO\u001b[0m    | Task run 'first_etl-0' - <class 'pandas.core.frame.DataFrame'>\n"
      ]
     },
     "metadata": {},
     "output_type": "display_data"
    },
    {
     "data": {
      "text/html": [
       "<pre style=\"white-space:pre;overflow-x:auto;line-height:normal;font-family:Menlo,'DejaVu Sans Mono',consolas,'Courier New',monospace\">09:13:35.747 | <span style=\"color: #008080; text-decoration-color: #008080\">INFO</span>    | Task run 'first_etl-0' - &lt;class 'pandas.core.frame.DataFrame'&gt;\n",
       "</pre>\n"
      ],
      "text/plain": [
       "09:13:35.747 | \u001b[36mINFO\u001b[0m    | Task run 'first_etl-0' - <class 'pandas.core.frame.DataFrame'>\n"
      ]
     },
     "metadata": {},
     "output_type": "display_data"
    },
    {
     "data": {
      "text/html": [
       "<pre style=\"white-space:pre;overflow-x:auto;line-height:normal;font-family:Menlo,'DejaVu Sans Mono',consolas,'Courier New',monospace\">09:13:35.752 | <span style=\"color: #008080; text-decoration-color: #008080\">INFO</span>    | Task run 'first_etl-0' - &lt;class 'pandas.core.frame.DataFrame'&gt;\n",
       "</pre>\n"
      ],
      "text/plain": [
       "09:13:35.752 | \u001b[36mINFO\u001b[0m    | Task run 'first_etl-0' - <class 'pandas.core.frame.DataFrame'>\n"
      ]
     },
     "metadata": {},
     "output_type": "display_data"
    },
    {
     "data": {
      "text/html": [
       "<pre style=\"white-space:pre;overflow-x:auto;line-height:normal;font-family:Menlo,'DejaVu Sans Mono',consolas,'Courier New',monospace\">09:13:35.756 | <span style=\"color: #008080; text-decoration-color: #008080\">INFO</span>    | Task run 'first_etl-0' - &lt;class 'pandas.core.frame.DataFrame'&gt;\n",
       "</pre>\n"
      ],
      "text/plain": [
       "09:13:35.756 | \u001b[36mINFO\u001b[0m    | Task run 'first_etl-0' - <class 'pandas.core.frame.DataFrame'>\n"
      ]
     },
     "metadata": {},
     "output_type": "display_data"
    },
    {
     "data": {
      "text/html": [
       "<pre style=\"white-space:pre;overflow-x:auto;line-height:normal;font-family:Menlo,'DejaVu Sans Mono',consolas,'Courier New',monospace\">09:13:35.760 | <span style=\"color: #008080; text-decoration-color: #008080\">INFO</span>    | Task run 'first_etl-0' - &lt;class 'pandas.core.frame.DataFrame'&gt;\n",
       "</pre>\n"
      ],
      "text/plain": [
       "09:13:35.760 | \u001b[36mINFO\u001b[0m    | Task run 'first_etl-0' - <class 'pandas.core.frame.DataFrame'>\n"
      ]
     },
     "metadata": {},
     "output_type": "display_data"
    },
    {
     "data": {
      "text/html": [
       "<pre style=\"white-space:pre;overflow-x:auto;line-height:normal;font-family:Menlo,'DejaVu Sans Mono',consolas,'Courier New',monospace\">09:13:35.763 | <span style=\"color: #008080; text-decoration-color: #008080\">INFO</span>    | Task run 'first_etl-0' - &lt;class 'pandas.core.frame.DataFrame'&gt;\n",
       "</pre>\n"
      ],
      "text/plain": [
       "09:13:35.763 | \u001b[36mINFO\u001b[0m    | Task run 'first_etl-0' - <class 'pandas.core.frame.DataFrame'>\n"
      ]
     },
     "metadata": {},
     "output_type": "display_data"
    },
    {
     "data": {
      "text/html": [
       "<pre style=\"white-space:pre;overflow-x:auto;line-height:normal;font-family:Menlo,'DejaVu Sans Mono',consolas,'Courier New',monospace\">09:13:35.767 | <span style=\"color: #008080; text-decoration-color: #008080\">INFO</span>    | Task run 'first_etl-0' - &lt;class 'pandas.core.frame.DataFrame'&gt;\n",
       "</pre>\n"
      ],
      "text/plain": [
       "09:13:35.767 | \u001b[36mINFO\u001b[0m    | Task run 'first_etl-0' - <class 'pandas.core.frame.DataFrame'>\n"
      ]
     },
     "metadata": {},
     "output_type": "display_data"
    },
    {
     "data": {
      "text/html": [
       "<pre style=\"white-space:pre;overflow-x:auto;line-height:normal;font-family:Menlo,'DejaVu Sans Mono',consolas,'Courier New',monospace\">09:13:35.770 | <span style=\"color: #008080; text-decoration-color: #008080\">INFO</span>    | Task run 'first_etl-0' - &lt;class 'pandas.core.frame.DataFrame'&gt;\n",
       "</pre>\n"
      ],
      "text/plain": [
       "09:13:35.770 | \u001b[36mINFO\u001b[0m    | Task run 'first_etl-0' - <class 'pandas.core.frame.DataFrame'>\n"
      ]
     },
     "metadata": {},
     "output_type": "display_data"
    },
    {
     "data": {
      "text/html": [
       "<pre style=\"white-space:pre;overflow-x:auto;line-height:normal;font-family:Menlo,'DejaVu Sans Mono',consolas,'Courier New',monospace\">09:13:35.774 | <span style=\"color: #008080; text-decoration-color: #008080\">INFO</span>    | Task run 'first_etl-0' - &lt;class 'pandas.core.frame.DataFrame'&gt;\n",
       "</pre>\n"
      ],
      "text/plain": [
       "09:13:35.774 | \u001b[36mINFO\u001b[0m    | Task run 'first_etl-0' - <class 'pandas.core.frame.DataFrame'>\n"
      ]
     },
     "metadata": {},
     "output_type": "display_data"
    },
    {
     "data": {
      "text/html": [
       "<pre style=\"white-space:pre;overflow-x:auto;line-height:normal;font-family:Menlo,'DejaVu Sans Mono',consolas,'Courier New',monospace\">09:13:35.777 | <span style=\"color: #008080; text-decoration-color: #008080\">INFO</span>    | Task run 'first_etl-0' - &lt;class 'pandas.core.frame.DataFrame'&gt;\n",
       "</pre>\n"
      ],
      "text/plain": [
       "09:13:35.777 | \u001b[36mINFO\u001b[0m    | Task run 'first_etl-0' - <class 'pandas.core.frame.DataFrame'>\n"
      ]
     },
     "metadata": {},
     "output_type": "display_data"
    },
    {
     "data": {
      "text/html": [
       "<pre style=\"white-space:pre;overflow-x:auto;line-height:normal;font-family:Menlo,'DejaVu Sans Mono',consolas,'Courier New',monospace\">09:13:35.780 | <span style=\"color: #008080; text-decoration-color: #008080\">INFO</span>    | Task run 'first_etl-0' - &lt;class 'pandas.core.frame.DataFrame'&gt;\n",
       "</pre>\n"
      ],
      "text/plain": [
       "09:13:35.780 | \u001b[36mINFO\u001b[0m    | Task run 'first_etl-0' - <class 'pandas.core.frame.DataFrame'>\n"
      ]
     },
     "metadata": {},
     "output_type": "display_data"
    },
    {
     "data": {
      "text/html": [
       "<pre style=\"white-space:pre;overflow-x:auto;line-height:normal;font-family:Menlo,'DejaVu Sans Mono',consolas,'Courier New',monospace\">09:13:35.783 | <span style=\"color: #008080; text-decoration-color: #008080\">INFO</span>    | Task run 'first_etl-0' - &lt;class 'pandas.core.frame.DataFrame'&gt;\n",
       "</pre>\n"
      ],
      "text/plain": [
       "09:13:35.783 | \u001b[36mINFO\u001b[0m    | Task run 'first_etl-0' - <class 'pandas.core.frame.DataFrame'>\n"
      ]
     },
     "metadata": {},
     "output_type": "display_data"
    },
    {
     "data": {
      "text/html": [
       "<pre style=\"white-space:pre;overflow-x:auto;line-height:normal;font-family:Menlo,'DejaVu Sans Mono',consolas,'Courier New',monospace\">09:13:35.786 | <span style=\"color: #008080; text-decoration-color: #008080\">INFO</span>    | Task run 'first_etl-0' - &lt;class 'pandas.core.frame.DataFrame'&gt;\n",
       "</pre>\n"
      ],
      "text/plain": [
       "09:13:35.786 | \u001b[36mINFO\u001b[0m    | Task run 'first_etl-0' - <class 'pandas.core.frame.DataFrame'>\n"
      ]
     },
     "metadata": {},
     "output_type": "display_data"
    },
    {
     "data": {
      "text/html": [
       "<pre style=\"white-space:pre;overflow-x:auto;line-height:normal;font-family:Menlo,'DejaVu Sans Mono',consolas,'Courier New',monospace\">09:13:35.788 | <span style=\"color: #008080; text-decoration-color: #008080\">INFO</span>    | Task run 'first_etl-0' - &lt;class 'pandas.core.frame.DataFrame'&gt;\n",
       "</pre>\n"
      ],
      "text/plain": [
       "09:13:35.788 | \u001b[36mINFO\u001b[0m    | Task run 'first_etl-0' - <class 'pandas.core.frame.DataFrame'>\n"
      ]
     },
     "metadata": {},
     "output_type": "display_data"
    },
    {
     "data": {
      "text/html": [
       "<pre style=\"white-space:pre;overflow-x:auto;line-height:normal;font-family:Menlo,'DejaVu Sans Mono',consolas,'Courier New',monospace\">09:13:35.791 | <span style=\"color: #008080; text-decoration-color: #008080\">INFO</span>    | Task run 'first_etl-0' - &lt;class 'pandas.core.frame.DataFrame'&gt;\n",
       "</pre>\n"
      ],
      "text/plain": [
       "09:13:35.791 | \u001b[36mINFO\u001b[0m    | Task run 'first_etl-0' - <class 'pandas.core.frame.DataFrame'>\n"
      ]
     },
     "metadata": {},
     "output_type": "display_data"
    },
    {
     "data": {
      "text/html": [
       "<pre style=\"white-space:pre;overflow-x:auto;line-height:normal;font-family:Menlo,'DejaVu Sans Mono',consolas,'Courier New',monospace\">09:13:35.795 | <span style=\"color: #008080; text-decoration-color: #008080\">INFO</span>    | Task run 'first_etl-0' - &lt;class 'pandas.core.frame.DataFrame'&gt;\n",
       "</pre>\n"
      ],
      "text/plain": [
       "09:13:35.795 | \u001b[36mINFO\u001b[0m    | Task run 'first_etl-0' - <class 'pandas.core.frame.DataFrame'>\n"
      ]
     },
     "metadata": {},
     "output_type": "display_data"
    },
    {
     "data": {
      "text/html": [
       "<pre style=\"white-space:pre;overflow-x:auto;line-height:normal;font-family:Menlo,'DejaVu Sans Mono',consolas,'Courier New',monospace\">09:13:35.798 | <span style=\"color: #008080; text-decoration-color: #008080\">INFO</span>    | Task run 'first_etl-0' - &lt;class 'pandas.core.frame.DataFrame'&gt;\n",
       "</pre>\n"
      ],
      "text/plain": [
       "09:13:35.798 | \u001b[36mINFO\u001b[0m    | Task run 'first_etl-0' - <class 'pandas.core.frame.DataFrame'>\n"
      ]
     },
     "metadata": {},
     "output_type": "display_data"
    },
    {
     "data": {
      "text/html": [
       "<pre style=\"white-space:pre;overflow-x:auto;line-height:normal;font-family:Menlo,'DejaVu Sans Mono',consolas,'Courier New',monospace\">09:13:35.800 | <span style=\"color: #008080; text-decoration-color: #008080\">INFO</span>    | Task run 'first_etl-0' - &lt;class 'pandas.core.frame.DataFrame'&gt;\n",
       "</pre>\n"
      ],
      "text/plain": [
       "09:13:35.800 | \u001b[36mINFO\u001b[0m    | Task run 'first_etl-0' - <class 'pandas.core.frame.DataFrame'>\n"
      ]
     },
     "metadata": {},
     "output_type": "display_data"
    },
    {
     "data": {
      "text/html": [
       "<pre style=\"white-space:pre;overflow-x:auto;line-height:normal;font-family:Menlo,'DejaVu Sans Mono',consolas,'Courier New',monospace\">09:13:35.803 | <span style=\"color: #008080; text-decoration-color: #008080\">INFO</span>    | Task run 'first_etl-0' - &lt;class 'pandas.core.frame.DataFrame'&gt;\n",
       "</pre>\n"
      ],
      "text/plain": [
       "09:13:35.803 | \u001b[36mINFO\u001b[0m    | Task run 'first_etl-0' - <class 'pandas.core.frame.DataFrame'>\n"
      ]
     },
     "metadata": {},
     "output_type": "display_data"
    },
    {
     "data": {
      "text/html": [
       "<pre style=\"white-space:pre;overflow-x:auto;line-height:normal;font-family:Menlo,'DejaVu Sans Mono',consolas,'Courier New',monospace\">09:13:35.806 | <span style=\"color: #008080; text-decoration-color: #008080\">INFO</span>    | Task run 'first_etl-0' - &lt;class 'pandas.core.frame.DataFrame'&gt;\n",
       "</pre>\n"
      ],
      "text/plain": [
       "09:13:35.806 | \u001b[36mINFO\u001b[0m    | Task run 'first_etl-0' - <class 'pandas.core.frame.DataFrame'>\n"
      ]
     },
     "metadata": {},
     "output_type": "display_data"
    },
    {
     "data": {
      "text/html": [
       "<pre style=\"white-space:pre;overflow-x:auto;line-height:normal;font-family:Menlo,'DejaVu Sans Mono',consolas,'Courier New',monospace\">09:13:35.811 | <span style=\"color: #008080; text-decoration-color: #008080\">INFO</span>    | Task run 'first_etl-0' - &lt;class 'pandas.core.frame.DataFrame'&gt;\n",
       "</pre>\n"
      ],
      "text/plain": [
       "09:13:35.811 | \u001b[36mINFO\u001b[0m    | Task run 'first_etl-0' - <class 'pandas.core.frame.DataFrame'>\n"
      ]
     },
     "metadata": {},
     "output_type": "display_data"
    },
    {
     "data": {
      "text/html": [
       "<pre style=\"white-space:pre;overflow-x:auto;line-height:normal;font-family:Menlo,'DejaVu Sans Mono',consolas,'Courier New',monospace\">09:13:35.814 | <span style=\"color: #008080; text-decoration-color: #008080\">INFO</span>    | Task run 'first_etl-0' - &lt;class 'pandas.core.frame.DataFrame'&gt;\n",
       "</pre>\n"
      ],
      "text/plain": [
       "09:13:35.814 | \u001b[36mINFO\u001b[0m    | Task run 'first_etl-0' - <class 'pandas.core.frame.DataFrame'>\n"
      ]
     },
     "metadata": {},
     "output_type": "display_data"
    },
    {
     "data": {
      "text/html": [
       "<pre style=\"white-space:pre;overflow-x:auto;line-height:normal;font-family:Menlo,'DejaVu Sans Mono',consolas,'Courier New',monospace\">09:13:35.816 | <span style=\"color: #008080; text-decoration-color: #008080\">INFO</span>    | Task run 'first_etl-0' - &lt;class 'pandas.core.frame.DataFrame'&gt;\n",
       "</pre>\n"
      ],
      "text/plain": [
       "09:13:35.816 | \u001b[36mINFO\u001b[0m    | Task run 'first_etl-0' - <class 'pandas.core.frame.DataFrame'>\n"
      ]
     },
     "metadata": {},
     "output_type": "display_data"
    },
    {
     "data": {
      "text/html": [
       "<pre style=\"white-space:pre;overflow-x:auto;line-height:normal;font-family:Menlo,'DejaVu Sans Mono',consolas,'Courier New',monospace\">09:13:35.819 | <span style=\"color: #008080; text-decoration-color: #008080\">INFO</span>    | Task run 'first_etl-0' - &lt;class 'pandas.core.frame.DataFrame'&gt;\n",
       "</pre>\n"
      ],
      "text/plain": [
       "09:13:35.819 | \u001b[36mINFO\u001b[0m    | Task run 'first_etl-0' - <class 'pandas.core.frame.DataFrame'>\n"
      ]
     },
     "metadata": {},
     "output_type": "display_data"
    },
    {
     "data": {
      "text/html": [
       "<pre style=\"white-space:pre;overflow-x:auto;line-height:normal;font-family:Menlo,'DejaVu Sans Mono',consolas,'Courier New',monospace\">09:13:35.822 | <span style=\"color: #008080; text-decoration-color: #008080\">INFO</span>    | Task run 'first_etl-0' - &lt;class 'pandas.core.frame.DataFrame'&gt;\n",
       "</pre>\n"
      ],
      "text/plain": [
       "09:13:35.822 | \u001b[36mINFO\u001b[0m    | Task run 'first_etl-0' - <class 'pandas.core.frame.DataFrame'>\n"
      ]
     },
     "metadata": {},
     "output_type": "display_data"
    },
    {
     "data": {
      "text/html": [
       "<pre style=\"white-space:pre;overflow-x:auto;line-height:normal;font-family:Menlo,'DejaVu Sans Mono',consolas,'Courier New',monospace\">09:13:35.825 | <span style=\"color: #008080; text-decoration-color: #008080\">INFO</span>    | Task run 'first_etl-0' - &lt;class 'pandas.core.frame.DataFrame'&gt;\n",
       "</pre>\n"
      ],
      "text/plain": [
       "09:13:35.825 | \u001b[36mINFO\u001b[0m    | Task run 'first_etl-0' - <class 'pandas.core.frame.DataFrame'>\n"
      ]
     },
     "metadata": {},
     "output_type": "display_data"
    },
    {
     "data": {
      "text/html": [
       "<pre style=\"white-space:pre;overflow-x:auto;line-height:normal;font-family:Menlo,'DejaVu Sans Mono',consolas,'Courier New',monospace\">09:13:35.829 | <span style=\"color: #008080; text-decoration-color: #008080\">INFO</span>    | Task run 'first_etl-0' - &lt;class 'pandas.core.frame.DataFrame'&gt;\n",
       "</pre>\n"
      ],
      "text/plain": [
       "09:13:35.829 | \u001b[36mINFO\u001b[0m    | Task run 'first_etl-0' - <class 'pandas.core.frame.DataFrame'>\n"
      ]
     },
     "metadata": {},
     "output_type": "display_data"
    },
    {
     "data": {
      "text/html": [
       "<pre style=\"white-space:pre;overflow-x:auto;line-height:normal;font-family:Menlo,'DejaVu Sans Mono',consolas,'Courier New',monospace\">09:13:35.832 | <span style=\"color: #008080; text-decoration-color: #008080\">INFO</span>    | Task run 'first_etl-0' - &lt;class 'pandas.core.frame.DataFrame'&gt;\n",
       "</pre>\n"
      ],
      "text/plain": [
       "09:13:35.832 | \u001b[36mINFO\u001b[0m    | Task run 'first_etl-0' - <class 'pandas.core.frame.DataFrame'>\n"
      ]
     },
     "metadata": {},
     "output_type": "display_data"
    },
    {
     "data": {
      "text/html": [
       "<pre style=\"white-space:pre;overflow-x:auto;line-height:normal;font-family:Menlo,'DejaVu Sans Mono',consolas,'Courier New',monospace\">09:13:35.835 | <span style=\"color: #008080; text-decoration-color: #008080\">INFO</span>    | Task run 'first_etl-0' - &lt;class 'pandas.core.frame.DataFrame'&gt;\n",
       "</pre>\n"
      ],
      "text/plain": [
       "09:13:35.835 | \u001b[36mINFO\u001b[0m    | Task run 'first_etl-0' - <class 'pandas.core.frame.DataFrame'>\n"
      ]
     },
     "metadata": {},
     "output_type": "display_data"
    },
    {
     "data": {
      "text/html": [
       "<pre style=\"white-space:pre;overflow-x:auto;line-height:normal;font-family:Menlo,'DejaVu Sans Mono',consolas,'Courier New',monospace\">09:13:35.838 | <span style=\"color: #008080; text-decoration-color: #008080\">INFO</span>    | Task run 'first_etl-0' - &lt;class 'pandas.core.frame.DataFrame'&gt;\n",
       "</pre>\n"
      ],
      "text/plain": [
       "09:13:35.838 | \u001b[36mINFO\u001b[0m    | Task run 'first_etl-0' - <class 'pandas.core.frame.DataFrame'>\n"
      ]
     },
     "metadata": {},
     "output_type": "display_data"
    },
    {
     "data": {
      "text/html": [
       "<pre style=\"white-space:pre;overflow-x:auto;line-height:normal;font-family:Menlo,'DejaVu Sans Mono',consolas,'Courier New',monospace\">09:13:35.840 | <span style=\"color: #008080; text-decoration-color: #008080\">INFO</span>    | Task run 'first_etl-0' - &lt;class 'pandas.core.frame.DataFrame'&gt;\n",
       "</pre>\n"
      ],
      "text/plain": [
       "09:13:35.840 | \u001b[36mINFO\u001b[0m    | Task run 'first_etl-0' - <class 'pandas.core.frame.DataFrame'>\n"
      ]
     },
     "metadata": {},
     "output_type": "display_data"
    },
    {
     "data": {
      "text/html": [
       "<pre style=\"white-space:pre;overflow-x:auto;line-height:normal;font-family:Menlo,'DejaVu Sans Mono',consolas,'Courier New',monospace\">09:13:35.843 | <span style=\"color: #008080; text-decoration-color: #008080\">INFO</span>    | Task run 'first_etl-0' - &lt;class 'pandas.core.frame.DataFrame'&gt;\n",
       "</pre>\n"
      ],
      "text/plain": [
       "09:13:35.843 | \u001b[36mINFO\u001b[0m    | Task run 'first_etl-0' - <class 'pandas.core.frame.DataFrame'>\n"
      ]
     },
     "metadata": {},
     "output_type": "display_data"
    },
    {
     "data": {
      "text/html": [
       "<pre style=\"white-space:pre;overflow-x:auto;line-height:normal;font-family:Menlo,'DejaVu Sans Mono',consolas,'Courier New',monospace\">09:13:35.846 | <span style=\"color: #008080; text-decoration-color: #008080\">INFO</span>    | Task run 'first_etl-0' - &lt;class 'pandas.core.frame.DataFrame'&gt;\n",
       "</pre>\n"
      ],
      "text/plain": [
       "09:13:35.846 | \u001b[36mINFO\u001b[0m    | Task run 'first_etl-0' - <class 'pandas.core.frame.DataFrame'>\n"
      ]
     },
     "metadata": {},
     "output_type": "display_data"
    },
    {
     "data": {
      "text/html": [
       "<pre style=\"white-space:pre;overflow-x:auto;line-height:normal;font-family:Menlo,'DejaVu Sans Mono',consolas,'Courier New',monospace\">09:13:35.849 | <span style=\"color: #008080; text-decoration-color: #008080\">INFO</span>    | Task run 'first_etl-0' - &lt;class 'pandas.core.frame.DataFrame'&gt;\n",
       "</pre>\n"
      ],
      "text/plain": [
       "09:13:35.849 | \u001b[36mINFO\u001b[0m    | Task run 'first_etl-0' - <class 'pandas.core.frame.DataFrame'>\n"
      ]
     },
     "metadata": {},
     "output_type": "display_data"
    },
    {
     "data": {
      "text/html": [
       "<pre style=\"white-space:pre;overflow-x:auto;line-height:normal;font-family:Menlo,'DejaVu Sans Mono',consolas,'Courier New',monospace\">09:13:35.853 | <span style=\"color: #008080; text-decoration-color: #008080\">INFO</span>    | Task run 'first_etl-0' - &lt;class 'pandas.core.frame.DataFrame'&gt;\n",
       "</pre>\n"
      ],
      "text/plain": [
       "09:13:35.853 | \u001b[36mINFO\u001b[0m    | Task run 'first_etl-0' - <class 'pandas.core.frame.DataFrame'>\n"
      ]
     },
     "metadata": {},
     "output_type": "display_data"
    },
    {
     "data": {
      "text/html": [
       "<pre style=\"white-space:pre;overflow-x:auto;line-height:normal;font-family:Menlo,'DejaVu Sans Mono',consolas,'Courier New',monospace\">09:13:35.858 | <span style=\"color: #008080; text-decoration-color: #008080\">INFO</span>    | Task run 'first_etl-0' - &lt;class 'pandas.core.frame.DataFrame'&gt;\n",
       "</pre>\n"
      ],
      "text/plain": [
       "09:13:35.858 | \u001b[36mINFO\u001b[0m    | Task run 'first_etl-0' - <class 'pandas.core.frame.DataFrame'>\n"
      ]
     },
     "metadata": {},
     "output_type": "display_data"
    },
    {
     "data": {
      "text/html": [
       "<pre style=\"white-space:pre;overflow-x:auto;line-height:normal;font-family:Menlo,'DejaVu Sans Mono',consolas,'Courier New',monospace\">09:13:35.861 | <span style=\"color: #008080; text-decoration-color: #008080\">INFO</span>    | Task run 'first_etl-0' - &lt;class 'pandas.core.frame.DataFrame'&gt;\n",
       "</pre>\n"
      ],
      "text/plain": [
       "09:13:35.861 | \u001b[36mINFO\u001b[0m    | Task run 'first_etl-0' - <class 'pandas.core.frame.DataFrame'>\n"
      ]
     },
     "metadata": {},
     "output_type": "display_data"
    },
    {
     "data": {
      "text/html": [
       "<pre style=\"white-space:pre;overflow-x:auto;line-height:normal;font-family:Menlo,'DejaVu Sans Mono',consolas,'Courier New',monospace\">09:13:35.863 | <span style=\"color: #008080; text-decoration-color: #008080\">INFO</span>    | Task run 'first_etl-0' - &lt;class 'pandas.core.frame.DataFrame'&gt;\n",
       "</pre>\n"
      ],
      "text/plain": [
       "09:13:35.863 | \u001b[36mINFO\u001b[0m    | Task run 'first_etl-0' - <class 'pandas.core.frame.DataFrame'>\n"
      ]
     },
     "metadata": {},
     "output_type": "display_data"
    },
    {
     "data": {
      "text/html": [
       "<pre style=\"white-space:pre;overflow-x:auto;line-height:normal;font-family:Menlo,'DejaVu Sans Mono',consolas,'Courier New',monospace\">09:13:35.865 | <span style=\"color: #008080; text-decoration-color: #008080\">INFO</span>    | Task run 'first_etl-0' - &lt;class 'pandas.core.frame.DataFrame'&gt;\n",
       "</pre>\n"
      ],
      "text/plain": [
       "09:13:35.865 | \u001b[36mINFO\u001b[0m    | Task run 'first_etl-0' - <class 'pandas.core.frame.DataFrame'>\n"
      ]
     },
     "metadata": {},
     "output_type": "display_data"
    },
    {
     "data": {
      "text/html": [
       "<pre style=\"white-space:pre;overflow-x:auto;line-height:normal;font-family:Menlo,'DejaVu Sans Mono',consolas,'Courier New',monospace\">09:13:35.868 | <span style=\"color: #008080; text-decoration-color: #008080\">INFO</span>    | Task run 'first_etl-0' - &lt;class 'pandas.core.frame.DataFrame'&gt;\n",
       "</pre>\n"
      ],
      "text/plain": [
       "09:13:35.868 | \u001b[36mINFO\u001b[0m    | Task run 'first_etl-0' - <class 'pandas.core.frame.DataFrame'>\n"
      ]
     },
     "metadata": {},
     "output_type": "display_data"
    },
    {
     "data": {
      "text/html": [
       "<pre style=\"white-space:pre;overflow-x:auto;line-height:normal;font-family:Menlo,'DejaVu Sans Mono',consolas,'Courier New',monospace\">09:13:35.870 | <span style=\"color: #008080; text-decoration-color: #008080\">INFO</span>    | Task run 'first_etl-0' - &lt;class 'pandas.core.frame.DataFrame'&gt;\n",
       "</pre>\n"
      ],
      "text/plain": [
       "09:13:35.870 | \u001b[36mINFO\u001b[0m    | Task run 'first_etl-0' - <class 'pandas.core.frame.DataFrame'>\n"
      ]
     },
     "metadata": {},
     "output_type": "display_data"
    },
    {
     "data": {
      "text/html": [
       "<pre style=\"white-space:pre;overflow-x:auto;line-height:normal;font-family:Menlo,'DejaVu Sans Mono',consolas,'Courier New',monospace\">09:13:35.873 | <span style=\"color: #008080; text-decoration-color: #008080\">INFO</span>    | Task run 'first_etl-0' - &lt;class 'pandas.core.frame.DataFrame'&gt;\n",
       "</pre>\n"
      ],
      "text/plain": [
       "09:13:35.873 | \u001b[36mINFO\u001b[0m    | Task run 'first_etl-0' - <class 'pandas.core.frame.DataFrame'>\n"
      ]
     },
     "metadata": {},
     "output_type": "display_data"
    },
    {
     "data": {
      "text/html": [
       "<pre style=\"white-space:pre;overflow-x:auto;line-height:normal;font-family:Menlo,'DejaVu Sans Mono',consolas,'Courier New',monospace\">09:13:35.876 | <span style=\"color: #008080; text-decoration-color: #008080\">INFO</span>    | Task run 'first_etl-0' - &lt;class 'pandas.core.frame.DataFrame'&gt;\n",
       "</pre>\n"
      ],
      "text/plain": [
       "09:13:35.876 | \u001b[36mINFO\u001b[0m    | Task run 'first_etl-0' - <class 'pandas.core.frame.DataFrame'>\n"
      ]
     },
     "metadata": {},
     "output_type": "display_data"
    },
    {
     "data": {
      "text/html": [
       "<pre style=\"white-space:pre;overflow-x:auto;line-height:normal;font-family:Menlo,'DejaVu Sans Mono',consolas,'Courier New',monospace\">09:13:35.878 | <span style=\"color: #008080; text-decoration-color: #008080\">INFO</span>    | Task run 'first_etl-0' - &lt;class 'pandas.core.frame.DataFrame'&gt;\n",
       "</pre>\n"
      ],
      "text/plain": [
       "09:13:35.878 | \u001b[36mINFO\u001b[0m    | Task run 'first_etl-0' - <class 'pandas.core.frame.DataFrame'>\n"
      ]
     },
     "metadata": {},
     "output_type": "display_data"
    },
    {
     "data": {
      "text/html": [
       "<pre style=\"white-space:pre;overflow-x:auto;line-height:normal;font-family:Menlo,'DejaVu Sans Mono',consolas,'Courier New',monospace\">09:13:35.880 | <span style=\"color: #008080; text-decoration-color: #008080\">INFO</span>    | Task run 'first_etl-0' - &lt;class 'pandas.core.frame.DataFrame'&gt;\n",
       "</pre>\n"
      ],
      "text/plain": [
       "09:13:35.880 | \u001b[36mINFO\u001b[0m    | Task run 'first_etl-0' - <class 'pandas.core.frame.DataFrame'>\n"
      ]
     },
     "metadata": {},
     "output_type": "display_data"
    },
    {
     "data": {
      "text/html": [
       "<pre style=\"white-space:pre;overflow-x:auto;line-height:normal;font-family:Menlo,'DejaVu Sans Mono',consolas,'Courier New',monospace\">09:13:35.882 | <span style=\"color: #008080; text-decoration-color: #008080\">INFO</span>    | Task run 'first_etl-0' - &lt;class 'pandas.core.frame.DataFrame'&gt;\n",
       "</pre>\n"
      ],
      "text/plain": [
       "09:13:35.882 | \u001b[36mINFO\u001b[0m    | Task run 'first_etl-0' - <class 'pandas.core.frame.DataFrame'>\n"
      ]
     },
     "metadata": {},
     "output_type": "display_data"
    },
    {
     "data": {
      "text/html": [
       "<pre style=\"white-space:pre;overflow-x:auto;line-height:normal;font-family:Menlo,'DejaVu Sans Mono',consolas,'Courier New',monospace\">09:13:35.885 | <span style=\"color: #008080; text-decoration-color: #008080\">INFO</span>    | Task run 'first_etl-0' - &lt;class 'pandas.core.frame.DataFrame'&gt;\n",
       "</pre>\n"
      ],
      "text/plain": [
       "09:13:35.885 | \u001b[36mINFO\u001b[0m    | Task run 'first_etl-0' - <class 'pandas.core.frame.DataFrame'>\n"
      ]
     },
     "metadata": {},
     "output_type": "display_data"
    },
    {
     "data": {
      "text/html": [
       "<pre style=\"white-space:pre;overflow-x:auto;line-height:normal;font-family:Menlo,'DejaVu Sans Mono',consolas,'Courier New',monospace\">09:13:35.887 | <span style=\"color: #008080; text-decoration-color: #008080\">INFO</span>    | Task run 'first_etl-0' - &lt;class 'pandas.core.frame.DataFrame'&gt;\n",
       "</pre>\n"
      ],
      "text/plain": [
       "09:13:35.887 | \u001b[36mINFO\u001b[0m    | Task run 'first_etl-0' - <class 'pandas.core.frame.DataFrame'>\n"
      ]
     },
     "metadata": {},
     "output_type": "display_data"
    },
    {
     "data": {
      "text/html": [
       "<pre style=\"white-space:pre;overflow-x:auto;line-height:normal;font-family:Menlo,'DejaVu Sans Mono',consolas,'Courier New',monospace\">09:13:35.890 | <span style=\"color: #008080; text-decoration-color: #008080\">INFO</span>    | Task run 'first_etl-0' - &lt;class 'pandas.core.frame.DataFrame'&gt;\n",
       "</pre>\n"
      ],
      "text/plain": [
       "09:13:35.890 | \u001b[36mINFO\u001b[0m    | Task run 'first_etl-0' - <class 'pandas.core.frame.DataFrame'>\n"
      ]
     },
     "metadata": {},
     "output_type": "display_data"
    },
    {
     "data": {
      "text/html": [
       "<pre style=\"white-space:pre;overflow-x:auto;line-height:normal;font-family:Menlo,'DejaVu Sans Mono',consolas,'Courier New',monospace\">09:13:35.893 | <span style=\"color: #008080; text-decoration-color: #008080\">INFO</span>    | Task run 'first_etl-0' - &lt;class 'pandas.core.frame.DataFrame'&gt;\n",
       "</pre>\n"
      ],
      "text/plain": [
       "09:13:35.893 | \u001b[36mINFO\u001b[0m    | Task run 'first_etl-0' - <class 'pandas.core.frame.DataFrame'>\n"
      ]
     },
     "metadata": {},
     "output_type": "display_data"
    },
    {
     "data": {
      "text/html": [
       "<pre style=\"white-space:pre;overflow-x:auto;line-height:normal;font-family:Menlo,'DejaVu Sans Mono',consolas,'Courier New',monospace\">09:13:35.896 | <span style=\"color: #008080; text-decoration-color: #008080\">INFO</span>    | Task run 'first_etl-0' - &lt;class 'pandas.core.frame.DataFrame'&gt;\n",
       "</pre>\n"
      ],
      "text/plain": [
       "09:13:35.896 | \u001b[36mINFO\u001b[0m    | Task run 'first_etl-0' - <class 'pandas.core.frame.DataFrame'>\n"
      ]
     },
     "metadata": {},
     "output_type": "display_data"
    },
    {
     "data": {
      "text/html": [
       "<pre style=\"white-space:pre;overflow-x:auto;line-height:normal;font-family:Menlo,'DejaVu Sans Mono',consolas,'Courier New',monospace\">09:13:35.898 | <span style=\"color: #008080; text-decoration-color: #008080\">INFO</span>    | Task run 'first_etl-0' - &lt;class 'pandas.core.frame.DataFrame'&gt;\n",
       "</pre>\n"
      ],
      "text/plain": [
       "09:13:35.898 | \u001b[36mINFO\u001b[0m    | Task run 'first_etl-0' - <class 'pandas.core.frame.DataFrame'>\n"
      ]
     },
     "metadata": {},
     "output_type": "display_data"
    },
    {
     "data": {
      "text/html": [
       "<pre style=\"white-space:pre;overflow-x:auto;line-height:normal;font-family:Menlo,'DejaVu Sans Mono',consolas,'Courier New',monospace\">09:13:35.902 | <span style=\"color: #008080; text-decoration-color: #008080\">INFO</span>    | Task run 'first_etl-0' - &lt;class 'pandas.core.frame.DataFrame'&gt;\n",
       "</pre>\n"
      ],
      "text/plain": [
       "09:13:35.902 | \u001b[36mINFO\u001b[0m    | Task run 'first_etl-0' - <class 'pandas.core.frame.DataFrame'>\n"
      ]
     },
     "metadata": {},
     "output_type": "display_data"
    },
    {
     "data": {
      "text/html": [
       "<pre style=\"white-space:pre;overflow-x:auto;line-height:normal;font-family:Menlo,'DejaVu Sans Mono',consolas,'Courier New',monospace\">09:13:35.905 | <span style=\"color: #008080; text-decoration-color: #008080\">INFO</span>    | Task run 'first_etl-0' - &lt;class 'pandas.core.frame.DataFrame'&gt;\n",
       "</pre>\n"
      ],
      "text/plain": [
       "09:13:35.905 | \u001b[36mINFO\u001b[0m    | Task run 'first_etl-0' - <class 'pandas.core.frame.DataFrame'>\n"
      ]
     },
     "metadata": {},
     "output_type": "display_data"
    },
    {
     "data": {
      "text/html": [
       "<pre style=\"white-space:pre;overflow-x:auto;line-height:normal;font-family:Menlo,'DejaVu Sans Mono',consolas,'Courier New',monospace\">09:13:35.909 | <span style=\"color: #008080; text-decoration-color: #008080\">INFO</span>    | Task run 'first_etl-0' - &lt;class 'pandas.core.frame.DataFrame'&gt;\n",
       "</pre>\n"
      ],
      "text/plain": [
       "09:13:35.909 | \u001b[36mINFO\u001b[0m    | Task run 'first_etl-0' - <class 'pandas.core.frame.DataFrame'>\n"
      ]
     },
     "metadata": {},
     "output_type": "display_data"
    },
    {
     "data": {
      "text/html": [
       "<pre style=\"white-space:pre;overflow-x:auto;line-height:normal;font-family:Menlo,'DejaVu Sans Mono',consolas,'Courier New',monospace\">09:13:35.912 | <span style=\"color: #008080; text-decoration-color: #008080\">INFO</span>    | Task run 'first_etl-0' - &lt;class 'pandas.core.frame.DataFrame'&gt;\n",
       "</pre>\n"
      ],
      "text/plain": [
       "09:13:35.912 | \u001b[36mINFO\u001b[0m    | Task run 'first_etl-0' - <class 'pandas.core.frame.DataFrame'>\n"
      ]
     },
     "metadata": {},
     "output_type": "display_data"
    },
    {
     "data": {
      "text/html": [
       "<pre style=\"white-space:pre;overflow-x:auto;line-height:normal;font-family:Menlo,'DejaVu Sans Mono',consolas,'Courier New',monospace\">09:13:35.916 | <span style=\"color: #008080; text-decoration-color: #008080\">INFO</span>    | Task run 'first_etl-0' - &lt;class 'pandas.core.frame.DataFrame'&gt;\n",
       "</pre>\n"
      ],
      "text/plain": [
       "09:13:35.916 | \u001b[36mINFO\u001b[0m    | Task run 'first_etl-0' - <class 'pandas.core.frame.DataFrame'>\n"
      ]
     },
     "metadata": {},
     "output_type": "display_data"
    },
    {
     "data": {
      "text/html": [
       "<pre style=\"white-space:pre;overflow-x:auto;line-height:normal;font-family:Menlo,'DejaVu Sans Mono',consolas,'Courier New',monospace\">09:13:35.919 | <span style=\"color: #008080; text-decoration-color: #008080\">INFO</span>    | Task run 'first_etl-0' - &lt;class 'pandas.core.frame.DataFrame'&gt;\n",
       "</pre>\n"
      ],
      "text/plain": [
       "09:13:35.919 | \u001b[36mINFO\u001b[0m    | Task run 'first_etl-0' - <class 'pandas.core.frame.DataFrame'>\n"
      ]
     },
     "metadata": {},
     "output_type": "display_data"
    },
    {
     "data": {
      "text/html": [
       "<pre style=\"white-space:pre;overflow-x:auto;line-height:normal;font-family:Menlo,'DejaVu Sans Mono',consolas,'Courier New',monospace\">09:13:35.922 | <span style=\"color: #008080; text-decoration-color: #008080\">INFO</span>    | Task run 'first_etl-0' - &lt;class 'pandas.core.frame.DataFrame'&gt;\n",
       "</pre>\n"
      ],
      "text/plain": [
       "09:13:35.922 | \u001b[36mINFO\u001b[0m    | Task run 'first_etl-0' - <class 'pandas.core.frame.DataFrame'>\n"
      ]
     },
     "metadata": {},
     "output_type": "display_data"
    },
    {
     "data": {
      "text/html": [
       "<pre style=\"white-space:pre;overflow-x:auto;line-height:normal;font-family:Menlo,'DejaVu Sans Mono',consolas,'Courier New',monospace\">09:13:35.925 | <span style=\"color: #008080; text-decoration-color: #008080\">INFO</span>    | Task run 'first_etl-0' - &lt;class 'pandas.core.frame.DataFrame'&gt;\n",
       "</pre>\n"
      ],
      "text/plain": [
       "09:13:35.925 | \u001b[36mINFO\u001b[0m    | Task run 'first_etl-0' - <class 'pandas.core.frame.DataFrame'>\n"
      ]
     },
     "metadata": {},
     "output_type": "display_data"
    },
    {
     "data": {
      "text/html": [
       "<pre style=\"white-space:pre;overflow-x:auto;line-height:normal;font-family:Menlo,'DejaVu Sans Mono',consolas,'Courier New',monospace\">09:13:35.929 | <span style=\"color: #008080; text-decoration-color: #008080\">INFO</span>    | Task run 'first_etl-0' - &lt;class 'pandas.core.frame.DataFrame'&gt;\n",
       "</pre>\n"
      ],
      "text/plain": [
       "09:13:35.929 | \u001b[36mINFO\u001b[0m    | Task run 'first_etl-0' - <class 'pandas.core.frame.DataFrame'>\n"
      ]
     },
     "metadata": {},
     "output_type": "display_data"
    },
    {
     "data": {
      "text/html": [
       "<pre style=\"white-space:pre;overflow-x:auto;line-height:normal;font-family:Menlo,'DejaVu Sans Mono',consolas,'Courier New',monospace\">09:13:35.931 | <span style=\"color: #008080; text-decoration-color: #008080\">INFO</span>    | Task run 'first_etl-0' - &lt;class 'pandas.core.frame.DataFrame'&gt;\n",
       "</pre>\n"
      ],
      "text/plain": [
       "09:13:35.931 | \u001b[36mINFO\u001b[0m    | Task run 'first_etl-0' - <class 'pandas.core.frame.DataFrame'>\n"
      ]
     },
     "metadata": {},
     "output_type": "display_data"
    },
    {
     "data": {
      "text/html": [
       "<pre style=\"white-space:pre;overflow-x:auto;line-height:normal;font-family:Menlo,'DejaVu Sans Mono',consolas,'Courier New',monospace\">09:13:35.935 | <span style=\"color: #008080; text-decoration-color: #008080\">INFO</span>    | Task run 'first_etl-0' - &lt;class 'pandas.core.frame.DataFrame'&gt;\n",
       "</pre>\n"
      ],
      "text/plain": [
       "09:13:35.935 | \u001b[36mINFO\u001b[0m    | Task run 'first_etl-0' - <class 'pandas.core.frame.DataFrame'>\n"
      ]
     },
     "metadata": {},
     "output_type": "display_data"
    },
    {
     "data": {
      "text/html": [
       "<pre style=\"white-space:pre;overflow-x:auto;line-height:normal;font-family:Menlo,'DejaVu Sans Mono',consolas,'Courier New',monospace\">09:13:35.939 | <span style=\"color: #008080; text-decoration-color: #008080\">INFO</span>    | Task run 'first_etl-0' - &lt;class 'pandas.core.frame.DataFrame'&gt;\n",
       "</pre>\n"
      ],
      "text/plain": [
       "09:13:35.939 | \u001b[36mINFO\u001b[0m    | Task run 'first_etl-0' - <class 'pandas.core.frame.DataFrame'>\n"
      ]
     },
     "metadata": {},
     "output_type": "display_data"
    },
    {
     "data": {
      "text/html": [
       "<pre style=\"white-space:pre;overflow-x:auto;line-height:normal;font-family:Menlo,'DejaVu Sans Mono',consolas,'Courier New',monospace\">09:13:35.943 | <span style=\"color: #008080; text-decoration-color: #008080\">INFO</span>    | Task run 'first_etl-0' - &lt;class 'pandas.core.frame.DataFrame'&gt;\n",
       "</pre>\n"
      ],
      "text/plain": [
       "09:13:35.943 | \u001b[36mINFO\u001b[0m    | Task run 'first_etl-0' - <class 'pandas.core.frame.DataFrame'>\n"
      ]
     },
     "metadata": {},
     "output_type": "display_data"
    },
    {
     "data": {
      "text/html": [
       "<pre style=\"white-space:pre;overflow-x:auto;line-height:normal;font-family:Menlo,'DejaVu Sans Mono',consolas,'Courier New',monospace\">09:13:35.945 | <span style=\"color: #008080; text-decoration-color: #008080\">INFO</span>    | Task run 'first_etl-0' - &lt;class 'pandas.core.frame.DataFrame'&gt;\n",
       "</pre>\n"
      ],
      "text/plain": [
       "09:13:35.945 | \u001b[36mINFO\u001b[0m    | Task run 'first_etl-0' - <class 'pandas.core.frame.DataFrame'>\n"
      ]
     },
     "metadata": {},
     "output_type": "display_data"
    },
    {
     "data": {
      "text/html": [
       "<pre style=\"white-space:pre;overflow-x:auto;line-height:normal;font-family:Menlo,'DejaVu Sans Mono',consolas,'Courier New',monospace\">09:13:35.948 | <span style=\"color: #008080; text-decoration-color: #008080\">INFO</span>    | Task run 'first_etl-0' - &lt;class 'pandas.core.frame.DataFrame'&gt;\n",
       "</pre>\n"
      ],
      "text/plain": [
       "09:13:35.948 | \u001b[36mINFO\u001b[0m    | Task run 'first_etl-0' - <class 'pandas.core.frame.DataFrame'>\n"
      ]
     },
     "metadata": {},
     "output_type": "display_data"
    },
    {
     "data": {
      "text/html": [
       "<pre style=\"white-space:pre;overflow-x:auto;line-height:normal;font-family:Menlo,'DejaVu Sans Mono',consolas,'Courier New',monospace\">09:13:35.950 | <span style=\"color: #008080; text-decoration-color: #008080\">INFO</span>    | Task run 'first_etl-0' - &lt;class 'pandas.core.frame.DataFrame'&gt;\n",
       "</pre>\n"
      ],
      "text/plain": [
       "09:13:35.950 | \u001b[36mINFO\u001b[0m    | Task run 'first_etl-0' - <class 'pandas.core.frame.DataFrame'>\n"
      ]
     },
     "metadata": {},
     "output_type": "display_data"
    },
    {
     "data": {
      "text/html": [
       "<pre style=\"white-space:pre;overflow-x:auto;line-height:normal;font-family:Menlo,'DejaVu Sans Mono',consolas,'Courier New',monospace\">09:13:35.953 | <span style=\"color: #008080; text-decoration-color: #008080\">INFO</span>    | Task run 'first_etl-0' - &lt;class 'pandas.core.frame.DataFrame'&gt;\n",
       "</pre>\n"
      ],
      "text/plain": [
       "09:13:35.953 | \u001b[36mINFO\u001b[0m    | Task run 'first_etl-0' - <class 'pandas.core.frame.DataFrame'>\n"
      ]
     },
     "metadata": {},
     "output_type": "display_data"
    },
    {
     "data": {
      "text/html": [
       "<pre style=\"white-space:pre;overflow-x:auto;line-height:normal;font-family:Menlo,'DejaVu Sans Mono',consolas,'Courier New',monospace\">09:13:35.956 | <span style=\"color: #008080; text-decoration-color: #008080\">INFO</span>    | Task run 'first_etl-0' - &lt;class 'pandas.core.frame.DataFrame'&gt;\n",
       "</pre>\n"
      ],
      "text/plain": [
       "09:13:35.956 | \u001b[36mINFO\u001b[0m    | Task run 'first_etl-0' - <class 'pandas.core.frame.DataFrame'>\n"
      ]
     },
     "metadata": {},
     "output_type": "display_data"
    },
    {
     "data": {
      "text/html": [
       "<pre style=\"white-space:pre;overflow-x:auto;line-height:normal;font-family:Menlo,'DejaVu Sans Mono',consolas,'Courier New',monospace\">09:13:35.959 | <span style=\"color: #008080; text-decoration-color: #008080\">INFO</span>    | Task run 'first_etl-0' - &lt;class 'pandas.core.frame.DataFrame'&gt;\n",
       "</pre>\n"
      ],
      "text/plain": [
       "09:13:35.959 | \u001b[36mINFO\u001b[0m    | Task run 'first_etl-0' - <class 'pandas.core.frame.DataFrame'>\n"
      ]
     },
     "metadata": {},
     "output_type": "display_data"
    },
    {
     "data": {
      "text/html": [
       "<pre style=\"white-space:pre;overflow-x:auto;line-height:normal;font-family:Menlo,'DejaVu Sans Mono',consolas,'Courier New',monospace\">09:13:35.963 | <span style=\"color: #008080; text-decoration-color: #008080\">INFO</span>    | Task run 'first_etl-0' - &lt;class 'pandas.core.frame.DataFrame'&gt;\n",
       "</pre>\n"
      ],
      "text/plain": [
       "09:13:35.963 | \u001b[36mINFO\u001b[0m    | Task run 'first_etl-0' - <class 'pandas.core.frame.DataFrame'>\n"
      ]
     },
     "metadata": {},
     "output_type": "display_data"
    },
    {
     "data": {
      "text/html": [
       "<pre style=\"white-space:pre;overflow-x:auto;line-height:normal;font-family:Menlo,'DejaVu Sans Mono',consolas,'Courier New',monospace\">09:13:35.966 | <span style=\"color: #008080; text-decoration-color: #008080\">INFO</span>    | Task run 'first_etl-0' - &lt;class 'pandas.core.frame.DataFrame'&gt;\n",
       "</pre>\n"
      ],
      "text/plain": [
       "09:13:35.966 | \u001b[36mINFO\u001b[0m    | Task run 'first_etl-0' - <class 'pandas.core.frame.DataFrame'>\n"
      ]
     },
     "metadata": {},
     "output_type": "display_data"
    },
    {
     "data": {
      "text/html": [
       "<pre style=\"white-space:pre;overflow-x:auto;line-height:normal;font-family:Menlo,'DejaVu Sans Mono',consolas,'Courier New',monospace\">09:13:35.968 | <span style=\"color: #008080; text-decoration-color: #008080\">INFO</span>    | Task run 'first_etl-0' - &lt;class 'pandas.core.frame.DataFrame'&gt;\n",
       "</pre>\n"
      ],
      "text/plain": [
       "09:13:35.968 | \u001b[36mINFO\u001b[0m    | Task run 'first_etl-0' - <class 'pandas.core.frame.DataFrame'>\n"
      ]
     },
     "metadata": {},
     "output_type": "display_data"
    },
    {
     "data": {
      "text/html": [
       "<pre style=\"white-space:pre;overflow-x:auto;line-height:normal;font-family:Menlo,'DejaVu Sans Mono',consolas,'Courier New',monospace\">09:13:35.970 | <span style=\"color: #008080; text-decoration-color: #008080\">INFO</span>    | Task run 'first_etl-0' - &lt;class 'pandas.core.frame.DataFrame'&gt;\n",
       "</pre>\n"
      ],
      "text/plain": [
       "09:13:35.970 | \u001b[36mINFO\u001b[0m    | Task run 'first_etl-0' - <class 'pandas.core.frame.DataFrame'>\n"
      ]
     },
     "metadata": {},
     "output_type": "display_data"
    },
    {
     "data": {
      "text/html": [
       "<pre style=\"white-space:pre;overflow-x:auto;line-height:normal;font-family:Menlo,'DejaVu Sans Mono',consolas,'Courier New',monospace\">09:13:35.973 | <span style=\"color: #008080; text-decoration-color: #008080\">INFO</span>    | Task run 'first_etl-0' - &lt;class 'pandas.core.frame.DataFrame'&gt;\n",
       "</pre>\n"
      ],
      "text/plain": [
       "09:13:35.973 | \u001b[36mINFO\u001b[0m    | Task run 'first_etl-0' - <class 'pandas.core.frame.DataFrame'>\n"
      ]
     },
     "metadata": {},
     "output_type": "display_data"
    },
    {
     "data": {
      "text/html": [
       "<pre style=\"white-space:pre;overflow-x:auto;line-height:normal;font-family:Menlo,'DejaVu Sans Mono',consolas,'Courier New',monospace\">09:13:35.976 | <span style=\"color: #008080; text-decoration-color: #008080\">INFO</span>    | Task run 'first_etl-0' - &lt;class 'pandas.core.frame.DataFrame'&gt;\n",
       "</pre>\n"
      ],
      "text/plain": [
       "09:13:35.976 | \u001b[36mINFO\u001b[0m    | Task run 'first_etl-0' - <class 'pandas.core.frame.DataFrame'>\n"
      ]
     },
     "metadata": {},
     "output_type": "display_data"
    },
    {
     "data": {
      "text/html": [
       "<pre style=\"white-space:pre;overflow-x:auto;line-height:normal;font-family:Menlo,'DejaVu Sans Mono',consolas,'Courier New',monospace\">09:13:35.978 | <span style=\"color: #008080; text-decoration-color: #008080\">INFO</span>    | Task run 'first_etl-0' - &lt;class 'pandas.core.frame.DataFrame'&gt;\n",
       "</pre>\n"
      ],
      "text/plain": [
       "09:13:35.978 | \u001b[36mINFO\u001b[0m    | Task run 'first_etl-0' - <class 'pandas.core.frame.DataFrame'>\n"
      ]
     },
     "metadata": {},
     "output_type": "display_data"
    },
    {
     "data": {
      "text/html": [
       "<pre style=\"white-space:pre;overflow-x:auto;line-height:normal;font-family:Menlo,'DejaVu Sans Mono',consolas,'Courier New',monospace\">09:13:35.980 | <span style=\"color: #008080; text-decoration-color: #008080\">INFO</span>    | Task run 'first_etl-0' - &lt;class 'pandas.core.frame.DataFrame'&gt;\n",
       "</pre>\n"
      ],
      "text/plain": [
       "09:13:35.980 | \u001b[36mINFO\u001b[0m    | Task run 'first_etl-0' - <class 'pandas.core.frame.DataFrame'>\n"
      ]
     },
     "metadata": {},
     "output_type": "display_data"
    },
    {
     "data": {
      "text/html": [
       "<pre style=\"white-space:pre;overflow-x:auto;line-height:normal;font-family:Menlo,'DejaVu Sans Mono',consolas,'Courier New',monospace\">09:13:35.983 | <span style=\"color: #008080; text-decoration-color: #008080\">INFO</span>    | Task run 'first_etl-0' - &lt;class 'pandas.core.frame.DataFrame'&gt;\n",
       "</pre>\n"
      ],
      "text/plain": [
       "09:13:35.983 | \u001b[36mINFO\u001b[0m    | Task run 'first_etl-0' - <class 'pandas.core.frame.DataFrame'>\n"
      ]
     },
     "metadata": {},
     "output_type": "display_data"
    },
    {
     "data": {
      "text/html": [
       "<pre style=\"white-space:pre;overflow-x:auto;line-height:normal;font-family:Menlo,'DejaVu Sans Mono',consolas,'Courier New',monospace\">09:13:35.985 | <span style=\"color: #008080; text-decoration-color: #008080\">INFO</span>    | Task run 'first_etl-0' - &lt;class 'pandas.core.frame.DataFrame'&gt;\n",
       "</pre>\n"
      ],
      "text/plain": [
       "09:13:35.985 | \u001b[36mINFO\u001b[0m    | Task run 'first_etl-0' - <class 'pandas.core.frame.DataFrame'>\n"
      ]
     },
     "metadata": {},
     "output_type": "display_data"
    },
    {
     "data": {
      "text/html": [
       "<pre style=\"white-space:pre;overflow-x:auto;line-height:normal;font-family:Menlo,'DejaVu Sans Mono',consolas,'Courier New',monospace\">09:13:35.988 | <span style=\"color: #008080; text-decoration-color: #008080\">INFO</span>    | Task run 'first_etl-0' - &lt;class 'pandas.core.frame.DataFrame'&gt;\n",
       "</pre>\n"
      ],
      "text/plain": [
       "09:13:35.988 | \u001b[36mINFO\u001b[0m    | Task run 'first_etl-0' - <class 'pandas.core.frame.DataFrame'>\n"
      ]
     },
     "metadata": {},
     "output_type": "display_data"
    },
    {
     "data": {
      "text/html": [
       "<pre style=\"white-space:pre;overflow-x:auto;line-height:normal;font-family:Menlo,'DejaVu Sans Mono',consolas,'Courier New',monospace\">09:13:35.991 | <span style=\"color: #008080; text-decoration-color: #008080\">INFO</span>    | Task run 'first_etl-0' - &lt;class 'pandas.core.frame.DataFrame'&gt;\n",
       "</pre>\n"
      ],
      "text/plain": [
       "09:13:35.991 | \u001b[36mINFO\u001b[0m    | Task run 'first_etl-0' - <class 'pandas.core.frame.DataFrame'>\n"
      ]
     },
     "metadata": {},
     "output_type": "display_data"
    },
    {
     "data": {
      "text/html": [
       "<pre style=\"white-space:pre;overflow-x:auto;line-height:normal;font-family:Menlo,'DejaVu Sans Mono',consolas,'Courier New',monospace\">09:13:35.994 | <span style=\"color: #008080; text-decoration-color: #008080\">INFO</span>    | Task run 'first_etl-0' - &lt;class 'pandas.core.frame.DataFrame'&gt;\n",
       "</pre>\n"
      ],
      "text/plain": [
       "09:13:35.994 | \u001b[36mINFO\u001b[0m    | Task run 'first_etl-0' - <class 'pandas.core.frame.DataFrame'>\n"
      ]
     },
     "metadata": {},
     "output_type": "display_data"
    },
    {
     "data": {
      "text/html": [
       "<pre style=\"white-space:pre;overflow-x:auto;line-height:normal;font-family:Menlo,'DejaVu Sans Mono',consolas,'Courier New',monospace\">09:13:35.998 | <span style=\"color: #008080; text-decoration-color: #008080\">INFO</span>    | Task run 'first_etl-0' - &lt;class 'pandas.core.frame.DataFrame'&gt;\n",
       "</pre>\n"
      ],
      "text/plain": [
       "09:13:35.998 | \u001b[36mINFO\u001b[0m    | Task run 'first_etl-0' - <class 'pandas.core.frame.DataFrame'>\n"
      ]
     },
     "metadata": {},
     "output_type": "display_data"
    },
    {
     "data": {
      "text/html": [
       "<pre style=\"white-space:pre;overflow-x:auto;line-height:normal;font-family:Menlo,'DejaVu Sans Mono',consolas,'Courier New',monospace\">09:13:36.002 | <span style=\"color: #008080; text-decoration-color: #008080\">INFO</span>    | Task run 'first_etl-0' - &lt;class 'pandas.core.frame.DataFrame'&gt;\n",
       "</pre>\n"
      ],
      "text/plain": [
       "09:13:36.002 | \u001b[36mINFO\u001b[0m    | Task run 'first_etl-0' - <class 'pandas.core.frame.DataFrame'>\n"
      ]
     },
     "metadata": {},
     "output_type": "display_data"
    },
    {
     "data": {
      "text/html": [
       "<pre style=\"white-space:pre;overflow-x:auto;line-height:normal;font-family:Menlo,'DejaVu Sans Mono',consolas,'Courier New',monospace\">09:13:36.005 | <span style=\"color: #008080; text-decoration-color: #008080\">INFO</span>    | Task run 'first_etl-0' - &lt;class 'pandas.core.frame.DataFrame'&gt;\n",
       "</pre>\n"
      ],
      "text/plain": [
       "09:13:36.005 | \u001b[36mINFO\u001b[0m    | Task run 'first_etl-0' - <class 'pandas.core.frame.DataFrame'>\n"
      ]
     },
     "metadata": {},
     "output_type": "display_data"
    },
    {
     "data": {
      "text/html": [
       "<pre style=\"white-space:pre;overflow-x:auto;line-height:normal;font-family:Menlo,'DejaVu Sans Mono',consolas,'Courier New',monospace\">09:13:36.007 | <span style=\"color: #008080; text-decoration-color: #008080\">INFO</span>    | Task run 'first_etl-0' - &lt;class 'pandas.core.frame.DataFrame'&gt;\n",
       "</pre>\n"
      ],
      "text/plain": [
       "09:13:36.007 | \u001b[36mINFO\u001b[0m    | Task run 'first_etl-0' - <class 'pandas.core.frame.DataFrame'>\n"
      ]
     },
     "metadata": {},
     "output_type": "display_data"
    },
    {
     "data": {
      "text/html": [
       "<pre style=\"white-space:pre;overflow-x:auto;line-height:normal;font-family:Menlo,'DejaVu Sans Mono',consolas,'Courier New',monospace\">09:13:36.010 | <span style=\"color: #008080; text-decoration-color: #008080\">INFO</span>    | Task run 'first_etl-0' - &lt;class 'pandas.core.frame.DataFrame'&gt;\n",
       "</pre>\n"
      ],
      "text/plain": [
       "09:13:36.010 | \u001b[36mINFO\u001b[0m    | Task run 'first_etl-0' - <class 'pandas.core.frame.DataFrame'>\n"
      ]
     },
     "metadata": {},
     "output_type": "display_data"
    },
    {
     "data": {
      "text/html": [
       "<pre style=\"white-space:pre;overflow-x:auto;line-height:normal;font-family:Menlo,'DejaVu Sans Mono',consolas,'Courier New',monospace\">09:13:36.012 | <span style=\"color: #008080; text-decoration-color: #008080\">INFO</span>    | Task run 'first_etl-0' - &lt;class 'pandas.core.frame.DataFrame'&gt;\n",
       "</pre>\n"
      ],
      "text/plain": [
       "09:13:36.012 | \u001b[36mINFO\u001b[0m    | Task run 'first_etl-0' - <class 'pandas.core.frame.DataFrame'>\n"
      ]
     },
     "metadata": {},
     "output_type": "display_data"
    },
    {
     "data": {
      "text/html": [
       "<pre style=\"white-space:pre;overflow-x:auto;line-height:normal;font-family:Menlo,'DejaVu Sans Mono',consolas,'Courier New',monospace\">09:13:36.014 | <span style=\"color: #008080; text-decoration-color: #008080\">INFO</span>    | Task run 'first_etl-0' - &lt;class 'pandas.core.frame.DataFrame'&gt;\n",
       "</pre>\n"
      ],
      "text/plain": [
       "09:13:36.014 | \u001b[36mINFO\u001b[0m    | Task run 'first_etl-0' - <class 'pandas.core.frame.DataFrame'>\n"
      ]
     },
     "metadata": {},
     "output_type": "display_data"
    },
    {
     "data": {
      "text/html": [
       "<pre style=\"white-space:pre;overflow-x:auto;line-height:normal;font-family:Menlo,'DejaVu Sans Mono',consolas,'Courier New',monospace\">09:13:36.016 | <span style=\"color: #008080; text-decoration-color: #008080\">INFO</span>    | Task run 'first_etl-0' - &lt;class 'pandas.core.frame.DataFrame'&gt;\n",
       "</pre>\n"
      ],
      "text/plain": [
       "09:13:36.016 | \u001b[36mINFO\u001b[0m    | Task run 'first_etl-0' - <class 'pandas.core.frame.DataFrame'>\n"
      ]
     },
     "metadata": {},
     "output_type": "display_data"
    },
    {
     "data": {
      "text/html": [
       "<pre style=\"white-space:pre;overflow-x:auto;line-height:normal;font-family:Menlo,'DejaVu Sans Mono',consolas,'Courier New',monospace\">09:13:36.018 | <span style=\"color: #008080; text-decoration-color: #008080\">INFO</span>    | Task run 'first_etl-0' - &lt;class 'pandas.core.frame.DataFrame'&gt;\n",
       "</pre>\n"
      ],
      "text/plain": [
       "09:13:36.018 | \u001b[36mINFO\u001b[0m    | Task run 'first_etl-0' - <class 'pandas.core.frame.DataFrame'>\n"
      ]
     },
     "metadata": {},
     "output_type": "display_data"
    },
    {
     "data": {
      "text/html": [
       "<pre style=\"white-space:pre;overflow-x:auto;line-height:normal;font-family:Menlo,'DejaVu Sans Mono',consolas,'Courier New',monospace\">09:13:36.020 | <span style=\"color: #008080; text-decoration-color: #008080\">INFO</span>    | Task run 'first_etl-0' - &lt;class 'pandas.core.frame.DataFrame'&gt;\n",
       "</pre>\n"
      ],
      "text/plain": [
       "09:13:36.020 | \u001b[36mINFO\u001b[0m    | Task run 'first_etl-0' - <class 'pandas.core.frame.DataFrame'>\n"
      ]
     },
     "metadata": {},
     "output_type": "display_data"
    },
    {
     "data": {
      "text/html": [
       "<pre style=\"white-space:pre;overflow-x:auto;line-height:normal;font-family:Menlo,'DejaVu Sans Mono',consolas,'Courier New',monospace\">09:13:36.023 | <span style=\"color: #008080; text-decoration-color: #008080\">INFO</span>    | Task run 'first_etl-0' - &lt;class 'pandas.core.frame.DataFrame'&gt;\n",
       "</pre>\n"
      ],
      "text/plain": [
       "09:13:36.023 | \u001b[36mINFO\u001b[0m    | Task run 'first_etl-0' - <class 'pandas.core.frame.DataFrame'>\n"
      ]
     },
     "metadata": {},
     "output_type": "display_data"
    },
    {
     "data": {
      "text/html": [
       "<pre style=\"white-space:pre;overflow-x:auto;line-height:normal;font-family:Menlo,'DejaVu Sans Mono',consolas,'Courier New',monospace\">09:13:36.025 | <span style=\"color: #008080; text-decoration-color: #008080\">INFO</span>    | Task run 'first_etl-0' - &lt;class 'pandas.core.frame.DataFrame'&gt;\n",
       "</pre>\n"
      ],
      "text/plain": [
       "09:13:36.025 | \u001b[36mINFO\u001b[0m    | Task run 'first_etl-0' - <class 'pandas.core.frame.DataFrame'>\n"
      ]
     },
     "metadata": {},
     "output_type": "display_data"
    },
    {
     "data": {
      "text/html": [
       "<pre style=\"white-space:pre;overflow-x:auto;line-height:normal;font-family:Menlo,'DejaVu Sans Mono',consolas,'Courier New',monospace\">09:13:36.027 | <span style=\"color: #008080; text-decoration-color: #008080\">INFO</span>    | Task run 'first_etl-0' - &lt;class 'pandas.core.frame.DataFrame'&gt;\n",
       "</pre>\n"
      ],
      "text/plain": [
       "09:13:36.027 | \u001b[36mINFO\u001b[0m    | Task run 'first_etl-0' - <class 'pandas.core.frame.DataFrame'>\n"
      ]
     },
     "metadata": {},
     "output_type": "display_data"
    },
    {
     "data": {
      "text/html": [
       "<pre style=\"white-space:pre;overflow-x:auto;line-height:normal;font-family:Menlo,'DejaVu Sans Mono',consolas,'Courier New',monospace\">09:13:36.031 | <span style=\"color: #008080; text-decoration-color: #008080\">INFO</span>    | Task run 'first_etl-0' - &lt;class 'pandas.core.frame.DataFrame'&gt;\n",
       "</pre>\n"
      ],
      "text/plain": [
       "09:13:36.031 | \u001b[36mINFO\u001b[0m    | Task run 'first_etl-0' - <class 'pandas.core.frame.DataFrame'>\n"
      ]
     },
     "metadata": {},
     "output_type": "display_data"
    },
    {
     "data": {
      "text/html": [
       "<pre style=\"white-space:pre;overflow-x:auto;line-height:normal;font-family:Menlo,'DejaVu Sans Mono',consolas,'Courier New',monospace\">09:13:36.035 | <span style=\"color: #008080; text-decoration-color: #008080\">INFO</span>    | Task run 'first_etl-0' - &lt;class 'pandas.core.frame.DataFrame'&gt;\n",
       "</pre>\n"
      ],
      "text/plain": [
       "09:13:36.035 | \u001b[36mINFO\u001b[0m    | Task run 'first_etl-0' - <class 'pandas.core.frame.DataFrame'>\n"
      ]
     },
     "metadata": {},
     "output_type": "display_data"
    },
    {
     "data": {
      "text/html": [
       "<pre style=\"white-space:pre;overflow-x:auto;line-height:normal;font-family:Menlo,'DejaVu Sans Mono',consolas,'Courier New',monospace\">09:13:36.038 | <span style=\"color: #008080; text-decoration-color: #008080\">INFO</span>    | Task run 'first_etl-0' - &lt;class 'pandas.core.frame.DataFrame'&gt;\n",
       "</pre>\n"
      ],
      "text/plain": [
       "09:13:36.038 | \u001b[36mINFO\u001b[0m    | Task run 'first_etl-0' - <class 'pandas.core.frame.DataFrame'>\n"
      ]
     },
     "metadata": {},
     "output_type": "display_data"
    },
    {
     "data": {
      "text/html": [
       "<pre style=\"white-space:pre;overflow-x:auto;line-height:normal;font-family:Menlo,'DejaVu Sans Mono',consolas,'Courier New',monospace\">09:13:36.042 | <span style=\"color: #008080; text-decoration-color: #008080\">INFO</span>    | Task run 'first_etl-0' - &lt;class 'pandas.core.frame.DataFrame'&gt;\n",
       "</pre>\n"
      ],
      "text/plain": [
       "09:13:36.042 | \u001b[36mINFO\u001b[0m    | Task run 'first_etl-0' - <class 'pandas.core.frame.DataFrame'>\n"
      ]
     },
     "metadata": {},
     "output_type": "display_data"
    },
    {
     "data": {
      "text/html": [
       "<pre style=\"white-space:pre;overflow-x:auto;line-height:normal;font-family:Menlo,'DejaVu Sans Mono',consolas,'Courier New',monospace\">09:13:36.046 | <span style=\"color: #008080; text-decoration-color: #008080\">INFO</span>    | Task run 'first_etl-0' - &lt;class 'pandas.core.frame.DataFrame'&gt;\n",
       "</pre>\n"
      ],
      "text/plain": [
       "09:13:36.046 | \u001b[36mINFO\u001b[0m    | Task run 'first_etl-0' - <class 'pandas.core.frame.DataFrame'>\n"
      ]
     },
     "metadata": {},
     "output_type": "display_data"
    },
    {
     "data": {
      "text/html": [
       "<pre style=\"white-space:pre;overflow-x:auto;line-height:normal;font-family:Menlo,'DejaVu Sans Mono',consolas,'Courier New',monospace\">09:13:36.050 | <span style=\"color: #008080; text-decoration-color: #008080\">INFO</span>    | Task run 'first_etl-0' - &lt;class 'pandas.core.frame.DataFrame'&gt;\n",
       "</pre>\n"
      ],
      "text/plain": [
       "09:13:36.050 | \u001b[36mINFO\u001b[0m    | Task run 'first_etl-0' - <class 'pandas.core.frame.DataFrame'>\n"
      ]
     },
     "metadata": {},
     "output_type": "display_data"
    },
    {
     "data": {
      "text/html": [
       "<pre style=\"white-space:pre;overflow-x:auto;line-height:normal;font-family:Menlo,'DejaVu Sans Mono',consolas,'Courier New',monospace\">09:13:36.054 | <span style=\"color: #008080; text-decoration-color: #008080\">INFO</span>    | Task run 'first_etl-0' - &lt;class 'pandas.core.frame.DataFrame'&gt;\n",
       "</pre>\n"
      ],
      "text/plain": [
       "09:13:36.054 | \u001b[36mINFO\u001b[0m    | Task run 'first_etl-0' - <class 'pandas.core.frame.DataFrame'>\n"
      ]
     },
     "metadata": {},
     "output_type": "display_data"
    },
    {
     "data": {
      "text/html": [
       "<pre style=\"white-space:pre;overflow-x:auto;line-height:normal;font-family:Menlo,'DejaVu Sans Mono',consolas,'Courier New',monospace\">09:13:36.058 | <span style=\"color: #008080; text-decoration-color: #008080\">INFO</span>    | Task run 'first_etl-0' - &lt;class 'pandas.core.frame.DataFrame'&gt;\n",
       "</pre>\n"
      ],
      "text/plain": [
       "09:13:36.058 | \u001b[36mINFO\u001b[0m    | Task run 'first_etl-0' - <class 'pandas.core.frame.DataFrame'>\n"
      ]
     },
     "metadata": {},
     "output_type": "display_data"
    },
    {
     "data": {
      "text/html": [
       "<pre style=\"white-space:pre;overflow-x:auto;line-height:normal;font-family:Menlo,'DejaVu Sans Mono',consolas,'Courier New',monospace\">09:13:36.061 | <span style=\"color: #008080; text-decoration-color: #008080\">INFO</span>    | Task run 'first_etl-0' - &lt;class 'pandas.core.frame.DataFrame'&gt;\n",
       "</pre>\n"
      ],
      "text/plain": [
       "09:13:36.061 | \u001b[36mINFO\u001b[0m    | Task run 'first_etl-0' - <class 'pandas.core.frame.DataFrame'>\n"
      ]
     },
     "metadata": {},
     "output_type": "display_data"
    },
    {
     "data": {
      "text/html": [
       "<pre style=\"white-space:pre;overflow-x:auto;line-height:normal;font-family:Menlo,'DejaVu Sans Mono',consolas,'Courier New',monospace\">09:13:36.064 | <span style=\"color: #008080; text-decoration-color: #008080\">INFO</span>    | Task run 'first_etl-0' - &lt;class 'pandas.core.frame.DataFrame'&gt;\n",
       "</pre>\n"
      ],
      "text/plain": [
       "09:13:36.064 | \u001b[36mINFO\u001b[0m    | Task run 'first_etl-0' - <class 'pandas.core.frame.DataFrame'>\n"
      ]
     },
     "metadata": {},
     "output_type": "display_data"
    },
    {
     "data": {
      "text/html": [
       "<pre style=\"white-space:pre;overflow-x:auto;line-height:normal;font-family:Menlo,'DejaVu Sans Mono',consolas,'Courier New',monospace\">09:13:36.067 | <span style=\"color: #008080; text-decoration-color: #008080\">INFO</span>    | Task run 'first_etl-0' - &lt;class 'pandas.core.frame.DataFrame'&gt;\n",
       "</pre>\n"
      ],
      "text/plain": [
       "09:13:36.067 | \u001b[36mINFO\u001b[0m    | Task run 'first_etl-0' - <class 'pandas.core.frame.DataFrame'>\n"
      ]
     },
     "metadata": {},
     "output_type": "display_data"
    },
    {
     "data": {
      "text/html": [
       "<pre style=\"white-space:pre;overflow-x:auto;line-height:normal;font-family:Menlo,'DejaVu Sans Mono',consolas,'Courier New',monospace\">09:13:36.070 | <span style=\"color: #008080; text-decoration-color: #008080\">INFO</span>    | Task run 'first_etl-0' - &lt;class 'pandas.core.frame.DataFrame'&gt;\n",
       "</pre>\n"
      ],
      "text/plain": [
       "09:13:36.070 | \u001b[36mINFO\u001b[0m    | Task run 'first_etl-0' - <class 'pandas.core.frame.DataFrame'>\n"
      ]
     },
     "metadata": {},
     "output_type": "display_data"
    },
    {
     "data": {
      "text/html": [
       "<pre style=\"white-space:pre;overflow-x:auto;line-height:normal;font-family:Menlo,'DejaVu Sans Mono',consolas,'Courier New',monospace\">09:13:36.075 | <span style=\"color: #008080; text-decoration-color: #008080\">INFO</span>    | Task run 'first_etl-0' - &lt;class 'pandas.core.frame.DataFrame'&gt;\n",
       "</pre>\n"
      ],
      "text/plain": [
       "09:13:36.075 | \u001b[36mINFO\u001b[0m    | Task run 'first_etl-0' - <class 'pandas.core.frame.DataFrame'>\n"
      ]
     },
     "metadata": {},
     "output_type": "display_data"
    },
    {
     "data": {
      "text/html": [
       "<pre style=\"white-space:pre;overflow-x:auto;line-height:normal;font-family:Menlo,'DejaVu Sans Mono',consolas,'Courier New',monospace\">09:13:36.079 | <span style=\"color: #008080; text-decoration-color: #008080\">INFO</span>    | Task run 'first_etl-0' - &lt;class 'pandas.core.frame.DataFrame'&gt;\n",
       "</pre>\n"
      ],
      "text/plain": [
       "09:13:36.079 | \u001b[36mINFO\u001b[0m    | Task run 'first_etl-0' - <class 'pandas.core.frame.DataFrame'>\n"
      ]
     },
     "metadata": {},
     "output_type": "display_data"
    },
    {
     "data": {
      "text/html": [
       "<pre style=\"white-space:pre;overflow-x:auto;line-height:normal;font-family:Menlo,'DejaVu Sans Mono',consolas,'Courier New',monospace\">09:13:36.083 | <span style=\"color: #008080; text-decoration-color: #008080\">INFO</span>    | Task run 'first_etl-0' - &lt;class 'pandas.core.frame.DataFrame'&gt;\n",
       "</pre>\n"
      ],
      "text/plain": [
       "09:13:36.083 | \u001b[36mINFO\u001b[0m    | Task run 'first_etl-0' - <class 'pandas.core.frame.DataFrame'>\n"
      ]
     },
     "metadata": {},
     "output_type": "display_data"
    },
    {
     "data": {
      "text/html": [
       "<pre style=\"white-space:pre;overflow-x:auto;line-height:normal;font-family:Menlo,'DejaVu Sans Mono',consolas,'Courier New',monospace\">09:13:36.086 | <span style=\"color: #008080; text-decoration-color: #008080\">INFO</span>    | Task run 'first_etl-0' - &lt;class 'pandas.core.frame.DataFrame'&gt;\n",
       "</pre>\n"
      ],
      "text/plain": [
       "09:13:36.086 | \u001b[36mINFO\u001b[0m    | Task run 'first_etl-0' - <class 'pandas.core.frame.DataFrame'>\n"
      ]
     },
     "metadata": {},
     "output_type": "display_data"
    },
    {
     "data": {
      "text/html": [
       "<pre style=\"white-space:pre;overflow-x:auto;line-height:normal;font-family:Menlo,'DejaVu Sans Mono',consolas,'Courier New',monospace\">09:13:36.090 | <span style=\"color: #008080; text-decoration-color: #008080\">INFO</span>    | Task run 'first_etl-0' - &lt;class 'pandas.core.frame.DataFrame'&gt;\n",
       "</pre>\n"
      ],
      "text/plain": [
       "09:13:36.090 | \u001b[36mINFO\u001b[0m    | Task run 'first_etl-0' - <class 'pandas.core.frame.DataFrame'>\n"
      ]
     },
     "metadata": {},
     "output_type": "display_data"
    },
    {
     "data": {
      "text/html": [
       "<pre style=\"white-space:pre;overflow-x:auto;line-height:normal;font-family:Menlo,'DejaVu Sans Mono',consolas,'Courier New',monospace\">09:13:36.094 | <span style=\"color: #008080; text-decoration-color: #008080\">INFO</span>    | Task run 'first_etl-0' - &lt;class 'pandas.core.frame.DataFrame'&gt;\n",
       "</pre>\n"
      ],
      "text/plain": [
       "09:13:36.094 | \u001b[36mINFO\u001b[0m    | Task run 'first_etl-0' - <class 'pandas.core.frame.DataFrame'>\n"
      ]
     },
     "metadata": {},
     "output_type": "display_data"
    },
    {
     "data": {
      "text/html": [
       "<pre style=\"white-space:pre;overflow-x:auto;line-height:normal;font-family:Menlo,'DejaVu Sans Mono',consolas,'Courier New',monospace\">09:13:36.097 | <span style=\"color: #008080; text-decoration-color: #008080\">INFO</span>    | Task run 'first_etl-0' - &lt;class 'pandas.core.frame.DataFrame'&gt;\n",
       "</pre>\n"
      ],
      "text/plain": [
       "09:13:36.097 | \u001b[36mINFO\u001b[0m    | Task run 'first_etl-0' - <class 'pandas.core.frame.DataFrame'>\n"
      ]
     },
     "metadata": {},
     "output_type": "display_data"
    },
    {
     "data": {
      "text/html": [
       "<pre style=\"white-space:pre;overflow-x:auto;line-height:normal;font-family:Menlo,'DejaVu Sans Mono',consolas,'Courier New',monospace\">09:13:36.100 | <span style=\"color: #008080; text-decoration-color: #008080\">INFO</span>    | Task run 'first_etl-0' - &lt;class 'pandas.core.frame.DataFrame'&gt;\n",
       "</pre>\n"
      ],
      "text/plain": [
       "09:13:36.100 | \u001b[36mINFO\u001b[0m    | Task run 'first_etl-0' - <class 'pandas.core.frame.DataFrame'>\n"
      ]
     },
     "metadata": {},
     "output_type": "display_data"
    },
    {
     "data": {
      "text/html": [
       "<pre style=\"white-space:pre;overflow-x:auto;line-height:normal;font-family:Menlo,'DejaVu Sans Mono',consolas,'Courier New',monospace\">09:13:36.102 | <span style=\"color: #008080; text-decoration-color: #008080\">INFO</span>    | Task run 'first_etl-0' - &lt;class 'pandas.core.frame.DataFrame'&gt;\n",
       "</pre>\n"
      ],
      "text/plain": [
       "09:13:36.102 | \u001b[36mINFO\u001b[0m    | Task run 'first_etl-0' - <class 'pandas.core.frame.DataFrame'>\n"
      ]
     },
     "metadata": {},
     "output_type": "display_data"
    },
    {
     "data": {
      "text/html": [
       "<pre style=\"white-space:pre;overflow-x:auto;line-height:normal;font-family:Menlo,'DejaVu Sans Mono',consolas,'Courier New',monospace\">09:13:36.105 | <span style=\"color: #008080; text-decoration-color: #008080\">INFO</span>    | Task run 'first_etl-0' - &lt;class 'pandas.core.frame.DataFrame'&gt;\n",
       "</pre>\n"
      ],
      "text/plain": [
       "09:13:36.105 | \u001b[36mINFO\u001b[0m    | Task run 'first_etl-0' - <class 'pandas.core.frame.DataFrame'>\n"
      ]
     },
     "metadata": {},
     "output_type": "display_data"
    },
    {
     "data": {
      "text/html": [
       "<pre style=\"white-space:pre;overflow-x:auto;line-height:normal;font-family:Menlo,'DejaVu Sans Mono',consolas,'Courier New',monospace\">09:13:36.109 | <span style=\"color: #008080; text-decoration-color: #008080\">INFO</span>    | Task run 'first_etl-0' - &lt;class 'pandas.core.frame.DataFrame'&gt;\n",
       "</pre>\n"
      ],
      "text/plain": [
       "09:13:36.109 | \u001b[36mINFO\u001b[0m    | Task run 'first_etl-0' - <class 'pandas.core.frame.DataFrame'>\n"
      ]
     },
     "metadata": {},
     "output_type": "display_data"
    },
    {
     "data": {
      "text/html": [
       "<pre style=\"white-space:pre;overflow-x:auto;line-height:normal;font-family:Menlo,'DejaVu Sans Mono',consolas,'Courier New',monospace\">09:13:36.112 | <span style=\"color: #008080; text-decoration-color: #008080\">INFO</span>    | Task run 'first_etl-0' - &lt;class 'pandas.core.frame.DataFrame'&gt;\n",
       "</pre>\n"
      ],
      "text/plain": [
       "09:13:36.112 | \u001b[36mINFO\u001b[0m    | Task run 'first_etl-0' - <class 'pandas.core.frame.DataFrame'>\n"
      ]
     },
     "metadata": {},
     "output_type": "display_data"
    },
    {
     "data": {
      "text/html": [
       "<pre style=\"white-space:pre;overflow-x:auto;line-height:normal;font-family:Menlo,'DejaVu Sans Mono',consolas,'Courier New',monospace\">09:13:36.115 | <span style=\"color: #008080; text-decoration-color: #008080\">INFO</span>    | Task run 'first_etl-0' - &lt;class 'pandas.core.frame.DataFrame'&gt;\n",
       "</pre>\n"
      ],
      "text/plain": [
       "09:13:36.115 | \u001b[36mINFO\u001b[0m    | Task run 'first_etl-0' - <class 'pandas.core.frame.DataFrame'>\n"
      ]
     },
     "metadata": {},
     "output_type": "display_data"
    },
    {
     "data": {
      "text/html": [
       "<pre style=\"white-space:pre;overflow-x:auto;line-height:normal;font-family:Menlo,'DejaVu Sans Mono',consolas,'Courier New',monospace\">09:13:36.119 | <span style=\"color: #008080; text-decoration-color: #008080\">INFO</span>    | Task run 'first_etl-0' - &lt;class 'pandas.core.frame.DataFrame'&gt;\n",
       "</pre>\n"
      ],
      "text/plain": [
       "09:13:36.119 | \u001b[36mINFO\u001b[0m    | Task run 'first_etl-0' - <class 'pandas.core.frame.DataFrame'>\n"
      ]
     },
     "metadata": {},
     "output_type": "display_data"
    },
    {
     "data": {
      "text/html": [
       "<pre style=\"white-space:pre;overflow-x:auto;line-height:normal;font-family:Menlo,'DejaVu Sans Mono',consolas,'Courier New',monospace\">09:13:36.122 | <span style=\"color: #008080; text-decoration-color: #008080\">INFO</span>    | Task run 'first_etl-0' - &lt;class 'pandas.core.frame.DataFrame'&gt;\n",
       "</pre>\n"
      ],
      "text/plain": [
       "09:13:36.122 | \u001b[36mINFO\u001b[0m    | Task run 'first_etl-0' - <class 'pandas.core.frame.DataFrame'>\n"
      ]
     },
     "metadata": {},
     "output_type": "display_data"
    },
    {
     "data": {
      "text/html": [
       "<pre style=\"white-space:pre;overflow-x:auto;line-height:normal;font-family:Menlo,'DejaVu Sans Mono',consolas,'Courier New',monospace\">09:13:36.126 | <span style=\"color: #008080; text-decoration-color: #008080\">INFO</span>    | Task run 'first_etl-0' - &lt;class 'pandas.core.frame.DataFrame'&gt;\n",
       "</pre>\n"
      ],
      "text/plain": [
       "09:13:36.126 | \u001b[36mINFO\u001b[0m    | Task run 'first_etl-0' - <class 'pandas.core.frame.DataFrame'>\n"
      ]
     },
     "metadata": {},
     "output_type": "display_data"
    },
    {
     "data": {
      "text/html": [
       "<pre style=\"white-space:pre;overflow-x:auto;line-height:normal;font-family:Menlo,'DejaVu Sans Mono',consolas,'Courier New',monospace\">09:13:36.130 | <span style=\"color: #008080; text-decoration-color: #008080\">INFO</span>    | Task run 'first_etl-0' - &lt;class 'pandas.core.frame.DataFrame'&gt;\n",
       "</pre>\n"
      ],
      "text/plain": [
       "09:13:36.130 | \u001b[36mINFO\u001b[0m    | Task run 'first_etl-0' - <class 'pandas.core.frame.DataFrame'>\n"
      ]
     },
     "metadata": {},
     "output_type": "display_data"
    },
    {
     "data": {
      "text/html": [
       "<pre style=\"white-space:pre;overflow-x:auto;line-height:normal;font-family:Menlo,'DejaVu Sans Mono',consolas,'Courier New',monospace\">09:13:36.133 | <span style=\"color: #008080; text-decoration-color: #008080\">INFO</span>    | Task run 'first_etl-0' - &lt;class 'pandas.core.frame.DataFrame'&gt;\n",
       "</pre>\n"
      ],
      "text/plain": [
       "09:13:36.133 | \u001b[36mINFO\u001b[0m    | Task run 'first_etl-0' - <class 'pandas.core.frame.DataFrame'>\n"
      ]
     },
     "metadata": {},
     "output_type": "display_data"
    },
    {
     "data": {
      "text/html": [
       "<pre style=\"white-space:pre;overflow-x:auto;line-height:normal;font-family:Menlo,'DejaVu Sans Mono',consolas,'Courier New',monospace\">09:13:36.136 | <span style=\"color: #008080; text-decoration-color: #008080\">INFO</span>    | Task run 'first_etl-0' - &lt;class 'pandas.core.frame.DataFrame'&gt;\n",
       "</pre>\n"
      ],
      "text/plain": [
       "09:13:36.136 | \u001b[36mINFO\u001b[0m    | Task run 'first_etl-0' - <class 'pandas.core.frame.DataFrame'>\n"
      ]
     },
     "metadata": {},
     "output_type": "display_data"
    },
    {
     "data": {
      "text/html": [
       "<pre style=\"white-space:pre;overflow-x:auto;line-height:normal;font-family:Menlo,'DejaVu Sans Mono',consolas,'Courier New',monospace\">09:13:36.140 | <span style=\"color: #008080; text-decoration-color: #008080\">INFO</span>    | Task run 'first_etl-0' - &lt;class 'pandas.core.frame.DataFrame'&gt;\n",
       "</pre>\n"
      ],
      "text/plain": [
       "09:13:36.140 | \u001b[36mINFO\u001b[0m    | Task run 'first_etl-0' - <class 'pandas.core.frame.DataFrame'>\n"
      ]
     },
     "metadata": {},
     "output_type": "display_data"
    },
    {
     "data": {
      "text/html": [
       "<pre style=\"white-space:pre;overflow-x:auto;line-height:normal;font-family:Menlo,'DejaVu Sans Mono',consolas,'Courier New',monospace\">09:13:36.143 | <span style=\"color: #008080; text-decoration-color: #008080\">INFO</span>    | Task run 'first_etl-0' - &lt;class 'pandas.core.frame.DataFrame'&gt;\n",
       "</pre>\n"
      ],
      "text/plain": [
       "09:13:36.143 | \u001b[36mINFO\u001b[0m    | Task run 'first_etl-0' - <class 'pandas.core.frame.DataFrame'>\n"
      ]
     },
     "metadata": {},
     "output_type": "display_data"
    },
    {
     "data": {
      "text/html": [
       "<pre style=\"white-space:pre;overflow-x:auto;line-height:normal;font-family:Menlo,'DejaVu Sans Mono',consolas,'Courier New',monospace\">09:13:36.147 | <span style=\"color: #008080; text-decoration-color: #008080\">INFO</span>    | Task run 'first_etl-0' - &lt;class 'pandas.core.frame.DataFrame'&gt;\n",
       "</pre>\n"
      ],
      "text/plain": [
       "09:13:36.147 | \u001b[36mINFO\u001b[0m    | Task run 'first_etl-0' - <class 'pandas.core.frame.DataFrame'>\n"
      ]
     },
     "metadata": {},
     "output_type": "display_data"
    },
    {
     "data": {
      "text/html": [
       "<pre style=\"white-space:pre;overflow-x:auto;line-height:normal;font-family:Menlo,'DejaVu Sans Mono',consolas,'Courier New',monospace\">09:13:36.150 | <span style=\"color: #008080; text-decoration-color: #008080\">INFO</span>    | Task run 'first_etl-0' - &lt;class 'pandas.core.frame.DataFrame'&gt;\n",
       "</pre>\n"
      ],
      "text/plain": [
       "09:13:36.150 | \u001b[36mINFO\u001b[0m    | Task run 'first_etl-0' - <class 'pandas.core.frame.DataFrame'>\n"
      ]
     },
     "metadata": {},
     "output_type": "display_data"
    },
    {
     "data": {
      "text/html": [
       "<pre style=\"white-space:pre;overflow-x:auto;line-height:normal;font-family:Menlo,'DejaVu Sans Mono',consolas,'Courier New',monospace\">09:13:36.152 | <span style=\"color: #008080; text-decoration-color: #008080\">INFO</span>    | Task run 'first_etl-0' - &lt;class 'pandas.core.frame.DataFrame'&gt;\n",
       "</pre>\n"
      ],
      "text/plain": [
       "09:13:36.152 | \u001b[36mINFO\u001b[0m    | Task run 'first_etl-0' - <class 'pandas.core.frame.DataFrame'>\n"
      ]
     },
     "metadata": {},
     "output_type": "display_data"
    },
    {
     "data": {
      "text/html": [
       "<pre style=\"white-space:pre;overflow-x:auto;line-height:normal;font-family:Menlo,'DejaVu Sans Mono',consolas,'Courier New',monospace\">09:13:36.156 | <span style=\"color: #008080; text-decoration-color: #008080\">INFO</span>    | Task run 'first_etl-0' - &lt;class 'pandas.core.frame.DataFrame'&gt;\n",
       "</pre>\n"
      ],
      "text/plain": [
       "09:13:36.156 | \u001b[36mINFO\u001b[0m    | Task run 'first_etl-0' - <class 'pandas.core.frame.DataFrame'>\n"
      ]
     },
     "metadata": {},
     "output_type": "display_data"
    },
    {
     "data": {
      "text/html": [
       "<pre style=\"white-space:pre;overflow-x:auto;line-height:normal;font-family:Menlo,'DejaVu Sans Mono',consolas,'Courier New',monospace\">09:13:36.160 | <span style=\"color: #008080; text-decoration-color: #008080\">INFO</span>    | Task run 'first_etl-0' - &lt;class 'pandas.core.frame.DataFrame'&gt;\n",
       "</pre>\n"
      ],
      "text/plain": [
       "09:13:36.160 | \u001b[36mINFO\u001b[0m    | Task run 'first_etl-0' - <class 'pandas.core.frame.DataFrame'>\n"
      ]
     },
     "metadata": {},
     "output_type": "display_data"
    },
    {
     "data": {
      "text/html": [
       "<pre style=\"white-space:pre;overflow-x:auto;line-height:normal;font-family:Menlo,'DejaVu Sans Mono',consolas,'Courier New',monospace\">09:13:36.164 | <span style=\"color: #008080; text-decoration-color: #008080\">INFO</span>    | Task run 'first_etl-0' - &lt;class 'pandas.core.frame.DataFrame'&gt;\n",
       "</pre>\n"
      ],
      "text/plain": [
       "09:13:36.164 | \u001b[36mINFO\u001b[0m    | Task run 'first_etl-0' - <class 'pandas.core.frame.DataFrame'>\n"
      ]
     },
     "metadata": {},
     "output_type": "display_data"
    },
    {
     "data": {
      "text/html": [
       "<pre style=\"white-space:pre;overflow-x:auto;line-height:normal;font-family:Menlo,'DejaVu Sans Mono',consolas,'Courier New',monospace\">09:13:36.166 | <span style=\"color: #008080; text-decoration-color: #008080\">INFO</span>    | Task run 'first_etl-0' - &lt;class 'pandas.core.frame.DataFrame'&gt;\n",
       "</pre>\n"
      ],
      "text/plain": [
       "09:13:36.166 | \u001b[36mINFO\u001b[0m    | Task run 'first_etl-0' - <class 'pandas.core.frame.DataFrame'>\n"
      ]
     },
     "metadata": {},
     "output_type": "display_data"
    },
    {
     "data": {
      "text/html": [
       "<pre style=\"white-space:pre;overflow-x:auto;line-height:normal;font-family:Menlo,'DejaVu Sans Mono',consolas,'Courier New',monospace\">09:13:36.169 | <span style=\"color: #008080; text-decoration-color: #008080\">INFO</span>    | Task run 'first_etl-0' - &lt;class 'pandas.core.frame.DataFrame'&gt;\n",
       "</pre>\n"
      ],
      "text/plain": [
       "09:13:36.169 | \u001b[36mINFO\u001b[0m    | Task run 'first_etl-0' - <class 'pandas.core.frame.DataFrame'>\n"
      ]
     },
     "metadata": {},
     "output_type": "display_data"
    },
    {
     "data": {
      "text/html": [
       "<pre style=\"white-space:pre;overflow-x:auto;line-height:normal;font-family:Menlo,'DejaVu Sans Mono',consolas,'Courier New',monospace\">09:13:36.172 | <span style=\"color: #008080; text-decoration-color: #008080\">INFO</span>    | Task run 'first_etl-0' - &lt;class 'pandas.core.frame.DataFrame'&gt;\n",
       "</pre>\n"
      ],
      "text/plain": [
       "09:13:36.172 | \u001b[36mINFO\u001b[0m    | Task run 'first_etl-0' - <class 'pandas.core.frame.DataFrame'>\n"
      ]
     },
     "metadata": {},
     "output_type": "display_data"
    },
    {
     "data": {
      "text/html": [
       "<pre style=\"white-space:pre;overflow-x:auto;line-height:normal;font-family:Menlo,'DejaVu Sans Mono',consolas,'Courier New',monospace\">09:13:36.174 | <span style=\"color: #008080; text-decoration-color: #008080\">INFO</span>    | Task run 'first_etl-0' - &lt;class 'pandas.core.frame.DataFrame'&gt;\n",
       "</pre>\n"
      ],
      "text/plain": [
       "09:13:36.174 | \u001b[36mINFO\u001b[0m    | Task run 'first_etl-0' - <class 'pandas.core.frame.DataFrame'>\n"
      ]
     },
     "metadata": {},
     "output_type": "display_data"
    },
    {
     "data": {
      "text/html": [
       "<pre style=\"white-space:pre;overflow-x:auto;line-height:normal;font-family:Menlo,'DejaVu Sans Mono',consolas,'Courier New',monospace\">09:13:36.177 | <span style=\"color: #008080; text-decoration-color: #008080\">INFO</span>    | Task run 'first_etl-0' - &lt;class 'pandas.core.frame.DataFrame'&gt;\n",
       "</pre>\n"
      ],
      "text/plain": [
       "09:13:36.177 | \u001b[36mINFO\u001b[0m    | Task run 'first_etl-0' - <class 'pandas.core.frame.DataFrame'>\n"
      ]
     },
     "metadata": {},
     "output_type": "display_data"
    },
    {
     "data": {
      "text/html": [
       "<pre style=\"white-space:pre;overflow-x:auto;line-height:normal;font-family:Menlo,'DejaVu Sans Mono',consolas,'Courier New',monospace\">09:13:36.180 | <span style=\"color: #008080; text-decoration-color: #008080\">INFO</span>    | Task run 'first_etl-0' - &lt;class 'pandas.core.frame.DataFrame'&gt;\n",
       "</pre>\n"
      ],
      "text/plain": [
       "09:13:36.180 | \u001b[36mINFO\u001b[0m    | Task run 'first_etl-0' - <class 'pandas.core.frame.DataFrame'>\n"
      ]
     },
     "metadata": {},
     "output_type": "display_data"
    },
    {
     "data": {
      "text/html": [
       "<pre style=\"white-space:pre;overflow-x:auto;line-height:normal;font-family:Menlo,'DejaVu Sans Mono',consolas,'Courier New',monospace\">09:13:36.183 | <span style=\"color: #008080; text-decoration-color: #008080\">INFO</span>    | Task run 'first_etl-0' - &lt;class 'pandas.core.frame.DataFrame'&gt;\n",
       "</pre>\n"
      ],
      "text/plain": [
       "09:13:36.183 | \u001b[36mINFO\u001b[0m    | Task run 'first_etl-0' - <class 'pandas.core.frame.DataFrame'>\n"
      ]
     },
     "metadata": {},
     "output_type": "display_data"
    },
    {
     "data": {
      "text/html": [
       "<pre style=\"white-space:pre;overflow-x:auto;line-height:normal;font-family:Menlo,'DejaVu Sans Mono',consolas,'Courier New',monospace\">09:13:36.186 | <span style=\"color: #008080; text-decoration-color: #008080\">INFO</span>    | Task run 'first_etl-0' - &lt;class 'pandas.core.frame.DataFrame'&gt;\n",
       "</pre>\n"
      ],
      "text/plain": [
       "09:13:36.186 | \u001b[36mINFO\u001b[0m    | Task run 'first_etl-0' - <class 'pandas.core.frame.DataFrame'>\n"
      ]
     },
     "metadata": {},
     "output_type": "display_data"
    },
    {
     "data": {
      "text/html": [
       "<pre style=\"white-space:pre;overflow-x:auto;line-height:normal;font-family:Menlo,'DejaVu Sans Mono',consolas,'Courier New',monospace\">09:13:36.189 | <span style=\"color: #008080; text-decoration-color: #008080\">INFO</span>    | Task run 'first_etl-0' - &lt;class 'pandas.core.frame.DataFrame'&gt;\n",
       "</pre>\n"
      ],
      "text/plain": [
       "09:13:36.189 | \u001b[36mINFO\u001b[0m    | Task run 'first_etl-0' - <class 'pandas.core.frame.DataFrame'>\n"
      ]
     },
     "metadata": {},
     "output_type": "display_data"
    },
    {
     "data": {
      "text/html": [
       "<pre style=\"white-space:pre;overflow-x:auto;line-height:normal;font-family:Menlo,'DejaVu Sans Mono',consolas,'Courier New',monospace\">09:13:36.191 | <span style=\"color: #008080; text-decoration-color: #008080\">INFO</span>    | Task run 'first_etl-0' - &lt;class 'pandas.core.frame.DataFrame'&gt;\n",
       "</pre>\n"
      ],
      "text/plain": [
       "09:13:36.191 | \u001b[36mINFO\u001b[0m    | Task run 'first_etl-0' - <class 'pandas.core.frame.DataFrame'>\n"
      ]
     },
     "metadata": {},
     "output_type": "display_data"
    },
    {
     "data": {
      "text/html": [
       "<pre style=\"white-space:pre;overflow-x:auto;line-height:normal;font-family:Menlo,'DejaVu Sans Mono',consolas,'Courier New',monospace\">09:13:36.194 | <span style=\"color: #008080; text-decoration-color: #008080\">INFO</span>    | Task run 'first_etl-0' - &lt;class 'pandas.core.frame.DataFrame'&gt;\n",
       "</pre>\n"
      ],
      "text/plain": [
       "09:13:36.194 | \u001b[36mINFO\u001b[0m    | Task run 'first_etl-0' - <class 'pandas.core.frame.DataFrame'>\n"
      ]
     },
     "metadata": {},
     "output_type": "display_data"
    },
    {
     "data": {
      "text/html": [
       "<pre style=\"white-space:pre;overflow-x:auto;line-height:normal;font-family:Menlo,'DejaVu Sans Mono',consolas,'Courier New',monospace\">09:13:36.196 | <span style=\"color: #008080; text-decoration-color: #008080\">INFO</span>    | Task run 'first_etl-0' - &lt;class 'pandas.core.frame.DataFrame'&gt;\n",
       "</pre>\n"
      ],
      "text/plain": [
       "09:13:36.196 | \u001b[36mINFO\u001b[0m    | Task run 'first_etl-0' - <class 'pandas.core.frame.DataFrame'>\n"
      ]
     },
     "metadata": {},
     "output_type": "display_data"
    },
    {
     "data": {
      "text/html": [
       "<pre style=\"white-space:pre;overflow-x:auto;line-height:normal;font-family:Menlo,'DejaVu Sans Mono',consolas,'Courier New',monospace\">09:13:36.198 | <span style=\"color: #008080; text-decoration-color: #008080\">INFO</span>    | Task run 'first_etl-0' - &lt;class 'pandas.core.frame.DataFrame'&gt;\n",
       "</pre>\n"
      ],
      "text/plain": [
       "09:13:36.198 | \u001b[36mINFO\u001b[0m    | Task run 'first_etl-0' - <class 'pandas.core.frame.DataFrame'>\n"
      ]
     },
     "metadata": {},
     "output_type": "display_data"
    },
    {
     "data": {
      "text/html": [
       "<pre style=\"white-space:pre;overflow-x:auto;line-height:normal;font-family:Menlo,'DejaVu Sans Mono',consolas,'Courier New',monospace\">09:13:36.200 | <span style=\"color: #008080; text-decoration-color: #008080\">INFO</span>    | Task run 'first_etl-0' - &lt;class 'pandas.core.frame.DataFrame'&gt;\n",
       "</pre>\n"
      ],
      "text/plain": [
       "09:13:36.200 | \u001b[36mINFO\u001b[0m    | Task run 'first_etl-0' - <class 'pandas.core.frame.DataFrame'>\n"
      ]
     },
     "metadata": {},
     "output_type": "display_data"
    },
    {
     "data": {
      "text/html": [
       "<pre style=\"white-space:pre;overflow-x:auto;line-height:normal;font-family:Menlo,'DejaVu Sans Mono',consolas,'Courier New',monospace\">09:13:36.203 | <span style=\"color: #008080; text-decoration-color: #008080\">INFO</span>    | Task run 'first_etl-0' - &lt;class 'pandas.core.frame.DataFrame'&gt;\n",
       "</pre>\n"
      ],
      "text/plain": [
       "09:13:36.203 | \u001b[36mINFO\u001b[0m    | Task run 'first_etl-0' - <class 'pandas.core.frame.DataFrame'>\n"
      ]
     },
     "metadata": {},
     "output_type": "display_data"
    },
    {
     "data": {
      "text/html": [
       "<pre style=\"white-space:pre;overflow-x:auto;line-height:normal;font-family:Menlo,'DejaVu Sans Mono',consolas,'Courier New',monospace\">09:13:36.206 | <span style=\"color: #008080; text-decoration-color: #008080\">INFO</span>    | Task run 'first_etl-0' - &lt;class 'pandas.core.frame.DataFrame'&gt;\n",
       "</pre>\n"
      ],
      "text/plain": [
       "09:13:36.206 | \u001b[36mINFO\u001b[0m    | Task run 'first_etl-0' - <class 'pandas.core.frame.DataFrame'>\n"
      ]
     },
     "metadata": {},
     "output_type": "display_data"
    },
    {
     "data": {
      "text/html": [
       "<pre style=\"white-space:pre;overflow-x:auto;line-height:normal;font-family:Menlo,'DejaVu Sans Mono',consolas,'Courier New',monospace\">09:13:36.209 | <span style=\"color: #008080; text-decoration-color: #008080\">INFO</span>    | Task run 'first_etl-0' - &lt;class 'pandas.core.frame.DataFrame'&gt;\n",
       "</pre>\n"
      ],
      "text/plain": [
       "09:13:36.209 | \u001b[36mINFO\u001b[0m    | Task run 'first_etl-0' - <class 'pandas.core.frame.DataFrame'>\n"
      ]
     },
     "metadata": {},
     "output_type": "display_data"
    },
    {
     "data": {
      "text/html": [
       "<pre style=\"white-space:pre;overflow-x:auto;line-height:normal;font-family:Menlo,'DejaVu Sans Mono',consolas,'Courier New',monospace\">09:13:36.212 | <span style=\"color: #008080; text-decoration-color: #008080\">INFO</span>    | Task run 'first_etl-0' - &lt;class 'pandas.core.frame.DataFrame'&gt;\n",
       "</pre>\n"
      ],
      "text/plain": [
       "09:13:36.212 | \u001b[36mINFO\u001b[0m    | Task run 'first_etl-0' - <class 'pandas.core.frame.DataFrame'>\n"
      ]
     },
     "metadata": {},
     "output_type": "display_data"
    },
    {
     "data": {
      "text/html": [
       "<pre style=\"white-space:pre;overflow-x:auto;line-height:normal;font-family:Menlo,'DejaVu Sans Mono',consolas,'Courier New',monospace\">09:13:36.215 | <span style=\"color: #008080; text-decoration-color: #008080\">INFO</span>    | Task run 'first_etl-0' - &lt;class 'pandas.core.frame.DataFrame'&gt;\n",
       "</pre>\n"
      ],
      "text/plain": [
       "09:13:36.215 | \u001b[36mINFO\u001b[0m    | Task run 'first_etl-0' - <class 'pandas.core.frame.DataFrame'>\n"
      ]
     },
     "metadata": {},
     "output_type": "display_data"
    },
    {
     "data": {
      "text/html": [
       "<pre style=\"white-space:pre;overflow-x:auto;line-height:normal;font-family:Menlo,'DejaVu Sans Mono',consolas,'Courier New',monospace\">09:13:36.219 | <span style=\"color: #008080; text-decoration-color: #008080\">INFO</span>    | Task run 'first_etl-0' - &lt;class 'pandas.core.frame.DataFrame'&gt;\n",
       "</pre>\n"
      ],
      "text/plain": [
       "09:13:36.219 | \u001b[36mINFO\u001b[0m    | Task run 'first_etl-0' - <class 'pandas.core.frame.DataFrame'>\n"
      ]
     },
     "metadata": {},
     "output_type": "display_data"
    },
    {
     "data": {
      "text/html": [
       "<pre style=\"white-space:pre;overflow-x:auto;line-height:normal;font-family:Menlo,'DejaVu Sans Mono',consolas,'Courier New',monospace\">09:13:36.223 | <span style=\"color: #008080; text-decoration-color: #008080\">INFO</span>    | Task run 'first_etl-0' - &lt;class 'pandas.core.frame.DataFrame'&gt;\n",
       "</pre>\n"
      ],
      "text/plain": [
       "09:13:36.223 | \u001b[36mINFO\u001b[0m    | Task run 'first_etl-0' - <class 'pandas.core.frame.DataFrame'>\n"
      ]
     },
     "metadata": {},
     "output_type": "display_data"
    },
    {
     "data": {
      "text/html": [
       "<pre style=\"white-space:pre;overflow-x:auto;line-height:normal;font-family:Menlo,'DejaVu Sans Mono',consolas,'Courier New',monospace\">09:13:36.227 | <span style=\"color: #008080; text-decoration-color: #008080\">INFO</span>    | Task run 'first_etl-0' - &lt;class 'pandas.core.frame.DataFrame'&gt;\n",
       "</pre>\n"
      ],
      "text/plain": [
       "09:13:36.227 | \u001b[36mINFO\u001b[0m    | Task run 'first_etl-0' - <class 'pandas.core.frame.DataFrame'>\n"
      ]
     },
     "metadata": {},
     "output_type": "display_data"
    },
    {
     "data": {
      "text/html": [
       "<pre style=\"white-space:pre;overflow-x:auto;line-height:normal;font-family:Menlo,'DejaVu Sans Mono',consolas,'Courier New',monospace\">09:13:36.231 | <span style=\"color: #008080; text-decoration-color: #008080\">INFO</span>    | Task run 'first_etl-0' - &lt;class 'pandas.core.frame.DataFrame'&gt;\n",
       "</pre>\n"
      ],
      "text/plain": [
       "09:13:36.231 | \u001b[36mINFO\u001b[0m    | Task run 'first_etl-0' - <class 'pandas.core.frame.DataFrame'>\n"
      ]
     },
     "metadata": {},
     "output_type": "display_data"
    },
    {
     "data": {
      "text/html": [
       "<pre style=\"white-space:pre;overflow-x:auto;line-height:normal;font-family:Menlo,'DejaVu Sans Mono',consolas,'Courier New',monospace\">09:13:36.235 | <span style=\"color: #008080; text-decoration-color: #008080\">INFO</span>    | Task run 'first_etl-0' - &lt;class 'pandas.core.frame.DataFrame'&gt;\n",
       "</pre>\n"
      ],
      "text/plain": [
       "09:13:36.235 | \u001b[36mINFO\u001b[0m    | Task run 'first_etl-0' - <class 'pandas.core.frame.DataFrame'>\n"
      ]
     },
     "metadata": {},
     "output_type": "display_data"
    },
    {
     "data": {
      "text/html": [
       "<pre style=\"white-space:pre;overflow-x:auto;line-height:normal;font-family:Menlo,'DejaVu Sans Mono',consolas,'Courier New',monospace\">09:13:36.238 | <span style=\"color: #008080; text-decoration-color: #008080\">INFO</span>    | Task run 'first_etl-0' - &lt;class 'pandas.core.frame.DataFrame'&gt;\n",
       "</pre>\n"
      ],
      "text/plain": [
       "09:13:36.238 | \u001b[36mINFO\u001b[0m    | Task run 'first_etl-0' - <class 'pandas.core.frame.DataFrame'>\n"
      ]
     },
     "metadata": {},
     "output_type": "display_data"
    },
    {
     "data": {
      "text/html": [
       "<pre style=\"white-space:pre;overflow-x:auto;line-height:normal;font-family:Menlo,'DejaVu Sans Mono',consolas,'Courier New',monospace\">09:13:36.241 | <span style=\"color: #008080; text-decoration-color: #008080\">INFO</span>    | Task run 'first_etl-0' - &lt;class 'pandas.core.frame.DataFrame'&gt;\n",
       "</pre>\n"
      ],
      "text/plain": [
       "09:13:36.241 | \u001b[36mINFO\u001b[0m    | Task run 'first_etl-0' - <class 'pandas.core.frame.DataFrame'>\n"
      ]
     },
     "metadata": {},
     "output_type": "display_data"
    },
    {
     "data": {
      "text/html": [
       "<pre style=\"white-space:pre;overflow-x:auto;line-height:normal;font-family:Menlo,'DejaVu Sans Mono',consolas,'Courier New',monospace\">09:13:36.243 | <span style=\"color: #008080; text-decoration-color: #008080\">INFO</span>    | Task run 'first_etl-0' - &lt;class 'pandas.core.frame.DataFrame'&gt;\n",
       "</pre>\n"
      ],
      "text/plain": [
       "09:13:36.243 | \u001b[36mINFO\u001b[0m    | Task run 'first_etl-0' - <class 'pandas.core.frame.DataFrame'>\n"
      ]
     },
     "metadata": {},
     "output_type": "display_data"
    },
    {
     "data": {
      "text/html": [
       "<pre style=\"white-space:pre;overflow-x:auto;line-height:normal;font-family:Menlo,'DejaVu Sans Mono',consolas,'Courier New',monospace\">09:13:36.245 | <span style=\"color: #008080; text-decoration-color: #008080\">INFO</span>    | Task run 'first_etl-0' - &lt;class 'pandas.core.frame.DataFrame'&gt;\n",
       "</pre>\n"
      ],
      "text/plain": [
       "09:13:36.245 | \u001b[36mINFO\u001b[0m    | Task run 'first_etl-0' - <class 'pandas.core.frame.DataFrame'>\n"
      ]
     },
     "metadata": {},
     "output_type": "display_data"
    },
    {
     "data": {
      "text/html": [
       "<pre style=\"white-space:pre;overflow-x:auto;line-height:normal;font-family:Menlo,'DejaVu Sans Mono',consolas,'Courier New',monospace\">09:13:36.248 | <span style=\"color: #008080; text-decoration-color: #008080\">INFO</span>    | Task run 'first_etl-0' - &lt;class 'pandas.core.frame.DataFrame'&gt;\n",
       "</pre>\n"
      ],
      "text/plain": [
       "09:13:36.248 | \u001b[36mINFO\u001b[0m    | Task run 'first_etl-0' - <class 'pandas.core.frame.DataFrame'>\n"
      ]
     },
     "metadata": {},
     "output_type": "display_data"
    },
    {
     "data": {
      "text/html": [
       "<pre style=\"white-space:pre;overflow-x:auto;line-height:normal;font-family:Menlo,'DejaVu Sans Mono',consolas,'Courier New',monospace\">09:13:36.250 | <span style=\"color: #008080; text-decoration-color: #008080\">INFO</span>    | Task run 'first_etl-0' - &lt;class 'pandas.core.frame.DataFrame'&gt;\n",
       "</pre>\n"
      ],
      "text/plain": [
       "09:13:36.250 | \u001b[36mINFO\u001b[0m    | Task run 'first_etl-0' - <class 'pandas.core.frame.DataFrame'>\n"
      ]
     },
     "metadata": {},
     "output_type": "display_data"
    },
    {
     "data": {
      "text/html": [
       "<pre style=\"white-space:pre;overflow-x:auto;line-height:normal;font-family:Menlo,'DejaVu Sans Mono',consolas,'Courier New',monospace\">09:13:36.253 | <span style=\"color: #008080; text-decoration-color: #008080\">INFO</span>    | Task run 'first_etl-0' - &lt;class 'pandas.core.frame.DataFrame'&gt;\n",
       "</pre>\n"
      ],
      "text/plain": [
       "09:13:36.253 | \u001b[36mINFO\u001b[0m    | Task run 'first_etl-0' - <class 'pandas.core.frame.DataFrame'>\n"
      ]
     },
     "metadata": {},
     "output_type": "display_data"
    },
    {
     "data": {
      "text/html": [
       "<pre style=\"white-space:pre;overflow-x:auto;line-height:normal;font-family:Menlo,'DejaVu Sans Mono',consolas,'Courier New',monospace\">09:13:36.256 | <span style=\"color: #008080; text-decoration-color: #008080\">INFO</span>    | Task run 'first_etl-0' - &lt;class 'pandas.core.frame.DataFrame'&gt;\n",
       "</pre>\n"
      ],
      "text/plain": [
       "09:13:36.256 | \u001b[36mINFO\u001b[0m    | Task run 'first_etl-0' - <class 'pandas.core.frame.DataFrame'>\n"
      ]
     },
     "metadata": {},
     "output_type": "display_data"
    },
    {
     "data": {
      "text/html": [
       "<pre style=\"white-space:pre;overflow-x:auto;line-height:normal;font-family:Menlo,'DejaVu Sans Mono',consolas,'Courier New',monospace\">09:13:36.258 | <span style=\"color: #008080; text-decoration-color: #008080\">INFO</span>    | Task run 'first_etl-0' - &lt;class 'pandas.core.frame.DataFrame'&gt;\n",
       "</pre>\n"
      ],
      "text/plain": [
       "09:13:36.258 | \u001b[36mINFO\u001b[0m    | Task run 'first_etl-0' - <class 'pandas.core.frame.DataFrame'>\n"
      ]
     },
     "metadata": {},
     "output_type": "display_data"
    },
    {
     "data": {
      "text/html": [
       "<pre style=\"white-space:pre;overflow-x:auto;line-height:normal;font-family:Menlo,'DejaVu Sans Mono',consolas,'Courier New',monospace\">09:13:36.262 | <span style=\"color: #008080; text-decoration-color: #008080\">INFO</span>    | Task run 'first_etl-0' - &lt;class 'pandas.core.frame.DataFrame'&gt;\n",
       "</pre>\n"
      ],
      "text/plain": [
       "09:13:36.262 | \u001b[36mINFO\u001b[0m    | Task run 'first_etl-0' - <class 'pandas.core.frame.DataFrame'>\n"
      ]
     },
     "metadata": {},
     "output_type": "display_data"
    },
    {
     "data": {
      "text/html": [
       "<pre style=\"white-space:pre;overflow-x:auto;line-height:normal;font-family:Menlo,'DejaVu Sans Mono',consolas,'Courier New',monospace\">09:13:36.266 | <span style=\"color: #008080; text-decoration-color: #008080\">INFO</span>    | Task run 'first_etl-0' - &lt;class 'pandas.core.frame.DataFrame'&gt;\n",
       "</pre>\n"
      ],
      "text/plain": [
       "09:13:36.266 | \u001b[36mINFO\u001b[0m    | Task run 'first_etl-0' - <class 'pandas.core.frame.DataFrame'>\n"
      ]
     },
     "metadata": {},
     "output_type": "display_data"
    },
    {
     "data": {
      "text/html": [
       "<pre style=\"white-space:pre;overflow-x:auto;line-height:normal;font-family:Menlo,'DejaVu Sans Mono',consolas,'Courier New',monospace\">09:13:36.271 | <span style=\"color: #008080; text-decoration-color: #008080\">INFO</span>    | Task run 'first_etl-0' - &lt;class 'pandas.core.frame.DataFrame'&gt;\n",
       "</pre>\n"
      ],
      "text/plain": [
       "09:13:36.271 | \u001b[36mINFO\u001b[0m    | Task run 'first_etl-0' - <class 'pandas.core.frame.DataFrame'>\n"
      ]
     },
     "metadata": {},
     "output_type": "display_data"
    },
    {
     "data": {
      "text/html": [
       "<pre style=\"white-space:pre;overflow-x:auto;line-height:normal;font-family:Menlo,'DejaVu Sans Mono',consolas,'Courier New',monospace\">09:13:36.276 | <span style=\"color: #008080; text-decoration-color: #008080\">INFO</span>    | Task run 'first_etl-0' - &lt;class 'pandas.core.frame.DataFrame'&gt;\n",
       "</pre>\n"
      ],
      "text/plain": [
       "09:13:36.276 | \u001b[36mINFO\u001b[0m    | Task run 'first_etl-0' - <class 'pandas.core.frame.DataFrame'>\n"
      ]
     },
     "metadata": {},
     "output_type": "display_data"
    },
    {
     "data": {
      "text/html": [
       "<pre style=\"white-space:pre;overflow-x:auto;line-height:normal;font-family:Menlo,'DejaVu Sans Mono',consolas,'Courier New',monospace\">09:13:36.279 | <span style=\"color: #008080; text-decoration-color: #008080\">INFO</span>    | Task run 'first_etl-0' - &lt;class 'pandas.core.frame.DataFrame'&gt;\n",
       "</pre>\n"
      ],
      "text/plain": [
       "09:13:36.279 | \u001b[36mINFO\u001b[0m    | Task run 'first_etl-0' - <class 'pandas.core.frame.DataFrame'>\n"
      ]
     },
     "metadata": {},
     "output_type": "display_data"
    },
    {
     "data": {
      "text/html": [
       "<pre style=\"white-space:pre;overflow-x:auto;line-height:normal;font-family:Menlo,'DejaVu Sans Mono',consolas,'Courier New',monospace\">09:13:36.283 | <span style=\"color: #008080; text-decoration-color: #008080\">INFO</span>    | Task run 'first_etl-0' - &lt;class 'pandas.core.frame.DataFrame'&gt;\n",
       "</pre>\n"
      ],
      "text/plain": [
       "09:13:36.283 | \u001b[36mINFO\u001b[0m    | Task run 'first_etl-0' - <class 'pandas.core.frame.DataFrame'>\n"
      ]
     },
     "metadata": {},
     "output_type": "display_data"
    },
    {
     "data": {
      "text/html": [
       "<pre style=\"white-space:pre;overflow-x:auto;line-height:normal;font-family:Menlo,'DejaVu Sans Mono',consolas,'Courier New',monospace\">09:13:36.286 | <span style=\"color: #008080; text-decoration-color: #008080\">INFO</span>    | Task run 'first_etl-0' - &lt;class 'pandas.core.frame.DataFrame'&gt;\n",
       "</pre>\n"
      ],
      "text/plain": [
       "09:13:36.286 | \u001b[36mINFO\u001b[0m    | Task run 'first_etl-0' - <class 'pandas.core.frame.DataFrame'>\n"
      ]
     },
     "metadata": {},
     "output_type": "display_data"
    },
    {
     "data": {
      "text/html": [
       "<pre style=\"white-space:pre;overflow-x:auto;line-height:normal;font-family:Menlo,'DejaVu Sans Mono',consolas,'Courier New',monospace\">09:13:36.289 | <span style=\"color: #008080; text-decoration-color: #008080\">INFO</span>    | Task run 'first_etl-0' - &lt;class 'pandas.core.frame.DataFrame'&gt;\n",
       "</pre>\n"
      ],
      "text/plain": [
       "09:13:36.289 | \u001b[36mINFO\u001b[0m    | Task run 'first_etl-0' - <class 'pandas.core.frame.DataFrame'>\n"
      ]
     },
     "metadata": {},
     "output_type": "display_data"
    },
    {
     "data": {
      "text/html": [
       "<pre style=\"white-space:pre;overflow-x:auto;line-height:normal;font-family:Menlo,'DejaVu Sans Mono',consolas,'Courier New',monospace\">09:13:36.291 | <span style=\"color: #008080; text-decoration-color: #008080\">INFO</span>    | Task run 'first_etl-0' - &lt;class 'pandas.core.frame.DataFrame'&gt;\n",
       "</pre>\n"
      ],
      "text/plain": [
       "09:13:36.291 | \u001b[36mINFO\u001b[0m    | Task run 'first_etl-0' - <class 'pandas.core.frame.DataFrame'>\n"
      ]
     },
     "metadata": {},
     "output_type": "display_data"
    },
    {
     "data": {
      "text/html": [
       "<pre style=\"white-space:pre;overflow-x:auto;line-height:normal;font-family:Menlo,'DejaVu Sans Mono',consolas,'Courier New',monospace\">09:13:36.293 | <span style=\"color: #008080; text-decoration-color: #008080\">INFO</span>    | Task run 'first_etl-0' - &lt;class 'pandas.core.frame.DataFrame'&gt;\n",
       "</pre>\n"
      ],
      "text/plain": [
       "09:13:36.293 | \u001b[36mINFO\u001b[0m    | Task run 'first_etl-0' - <class 'pandas.core.frame.DataFrame'>\n"
      ]
     },
     "metadata": {},
     "output_type": "display_data"
    },
    {
     "data": {
      "text/html": [
       "<pre style=\"white-space:pre;overflow-x:auto;line-height:normal;font-family:Menlo,'DejaVu Sans Mono',consolas,'Courier New',monospace\">09:13:36.296 | <span style=\"color: #008080; text-decoration-color: #008080\">INFO</span>    | Task run 'first_etl-0' - &lt;class 'pandas.core.frame.DataFrame'&gt;\n",
       "</pre>\n"
      ],
      "text/plain": [
       "09:13:36.296 | \u001b[36mINFO\u001b[0m    | Task run 'first_etl-0' - <class 'pandas.core.frame.DataFrame'>\n"
      ]
     },
     "metadata": {},
     "output_type": "display_data"
    },
    {
     "data": {
      "text/html": [
       "<pre style=\"white-space:pre;overflow-x:auto;line-height:normal;font-family:Menlo,'DejaVu Sans Mono',consolas,'Courier New',monospace\">09:13:36.298 | <span style=\"color: #008080; text-decoration-color: #008080\">INFO</span>    | Task run 'first_etl-0' - &lt;class 'pandas.core.frame.DataFrame'&gt;\n",
       "</pre>\n"
      ],
      "text/plain": [
       "09:13:36.298 | \u001b[36mINFO\u001b[0m    | Task run 'first_etl-0' - <class 'pandas.core.frame.DataFrame'>\n"
      ]
     },
     "metadata": {},
     "output_type": "display_data"
    },
    {
     "data": {
      "text/html": [
       "<pre style=\"white-space:pre;overflow-x:auto;line-height:normal;font-family:Menlo,'DejaVu Sans Mono',consolas,'Courier New',monospace\">09:13:36.300 | <span style=\"color: #008080; text-decoration-color: #008080\">INFO</span>    | Task run 'first_etl-0' - &lt;class 'pandas.core.frame.DataFrame'&gt;\n",
       "</pre>\n"
      ],
      "text/plain": [
       "09:13:36.300 | \u001b[36mINFO\u001b[0m    | Task run 'first_etl-0' - <class 'pandas.core.frame.DataFrame'>\n"
      ]
     },
     "metadata": {},
     "output_type": "display_data"
    },
    {
     "data": {
      "text/html": [
       "<pre style=\"white-space:pre;overflow-x:auto;line-height:normal;font-family:Menlo,'DejaVu Sans Mono',consolas,'Courier New',monospace\">09:13:36.303 | <span style=\"color: #008080; text-decoration-color: #008080\">INFO</span>    | Task run 'first_etl-0' - &lt;class 'pandas.core.frame.DataFrame'&gt;\n",
       "</pre>\n"
      ],
      "text/plain": [
       "09:13:36.303 | \u001b[36mINFO\u001b[0m    | Task run 'first_etl-0' - <class 'pandas.core.frame.DataFrame'>\n"
      ]
     },
     "metadata": {},
     "output_type": "display_data"
    },
    {
     "data": {
      "text/html": [
       "<pre style=\"white-space:pre;overflow-x:auto;line-height:normal;font-family:Menlo,'DejaVu Sans Mono',consolas,'Courier New',monospace\">09:13:36.306 | <span style=\"color: #008080; text-decoration-color: #008080\">INFO</span>    | Task run 'first_etl-0' - &lt;class 'pandas.core.frame.DataFrame'&gt;\n",
       "</pre>\n"
      ],
      "text/plain": [
       "09:13:36.306 | \u001b[36mINFO\u001b[0m    | Task run 'first_etl-0' - <class 'pandas.core.frame.DataFrame'>\n"
      ]
     },
     "metadata": {},
     "output_type": "display_data"
    },
    {
     "data": {
      "text/html": [
       "<pre style=\"white-space:pre;overflow-x:auto;line-height:normal;font-family:Menlo,'DejaVu Sans Mono',consolas,'Courier New',monospace\">09:13:36.310 | <span style=\"color: #008080; text-decoration-color: #008080\">INFO</span>    | Task run 'first_etl-0' - &lt;class 'pandas.core.frame.DataFrame'&gt;\n",
       "</pre>\n"
      ],
      "text/plain": [
       "09:13:36.310 | \u001b[36mINFO\u001b[0m    | Task run 'first_etl-0' - <class 'pandas.core.frame.DataFrame'>\n"
      ]
     },
     "metadata": {},
     "output_type": "display_data"
    },
    {
     "data": {
      "text/html": [
       "<pre style=\"white-space:pre;overflow-x:auto;line-height:normal;font-family:Menlo,'DejaVu Sans Mono',consolas,'Courier New',monospace\">09:13:36.314 | <span style=\"color: #008080; text-decoration-color: #008080\">INFO</span>    | Task run 'first_etl-0' - &lt;class 'pandas.core.frame.DataFrame'&gt;\n",
       "</pre>\n"
      ],
      "text/plain": [
       "09:13:36.314 | \u001b[36mINFO\u001b[0m    | Task run 'first_etl-0' - <class 'pandas.core.frame.DataFrame'>\n"
      ]
     },
     "metadata": {},
     "output_type": "display_data"
    },
    {
     "data": {
      "text/html": [
       "<pre style=\"white-space:pre;overflow-x:auto;line-height:normal;font-family:Menlo,'DejaVu Sans Mono',consolas,'Courier New',monospace\">09:13:36.318 | <span style=\"color: #008080; text-decoration-color: #008080\">INFO</span>    | Task run 'first_etl-0' - &lt;class 'pandas.core.frame.DataFrame'&gt;\n",
       "</pre>\n"
      ],
      "text/plain": [
       "09:13:36.318 | \u001b[36mINFO\u001b[0m    | Task run 'first_etl-0' - <class 'pandas.core.frame.DataFrame'>\n"
      ]
     },
     "metadata": {},
     "output_type": "display_data"
    },
    {
     "data": {
      "text/html": [
       "<pre style=\"white-space:pre;overflow-x:auto;line-height:normal;font-family:Menlo,'DejaVu Sans Mono',consolas,'Courier New',monospace\">09:13:36.323 | <span style=\"color: #008080; text-decoration-color: #008080\">INFO</span>    | Task run 'first_etl-0' - &lt;class 'pandas.core.frame.DataFrame'&gt;\n",
       "</pre>\n"
      ],
      "text/plain": [
       "09:13:36.323 | \u001b[36mINFO\u001b[0m    | Task run 'first_etl-0' - <class 'pandas.core.frame.DataFrame'>\n"
      ]
     },
     "metadata": {},
     "output_type": "display_data"
    },
    {
     "data": {
      "text/html": [
       "<pre style=\"white-space:pre;overflow-x:auto;line-height:normal;font-family:Menlo,'DejaVu Sans Mono',consolas,'Courier New',monospace\">09:13:36.327 | <span style=\"color: #008080; text-decoration-color: #008080\">INFO</span>    | Task run 'first_etl-0' - &lt;class 'pandas.core.frame.DataFrame'&gt;\n",
       "</pre>\n"
      ],
      "text/plain": [
       "09:13:36.327 | \u001b[36mINFO\u001b[0m    | Task run 'first_etl-0' - <class 'pandas.core.frame.DataFrame'>\n"
      ]
     },
     "metadata": {},
     "output_type": "display_data"
    },
    {
     "data": {
      "text/html": [
       "<pre style=\"white-space:pre;overflow-x:auto;line-height:normal;font-family:Menlo,'DejaVu Sans Mono',consolas,'Courier New',monospace\">09:13:36.330 | <span style=\"color: #008080; text-decoration-color: #008080\">INFO</span>    | Task run 'first_etl-0' - &lt;class 'pandas.core.frame.DataFrame'&gt;\n",
       "</pre>\n"
      ],
      "text/plain": [
       "09:13:36.330 | \u001b[36mINFO\u001b[0m    | Task run 'first_etl-0' - <class 'pandas.core.frame.DataFrame'>\n"
      ]
     },
     "metadata": {},
     "output_type": "display_data"
    },
    {
     "data": {
      "text/html": [
       "<pre style=\"white-space:pre;overflow-x:auto;line-height:normal;font-family:Menlo,'DejaVu Sans Mono',consolas,'Courier New',monospace\">09:13:36.333 | <span style=\"color: #008080; text-decoration-color: #008080\">INFO</span>    | Task run 'first_etl-0' - &lt;class 'pandas.core.frame.DataFrame'&gt;\n",
       "</pre>\n"
      ],
      "text/plain": [
       "09:13:36.333 | \u001b[36mINFO\u001b[0m    | Task run 'first_etl-0' - <class 'pandas.core.frame.DataFrame'>\n"
      ]
     },
     "metadata": {},
     "output_type": "display_data"
    },
    {
     "data": {
      "text/html": [
       "<pre style=\"white-space:pre;overflow-x:auto;line-height:normal;font-family:Menlo,'DejaVu Sans Mono',consolas,'Courier New',monospace\">09:13:36.337 | <span style=\"color: #008080; text-decoration-color: #008080\">INFO</span>    | Task run 'first_etl-0' - &lt;class 'pandas.core.frame.DataFrame'&gt;\n",
       "</pre>\n"
      ],
      "text/plain": [
       "09:13:36.337 | \u001b[36mINFO\u001b[0m    | Task run 'first_etl-0' - <class 'pandas.core.frame.DataFrame'>\n"
      ]
     },
     "metadata": {},
     "output_type": "display_data"
    },
    {
     "data": {
      "text/html": [
       "<pre style=\"white-space:pre;overflow-x:auto;line-height:normal;font-family:Menlo,'DejaVu Sans Mono',consolas,'Courier New',monospace\">09:13:36.340 | <span style=\"color: #008080; text-decoration-color: #008080\">INFO</span>    | Task run 'first_etl-0' - &lt;class 'pandas.core.frame.DataFrame'&gt;\n",
       "</pre>\n"
      ],
      "text/plain": [
       "09:13:36.340 | \u001b[36mINFO\u001b[0m    | Task run 'first_etl-0' - <class 'pandas.core.frame.DataFrame'>\n"
      ]
     },
     "metadata": {},
     "output_type": "display_data"
    },
    {
     "data": {
      "text/html": [
       "<pre style=\"white-space:pre;overflow-x:auto;line-height:normal;font-family:Menlo,'DejaVu Sans Mono',consolas,'Courier New',monospace\">09:13:36.344 | <span style=\"color: #008080; text-decoration-color: #008080\">INFO</span>    | Task run 'first_etl-0' - &lt;class 'pandas.core.frame.DataFrame'&gt;\n",
       "</pre>\n"
      ],
      "text/plain": [
       "09:13:36.344 | \u001b[36mINFO\u001b[0m    | Task run 'first_etl-0' - <class 'pandas.core.frame.DataFrame'>\n"
      ]
     },
     "metadata": {},
     "output_type": "display_data"
    },
    {
     "data": {
      "text/html": [
       "<pre style=\"white-space:pre;overflow-x:auto;line-height:normal;font-family:Menlo,'DejaVu Sans Mono',consolas,'Courier New',monospace\">09:13:36.347 | <span style=\"color: #008080; text-decoration-color: #008080\">INFO</span>    | Task run 'first_etl-0' - &lt;class 'pandas.core.frame.DataFrame'&gt;\n",
       "</pre>\n"
      ],
      "text/plain": [
       "09:13:36.347 | \u001b[36mINFO\u001b[0m    | Task run 'first_etl-0' - <class 'pandas.core.frame.DataFrame'>\n"
      ]
     },
     "metadata": {},
     "output_type": "display_data"
    },
    {
     "data": {
      "text/html": [
       "<pre style=\"white-space:pre;overflow-x:auto;line-height:normal;font-family:Menlo,'DejaVu Sans Mono',consolas,'Courier New',monospace\">09:13:36.351 | <span style=\"color: #008080; text-decoration-color: #008080\">INFO</span>    | Task run 'first_etl-0' - &lt;class 'pandas.core.frame.DataFrame'&gt;\n",
       "</pre>\n"
      ],
      "text/plain": [
       "09:13:36.351 | \u001b[36mINFO\u001b[0m    | Task run 'first_etl-0' - <class 'pandas.core.frame.DataFrame'>\n"
      ]
     },
     "metadata": {},
     "output_type": "display_data"
    },
    {
     "data": {
      "text/html": [
       "<pre style=\"white-space:pre;overflow-x:auto;line-height:normal;font-family:Menlo,'DejaVu Sans Mono',consolas,'Courier New',monospace\">09:13:36.354 | <span style=\"color: #008080; text-decoration-color: #008080\">INFO</span>    | Task run 'first_etl-0' - &lt;class 'pandas.core.frame.DataFrame'&gt;\n",
       "</pre>\n"
      ],
      "text/plain": [
       "09:13:36.354 | \u001b[36mINFO\u001b[0m    | Task run 'first_etl-0' - <class 'pandas.core.frame.DataFrame'>\n"
      ]
     },
     "metadata": {},
     "output_type": "display_data"
    },
    {
     "data": {
      "text/html": [
       "<pre style=\"white-space:pre;overflow-x:auto;line-height:normal;font-family:Menlo,'DejaVu Sans Mono',consolas,'Courier New',monospace\">09:13:36.358 | <span style=\"color: #008080; text-decoration-color: #008080\">INFO</span>    | Task run 'first_etl-0' - &lt;class 'pandas.core.frame.DataFrame'&gt;\n",
       "</pre>\n"
      ],
      "text/plain": [
       "09:13:36.358 | \u001b[36mINFO\u001b[0m    | Task run 'first_etl-0' - <class 'pandas.core.frame.DataFrame'>\n"
      ]
     },
     "metadata": {},
     "output_type": "display_data"
    },
    {
     "data": {
      "text/html": [
       "<pre style=\"white-space:pre;overflow-x:auto;line-height:normal;font-family:Menlo,'DejaVu Sans Mono',consolas,'Courier New',monospace\">09:13:36.361 | <span style=\"color: #008080; text-decoration-color: #008080\">INFO</span>    | Task run 'first_etl-0' - &lt;class 'pandas.core.frame.DataFrame'&gt;\n",
       "</pre>\n"
      ],
      "text/plain": [
       "09:13:36.361 | \u001b[36mINFO\u001b[0m    | Task run 'first_etl-0' - <class 'pandas.core.frame.DataFrame'>\n"
      ]
     },
     "metadata": {},
     "output_type": "display_data"
    },
    {
     "data": {
      "text/html": [
       "<pre style=\"white-space:pre;overflow-x:auto;line-height:normal;font-family:Menlo,'DejaVu Sans Mono',consolas,'Courier New',monospace\">09:13:36.363 | <span style=\"color: #008080; text-decoration-color: #008080\">INFO</span>    | Task run 'first_etl-0' - &lt;class 'pandas.core.frame.DataFrame'&gt;\n",
       "</pre>\n"
      ],
      "text/plain": [
       "09:13:36.363 | \u001b[36mINFO\u001b[0m    | Task run 'first_etl-0' - <class 'pandas.core.frame.DataFrame'>\n"
      ]
     },
     "metadata": {},
     "output_type": "display_data"
    },
    {
     "data": {
      "text/html": [
       "<pre style=\"white-space:pre;overflow-x:auto;line-height:normal;font-family:Menlo,'DejaVu Sans Mono',consolas,'Courier New',monospace\">09:13:36.366 | <span style=\"color: #008080; text-decoration-color: #008080\">INFO</span>    | Task run 'first_etl-0' - &lt;class 'pandas.core.frame.DataFrame'&gt;\n",
       "</pre>\n"
      ],
      "text/plain": [
       "09:13:36.366 | \u001b[36mINFO\u001b[0m    | Task run 'first_etl-0' - <class 'pandas.core.frame.DataFrame'>\n"
      ]
     },
     "metadata": {},
     "output_type": "display_data"
    },
    {
     "data": {
      "text/html": [
       "<pre style=\"white-space:pre;overflow-x:auto;line-height:normal;font-family:Menlo,'DejaVu Sans Mono',consolas,'Courier New',monospace\">09:13:36.368 | <span style=\"color: #008080; text-decoration-color: #008080\">INFO</span>    | Task run 'first_etl-0' - &lt;class 'pandas.core.frame.DataFrame'&gt;\n",
       "</pre>\n"
      ],
      "text/plain": [
       "09:13:36.368 | \u001b[36mINFO\u001b[0m    | Task run 'first_etl-0' - <class 'pandas.core.frame.DataFrame'>\n"
      ]
     },
     "metadata": {},
     "output_type": "display_data"
    },
    {
     "data": {
      "text/html": [
       "<pre style=\"white-space:pre;overflow-x:auto;line-height:normal;font-family:Menlo,'DejaVu Sans Mono',consolas,'Courier New',monospace\">09:13:36.372 | <span style=\"color: #008080; text-decoration-color: #008080\">INFO</span>    | Task run 'first_etl-0' - &lt;class 'pandas.core.frame.DataFrame'&gt;\n",
       "</pre>\n"
      ],
      "text/plain": [
       "09:13:36.372 | \u001b[36mINFO\u001b[0m    | Task run 'first_etl-0' - <class 'pandas.core.frame.DataFrame'>\n"
      ]
     },
     "metadata": {},
     "output_type": "display_data"
    },
    {
     "data": {
      "text/html": [
       "<pre style=\"white-space:pre;overflow-x:auto;line-height:normal;font-family:Menlo,'DejaVu Sans Mono',consolas,'Courier New',monospace\">09:13:36.375 | <span style=\"color: #008080; text-decoration-color: #008080\">INFO</span>    | Task run 'first_etl-0' - &lt;class 'pandas.core.frame.DataFrame'&gt;\n",
       "</pre>\n"
      ],
      "text/plain": [
       "09:13:36.375 | \u001b[36mINFO\u001b[0m    | Task run 'first_etl-0' - <class 'pandas.core.frame.DataFrame'>\n"
      ]
     },
     "metadata": {},
     "output_type": "display_data"
    },
    {
     "data": {
      "text/html": [
       "<pre style=\"white-space:pre;overflow-x:auto;line-height:normal;font-family:Menlo,'DejaVu Sans Mono',consolas,'Courier New',monospace\">09:13:36.378 | <span style=\"color: #008080; text-decoration-color: #008080\">INFO</span>    | Task run 'first_etl-0' - &lt;class 'pandas.core.frame.DataFrame'&gt;\n",
       "</pre>\n"
      ],
      "text/plain": [
       "09:13:36.378 | \u001b[36mINFO\u001b[0m    | Task run 'first_etl-0' - <class 'pandas.core.frame.DataFrame'>\n"
      ]
     },
     "metadata": {},
     "output_type": "display_data"
    },
    {
     "data": {
      "text/html": [
       "<pre style=\"white-space:pre;overflow-x:auto;line-height:normal;font-family:Menlo,'DejaVu Sans Mono',consolas,'Courier New',monospace\">09:13:36.380 | <span style=\"color: #008080; text-decoration-color: #008080\">INFO</span>    | Task run 'first_etl-0' - &lt;class 'pandas.core.frame.DataFrame'&gt;\n",
       "</pre>\n"
      ],
      "text/plain": [
       "09:13:36.380 | \u001b[36mINFO\u001b[0m    | Task run 'first_etl-0' - <class 'pandas.core.frame.DataFrame'>\n"
      ]
     },
     "metadata": {},
     "output_type": "display_data"
    },
    {
     "data": {
      "text/html": [
       "<pre style=\"white-space:pre;overflow-x:auto;line-height:normal;font-family:Menlo,'DejaVu Sans Mono',consolas,'Courier New',monospace\">09:13:36.382 | <span style=\"color: #008080; text-decoration-color: #008080\">INFO</span>    | Task run 'first_etl-0' - &lt;class 'pandas.core.frame.DataFrame'&gt;\n",
       "</pre>\n"
      ],
      "text/plain": [
       "09:13:36.382 | \u001b[36mINFO\u001b[0m    | Task run 'first_etl-0' - <class 'pandas.core.frame.DataFrame'>\n"
      ]
     },
     "metadata": {},
     "output_type": "display_data"
    },
    {
     "data": {
      "text/html": [
       "<pre style=\"white-space:pre;overflow-x:auto;line-height:normal;font-family:Menlo,'DejaVu Sans Mono',consolas,'Courier New',monospace\">09:13:36.385 | <span style=\"color: #008080; text-decoration-color: #008080\">INFO</span>    | Task run 'first_etl-0' - &lt;class 'pandas.core.frame.DataFrame'&gt;\n",
       "</pre>\n"
      ],
      "text/plain": [
       "09:13:36.385 | \u001b[36mINFO\u001b[0m    | Task run 'first_etl-0' - <class 'pandas.core.frame.DataFrame'>\n"
      ]
     },
     "metadata": {},
     "output_type": "display_data"
    },
    {
     "data": {
      "text/html": [
       "<pre style=\"white-space:pre;overflow-x:auto;line-height:normal;font-family:Menlo,'DejaVu Sans Mono',consolas,'Courier New',monospace\">09:13:36.387 | <span style=\"color: #008080; text-decoration-color: #008080\">INFO</span>    | Task run 'first_etl-0' - &lt;class 'pandas.core.frame.DataFrame'&gt;\n",
       "</pre>\n"
      ],
      "text/plain": [
       "09:13:36.387 | \u001b[36mINFO\u001b[0m    | Task run 'first_etl-0' - <class 'pandas.core.frame.DataFrame'>\n"
      ]
     },
     "metadata": {},
     "output_type": "display_data"
    },
    {
     "data": {
      "text/html": [
       "<pre style=\"white-space:pre;overflow-x:auto;line-height:normal;font-family:Menlo,'DejaVu Sans Mono',consolas,'Courier New',monospace\">09:13:36.390 | <span style=\"color: #008080; text-decoration-color: #008080\">INFO</span>    | Task run 'first_etl-0' - &lt;class 'pandas.core.frame.DataFrame'&gt;\n",
       "</pre>\n"
      ],
      "text/plain": [
       "09:13:36.390 | \u001b[36mINFO\u001b[0m    | Task run 'first_etl-0' - <class 'pandas.core.frame.DataFrame'>\n"
      ]
     },
     "metadata": {},
     "output_type": "display_data"
    },
    {
     "data": {
      "text/html": [
       "<pre style=\"white-space:pre;overflow-x:auto;line-height:normal;font-family:Menlo,'DejaVu Sans Mono',consolas,'Courier New',monospace\">09:13:36.393 | <span style=\"color: #008080; text-decoration-color: #008080\">INFO</span>    | Task run 'first_etl-0' - &lt;class 'pandas.core.frame.DataFrame'&gt;\n",
       "</pre>\n"
      ],
      "text/plain": [
       "09:13:36.393 | \u001b[36mINFO\u001b[0m    | Task run 'first_etl-0' - <class 'pandas.core.frame.DataFrame'>\n"
      ]
     },
     "metadata": {},
     "output_type": "display_data"
    },
    {
     "data": {
      "text/html": [
       "<pre style=\"white-space:pre;overflow-x:auto;line-height:normal;font-family:Menlo,'DejaVu Sans Mono',consolas,'Courier New',monospace\">09:13:36.397 | <span style=\"color: #008080; text-decoration-color: #008080\">INFO</span>    | Task run 'first_etl-0' - &lt;class 'pandas.core.frame.DataFrame'&gt;\n",
       "</pre>\n"
      ],
      "text/plain": [
       "09:13:36.397 | \u001b[36mINFO\u001b[0m    | Task run 'first_etl-0' - <class 'pandas.core.frame.DataFrame'>\n"
      ]
     },
     "metadata": {},
     "output_type": "display_data"
    },
    {
     "data": {
      "text/html": [
       "<pre style=\"white-space:pre;overflow-x:auto;line-height:normal;font-family:Menlo,'DejaVu Sans Mono',consolas,'Courier New',monospace\">09:13:36.400 | <span style=\"color: #008080; text-decoration-color: #008080\">INFO</span>    | Task run 'first_etl-0' - &lt;class 'pandas.core.frame.DataFrame'&gt;\n",
       "</pre>\n"
      ],
      "text/plain": [
       "09:13:36.400 | \u001b[36mINFO\u001b[0m    | Task run 'first_etl-0' - <class 'pandas.core.frame.DataFrame'>\n"
      ]
     },
     "metadata": {},
     "output_type": "display_data"
    },
    {
     "data": {
      "text/html": [
       "<pre style=\"white-space:pre;overflow-x:auto;line-height:normal;font-family:Menlo,'DejaVu Sans Mono',consolas,'Courier New',monospace\">09:13:36.402 | <span style=\"color: #008080; text-decoration-color: #008080\">INFO</span>    | Task run 'first_etl-0' - &lt;class 'pandas.core.frame.DataFrame'&gt;\n",
       "</pre>\n"
      ],
      "text/plain": [
       "09:13:36.402 | \u001b[36mINFO\u001b[0m    | Task run 'first_etl-0' - <class 'pandas.core.frame.DataFrame'>\n"
      ]
     },
     "metadata": {},
     "output_type": "display_data"
    },
    {
     "data": {
      "text/html": [
       "<pre style=\"white-space:pre;overflow-x:auto;line-height:normal;font-family:Menlo,'DejaVu Sans Mono',consolas,'Courier New',monospace\">09:13:36.405 | <span style=\"color: #008080; text-decoration-color: #008080\">INFO</span>    | Task run 'first_etl-0' - &lt;class 'pandas.core.frame.DataFrame'&gt;\n",
       "</pre>\n"
      ],
      "text/plain": [
       "09:13:36.405 | \u001b[36mINFO\u001b[0m    | Task run 'first_etl-0' - <class 'pandas.core.frame.DataFrame'>\n"
      ]
     },
     "metadata": {},
     "output_type": "display_data"
    },
    {
     "data": {
      "text/html": [
       "<pre style=\"white-space:pre;overflow-x:auto;line-height:normal;font-family:Menlo,'DejaVu Sans Mono',consolas,'Courier New',monospace\">09:13:36.408 | <span style=\"color: #008080; text-decoration-color: #008080\">INFO</span>    | Task run 'first_etl-0' - &lt;class 'pandas.core.frame.DataFrame'&gt;\n",
       "</pre>\n"
      ],
      "text/plain": [
       "09:13:36.408 | \u001b[36mINFO\u001b[0m    | Task run 'first_etl-0' - <class 'pandas.core.frame.DataFrame'>\n"
      ]
     },
     "metadata": {},
     "output_type": "display_data"
    },
    {
     "data": {
      "text/html": [
       "<pre style=\"white-space:pre;overflow-x:auto;line-height:normal;font-family:Menlo,'DejaVu Sans Mono',consolas,'Courier New',monospace\">09:13:36.411 | <span style=\"color: #008080; text-decoration-color: #008080\">INFO</span>    | Task run 'first_etl-0' - &lt;class 'pandas.core.frame.DataFrame'&gt;\n",
       "</pre>\n"
      ],
      "text/plain": [
       "09:13:36.411 | \u001b[36mINFO\u001b[0m    | Task run 'first_etl-0' - <class 'pandas.core.frame.DataFrame'>\n"
      ]
     },
     "metadata": {},
     "output_type": "display_data"
    },
    {
     "data": {
      "text/html": [
       "<pre style=\"white-space:pre;overflow-x:auto;line-height:normal;font-family:Menlo,'DejaVu Sans Mono',consolas,'Courier New',monospace\">09:13:36.414 | <span style=\"color: #008080; text-decoration-color: #008080\">INFO</span>    | Task run 'first_etl-0' - &lt;class 'pandas.core.frame.DataFrame'&gt;\n",
       "</pre>\n"
      ],
      "text/plain": [
       "09:13:36.414 | \u001b[36mINFO\u001b[0m    | Task run 'first_etl-0' - <class 'pandas.core.frame.DataFrame'>\n"
      ]
     },
     "metadata": {},
     "output_type": "display_data"
    },
    {
     "data": {
      "text/html": [
       "<pre style=\"white-space:pre;overflow-x:auto;line-height:normal;font-family:Menlo,'DejaVu Sans Mono',consolas,'Courier New',monospace\">09:13:36.416 | <span style=\"color: #008080; text-decoration-color: #008080\">INFO</span>    | Task run 'first_etl-0' - &lt;class 'pandas.core.frame.DataFrame'&gt;\n",
       "</pre>\n"
      ],
      "text/plain": [
       "09:13:36.416 | \u001b[36mINFO\u001b[0m    | Task run 'first_etl-0' - <class 'pandas.core.frame.DataFrame'>\n"
      ]
     },
     "metadata": {},
     "output_type": "display_data"
    },
    {
     "data": {
      "text/html": [
       "<pre style=\"white-space:pre;overflow-x:auto;line-height:normal;font-family:Menlo,'DejaVu Sans Mono',consolas,'Courier New',monospace\">09:13:36.419 | <span style=\"color: #008080; text-decoration-color: #008080\">INFO</span>    | Task run 'first_etl-0' - &lt;class 'pandas.core.frame.DataFrame'&gt;\n",
       "</pre>\n"
      ],
      "text/plain": [
       "09:13:36.419 | \u001b[36mINFO\u001b[0m    | Task run 'first_etl-0' - <class 'pandas.core.frame.DataFrame'>\n"
      ]
     },
     "metadata": {},
     "output_type": "display_data"
    },
    {
     "data": {
      "text/html": [
       "<pre style=\"white-space:pre;overflow-x:auto;line-height:normal;font-family:Menlo,'DejaVu Sans Mono',consolas,'Courier New',monospace\">09:13:36.421 | <span style=\"color: #008080; text-decoration-color: #008080\">INFO</span>    | Task run 'first_etl-0' - &lt;class 'pandas.core.frame.DataFrame'&gt;\n",
       "</pre>\n"
      ],
      "text/plain": [
       "09:13:36.421 | \u001b[36mINFO\u001b[0m    | Task run 'first_etl-0' - <class 'pandas.core.frame.DataFrame'>\n"
      ]
     },
     "metadata": {},
     "output_type": "display_data"
    },
    {
     "data": {
      "text/html": [
       "<pre style=\"white-space:pre;overflow-x:auto;line-height:normal;font-family:Menlo,'DejaVu Sans Mono',consolas,'Courier New',monospace\">09:13:36.424 | <span style=\"color: #008080; text-decoration-color: #008080\">INFO</span>    | Task run 'first_etl-0' - &lt;class 'pandas.core.frame.DataFrame'&gt;\n",
       "</pre>\n"
      ],
      "text/plain": [
       "09:13:36.424 | \u001b[36mINFO\u001b[0m    | Task run 'first_etl-0' - <class 'pandas.core.frame.DataFrame'>\n"
      ]
     },
     "metadata": {},
     "output_type": "display_data"
    },
    {
     "data": {
      "text/html": [
       "<pre style=\"white-space:pre;overflow-x:auto;line-height:normal;font-family:Menlo,'DejaVu Sans Mono',consolas,'Courier New',monospace\">09:13:36.426 | <span style=\"color: #008080; text-decoration-color: #008080\">INFO</span>    | Task run 'first_etl-0' - &lt;class 'pandas.core.frame.DataFrame'&gt;\n",
       "</pre>\n"
      ],
      "text/plain": [
       "09:13:36.426 | \u001b[36mINFO\u001b[0m    | Task run 'first_etl-0' - <class 'pandas.core.frame.DataFrame'>\n"
      ]
     },
     "metadata": {},
     "output_type": "display_data"
    },
    {
     "data": {
      "text/html": [
       "<pre style=\"white-space:pre;overflow-x:auto;line-height:normal;font-family:Menlo,'DejaVu Sans Mono',consolas,'Courier New',monospace\">09:13:36.429 | <span style=\"color: #008080; text-decoration-color: #008080\">INFO</span>    | Task run 'first_etl-0' - &lt;class 'pandas.core.frame.DataFrame'&gt;\n",
       "</pre>\n"
      ],
      "text/plain": [
       "09:13:36.429 | \u001b[36mINFO\u001b[0m    | Task run 'first_etl-0' - <class 'pandas.core.frame.DataFrame'>\n"
      ]
     },
     "metadata": {},
     "output_type": "display_data"
    },
    {
     "data": {
      "text/html": [
       "<pre style=\"white-space:pre;overflow-x:auto;line-height:normal;font-family:Menlo,'DejaVu Sans Mono',consolas,'Courier New',monospace\">09:13:36.431 | <span style=\"color: #008080; text-decoration-color: #008080\">INFO</span>    | Task run 'first_etl-0' - &lt;class 'pandas.core.frame.DataFrame'&gt;\n",
       "</pre>\n"
      ],
      "text/plain": [
       "09:13:36.431 | \u001b[36mINFO\u001b[0m    | Task run 'first_etl-0' - <class 'pandas.core.frame.DataFrame'>\n"
      ]
     },
     "metadata": {},
     "output_type": "display_data"
    },
    {
     "data": {
      "text/html": [
       "<pre style=\"white-space:pre;overflow-x:auto;line-height:normal;font-family:Menlo,'DejaVu Sans Mono',consolas,'Courier New',monospace\">09:13:36.433 | <span style=\"color: #008080; text-decoration-color: #008080\">INFO</span>    | Task run 'first_etl-0' - &lt;class 'pandas.core.frame.DataFrame'&gt;\n",
       "</pre>\n"
      ],
      "text/plain": [
       "09:13:36.433 | \u001b[36mINFO\u001b[0m    | Task run 'first_etl-0' - <class 'pandas.core.frame.DataFrame'>\n"
      ]
     },
     "metadata": {},
     "output_type": "display_data"
    },
    {
     "data": {
      "text/html": [
       "<pre style=\"white-space:pre;overflow-x:auto;line-height:normal;font-family:Menlo,'DejaVu Sans Mono',consolas,'Courier New',monospace\">09:13:36.436 | <span style=\"color: #008080; text-decoration-color: #008080\">INFO</span>    | Task run 'first_etl-0' - &lt;class 'pandas.core.frame.DataFrame'&gt;\n",
       "</pre>\n"
      ],
      "text/plain": [
       "09:13:36.436 | \u001b[36mINFO\u001b[0m    | Task run 'first_etl-0' - <class 'pandas.core.frame.DataFrame'>\n"
      ]
     },
     "metadata": {},
     "output_type": "display_data"
    },
    {
     "data": {
      "text/html": [
       "<pre style=\"white-space:pre;overflow-x:auto;line-height:normal;font-family:Menlo,'DejaVu Sans Mono',consolas,'Courier New',monospace\">09:13:36.438 | <span style=\"color: #008080; text-decoration-color: #008080\">INFO</span>    | Task run 'first_etl-0' - &lt;class 'pandas.core.frame.DataFrame'&gt;\n",
       "</pre>\n"
      ],
      "text/plain": [
       "09:13:36.438 | \u001b[36mINFO\u001b[0m    | Task run 'first_etl-0' - <class 'pandas.core.frame.DataFrame'>\n"
      ]
     },
     "metadata": {},
     "output_type": "display_data"
    },
    {
     "data": {
      "text/html": [
       "<pre style=\"white-space:pre;overflow-x:auto;line-height:normal;font-family:Menlo,'DejaVu Sans Mono',consolas,'Courier New',monospace\">09:13:36.442 | <span style=\"color: #008080; text-decoration-color: #008080\">INFO</span>    | Task run 'first_etl-0' - &lt;class 'pandas.core.frame.DataFrame'&gt;\n",
       "</pre>\n"
      ],
      "text/plain": [
       "09:13:36.442 | \u001b[36mINFO\u001b[0m    | Task run 'first_etl-0' - <class 'pandas.core.frame.DataFrame'>\n"
      ]
     },
     "metadata": {},
     "output_type": "display_data"
    },
    {
     "data": {
      "text/html": [
       "<pre style=\"white-space:pre;overflow-x:auto;line-height:normal;font-family:Menlo,'DejaVu Sans Mono',consolas,'Courier New',monospace\">09:13:36.445 | <span style=\"color: #008080; text-decoration-color: #008080\">INFO</span>    | Task run 'first_etl-0' - &lt;class 'pandas.core.frame.DataFrame'&gt;\n",
       "</pre>\n"
      ],
      "text/plain": [
       "09:13:36.445 | \u001b[36mINFO\u001b[0m    | Task run 'first_etl-0' - <class 'pandas.core.frame.DataFrame'>\n"
      ]
     },
     "metadata": {},
     "output_type": "display_data"
    },
    {
     "data": {
      "text/html": [
       "<pre style=\"white-space:pre;overflow-x:auto;line-height:normal;font-family:Menlo,'DejaVu Sans Mono',consolas,'Courier New',monospace\">09:13:36.449 | <span style=\"color: #008080; text-decoration-color: #008080\">INFO</span>    | Task run 'first_etl-0' - &lt;class 'pandas.core.frame.DataFrame'&gt;\n",
       "</pre>\n"
      ],
      "text/plain": [
       "09:13:36.449 | \u001b[36mINFO\u001b[0m    | Task run 'first_etl-0' - <class 'pandas.core.frame.DataFrame'>\n"
      ]
     },
     "metadata": {},
     "output_type": "display_data"
    },
    {
     "data": {
      "text/html": [
       "<pre style=\"white-space:pre;overflow-x:auto;line-height:normal;font-family:Menlo,'DejaVu Sans Mono',consolas,'Courier New',monospace\">09:13:36.452 | <span style=\"color: #008080; text-decoration-color: #008080\">INFO</span>    | Task run 'first_etl-0' - &lt;class 'pandas.core.frame.DataFrame'&gt;\n",
       "</pre>\n"
      ],
      "text/plain": [
       "09:13:36.452 | \u001b[36mINFO\u001b[0m    | Task run 'first_etl-0' - <class 'pandas.core.frame.DataFrame'>\n"
      ]
     },
     "metadata": {},
     "output_type": "display_data"
    },
    {
     "data": {
      "text/html": [
       "<pre style=\"white-space:pre;overflow-x:auto;line-height:normal;font-family:Menlo,'DejaVu Sans Mono',consolas,'Courier New',monospace\">09:13:36.455 | <span style=\"color: #008080; text-decoration-color: #008080\">INFO</span>    | Task run 'first_etl-0' - &lt;class 'pandas.core.frame.DataFrame'&gt;\n",
       "</pre>\n"
      ],
      "text/plain": [
       "09:13:36.455 | \u001b[36mINFO\u001b[0m    | Task run 'first_etl-0' - <class 'pandas.core.frame.DataFrame'>\n"
      ]
     },
     "metadata": {},
     "output_type": "display_data"
    },
    {
     "data": {
      "text/html": [
       "<pre style=\"white-space:pre;overflow-x:auto;line-height:normal;font-family:Menlo,'DejaVu Sans Mono',consolas,'Courier New',monospace\">09:13:36.458 | <span style=\"color: #008080; text-decoration-color: #008080\">INFO</span>    | Task run 'first_etl-0' - &lt;class 'pandas.core.frame.DataFrame'&gt;\n",
       "</pre>\n"
      ],
      "text/plain": [
       "09:13:36.458 | \u001b[36mINFO\u001b[0m    | Task run 'first_etl-0' - <class 'pandas.core.frame.DataFrame'>\n"
      ]
     },
     "metadata": {},
     "output_type": "display_data"
    },
    {
     "data": {
      "text/html": [
       "<pre style=\"white-space:pre;overflow-x:auto;line-height:normal;font-family:Menlo,'DejaVu Sans Mono',consolas,'Courier New',monospace\">09:13:36.466 | <span style=\"color: #008080; text-decoration-color: #008080\">INFO</span>    | Task run 'first_etl-0' - &lt;class 'pandas.core.frame.DataFrame'&gt;\n",
       "</pre>\n"
      ],
      "text/plain": [
       "09:13:36.466 | \u001b[36mINFO\u001b[0m    | Task run 'first_etl-0' - <class 'pandas.core.frame.DataFrame'>\n"
      ]
     },
     "metadata": {},
     "output_type": "display_data"
    },
    {
     "data": {
      "text/html": [
       "<pre style=\"white-space:pre;overflow-x:auto;line-height:normal;font-family:Menlo,'DejaVu Sans Mono',consolas,'Courier New',monospace\">09:13:36.471 | <span style=\"color: #008080; text-decoration-color: #008080\">INFO</span>    | Task run 'first_etl-0' - &lt;class 'pandas.core.frame.DataFrame'&gt;\n",
       "</pre>\n"
      ],
      "text/plain": [
       "09:13:36.471 | \u001b[36mINFO\u001b[0m    | Task run 'first_etl-0' - <class 'pandas.core.frame.DataFrame'>\n"
      ]
     },
     "metadata": {},
     "output_type": "display_data"
    },
    {
     "data": {
      "text/html": [
       "<pre style=\"white-space:pre;overflow-x:auto;line-height:normal;font-family:Menlo,'DejaVu Sans Mono',consolas,'Courier New',monospace\">09:13:36.475 | <span style=\"color: #008080; text-decoration-color: #008080\">INFO</span>    | Task run 'first_etl-0' - &lt;class 'pandas.core.frame.DataFrame'&gt;\n",
       "</pre>\n"
      ],
      "text/plain": [
       "09:13:36.475 | \u001b[36mINFO\u001b[0m    | Task run 'first_etl-0' - <class 'pandas.core.frame.DataFrame'>\n"
      ]
     },
     "metadata": {},
     "output_type": "display_data"
    },
    {
     "data": {
      "text/html": [
       "<pre style=\"white-space:pre;overflow-x:auto;line-height:normal;font-family:Menlo,'DejaVu Sans Mono',consolas,'Courier New',monospace\">09:13:36.479 | <span style=\"color: #008080; text-decoration-color: #008080\">INFO</span>    | Task run 'first_etl-0' - &lt;class 'pandas.core.frame.DataFrame'&gt;\n",
       "</pre>\n"
      ],
      "text/plain": [
       "09:13:36.479 | \u001b[36mINFO\u001b[0m    | Task run 'first_etl-0' - <class 'pandas.core.frame.DataFrame'>\n"
      ]
     },
     "metadata": {},
     "output_type": "display_data"
    },
    {
     "data": {
      "text/html": [
       "<pre style=\"white-space:pre;overflow-x:auto;line-height:normal;font-family:Menlo,'DejaVu Sans Mono',consolas,'Courier New',monospace\">09:13:36.483 | <span style=\"color: #008080; text-decoration-color: #008080\">INFO</span>    | Task run 'first_etl-0' - &lt;class 'pandas.core.frame.DataFrame'&gt;\n",
       "</pre>\n"
      ],
      "text/plain": [
       "09:13:36.483 | \u001b[36mINFO\u001b[0m    | Task run 'first_etl-0' - <class 'pandas.core.frame.DataFrame'>\n"
      ]
     },
     "metadata": {},
     "output_type": "display_data"
    },
    {
     "data": {
      "text/html": [
       "<pre style=\"white-space:pre;overflow-x:auto;line-height:normal;font-family:Menlo,'DejaVu Sans Mono',consolas,'Courier New',monospace\">09:13:36.486 | <span style=\"color: #008080; text-decoration-color: #008080\">INFO</span>    | Task run 'first_etl-0' - &lt;class 'pandas.core.frame.DataFrame'&gt;\n",
       "</pre>\n"
      ],
      "text/plain": [
       "09:13:36.486 | \u001b[36mINFO\u001b[0m    | Task run 'first_etl-0' - <class 'pandas.core.frame.DataFrame'>\n"
      ]
     },
     "metadata": {},
     "output_type": "display_data"
    },
    {
     "data": {
      "text/html": [
       "<pre style=\"white-space:pre;overflow-x:auto;line-height:normal;font-family:Menlo,'DejaVu Sans Mono',consolas,'Courier New',monospace\">09:13:36.490 | <span style=\"color: #008080; text-decoration-color: #008080\">INFO</span>    | Task run 'first_etl-0' - &lt;class 'pandas.core.frame.DataFrame'&gt;\n",
       "</pre>\n"
      ],
      "text/plain": [
       "09:13:36.490 | \u001b[36mINFO\u001b[0m    | Task run 'first_etl-0' - <class 'pandas.core.frame.DataFrame'>\n"
      ]
     },
     "metadata": {},
     "output_type": "display_data"
    },
    {
     "data": {
      "text/html": [
       "<pre style=\"white-space:pre;overflow-x:auto;line-height:normal;font-family:Menlo,'DejaVu Sans Mono',consolas,'Courier New',monospace\">09:13:36.494 | <span style=\"color: #008080; text-decoration-color: #008080\">INFO</span>    | Task run 'first_etl-0' - &lt;class 'pandas.core.frame.DataFrame'&gt;\n",
       "</pre>\n"
      ],
      "text/plain": [
       "09:13:36.494 | \u001b[36mINFO\u001b[0m    | Task run 'first_etl-0' - <class 'pandas.core.frame.DataFrame'>\n"
      ]
     },
     "metadata": {},
     "output_type": "display_data"
    },
    {
     "data": {
      "text/html": [
       "<pre style=\"white-space:pre;overflow-x:auto;line-height:normal;font-family:Menlo,'DejaVu Sans Mono',consolas,'Courier New',monospace\">09:13:36.497 | <span style=\"color: #008080; text-decoration-color: #008080\">INFO</span>    | Task run 'first_etl-0' - &lt;class 'pandas.core.frame.DataFrame'&gt;\n",
       "</pre>\n"
      ],
      "text/plain": [
       "09:13:36.497 | \u001b[36mINFO\u001b[0m    | Task run 'first_etl-0' - <class 'pandas.core.frame.DataFrame'>\n"
      ]
     },
     "metadata": {},
     "output_type": "display_data"
    },
    {
     "data": {
      "text/html": [
       "<pre style=\"white-space:pre;overflow-x:auto;line-height:normal;font-family:Menlo,'DejaVu Sans Mono',consolas,'Courier New',monospace\">09:13:36.501 | <span style=\"color: #008080; text-decoration-color: #008080\">INFO</span>    | Task run 'first_etl-0' - &lt;class 'pandas.core.frame.DataFrame'&gt;\n",
       "</pre>\n"
      ],
      "text/plain": [
       "09:13:36.501 | \u001b[36mINFO\u001b[0m    | Task run 'first_etl-0' - <class 'pandas.core.frame.DataFrame'>\n"
      ]
     },
     "metadata": {},
     "output_type": "display_data"
    },
    {
     "data": {
      "text/html": [
       "<pre style=\"white-space:pre;overflow-x:auto;line-height:normal;font-family:Menlo,'DejaVu Sans Mono',consolas,'Courier New',monospace\">09:13:36.503 | <span style=\"color: #008080; text-decoration-color: #008080\">INFO</span>    | Task run 'first_etl-0' - &lt;class 'pandas.core.frame.DataFrame'&gt;\n",
       "</pre>\n"
      ],
      "text/plain": [
       "09:13:36.503 | \u001b[36mINFO\u001b[0m    | Task run 'first_etl-0' - <class 'pandas.core.frame.DataFrame'>\n"
      ]
     },
     "metadata": {},
     "output_type": "display_data"
    },
    {
     "data": {
      "text/html": [
       "<pre style=\"white-space:pre;overflow-x:auto;line-height:normal;font-family:Menlo,'DejaVu Sans Mono',consolas,'Courier New',monospace\">09:13:36.506 | <span style=\"color: #008080; text-decoration-color: #008080\">INFO</span>    | Task run 'first_etl-0' - &lt;class 'pandas.core.frame.DataFrame'&gt;\n",
       "</pre>\n"
      ],
      "text/plain": [
       "09:13:36.506 | \u001b[36mINFO\u001b[0m    | Task run 'first_etl-0' - <class 'pandas.core.frame.DataFrame'>\n"
      ]
     },
     "metadata": {},
     "output_type": "display_data"
    },
    {
     "data": {
      "text/html": [
       "<pre style=\"white-space:pre;overflow-x:auto;line-height:normal;font-family:Menlo,'DejaVu Sans Mono',consolas,'Courier New',monospace\">09:13:36.509 | <span style=\"color: #008080; text-decoration-color: #008080\">INFO</span>    | Task run 'first_etl-0' - &lt;class 'pandas.core.frame.DataFrame'&gt;\n",
       "</pre>\n"
      ],
      "text/plain": [
       "09:13:36.509 | \u001b[36mINFO\u001b[0m    | Task run 'first_etl-0' - <class 'pandas.core.frame.DataFrame'>\n"
      ]
     },
     "metadata": {},
     "output_type": "display_data"
    },
    {
     "data": {
      "text/html": [
       "<pre style=\"white-space:pre;overflow-x:auto;line-height:normal;font-family:Menlo,'DejaVu Sans Mono',consolas,'Courier New',monospace\">09:13:36.513 | <span style=\"color: #008080; text-decoration-color: #008080\">INFO</span>    | Task run 'first_etl-0' - &lt;class 'pandas.core.frame.DataFrame'&gt;\n",
       "</pre>\n"
      ],
      "text/plain": [
       "09:13:36.513 | \u001b[36mINFO\u001b[0m    | Task run 'first_etl-0' - <class 'pandas.core.frame.DataFrame'>\n"
      ]
     },
     "metadata": {},
     "output_type": "display_data"
    },
    {
     "data": {
      "text/html": [
       "<pre style=\"white-space:pre;overflow-x:auto;line-height:normal;font-family:Menlo,'DejaVu Sans Mono',consolas,'Courier New',monospace\">09:13:36.516 | <span style=\"color: #008080; text-decoration-color: #008080\">INFO</span>    | Task run 'first_etl-0' - &lt;class 'pandas.core.frame.DataFrame'&gt;\n",
       "</pre>\n"
      ],
      "text/plain": [
       "09:13:36.516 | \u001b[36mINFO\u001b[0m    | Task run 'first_etl-0' - <class 'pandas.core.frame.DataFrame'>\n"
      ]
     },
     "metadata": {},
     "output_type": "display_data"
    },
    {
     "data": {
      "text/html": [
       "<pre style=\"white-space:pre;overflow-x:auto;line-height:normal;font-family:Menlo,'DejaVu Sans Mono',consolas,'Courier New',monospace\">09:13:36.519 | <span style=\"color: #008080; text-decoration-color: #008080\">INFO</span>    | Task run 'first_etl-0' - &lt;class 'pandas.core.frame.DataFrame'&gt;\n",
       "</pre>\n"
      ],
      "text/plain": [
       "09:13:36.519 | \u001b[36mINFO\u001b[0m    | Task run 'first_etl-0' - <class 'pandas.core.frame.DataFrame'>\n"
      ]
     },
     "metadata": {},
     "output_type": "display_data"
    },
    {
     "data": {
      "text/html": [
       "<pre style=\"white-space:pre;overflow-x:auto;line-height:normal;font-family:Menlo,'DejaVu Sans Mono',consolas,'Courier New',monospace\">09:13:36.521 | <span style=\"color: #008080; text-decoration-color: #008080\">INFO</span>    | Task run 'first_etl-0' - &lt;class 'pandas.core.frame.DataFrame'&gt;\n",
       "</pre>\n"
      ],
      "text/plain": [
       "09:13:36.521 | \u001b[36mINFO\u001b[0m    | Task run 'first_etl-0' - <class 'pandas.core.frame.DataFrame'>\n"
      ]
     },
     "metadata": {},
     "output_type": "display_data"
    },
    {
     "data": {
      "text/html": [
       "<pre style=\"white-space:pre;overflow-x:auto;line-height:normal;font-family:Menlo,'DejaVu Sans Mono',consolas,'Courier New',monospace\">09:13:36.524 | <span style=\"color: #008080; text-decoration-color: #008080\">INFO</span>    | Task run 'first_etl-0' - &lt;class 'pandas.core.frame.DataFrame'&gt;\n",
       "</pre>\n"
      ],
      "text/plain": [
       "09:13:36.524 | \u001b[36mINFO\u001b[0m    | Task run 'first_etl-0' - <class 'pandas.core.frame.DataFrame'>\n"
      ]
     },
     "metadata": {},
     "output_type": "display_data"
    },
    {
     "data": {
      "text/html": [
       "<pre style=\"white-space:pre;overflow-x:auto;line-height:normal;font-family:Menlo,'DejaVu Sans Mono',consolas,'Courier New',monospace\">09:13:36.528 | <span style=\"color: #008080; text-decoration-color: #008080\">INFO</span>    | Task run 'first_etl-0' - &lt;class 'pandas.core.frame.DataFrame'&gt;\n",
       "</pre>\n"
      ],
      "text/plain": [
       "09:13:36.528 | \u001b[36mINFO\u001b[0m    | Task run 'first_etl-0' - <class 'pandas.core.frame.DataFrame'>\n"
      ]
     },
     "metadata": {},
     "output_type": "display_data"
    },
    {
     "data": {
      "text/html": [
       "<pre style=\"white-space:pre;overflow-x:auto;line-height:normal;font-family:Menlo,'DejaVu Sans Mono',consolas,'Courier New',monospace\">09:13:36.532 | <span style=\"color: #008080; text-decoration-color: #008080\">INFO</span>    | Task run 'first_etl-0' - &lt;class 'pandas.core.frame.DataFrame'&gt;\n",
       "</pre>\n"
      ],
      "text/plain": [
       "09:13:36.532 | \u001b[36mINFO\u001b[0m    | Task run 'first_etl-0' - <class 'pandas.core.frame.DataFrame'>\n"
      ]
     },
     "metadata": {},
     "output_type": "display_data"
    },
    {
     "data": {
      "text/html": [
       "<pre style=\"white-space:pre;overflow-x:auto;line-height:normal;font-family:Menlo,'DejaVu Sans Mono',consolas,'Courier New',monospace\">09:13:36.535 | <span style=\"color: #008080; text-decoration-color: #008080\">INFO</span>    | Task run 'first_etl-0' - &lt;class 'pandas.core.frame.DataFrame'&gt;\n",
       "</pre>\n"
      ],
      "text/plain": [
       "09:13:36.535 | \u001b[36mINFO\u001b[0m    | Task run 'first_etl-0' - <class 'pandas.core.frame.DataFrame'>\n"
      ]
     },
     "metadata": {},
     "output_type": "display_data"
    },
    {
     "data": {
      "text/html": [
       "<pre style=\"white-space:pre;overflow-x:auto;line-height:normal;font-family:Menlo,'DejaVu Sans Mono',consolas,'Courier New',monospace\">09:13:36.539 | <span style=\"color: #008080; text-decoration-color: #008080\">INFO</span>    | Task run 'first_etl-0' - &lt;class 'pandas.core.frame.DataFrame'&gt;\n",
       "</pre>\n"
      ],
      "text/plain": [
       "09:13:36.539 | \u001b[36mINFO\u001b[0m    | Task run 'first_etl-0' - <class 'pandas.core.frame.DataFrame'>\n"
      ]
     },
     "metadata": {},
     "output_type": "display_data"
    },
    {
     "data": {
      "text/html": [
       "<pre style=\"white-space:pre;overflow-x:auto;line-height:normal;font-family:Menlo,'DejaVu Sans Mono',consolas,'Courier New',monospace\">09:13:36.542 | <span style=\"color: #008080; text-decoration-color: #008080\">INFO</span>    | Task run 'first_etl-0' - &lt;class 'pandas.core.frame.DataFrame'&gt;\n",
       "</pre>\n"
      ],
      "text/plain": [
       "09:13:36.542 | \u001b[36mINFO\u001b[0m    | Task run 'first_etl-0' - <class 'pandas.core.frame.DataFrame'>\n"
      ]
     },
     "metadata": {},
     "output_type": "display_data"
    },
    {
     "data": {
      "text/html": [
       "<pre style=\"white-space:pre;overflow-x:auto;line-height:normal;font-family:Menlo,'DejaVu Sans Mono',consolas,'Courier New',monospace\">09:13:36.546 | <span style=\"color: #008080; text-decoration-color: #008080\">INFO</span>    | Task run 'first_etl-0' - &lt;class 'pandas.core.frame.DataFrame'&gt;\n",
       "</pre>\n"
      ],
      "text/plain": [
       "09:13:36.546 | \u001b[36mINFO\u001b[0m    | Task run 'first_etl-0' - <class 'pandas.core.frame.DataFrame'>\n"
      ]
     },
     "metadata": {},
     "output_type": "display_data"
    },
    {
     "data": {
      "text/html": [
       "<pre style=\"white-space:pre;overflow-x:auto;line-height:normal;font-family:Menlo,'DejaVu Sans Mono',consolas,'Courier New',monospace\">09:13:36.550 | <span style=\"color: #008080; text-decoration-color: #008080\">INFO</span>    | Task run 'first_etl-0' - &lt;class 'pandas.core.frame.DataFrame'&gt;\n",
       "</pre>\n"
      ],
      "text/plain": [
       "09:13:36.550 | \u001b[36mINFO\u001b[0m    | Task run 'first_etl-0' - <class 'pandas.core.frame.DataFrame'>\n"
      ]
     },
     "metadata": {},
     "output_type": "display_data"
    },
    {
     "data": {
      "text/html": [
       "<pre style=\"white-space:pre;overflow-x:auto;line-height:normal;font-family:Menlo,'DejaVu Sans Mono',consolas,'Courier New',monospace\">09:13:36.552 | <span style=\"color: #008080; text-decoration-color: #008080\">INFO</span>    | Task run 'first_etl-0' - &lt;class 'pandas.core.frame.DataFrame'&gt;\n",
       "</pre>\n"
      ],
      "text/plain": [
       "09:13:36.552 | \u001b[36mINFO\u001b[0m    | Task run 'first_etl-0' - <class 'pandas.core.frame.DataFrame'>\n"
      ]
     },
     "metadata": {},
     "output_type": "display_data"
    },
    {
     "data": {
      "text/html": [
       "<pre style=\"white-space:pre;overflow-x:auto;line-height:normal;font-family:Menlo,'DejaVu Sans Mono',consolas,'Courier New',monospace\">09:13:36.554 | <span style=\"color: #008080; text-decoration-color: #008080\">INFO</span>    | Task run 'first_etl-0' - &lt;class 'pandas.core.frame.DataFrame'&gt;\n",
       "</pre>\n"
      ],
      "text/plain": [
       "09:13:36.554 | \u001b[36mINFO\u001b[0m    | Task run 'first_etl-0' - <class 'pandas.core.frame.DataFrame'>\n"
      ]
     },
     "metadata": {},
     "output_type": "display_data"
    },
    {
     "data": {
      "text/html": [
       "<pre style=\"white-space:pre;overflow-x:auto;line-height:normal;font-family:Menlo,'DejaVu Sans Mono',consolas,'Courier New',monospace\">09:13:36.558 | <span style=\"color: #008080; text-decoration-color: #008080\">INFO</span>    | Task run 'first_etl-0' - &lt;class 'pandas.core.frame.DataFrame'&gt;\n",
       "</pre>\n"
      ],
      "text/plain": [
       "09:13:36.558 | \u001b[36mINFO\u001b[0m    | Task run 'first_etl-0' - <class 'pandas.core.frame.DataFrame'>\n"
      ]
     },
     "metadata": {},
     "output_type": "display_data"
    },
    {
     "data": {
      "text/html": [
       "<pre style=\"white-space:pre;overflow-x:auto;line-height:normal;font-family:Menlo,'DejaVu Sans Mono',consolas,'Courier New',monospace\">09:13:36.561 | <span style=\"color: #008080; text-decoration-color: #008080\">INFO</span>    | Task run 'first_etl-0' - &lt;class 'pandas.core.frame.DataFrame'&gt;\n",
       "</pre>\n"
      ],
      "text/plain": [
       "09:13:36.561 | \u001b[36mINFO\u001b[0m    | Task run 'first_etl-0' - <class 'pandas.core.frame.DataFrame'>\n"
      ]
     },
     "metadata": {},
     "output_type": "display_data"
    },
    {
     "data": {
      "text/html": [
       "<pre style=\"white-space:pre;overflow-x:auto;line-height:normal;font-family:Menlo,'DejaVu Sans Mono',consolas,'Courier New',monospace\">09:13:36.563 | <span style=\"color: #008080; text-decoration-color: #008080\">INFO</span>    | Task run 'first_etl-0' - &lt;class 'pandas.core.frame.DataFrame'&gt;\n",
       "</pre>\n"
      ],
      "text/plain": [
       "09:13:36.563 | \u001b[36mINFO\u001b[0m    | Task run 'first_etl-0' - <class 'pandas.core.frame.DataFrame'>\n"
      ]
     },
     "metadata": {},
     "output_type": "display_data"
    },
    {
     "data": {
      "text/html": [
       "<pre style=\"white-space:pre;overflow-x:auto;line-height:normal;font-family:Menlo,'DejaVu Sans Mono',consolas,'Courier New',monospace\">09:13:36.566 | <span style=\"color: #008080; text-decoration-color: #008080\">INFO</span>    | Task run 'first_etl-0' - &lt;class 'pandas.core.frame.DataFrame'&gt;\n",
       "</pre>\n"
      ],
      "text/plain": [
       "09:13:36.566 | \u001b[36mINFO\u001b[0m    | Task run 'first_etl-0' - <class 'pandas.core.frame.DataFrame'>\n"
      ]
     },
     "metadata": {},
     "output_type": "display_data"
    },
    {
     "data": {
      "text/html": [
       "<pre style=\"white-space:pre;overflow-x:auto;line-height:normal;font-family:Menlo,'DejaVu Sans Mono',consolas,'Courier New',monospace\">09:13:36.569 | <span style=\"color: #008080; text-decoration-color: #008080\">INFO</span>    | Task run 'first_etl-0' - &lt;class 'pandas.core.frame.DataFrame'&gt;\n",
       "</pre>\n"
      ],
      "text/plain": [
       "09:13:36.569 | \u001b[36mINFO\u001b[0m    | Task run 'first_etl-0' - <class 'pandas.core.frame.DataFrame'>\n"
      ]
     },
     "metadata": {},
     "output_type": "display_data"
    },
    {
     "data": {
      "text/html": [
       "<pre style=\"white-space:pre;overflow-x:auto;line-height:normal;font-family:Menlo,'DejaVu Sans Mono',consolas,'Courier New',monospace\">09:13:36.572 | <span style=\"color: #008080; text-decoration-color: #008080\">INFO</span>    | Task run 'first_etl-0' - &lt;class 'pandas.core.frame.DataFrame'&gt;\n",
       "</pre>\n"
      ],
      "text/plain": [
       "09:13:36.572 | \u001b[36mINFO\u001b[0m    | Task run 'first_etl-0' - <class 'pandas.core.frame.DataFrame'>\n"
      ]
     },
     "metadata": {},
     "output_type": "display_data"
    },
    {
     "data": {
      "text/html": [
       "<pre style=\"white-space:pre;overflow-x:auto;line-height:normal;font-family:Menlo,'DejaVu Sans Mono',consolas,'Courier New',monospace\">09:13:36.575 | <span style=\"color: #008080; text-decoration-color: #008080\">INFO</span>    | Task run 'first_etl-0' - &lt;class 'pandas.core.frame.DataFrame'&gt;\n",
       "</pre>\n"
      ],
      "text/plain": [
       "09:13:36.575 | \u001b[36mINFO\u001b[0m    | Task run 'first_etl-0' - <class 'pandas.core.frame.DataFrame'>\n"
      ]
     },
     "metadata": {},
     "output_type": "display_data"
    },
    {
     "data": {
      "text/html": [
       "<pre style=\"white-space:pre;overflow-x:auto;line-height:normal;font-family:Menlo,'DejaVu Sans Mono',consolas,'Courier New',monospace\">09:13:36.578 | <span style=\"color: #008080; text-decoration-color: #008080\">INFO</span>    | Task run 'first_etl-0' - &lt;class 'pandas.core.frame.DataFrame'&gt;\n",
       "</pre>\n"
      ],
      "text/plain": [
       "09:13:36.578 | \u001b[36mINFO\u001b[0m    | Task run 'first_etl-0' - <class 'pandas.core.frame.DataFrame'>\n"
      ]
     },
     "metadata": {},
     "output_type": "display_data"
    },
    {
     "data": {
      "text/html": [
       "<pre style=\"white-space:pre;overflow-x:auto;line-height:normal;font-family:Menlo,'DejaVu Sans Mono',consolas,'Courier New',monospace\">09:13:36.581 | <span style=\"color: #008080; text-decoration-color: #008080\">INFO</span>    | Task run 'first_etl-0' - &lt;class 'pandas.core.frame.DataFrame'&gt;\n",
       "</pre>\n"
      ],
      "text/plain": [
       "09:13:36.581 | \u001b[36mINFO\u001b[0m    | Task run 'first_etl-0' - <class 'pandas.core.frame.DataFrame'>\n"
      ]
     },
     "metadata": {},
     "output_type": "display_data"
    },
    {
     "data": {
      "text/html": [
       "<pre style=\"white-space:pre;overflow-x:auto;line-height:normal;font-family:Menlo,'DejaVu Sans Mono',consolas,'Courier New',monospace\">09:13:36.584 | <span style=\"color: #008080; text-decoration-color: #008080\">INFO</span>    | Task run 'first_etl-0' - &lt;class 'pandas.core.frame.DataFrame'&gt;\n",
       "</pre>\n"
      ],
      "text/plain": [
       "09:13:36.584 | \u001b[36mINFO\u001b[0m    | Task run 'first_etl-0' - <class 'pandas.core.frame.DataFrame'>\n"
      ]
     },
     "metadata": {},
     "output_type": "display_data"
    },
    {
     "data": {
      "text/html": [
       "<pre style=\"white-space:pre;overflow-x:auto;line-height:normal;font-family:Menlo,'DejaVu Sans Mono',consolas,'Courier New',monospace\">09:13:36.586 | <span style=\"color: #008080; text-decoration-color: #008080\">INFO</span>    | Task run 'first_etl-0' - &lt;class 'pandas.core.frame.DataFrame'&gt;\n",
       "</pre>\n"
      ],
      "text/plain": [
       "09:13:36.586 | \u001b[36mINFO\u001b[0m    | Task run 'first_etl-0' - <class 'pandas.core.frame.DataFrame'>\n"
      ]
     },
     "metadata": {},
     "output_type": "display_data"
    },
    {
     "data": {
      "text/html": [
       "<pre style=\"white-space:pre;overflow-x:auto;line-height:normal;font-family:Menlo,'DejaVu Sans Mono',consolas,'Courier New',monospace\">09:13:36.589 | <span style=\"color: #008080; text-decoration-color: #008080\">INFO</span>    | Task run 'first_etl-0' - &lt;class 'pandas.core.frame.DataFrame'&gt;\n",
       "</pre>\n"
      ],
      "text/plain": [
       "09:13:36.589 | \u001b[36mINFO\u001b[0m    | Task run 'first_etl-0' - <class 'pandas.core.frame.DataFrame'>\n"
      ]
     },
     "metadata": {},
     "output_type": "display_data"
    },
    {
     "data": {
      "text/html": [
       "<pre style=\"white-space:pre;overflow-x:auto;line-height:normal;font-family:Menlo,'DejaVu Sans Mono',consolas,'Courier New',monospace\">09:13:36.592 | <span style=\"color: #008080; text-decoration-color: #008080\">INFO</span>    | Task run 'first_etl-0' - &lt;class 'pandas.core.frame.DataFrame'&gt;\n",
       "</pre>\n"
      ],
      "text/plain": [
       "09:13:36.592 | \u001b[36mINFO\u001b[0m    | Task run 'first_etl-0' - <class 'pandas.core.frame.DataFrame'>\n"
      ]
     },
     "metadata": {},
     "output_type": "display_data"
    },
    {
     "data": {
      "text/html": [
       "<pre style=\"white-space:pre;overflow-x:auto;line-height:normal;font-family:Menlo,'DejaVu Sans Mono',consolas,'Courier New',monospace\">09:13:36.595 | <span style=\"color: #008080; text-decoration-color: #008080\">INFO</span>    | Task run 'first_etl-0' - &lt;class 'pandas.core.frame.DataFrame'&gt;\n",
       "</pre>\n"
      ],
      "text/plain": [
       "09:13:36.595 | \u001b[36mINFO\u001b[0m    | Task run 'first_etl-0' - <class 'pandas.core.frame.DataFrame'>\n"
      ]
     },
     "metadata": {},
     "output_type": "display_data"
    },
    {
     "data": {
      "text/html": [
       "<pre style=\"white-space:pre;overflow-x:auto;line-height:normal;font-family:Menlo,'DejaVu Sans Mono',consolas,'Courier New',monospace\">09:13:36.597 | <span style=\"color: #008080; text-decoration-color: #008080\">INFO</span>    | Task run 'first_etl-0' - &lt;class 'pandas.core.frame.DataFrame'&gt;\n",
       "</pre>\n"
      ],
      "text/plain": [
       "09:13:36.597 | \u001b[36mINFO\u001b[0m    | Task run 'first_etl-0' - <class 'pandas.core.frame.DataFrame'>\n"
      ]
     },
     "metadata": {},
     "output_type": "display_data"
    },
    {
     "data": {
      "text/html": [
       "<pre style=\"white-space:pre;overflow-x:auto;line-height:normal;font-family:Menlo,'DejaVu Sans Mono',consolas,'Courier New',monospace\">09:13:36.599 | <span style=\"color: #008080; text-decoration-color: #008080\">INFO</span>    | Task run 'first_etl-0' - &lt;class 'pandas.core.frame.DataFrame'&gt;\n",
       "</pre>\n"
      ],
      "text/plain": [
       "09:13:36.599 | \u001b[36mINFO\u001b[0m    | Task run 'first_etl-0' - <class 'pandas.core.frame.DataFrame'>\n"
      ]
     },
     "metadata": {},
     "output_type": "display_data"
    },
    {
     "data": {
      "text/html": [
       "<pre style=\"white-space:pre;overflow-x:auto;line-height:normal;font-family:Menlo,'DejaVu Sans Mono',consolas,'Courier New',monospace\">09:13:36.602 | <span style=\"color: #008080; text-decoration-color: #008080\">INFO</span>    | Task run 'first_etl-0' - &lt;class 'pandas.core.frame.DataFrame'&gt;\n",
       "</pre>\n"
      ],
      "text/plain": [
       "09:13:36.602 | \u001b[36mINFO\u001b[0m    | Task run 'first_etl-0' - <class 'pandas.core.frame.DataFrame'>\n"
      ]
     },
     "metadata": {},
     "output_type": "display_data"
    },
    {
     "data": {
      "text/html": [
       "<pre style=\"white-space:pre;overflow-x:auto;line-height:normal;font-family:Menlo,'DejaVu Sans Mono',consolas,'Courier New',monospace\">09:13:36.604 | <span style=\"color: #008080; text-decoration-color: #008080\">INFO</span>    | Task run 'first_etl-0' - &lt;class 'pandas.core.frame.DataFrame'&gt;\n",
       "</pre>\n"
      ],
      "text/plain": [
       "09:13:36.604 | \u001b[36mINFO\u001b[0m    | Task run 'first_etl-0' - <class 'pandas.core.frame.DataFrame'>\n"
      ]
     },
     "metadata": {},
     "output_type": "display_data"
    },
    {
     "data": {
      "text/html": [
       "<pre style=\"white-space:pre;overflow-x:auto;line-height:normal;font-family:Menlo,'DejaVu Sans Mono',consolas,'Courier New',monospace\">09:13:36.607 | <span style=\"color: #008080; text-decoration-color: #008080\">INFO</span>    | Task run 'first_etl-0' - &lt;class 'pandas.core.frame.DataFrame'&gt;\n",
       "</pre>\n"
      ],
      "text/plain": [
       "09:13:36.607 | \u001b[36mINFO\u001b[0m    | Task run 'first_etl-0' - <class 'pandas.core.frame.DataFrame'>\n"
      ]
     },
     "metadata": {},
     "output_type": "display_data"
    },
    {
     "data": {
      "text/html": [
       "<pre style=\"white-space:pre;overflow-x:auto;line-height:normal;font-family:Menlo,'DejaVu Sans Mono',consolas,'Courier New',monospace\">09:13:36.610 | <span style=\"color: #008080; text-decoration-color: #008080\">INFO</span>    | Task run 'first_etl-0' - &lt;class 'pandas.core.frame.DataFrame'&gt;\n",
       "</pre>\n"
      ],
      "text/plain": [
       "09:13:36.610 | \u001b[36mINFO\u001b[0m    | Task run 'first_etl-0' - <class 'pandas.core.frame.DataFrame'>\n"
      ]
     },
     "metadata": {},
     "output_type": "display_data"
    },
    {
     "data": {
      "text/html": [
       "<pre style=\"white-space:pre;overflow-x:auto;line-height:normal;font-family:Menlo,'DejaVu Sans Mono',consolas,'Courier New',monospace\">09:13:36.612 | <span style=\"color: #008080; text-decoration-color: #008080\">INFO</span>    | Task run 'first_etl-0' - &lt;class 'pandas.core.frame.DataFrame'&gt;\n",
       "</pre>\n"
      ],
      "text/plain": [
       "09:13:36.612 | \u001b[36mINFO\u001b[0m    | Task run 'first_etl-0' - <class 'pandas.core.frame.DataFrame'>\n"
      ]
     },
     "metadata": {},
     "output_type": "display_data"
    },
    {
     "data": {
      "text/html": [
       "<pre style=\"white-space:pre;overflow-x:auto;line-height:normal;font-family:Menlo,'DejaVu Sans Mono',consolas,'Courier New',monospace\">09:13:36.615 | <span style=\"color: #008080; text-decoration-color: #008080\">INFO</span>    | Task run 'first_etl-0' - &lt;class 'pandas.core.frame.DataFrame'&gt;\n",
       "</pre>\n"
      ],
      "text/plain": [
       "09:13:36.615 | \u001b[36mINFO\u001b[0m    | Task run 'first_etl-0' - <class 'pandas.core.frame.DataFrame'>\n"
      ]
     },
     "metadata": {},
     "output_type": "display_data"
    },
    {
     "data": {
      "text/html": [
       "<pre style=\"white-space:pre;overflow-x:auto;line-height:normal;font-family:Menlo,'DejaVu Sans Mono',consolas,'Courier New',monospace\">09:13:36.618 | <span style=\"color: #008080; text-decoration-color: #008080\">INFO</span>    | Task run 'first_etl-0' - &lt;class 'pandas.core.frame.DataFrame'&gt;\n",
       "</pre>\n"
      ],
      "text/plain": [
       "09:13:36.618 | \u001b[36mINFO\u001b[0m    | Task run 'first_etl-0' - <class 'pandas.core.frame.DataFrame'>\n"
      ]
     },
     "metadata": {},
     "output_type": "display_data"
    },
    {
     "data": {
      "text/html": [
       "<pre style=\"white-space:pre;overflow-x:auto;line-height:normal;font-family:Menlo,'DejaVu Sans Mono',consolas,'Courier New',monospace\">09:13:36.621 | <span style=\"color: #008080; text-decoration-color: #008080\">INFO</span>    | Task run 'first_etl-0' - &lt;class 'pandas.core.frame.DataFrame'&gt;\n",
       "</pre>\n"
      ],
      "text/plain": [
       "09:13:36.621 | \u001b[36mINFO\u001b[0m    | Task run 'first_etl-0' - <class 'pandas.core.frame.DataFrame'>\n"
      ]
     },
     "metadata": {},
     "output_type": "display_data"
    },
    {
     "data": {
      "text/html": [
       "<pre style=\"white-space:pre;overflow-x:auto;line-height:normal;font-family:Menlo,'DejaVu Sans Mono',consolas,'Courier New',monospace\">09:13:36.623 | <span style=\"color: #008080; text-decoration-color: #008080\">INFO</span>    | Task run 'first_etl-0' - &lt;class 'pandas.core.frame.DataFrame'&gt;\n",
       "</pre>\n"
      ],
      "text/plain": [
       "09:13:36.623 | \u001b[36mINFO\u001b[0m    | Task run 'first_etl-0' - <class 'pandas.core.frame.DataFrame'>\n"
      ]
     },
     "metadata": {},
     "output_type": "display_data"
    },
    {
     "data": {
      "text/html": [
       "<pre style=\"white-space:pre;overflow-x:auto;line-height:normal;font-family:Menlo,'DejaVu Sans Mono',consolas,'Courier New',monospace\">09:13:36.626 | <span style=\"color: #008080; text-decoration-color: #008080\">INFO</span>    | Task run 'first_etl-0' - &lt;class 'pandas.core.frame.DataFrame'&gt;\n",
       "</pre>\n"
      ],
      "text/plain": [
       "09:13:36.626 | \u001b[36mINFO\u001b[0m    | Task run 'first_etl-0' - <class 'pandas.core.frame.DataFrame'>\n"
      ]
     },
     "metadata": {},
     "output_type": "display_data"
    },
    {
     "data": {
      "text/html": [
       "<pre style=\"white-space:pre;overflow-x:auto;line-height:normal;font-family:Menlo,'DejaVu Sans Mono',consolas,'Courier New',monospace\">09:13:36.629 | <span style=\"color: #008080; text-decoration-color: #008080\">INFO</span>    | Task run 'first_etl-0' - &lt;class 'pandas.core.frame.DataFrame'&gt;\n",
       "</pre>\n"
      ],
      "text/plain": [
       "09:13:36.629 | \u001b[36mINFO\u001b[0m    | Task run 'first_etl-0' - <class 'pandas.core.frame.DataFrame'>\n"
      ]
     },
     "metadata": {},
     "output_type": "display_data"
    },
    {
     "data": {
      "text/html": [
       "<pre style=\"white-space:pre;overflow-x:auto;line-height:normal;font-family:Menlo,'DejaVu Sans Mono',consolas,'Courier New',monospace\">09:13:36.633 | <span style=\"color: #008080; text-decoration-color: #008080\">INFO</span>    | Task run 'first_etl-0' - &lt;class 'pandas.core.frame.DataFrame'&gt;\n",
       "</pre>\n"
      ],
      "text/plain": [
       "09:13:36.633 | \u001b[36mINFO\u001b[0m    | Task run 'first_etl-0' - <class 'pandas.core.frame.DataFrame'>\n"
      ]
     },
     "metadata": {},
     "output_type": "display_data"
    },
    {
     "data": {
      "text/html": [
       "<pre style=\"white-space:pre;overflow-x:auto;line-height:normal;font-family:Menlo,'DejaVu Sans Mono',consolas,'Courier New',monospace\">09:13:36.636 | <span style=\"color: #008080; text-decoration-color: #008080\">INFO</span>    | Task run 'first_etl-0' - &lt;class 'pandas.core.frame.DataFrame'&gt;\n",
       "</pre>\n"
      ],
      "text/plain": [
       "09:13:36.636 | \u001b[36mINFO\u001b[0m    | Task run 'first_etl-0' - <class 'pandas.core.frame.DataFrame'>\n"
      ]
     },
     "metadata": {},
     "output_type": "display_data"
    },
    {
     "data": {
      "text/html": [
       "<pre style=\"white-space:pre;overflow-x:auto;line-height:normal;font-family:Menlo,'DejaVu Sans Mono',consolas,'Courier New',monospace\">09:13:36.639 | <span style=\"color: #008080; text-decoration-color: #008080\">INFO</span>    | Task run 'first_etl-0' - &lt;class 'pandas.core.frame.DataFrame'&gt;\n",
       "</pre>\n"
      ],
      "text/plain": [
       "09:13:36.639 | \u001b[36mINFO\u001b[0m    | Task run 'first_etl-0' - <class 'pandas.core.frame.DataFrame'>\n"
      ]
     },
     "metadata": {},
     "output_type": "display_data"
    },
    {
     "data": {
      "text/html": [
       "<pre style=\"white-space:pre;overflow-x:auto;line-height:normal;font-family:Menlo,'DejaVu Sans Mono',consolas,'Courier New',monospace\">09:13:36.642 | <span style=\"color: #008080; text-decoration-color: #008080\">INFO</span>    | Task run 'first_etl-0' - &lt;class 'pandas.core.frame.DataFrame'&gt;\n",
       "</pre>\n"
      ],
      "text/plain": [
       "09:13:36.642 | \u001b[36mINFO\u001b[0m    | Task run 'first_etl-0' - <class 'pandas.core.frame.DataFrame'>\n"
      ]
     },
     "metadata": {},
     "output_type": "display_data"
    },
    {
     "data": {
      "text/html": [
       "<pre style=\"white-space:pre;overflow-x:auto;line-height:normal;font-family:Menlo,'DejaVu Sans Mono',consolas,'Courier New',monospace\">09:13:36.645 | <span style=\"color: #008080; text-decoration-color: #008080\">INFO</span>    | Task run 'first_etl-0' - &lt;class 'pandas.core.frame.DataFrame'&gt;\n",
       "</pre>\n"
      ],
      "text/plain": [
       "09:13:36.645 | \u001b[36mINFO\u001b[0m    | Task run 'first_etl-0' - <class 'pandas.core.frame.DataFrame'>\n"
      ]
     },
     "metadata": {},
     "output_type": "display_data"
    },
    {
     "data": {
      "text/html": [
       "<pre style=\"white-space:pre;overflow-x:auto;line-height:normal;font-family:Menlo,'DejaVu Sans Mono',consolas,'Courier New',monospace\">09:13:36.647 | <span style=\"color: #008080; text-decoration-color: #008080\">INFO</span>    | Task run 'first_etl-0' - &lt;class 'pandas.core.frame.DataFrame'&gt;\n",
       "</pre>\n"
      ],
      "text/plain": [
       "09:13:36.647 | \u001b[36mINFO\u001b[0m    | Task run 'first_etl-0' - <class 'pandas.core.frame.DataFrame'>\n"
      ]
     },
     "metadata": {},
     "output_type": "display_data"
    },
    {
     "data": {
      "text/html": [
       "<pre style=\"white-space:pre;overflow-x:auto;line-height:normal;font-family:Menlo,'DejaVu Sans Mono',consolas,'Courier New',monospace\">09:13:36.650 | <span style=\"color: #008080; text-decoration-color: #008080\">INFO</span>    | Task run 'first_etl-0' - &lt;class 'pandas.core.frame.DataFrame'&gt;\n",
       "</pre>\n"
      ],
      "text/plain": [
       "09:13:36.650 | \u001b[36mINFO\u001b[0m    | Task run 'first_etl-0' - <class 'pandas.core.frame.DataFrame'>\n"
      ]
     },
     "metadata": {},
     "output_type": "display_data"
    },
    {
     "data": {
      "text/html": [
       "<pre style=\"white-space:pre;overflow-x:auto;line-height:normal;font-family:Menlo,'DejaVu Sans Mono',consolas,'Courier New',monospace\">09:13:36.652 | <span style=\"color: #008080; text-decoration-color: #008080\">INFO</span>    | Task run 'first_etl-0' - &lt;class 'pandas.core.frame.DataFrame'&gt;\n",
       "</pre>\n"
      ],
      "text/plain": [
       "09:13:36.652 | \u001b[36mINFO\u001b[0m    | Task run 'first_etl-0' - <class 'pandas.core.frame.DataFrame'>\n"
      ]
     },
     "metadata": {},
     "output_type": "display_data"
    },
    {
     "data": {
      "text/html": [
       "<pre style=\"white-space:pre;overflow-x:auto;line-height:normal;font-family:Menlo,'DejaVu Sans Mono',consolas,'Courier New',monospace\">09:13:36.656 | <span style=\"color: #008080; text-decoration-color: #008080\">INFO</span>    | Task run 'first_etl-0' - &lt;class 'pandas.core.frame.DataFrame'&gt;\n",
       "</pre>\n"
      ],
      "text/plain": [
       "09:13:36.656 | \u001b[36mINFO\u001b[0m    | Task run 'first_etl-0' - <class 'pandas.core.frame.DataFrame'>\n"
      ]
     },
     "metadata": {},
     "output_type": "display_data"
    },
    {
     "data": {
      "text/html": [
       "<pre style=\"white-space:pre;overflow-x:auto;line-height:normal;font-family:Menlo,'DejaVu Sans Mono',consolas,'Courier New',monospace\">09:13:36.659 | <span style=\"color: #008080; text-decoration-color: #008080\">INFO</span>    | Task run 'first_etl-0' - &lt;class 'pandas.core.frame.DataFrame'&gt;\n",
       "</pre>\n"
      ],
      "text/plain": [
       "09:13:36.659 | \u001b[36mINFO\u001b[0m    | Task run 'first_etl-0' - <class 'pandas.core.frame.DataFrame'>\n"
      ]
     },
     "metadata": {},
     "output_type": "display_data"
    },
    {
     "data": {
      "text/html": [
       "<pre style=\"white-space:pre;overflow-x:auto;line-height:normal;font-family:Menlo,'DejaVu Sans Mono',consolas,'Courier New',monospace\">09:13:36.661 | <span style=\"color: #008080; text-decoration-color: #008080\">INFO</span>    | Task run 'first_etl-0' - &lt;class 'pandas.core.frame.DataFrame'&gt;\n",
       "</pre>\n"
      ],
      "text/plain": [
       "09:13:36.661 | \u001b[36mINFO\u001b[0m    | Task run 'first_etl-0' - <class 'pandas.core.frame.DataFrame'>\n"
      ]
     },
     "metadata": {},
     "output_type": "display_data"
    },
    {
     "data": {
      "text/html": [
       "<pre style=\"white-space:pre;overflow-x:auto;line-height:normal;font-family:Menlo,'DejaVu Sans Mono',consolas,'Courier New',monospace\">09:13:36.663 | <span style=\"color: #008080; text-decoration-color: #008080\">INFO</span>    | Task run 'first_etl-0' - &lt;class 'pandas.core.frame.DataFrame'&gt;\n",
       "</pre>\n"
      ],
      "text/plain": [
       "09:13:36.663 | \u001b[36mINFO\u001b[0m    | Task run 'first_etl-0' - <class 'pandas.core.frame.DataFrame'>\n"
      ]
     },
     "metadata": {},
     "output_type": "display_data"
    },
    {
     "data": {
      "text/html": [
       "<pre style=\"white-space:pre;overflow-x:auto;line-height:normal;font-family:Menlo,'DejaVu Sans Mono',consolas,'Courier New',monospace\">09:13:36.665 | <span style=\"color: #008080; text-decoration-color: #008080\">INFO</span>    | Task run 'first_etl-0' - &lt;class 'pandas.core.frame.DataFrame'&gt;\n",
       "</pre>\n"
      ],
      "text/plain": [
       "09:13:36.665 | \u001b[36mINFO\u001b[0m    | Task run 'first_etl-0' - <class 'pandas.core.frame.DataFrame'>\n"
      ]
     },
     "metadata": {},
     "output_type": "display_data"
    },
    {
     "data": {
      "text/html": [
       "<pre style=\"white-space:pre;overflow-x:auto;line-height:normal;font-family:Menlo,'DejaVu Sans Mono',consolas,'Courier New',monospace\">09:13:36.668 | <span style=\"color: #008080; text-decoration-color: #008080\">INFO</span>    | Task run 'first_etl-0' - &lt;class 'pandas.core.frame.DataFrame'&gt;\n",
       "</pre>\n"
      ],
      "text/plain": [
       "09:13:36.668 | \u001b[36mINFO\u001b[0m    | Task run 'first_etl-0' - <class 'pandas.core.frame.DataFrame'>\n"
      ]
     },
     "metadata": {},
     "output_type": "display_data"
    },
    {
     "data": {
      "text/html": [
       "<pre style=\"white-space:pre;overflow-x:auto;line-height:normal;font-family:Menlo,'DejaVu Sans Mono',consolas,'Courier New',monospace\">09:13:36.671 | <span style=\"color: #008080; text-decoration-color: #008080\">INFO</span>    | Task run 'first_etl-0' - &lt;class 'pandas.core.frame.DataFrame'&gt;\n",
       "</pre>\n"
      ],
      "text/plain": [
       "09:13:36.671 | \u001b[36mINFO\u001b[0m    | Task run 'first_etl-0' - <class 'pandas.core.frame.DataFrame'>\n"
      ]
     },
     "metadata": {},
     "output_type": "display_data"
    },
    {
     "data": {
      "text/html": [
       "<pre style=\"white-space:pre;overflow-x:auto;line-height:normal;font-family:Menlo,'DejaVu Sans Mono',consolas,'Courier New',monospace\">09:13:36.674 | <span style=\"color: #008080; text-decoration-color: #008080\">INFO</span>    | Task run 'first_etl-0' - &lt;class 'pandas.core.frame.DataFrame'&gt;\n",
       "</pre>\n"
      ],
      "text/plain": [
       "09:13:36.674 | \u001b[36mINFO\u001b[0m    | Task run 'first_etl-0' - <class 'pandas.core.frame.DataFrame'>\n"
      ]
     },
     "metadata": {},
     "output_type": "display_data"
    },
    {
     "data": {
      "text/html": [
       "<pre style=\"white-space:pre;overflow-x:auto;line-height:normal;font-family:Menlo,'DejaVu Sans Mono',consolas,'Courier New',monospace\">09:13:36.676 | <span style=\"color: #008080; text-decoration-color: #008080\">INFO</span>    | Task run 'first_etl-0' - &lt;class 'pandas.core.frame.DataFrame'&gt;\n",
       "</pre>\n"
      ],
      "text/plain": [
       "09:13:36.676 | \u001b[36mINFO\u001b[0m    | Task run 'first_etl-0' - <class 'pandas.core.frame.DataFrame'>\n"
      ]
     },
     "metadata": {},
     "output_type": "display_data"
    },
    {
     "data": {
      "text/html": [
       "<pre style=\"white-space:pre;overflow-x:auto;line-height:normal;font-family:Menlo,'DejaVu Sans Mono',consolas,'Courier New',monospace\">09:13:36.678 | <span style=\"color: #008080; text-decoration-color: #008080\">INFO</span>    | Task run 'first_etl-0' - &lt;class 'pandas.core.frame.DataFrame'&gt;\n",
       "</pre>\n"
      ],
      "text/plain": [
       "09:13:36.678 | \u001b[36mINFO\u001b[0m    | Task run 'first_etl-0' - <class 'pandas.core.frame.DataFrame'>\n"
      ]
     },
     "metadata": {},
     "output_type": "display_data"
    },
    {
     "data": {
      "text/html": [
       "<pre style=\"white-space:pre;overflow-x:auto;line-height:normal;font-family:Menlo,'DejaVu Sans Mono',consolas,'Courier New',monospace\">09:13:36.681 | <span style=\"color: #008080; text-decoration-color: #008080\">INFO</span>    | Task run 'first_etl-0' - &lt;class 'pandas.core.frame.DataFrame'&gt;\n",
       "</pre>\n"
      ],
      "text/plain": [
       "09:13:36.681 | \u001b[36mINFO\u001b[0m    | Task run 'first_etl-0' - <class 'pandas.core.frame.DataFrame'>\n"
      ]
     },
     "metadata": {},
     "output_type": "display_data"
    },
    {
     "data": {
      "text/html": [
       "<pre style=\"white-space:pre;overflow-x:auto;line-height:normal;font-family:Menlo,'DejaVu Sans Mono',consolas,'Courier New',monospace\">09:13:36.684 | <span style=\"color: #008080; text-decoration-color: #008080\">INFO</span>    | Task run 'first_etl-0' - &lt;class 'pandas.core.frame.DataFrame'&gt;\n",
       "</pre>\n"
      ],
      "text/plain": [
       "09:13:36.684 | \u001b[36mINFO\u001b[0m    | Task run 'first_etl-0' - <class 'pandas.core.frame.DataFrame'>\n"
      ]
     },
     "metadata": {},
     "output_type": "display_data"
    },
    {
     "data": {
      "text/html": [
       "<pre style=\"white-space:pre;overflow-x:auto;line-height:normal;font-family:Menlo,'DejaVu Sans Mono',consolas,'Courier New',monospace\">09:13:36.688 | <span style=\"color: #008080; text-decoration-color: #008080\">INFO</span>    | Task run 'first_etl-0' - &lt;class 'pandas.core.frame.DataFrame'&gt;\n",
       "</pre>\n"
      ],
      "text/plain": [
       "09:13:36.688 | \u001b[36mINFO\u001b[0m    | Task run 'first_etl-0' - <class 'pandas.core.frame.DataFrame'>\n"
      ]
     },
     "metadata": {},
     "output_type": "display_data"
    },
    {
     "data": {
      "text/html": [
       "<pre style=\"white-space:pre;overflow-x:auto;line-height:normal;font-family:Menlo,'DejaVu Sans Mono',consolas,'Courier New',monospace\">09:13:36.691 | <span style=\"color: #008080; text-decoration-color: #008080\">INFO</span>    | Task run 'first_etl-0' - &lt;class 'pandas.core.frame.DataFrame'&gt;\n",
       "</pre>\n"
      ],
      "text/plain": [
       "09:13:36.691 | \u001b[36mINFO\u001b[0m    | Task run 'first_etl-0' - <class 'pandas.core.frame.DataFrame'>\n"
      ]
     },
     "metadata": {},
     "output_type": "display_data"
    },
    {
     "data": {
      "text/html": [
       "<pre style=\"white-space:pre;overflow-x:auto;line-height:normal;font-family:Menlo,'DejaVu Sans Mono',consolas,'Courier New',monospace\">09:13:36.694 | <span style=\"color: #008080; text-decoration-color: #008080\">INFO</span>    | Task run 'first_etl-0' - &lt;class 'pandas.core.frame.DataFrame'&gt;\n",
       "</pre>\n"
      ],
      "text/plain": [
       "09:13:36.694 | \u001b[36mINFO\u001b[0m    | Task run 'first_etl-0' - <class 'pandas.core.frame.DataFrame'>\n"
      ]
     },
     "metadata": {},
     "output_type": "display_data"
    },
    {
     "data": {
      "text/html": [
       "<pre style=\"white-space:pre;overflow-x:auto;line-height:normal;font-family:Menlo,'DejaVu Sans Mono',consolas,'Courier New',monospace\">09:13:36.698 | <span style=\"color: #008080; text-decoration-color: #008080\">INFO</span>    | Task run 'first_etl-0' - &lt;class 'pandas.core.frame.DataFrame'&gt;\n",
       "</pre>\n"
      ],
      "text/plain": [
       "09:13:36.698 | \u001b[36mINFO\u001b[0m    | Task run 'first_etl-0' - <class 'pandas.core.frame.DataFrame'>\n"
      ]
     },
     "metadata": {},
     "output_type": "display_data"
    },
    {
     "data": {
      "text/html": [
       "<pre style=\"white-space:pre;overflow-x:auto;line-height:normal;font-family:Menlo,'DejaVu Sans Mono',consolas,'Courier New',monospace\">09:13:36.701 | <span style=\"color: #008080; text-decoration-color: #008080\">INFO</span>    | Task run 'first_etl-0' - &lt;class 'pandas.core.frame.DataFrame'&gt;\n",
       "</pre>\n"
      ],
      "text/plain": [
       "09:13:36.701 | \u001b[36mINFO\u001b[0m    | Task run 'first_etl-0' - <class 'pandas.core.frame.DataFrame'>\n"
      ]
     },
     "metadata": {},
     "output_type": "display_data"
    },
    {
     "data": {
      "text/html": [
       "<pre style=\"white-space:pre;overflow-x:auto;line-height:normal;font-family:Menlo,'DejaVu Sans Mono',consolas,'Courier New',monospace\">09:13:36.704 | <span style=\"color: #008080; text-decoration-color: #008080\">INFO</span>    | Task run 'first_etl-0' - &lt;class 'pandas.core.frame.DataFrame'&gt;\n",
       "</pre>\n"
      ],
      "text/plain": [
       "09:13:36.704 | \u001b[36mINFO\u001b[0m    | Task run 'first_etl-0' - <class 'pandas.core.frame.DataFrame'>\n"
      ]
     },
     "metadata": {},
     "output_type": "display_data"
    },
    {
     "data": {
      "text/html": [
       "<pre style=\"white-space:pre;overflow-x:auto;line-height:normal;font-family:Menlo,'DejaVu Sans Mono',consolas,'Courier New',monospace\">09:13:36.708 | <span style=\"color: #008080; text-decoration-color: #008080\">INFO</span>    | Task run 'first_etl-0' - &lt;class 'pandas.core.frame.DataFrame'&gt;\n",
       "</pre>\n"
      ],
      "text/plain": [
       "09:13:36.708 | \u001b[36mINFO\u001b[0m    | Task run 'first_etl-0' - <class 'pandas.core.frame.DataFrame'>\n"
      ]
     },
     "metadata": {},
     "output_type": "display_data"
    },
    {
     "data": {
      "text/html": [
       "<pre style=\"white-space:pre;overflow-x:auto;line-height:normal;font-family:Menlo,'DejaVu Sans Mono',consolas,'Courier New',monospace\">09:13:36.711 | <span style=\"color: #008080; text-decoration-color: #008080\">INFO</span>    | Task run 'first_etl-0' - &lt;class 'pandas.core.frame.DataFrame'&gt;\n",
       "</pre>\n"
      ],
      "text/plain": [
       "09:13:36.711 | \u001b[36mINFO\u001b[0m    | Task run 'first_etl-0' - <class 'pandas.core.frame.DataFrame'>\n"
      ]
     },
     "metadata": {},
     "output_type": "display_data"
    },
    {
     "data": {
      "text/html": [
       "<pre style=\"white-space:pre;overflow-x:auto;line-height:normal;font-family:Menlo,'DejaVu Sans Mono',consolas,'Courier New',monospace\">09:13:36.713 | <span style=\"color: #008080; text-decoration-color: #008080\">INFO</span>    | Task run 'first_etl-0' - &lt;class 'pandas.core.frame.DataFrame'&gt;\n",
       "</pre>\n"
      ],
      "text/plain": [
       "09:13:36.713 | \u001b[36mINFO\u001b[0m    | Task run 'first_etl-0' - <class 'pandas.core.frame.DataFrame'>\n"
      ]
     },
     "metadata": {},
     "output_type": "display_data"
    },
    {
     "data": {
      "text/html": [
       "<pre style=\"white-space:pre;overflow-x:auto;line-height:normal;font-family:Menlo,'DejaVu Sans Mono',consolas,'Courier New',monospace\">09:13:36.716 | <span style=\"color: #008080; text-decoration-color: #008080\">INFO</span>    | Task run 'first_etl-0' - &lt;class 'pandas.core.frame.DataFrame'&gt;\n",
       "</pre>\n"
      ],
      "text/plain": [
       "09:13:36.716 | \u001b[36mINFO\u001b[0m    | Task run 'first_etl-0' - <class 'pandas.core.frame.DataFrame'>\n"
      ]
     },
     "metadata": {},
     "output_type": "display_data"
    },
    {
     "data": {
      "text/html": [
       "<pre style=\"white-space:pre;overflow-x:auto;line-height:normal;font-family:Menlo,'DejaVu Sans Mono',consolas,'Courier New',monospace\">09:13:36.718 | <span style=\"color: #008080; text-decoration-color: #008080\">INFO</span>    | Task run 'first_etl-0' - &lt;class 'pandas.core.frame.DataFrame'&gt;\n",
       "</pre>\n"
      ],
      "text/plain": [
       "09:13:36.718 | \u001b[36mINFO\u001b[0m    | Task run 'first_etl-0' - <class 'pandas.core.frame.DataFrame'>\n"
      ]
     },
     "metadata": {},
     "output_type": "display_data"
    },
    {
     "data": {
      "text/html": [
       "<pre style=\"white-space:pre;overflow-x:auto;line-height:normal;font-family:Menlo,'DejaVu Sans Mono',consolas,'Courier New',monospace\">09:13:36.721 | <span style=\"color: #008080; text-decoration-color: #008080\">INFO</span>    | Task run 'first_etl-0' - &lt;class 'pandas.core.frame.DataFrame'&gt;\n",
       "</pre>\n"
      ],
      "text/plain": [
       "09:13:36.721 | \u001b[36mINFO\u001b[0m    | Task run 'first_etl-0' - <class 'pandas.core.frame.DataFrame'>\n"
      ]
     },
     "metadata": {},
     "output_type": "display_data"
    },
    {
     "data": {
      "text/html": [
       "<pre style=\"white-space:pre;overflow-x:auto;line-height:normal;font-family:Menlo,'DejaVu Sans Mono',consolas,'Courier New',monospace\">09:13:36.723 | <span style=\"color: #008080; text-decoration-color: #008080\">INFO</span>    | Task run 'first_etl-0' - &lt;class 'pandas.core.frame.DataFrame'&gt;\n",
       "</pre>\n"
      ],
      "text/plain": [
       "09:13:36.723 | \u001b[36mINFO\u001b[0m    | Task run 'first_etl-0' - <class 'pandas.core.frame.DataFrame'>\n"
      ]
     },
     "metadata": {},
     "output_type": "display_data"
    },
    {
     "data": {
      "text/html": [
       "<pre style=\"white-space:pre;overflow-x:auto;line-height:normal;font-family:Menlo,'DejaVu Sans Mono',consolas,'Courier New',monospace\">09:13:36.726 | <span style=\"color: #008080; text-decoration-color: #008080\">INFO</span>    | Task run 'first_etl-0' - &lt;class 'pandas.core.frame.DataFrame'&gt;\n",
       "</pre>\n"
      ],
      "text/plain": [
       "09:13:36.726 | \u001b[36mINFO\u001b[0m    | Task run 'first_etl-0' - <class 'pandas.core.frame.DataFrame'>\n"
      ]
     },
     "metadata": {},
     "output_type": "display_data"
    },
    {
     "data": {
      "text/html": [
       "<pre style=\"white-space:pre;overflow-x:auto;line-height:normal;font-family:Menlo,'DejaVu Sans Mono',consolas,'Courier New',monospace\">09:13:36.730 | <span style=\"color: #008080; text-decoration-color: #008080\">INFO</span>    | Task run 'first_etl-0' - &lt;class 'pandas.core.frame.DataFrame'&gt;\n",
       "</pre>\n"
      ],
      "text/plain": [
       "09:13:36.730 | \u001b[36mINFO\u001b[0m    | Task run 'first_etl-0' - <class 'pandas.core.frame.DataFrame'>\n"
      ]
     },
     "metadata": {},
     "output_type": "display_data"
    },
    {
     "data": {
      "text/html": [
       "<pre style=\"white-space:pre;overflow-x:auto;line-height:normal;font-family:Menlo,'DejaVu Sans Mono',consolas,'Courier New',monospace\">09:13:36.733 | <span style=\"color: #008080; text-decoration-color: #008080\">INFO</span>    | Task run 'first_etl-0' - &lt;class 'pandas.core.frame.DataFrame'&gt;\n",
       "</pre>\n"
      ],
      "text/plain": [
       "09:13:36.733 | \u001b[36mINFO\u001b[0m    | Task run 'first_etl-0' - <class 'pandas.core.frame.DataFrame'>\n"
      ]
     },
     "metadata": {},
     "output_type": "display_data"
    },
    {
     "data": {
      "text/html": [
       "<pre style=\"white-space:pre;overflow-x:auto;line-height:normal;font-family:Menlo,'DejaVu Sans Mono',consolas,'Courier New',monospace\">09:13:36.736 | <span style=\"color: #008080; text-decoration-color: #008080\">INFO</span>    | Task run 'first_etl-0' - &lt;class 'pandas.core.frame.DataFrame'&gt;\n",
       "</pre>\n"
      ],
      "text/plain": [
       "09:13:36.736 | \u001b[36mINFO\u001b[0m    | Task run 'first_etl-0' - <class 'pandas.core.frame.DataFrame'>\n"
      ]
     },
     "metadata": {},
     "output_type": "display_data"
    },
    {
     "data": {
      "text/html": [
       "<pre style=\"white-space:pre;overflow-x:auto;line-height:normal;font-family:Menlo,'DejaVu Sans Mono',consolas,'Courier New',monospace\">09:13:36.739 | <span style=\"color: #008080; text-decoration-color: #008080\">INFO</span>    | Task run 'first_etl-0' - &lt;class 'pandas.core.frame.DataFrame'&gt;\n",
       "</pre>\n"
      ],
      "text/plain": [
       "09:13:36.739 | \u001b[36mINFO\u001b[0m    | Task run 'first_etl-0' - <class 'pandas.core.frame.DataFrame'>\n"
      ]
     },
     "metadata": {},
     "output_type": "display_data"
    },
    {
     "data": {
      "text/html": [
       "<pre style=\"white-space:pre;overflow-x:auto;line-height:normal;font-family:Menlo,'DejaVu Sans Mono',consolas,'Courier New',monospace\">09:13:36.743 | <span style=\"color: #008080; text-decoration-color: #008080\">INFO</span>    | Task run 'first_etl-0' - &lt;class 'pandas.core.frame.DataFrame'&gt;\n",
       "</pre>\n"
      ],
      "text/plain": [
       "09:13:36.743 | \u001b[36mINFO\u001b[0m    | Task run 'first_etl-0' - <class 'pandas.core.frame.DataFrame'>\n"
      ]
     },
     "metadata": {},
     "output_type": "display_data"
    },
    {
     "data": {
      "text/html": [
       "<pre style=\"white-space:pre;overflow-x:auto;line-height:normal;font-family:Menlo,'DejaVu Sans Mono',consolas,'Courier New',monospace\">09:13:36.746 | <span style=\"color: #008080; text-decoration-color: #008080\">INFO</span>    | Task run 'first_etl-0' - &lt;class 'pandas.core.frame.DataFrame'&gt;\n",
       "</pre>\n"
      ],
      "text/plain": [
       "09:13:36.746 | \u001b[36mINFO\u001b[0m    | Task run 'first_etl-0' - <class 'pandas.core.frame.DataFrame'>\n"
      ]
     },
     "metadata": {},
     "output_type": "display_data"
    },
    {
     "data": {
      "text/html": [
       "<pre style=\"white-space:pre;overflow-x:auto;line-height:normal;font-family:Menlo,'DejaVu Sans Mono',consolas,'Courier New',monospace\">09:13:36.749 | <span style=\"color: #008080; text-decoration-color: #008080\">INFO</span>    | Task run 'first_etl-0' - &lt;class 'pandas.core.frame.DataFrame'&gt;\n",
       "</pre>\n"
      ],
      "text/plain": [
       "09:13:36.749 | \u001b[36mINFO\u001b[0m    | Task run 'first_etl-0' - <class 'pandas.core.frame.DataFrame'>\n"
      ]
     },
     "metadata": {},
     "output_type": "display_data"
    },
    {
     "data": {
      "text/html": [
       "<pre style=\"white-space:pre;overflow-x:auto;line-height:normal;font-family:Menlo,'DejaVu Sans Mono',consolas,'Courier New',monospace\">09:13:36.753 | <span style=\"color: #008080; text-decoration-color: #008080\">INFO</span>    | Task run 'first_etl-0' - &lt;class 'pandas.core.frame.DataFrame'&gt;\n",
       "</pre>\n"
      ],
      "text/plain": [
       "09:13:36.753 | \u001b[36mINFO\u001b[0m    | Task run 'first_etl-0' - <class 'pandas.core.frame.DataFrame'>\n"
      ]
     },
     "metadata": {},
     "output_type": "display_data"
    },
    {
     "data": {
      "text/html": [
       "<pre style=\"white-space:pre;overflow-x:auto;line-height:normal;font-family:Menlo,'DejaVu Sans Mono',consolas,'Courier New',monospace\">09:13:36.757 | <span style=\"color: #008080; text-decoration-color: #008080\">INFO</span>    | Task run 'first_etl-0' - &lt;class 'pandas.core.frame.DataFrame'&gt;\n",
       "</pre>\n"
      ],
      "text/plain": [
       "09:13:36.757 | \u001b[36mINFO\u001b[0m    | Task run 'first_etl-0' - <class 'pandas.core.frame.DataFrame'>\n"
      ]
     },
     "metadata": {},
     "output_type": "display_data"
    },
    {
     "data": {
      "text/html": [
       "<pre style=\"white-space:pre;overflow-x:auto;line-height:normal;font-family:Menlo,'DejaVu Sans Mono',consolas,'Courier New',monospace\">09:13:36.760 | <span style=\"color: #008080; text-decoration-color: #008080\">INFO</span>    | Task run 'first_etl-0' - &lt;class 'pandas.core.frame.DataFrame'&gt;\n",
       "</pre>\n"
      ],
      "text/plain": [
       "09:13:36.760 | \u001b[36mINFO\u001b[0m    | Task run 'first_etl-0' - <class 'pandas.core.frame.DataFrame'>\n"
      ]
     },
     "metadata": {},
     "output_type": "display_data"
    },
    {
     "data": {
      "text/html": [
       "<pre style=\"white-space:pre;overflow-x:auto;line-height:normal;font-family:Menlo,'DejaVu Sans Mono',consolas,'Courier New',monospace\">09:13:36.762 | <span style=\"color: #008080; text-decoration-color: #008080\">INFO</span>    | Task run 'first_etl-0' - &lt;class 'pandas.core.frame.DataFrame'&gt;\n",
       "</pre>\n"
      ],
      "text/plain": [
       "09:13:36.762 | \u001b[36mINFO\u001b[0m    | Task run 'first_etl-0' - <class 'pandas.core.frame.DataFrame'>\n"
      ]
     },
     "metadata": {},
     "output_type": "display_data"
    },
    {
     "data": {
      "text/html": [
       "<pre style=\"white-space:pre;overflow-x:auto;line-height:normal;font-family:Menlo,'DejaVu Sans Mono',consolas,'Courier New',monospace\">09:13:36.765 | <span style=\"color: #008080; text-decoration-color: #008080\">INFO</span>    | Task run 'first_etl-0' - &lt;class 'pandas.core.frame.DataFrame'&gt;\n",
       "</pre>\n"
      ],
      "text/plain": [
       "09:13:36.765 | \u001b[36mINFO\u001b[0m    | Task run 'first_etl-0' - <class 'pandas.core.frame.DataFrame'>\n"
      ]
     },
     "metadata": {},
     "output_type": "display_data"
    },
    {
     "data": {
      "text/html": [
       "<pre style=\"white-space:pre;overflow-x:auto;line-height:normal;font-family:Menlo,'DejaVu Sans Mono',consolas,'Courier New',monospace\">09:13:36.767 | <span style=\"color: #008080; text-decoration-color: #008080\">INFO</span>    | Task run 'first_etl-0' - &lt;class 'pandas.core.frame.DataFrame'&gt;\n",
       "</pre>\n"
      ],
      "text/plain": [
       "09:13:36.767 | \u001b[36mINFO\u001b[0m    | Task run 'first_etl-0' - <class 'pandas.core.frame.DataFrame'>\n"
      ]
     },
     "metadata": {},
     "output_type": "display_data"
    },
    {
     "data": {
      "text/html": [
       "<pre style=\"white-space:pre;overflow-x:auto;line-height:normal;font-family:Menlo,'DejaVu Sans Mono',consolas,'Courier New',monospace\">09:13:36.771 | <span style=\"color: #008080; text-decoration-color: #008080\">INFO</span>    | Task run 'first_etl-0' - &lt;class 'pandas.core.frame.DataFrame'&gt;\n",
       "</pre>\n"
      ],
      "text/plain": [
       "09:13:36.771 | \u001b[36mINFO\u001b[0m    | Task run 'first_etl-0' - <class 'pandas.core.frame.DataFrame'>\n"
      ]
     },
     "metadata": {},
     "output_type": "display_data"
    },
    {
     "data": {
      "text/html": [
       "<pre style=\"white-space:pre;overflow-x:auto;line-height:normal;font-family:Menlo,'DejaVu Sans Mono',consolas,'Courier New',monospace\">09:13:36.775 | <span style=\"color: #008080; text-decoration-color: #008080\">INFO</span>    | Task run 'first_etl-0' - &lt;class 'pandas.core.frame.DataFrame'&gt;\n",
       "</pre>\n"
      ],
      "text/plain": [
       "09:13:36.775 | \u001b[36mINFO\u001b[0m    | Task run 'first_etl-0' - <class 'pandas.core.frame.DataFrame'>\n"
      ]
     },
     "metadata": {},
     "output_type": "display_data"
    },
    {
     "data": {
      "text/html": [
       "<pre style=\"white-space:pre;overflow-x:auto;line-height:normal;font-family:Menlo,'DejaVu Sans Mono',consolas,'Courier New',monospace\">09:13:36.778 | <span style=\"color: #008080; text-decoration-color: #008080\">INFO</span>    | Task run 'first_etl-0' - &lt;class 'pandas.core.frame.DataFrame'&gt;\n",
       "</pre>\n"
      ],
      "text/plain": [
       "09:13:36.778 | \u001b[36mINFO\u001b[0m    | Task run 'first_etl-0' - <class 'pandas.core.frame.DataFrame'>\n"
      ]
     },
     "metadata": {},
     "output_type": "display_data"
    },
    {
     "data": {
      "text/html": [
       "<pre style=\"white-space:pre;overflow-x:auto;line-height:normal;font-family:Menlo,'DejaVu Sans Mono',consolas,'Courier New',monospace\">09:13:36.780 | <span style=\"color: #008080; text-decoration-color: #008080\">INFO</span>    | Task run 'first_etl-0' - &lt;class 'pandas.core.frame.DataFrame'&gt;\n",
       "</pre>\n"
      ],
      "text/plain": [
       "09:13:36.780 | \u001b[36mINFO\u001b[0m    | Task run 'first_etl-0' - <class 'pandas.core.frame.DataFrame'>\n"
      ]
     },
     "metadata": {},
     "output_type": "display_data"
    },
    {
     "data": {
      "text/html": [
       "<pre style=\"white-space:pre;overflow-x:auto;line-height:normal;font-family:Menlo,'DejaVu Sans Mono',consolas,'Courier New',monospace\">09:13:36.783 | <span style=\"color: #008080; text-decoration-color: #008080\">INFO</span>    | Task run 'first_etl-0' - &lt;class 'pandas.core.frame.DataFrame'&gt;\n",
       "</pre>\n"
      ],
      "text/plain": [
       "09:13:36.783 | \u001b[36mINFO\u001b[0m    | Task run 'first_etl-0' - <class 'pandas.core.frame.DataFrame'>\n"
      ]
     },
     "metadata": {},
     "output_type": "display_data"
    },
    {
     "data": {
      "text/html": [
       "<pre style=\"white-space:pre;overflow-x:auto;line-height:normal;font-family:Menlo,'DejaVu Sans Mono',consolas,'Courier New',monospace\">09:13:36.786 | <span style=\"color: #008080; text-decoration-color: #008080\">INFO</span>    | Task run 'first_etl-0' - &lt;class 'pandas.core.frame.DataFrame'&gt;\n",
       "</pre>\n"
      ],
      "text/plain": [
       "09:13:36.786 | \u001b[36mINFO\u001b[0m    | Task run 'first_etl-0' - <class 'pandas.core.frame.DataFrame'>\n"
      ]
     },
     "metadata": {},
     "output_type": "display_data"
    },
    {
     "data": {
      "text/html": [
       "<pre style=\"white-space:pre;overflow-x:auto;line-height:normal;font-family:Menlo,'DejaVu Sans Mono',consolas,'Courier New',monospace\">09:13:36.792 | <span style=\"color: #008080; text-decoration-color: #008080\">INFO</span>    | Task run 'first_etl-0' - &lt;class 'pandas.core.frame.DataFrame'&gt;\n",
       "</pre>\n"
      ],
      "text/plain": [
       "09:13:36.792 | \u001b[36mINFO\u001b[0m    | Task run 'first_etl-0' - <class 'pandas.core.frame.DataFrame'>\n"
      ]
     },
     "metadata": {},
     "output_type": "display_data"
    },
    {
     "data": {
      "text/html": [
       "<pre style=\"white-space:pre;overflow-x:auto;line-height:normal;font-family:Menlo,'DejaVu Sans Mono',consolas,'Courier New',monospace\">09:13:36.795 | <span style=\"color: #008080; text-decoration-color: #008080\">INFO</span>    | Task run 'first_etl-0' - &lt;class 'pandas.core.frame.DataFrame'&gt;\n",
       "</pre>\n"
      ],
      "text/plain": [
       "09:13:36.795 | \u001b[36mINFO\u001b[0m    | Task run 'first_etl-0' - <class 'pandas.core.frame.DataFrame'>\n"
      ]
     },
     "metadata": {},
     "output_type": "display_data"
    },
    {
     "data": {
      "text/html": [
       "<pre style=\"white-space:pre;overflow-x:auto;line-height:normal;font-family:Menlo,'DejaVu Sans Mono',consolas,'Courier New',monospace\">09:13:36.798 | <span style=\"color: #008080; text-decoration-color: #008080\">INFO</span>    | Task run 'first_etl-0' - &lt;class 'pandas.core.frame.DataFrame'&gt;\n",
       "</pre>\n"
      ],
      "text/plain": [
       "09:13:36.798 | \u001b[36mINFO\u001b[0m    | Task run 'first_etl-0' - <class 'pandas.core.frame.DataFrame'>\n"
      ]
     },
     "metadata": {},
     "output_type": "display_data"
    },
    {
     "data": {
      "text/html": [
       "<pre style=\"white-space:pre;overflow-x:auto;line-height:normal;font-family:Menlo,'DejaVu Sans Mono',consolas,'Courier New',monospace\">09:13:36.801 | <span style=\"color: #008080; text-decoration-color: #008080\">INFO</span>    | Task run 'first_etl-0' - &lt;class 'pandas.core.frame.DataFrame'&gt;\n",
       "</pre>\n"
      ],
      "text/plain": [
       "09:13:36.801 | \u001b[36mINFO\u001b[0m    | Task run 'first_etl-0' - <class 'pandas.core.frame.DataFrame'>\n"
      ]
     },
     "metadata": {},
     "output_type": "display_data"
    },
    {
     "data": {
      "text/html": [
       "<pre style=\"white-space:pre;overflow-x:auto;line-height:normal;font-family:Menlo,'DejaVu Sans Mono',consolas,'Courier New',monospace\">09:13:36.803 | <span style=\"color: #008080; text-decoration-color: #008080\">INFO</span>    | Task run 'first_etl-0' - &lt;class 'pandas.core.frame.DataFrame'&gt;\n",
       "</pre>\n"
      ],
      "text/plain": [
       "09:13:36.803 | \u001b[36mINFO\u001b[0m    | Task run 'first_etl-0' - <class 'pandas.core.frame.DataFrame'>\n"
      ]
     },
     "metadata": {},
     "output_type": "display_data"
    },
    {
     "data": {
      "text/html": [
       "<pre style=\"white-space:pre;overflow-x:auto;line-height:normal;font-family:Menlo,'DejaVu Sans Mono',consolas,'Courier New',monospace\">09:13:36.806 | <span style=\"color: #008080; text-decoration-color: #008080\">INFO</span>    | Task run 'first_etl-0' - &lt;class 'pandas.core.frame.DataFrame'&gt;\n",
       "</pre>\n"
      ],
      "text/plain": [
       "09:13:36.806 | \u001b[36mINFO\u001b[0m    | Task run 'first_etl-0' - <class 'pandas.core.frame.DataFrame'>\n"
      ]
     },
     "metadata": {},
     "output_type": "display_data"
    },
    {
     "data": {
      "text/html": [
       "<pre style=\"white-space:pre;overflow-x:auto;line-height:normal;font-family:Menlo,'DejaVu Sans Mono',consolas,'Courier New',monospace\">09:13:36.809 | <span style=\"color: #008080; text-decoration-color: #008080\">INFO</span>    | Task run 'first_etl-0' - &lt;class 'pandas.core.frame.DataFrame'&gt;\n",
       "</pre>\n"
      ],
      "text/plain": [
       "09:13:36.809 | \u001b[36mINFO\u001b[0m    | Task run 'first_etl-0' - <class 'pandas.core.frame.DataFrame'>\n"
      ]
     },
     "metadata": {},
     "output_type": "display_data"
    },
    {
     "data": {
      "text/html": [
       "<pre style=\"white-space:pre;overflow-x:auto;line-height:normal;font-family:Menlo,'DejaVu Sans Mono',consolas,'Courier New',monospace\">09:13:36.812 | <span style=\"color: #008080; text-decoration-color: #008080\">INFO</span>    | Task run 'first_etl-0' - &lt;class 'pandas.core.frame.DataFrame'&gt;\n",
       "</pre>\n"
      ],
      "text/plain": [
       "09:13:36.812 | \u001b[36mINFO\u001b[0m    | Task run 'first_etl-0' - <class 'pandas.core.frame.DataFrame'>\n"
      ]
     },
     "metadata": {},
     "output_type": "display_data"
    },
    {
     "data": {
      "text/html": [
       "<pre style=\"white-space:pre;overflow-x:auto;line-height:normal;font-family:Menlo,'DejaVu Sans Mono',consolas,'Courier New',monospace\">09:13:36.815 | <span style=\"color: #008080; text-decoration-color: #008080\">INFO</span>    | Task run 'first_etl-0' - &lt;class 'pandas.core.frame.DataFrame'&gt;\n",
       "</pre>\n"
      ],
      "text/plain": [
       "09:13:36.815 | \u001b[36mINFO\u001b[0m    | Task run 'first_etl-0' - <class 'pandas.core.frame.DataFrame'>\n"
      ]
     },
     "metadata": {},
     "output_type": "display_data"
    },
    {
     "data": {
      "text/html": [
       "<pre style=\"white-space:pre;overflow-x:auto;line-height:normal;font-family:Menlo,'DejaVu Sans Mono',consolas,'Courier New',monospace\">09:13:36.819 | <span style=\"color: #008080; text-decoration-color: #008080\">INFO</span>    | Task run 'first_etl-0' - &lt;class 'pandas.core.frame.DataFrame'&gt;\n",
       "</pre>\n"
      ],
      "text/plain": [
       "09:13:36.819 | \u001b[36mINFO\u001b[0m    | Task run 'first_etl-0' - <class 'pandas.core.frame.DataFrame'>\n"
      ]
     },
     "metadata": {},
     "output_type": "display_data"
    },
    {
     "data": {
      "text/html": [
       "<pre style=\"white-space:pre;overflow-x:auto;line-height:normal;font-family:Menlo,'DejaVu Sans Mono',consolas,'Courier New',monospace\">09:13:36.822 | <span style=\"color: #008080; text-decoration-color: #008080\">INFO</span>    | Task run 'first_etl-0' - &lt;class 'pandas.core.frame.DataFrame'&gt;\n",
       "</pre>\n"
      ],
      "text/plain": [
       "09:13:36.822 | \u001b[36mINFO\u001b[0m    | Task run 'first_etl-0' - <class 'pandas.core.frame.DataFrame'>\n"
      ]
     },
     "metadata": {},
     "output_type": "display_data"
    },
    {
     "data": {
      "text/html": [
       "<pre style=\"white-space:pre;overflow-x:auto;line-height:normal;font-family:Menlo,'DejaVu Sans Mono',consolas,'Courier New',monospace\">09:13:36.826 | <span style=\"color: #008080; text-decoration-color: #008080\">INFO</span>    | Task run 'first_etl-0' - &lt;class 'pandas.core.frame.DataFrame'&gt;\n",
       "</pre>\n"
      ],
      "text/plain": [
       "09:13:36.826 | \u001b[36mINFO\u001b[0m    | Task run 'first_etl-0' - <class 'pandas.core.frame.DataFrame'>\n"
      ]
     },
     "metadata": {},
     "output_type": "display_data"
    },
    {
     "data": {
      "text/html": [
       "<pre style=\"white-space:pre;overflow-x:auto;line-height:normal;font-family:Menlo,'DejaVu Sans Mono',consolas,'Courier New',monospace\">09:13:36.829 | <span style=\"color: #008080; text-decoration-color: #008080\">INFO</span>    | Task run 'first_etl-0' - &lt;class 'pandas.core.frame.DataFrame'&gt;\n",
       "</pre>\n"
      ],
      "text/plain": [
       "09:13:36.829 | \u001b[36mINFO\u001b[0m    | Task run 'first_etl-0' - <class 'pandas.core.frame.DataFrame'>\n"
      ]
     },
     "metadata": {},
     "output_type": "display_data"
    },
    {
     "data": {
      "text/html": [
       "<pre style=\"white-space:pre;overflow-x:auto;line-height:normal;font-family:Menlo,'DejaVu Sans Mono',consolas,'Courier New',monospace\">09:13:36.831 | <span style=\"color: #008080; text-decoration-color: #008080\">INFO</span>    | Task run 'first_etl-0' - &lt;class 'pandas.core.frame.DataFrame'&gt;\n",
       "</pre>\n"
      ],
      "text/plain": [
       "09:13:36.831 | \u001b[36mINFO\u001b[0m    | Task run 'first_etl-0' - <class 'pandas.core.frame.DataFrame'>\n"
      ]
     },
     "metadata": {},
     "output_type": "display_data"
    },
    {
     "data": {
      "text/html": [
       "<pre style=\"white-space:pre;overflow-x:auto;line-height:normal;font-family:Menlo,'DejaVu Sans Mono',consolas,'Courier New',monospace\">09:13:36.834 | <span style=\"color: #008080; text-decoration-color: #008080\">INFO</span>    | Task run 'first_etl-0' - &lt;class 'pandas.core.frame.DataFrame'&gt;\n",
       "</pre>\n"
      ],
      "text/plain": [
       "09:13:36.834 | \u001b[36mINFO\u001b[0m    | Task run 'first_etl-0' - <class 'pandas.core.frame.DataFrame'>\n"
      ]
     },
     "metadata": {},
     "output_type": "display_data"
    },
    {
     "data": {
      "text/html": [
       "<pre style=\"white-space:pre;overflow-x:auto;line-height:normal;font-family:Menlo,'DejaVu Sans Mono',consolas,'Courier New',monospace\">09:13:36.836 | <span style=\"color: #008080; text-decoration-color: #008080\">INFO</span>    | Task run 'first_etl-0' - &lt;class 'pandas.core.frame.DataFrame'&gt;\n",
       "</pre>\n"
      ],
      "text/plain": [
       "09:13:36.836 | \u001b[36mINFO\u001b[0m    | Task run 'first_etl-0' - <class 'pandas.core.frame.DataFrame'>\n"
      ]
     },
     "metadata": {},
     "output_type": "display_data"
    },
    {
     "data": {
      "text/html": [
       "<pre style=\"white-space:pre;overflow-x:auto;line-height:normal;font-family:Menlo,'DejaVu Sans Mono',consolas,'Courier New',monospace\">09:13:36.839 | <span style=\"color: #008080; text-decoration-color: #008080\">INFO</span>    | Task run 'first_etl-0' - &lt;class 'pandas.core.frame.DataFrame'&gt;\n",
       "</pre>\n"
      ],
      "text/plain": [
       "09:13:36.839 | \u001b[36mINFO\u001b[0m    | Task run 'first_etl-0' - <class 'pandas.core.frame.DataFrame'>\n"
      ]
     },
     "metadata": {},
     "output_type": "display_data"
    },
    {
     "data": {
      "text/html": [
       "<pre style=\"white-space:pre;overflow-x:auto;line-height:normal;font-family:Menlo,'DejaVu Sans Mono',consolas,'Courier New',monospace\">09:13:36.842 | <span style=\"color: #008080; text-decoration-color: #008080\">INFO</span>    | Task run 'first_etl-0' - &lt;class 'pandas.core.frame.DataFrame'&gt;\n",
       "</pre>\n"
      ],
      "text/plain": [
       "09:13:36.842 | \u001b[36mINFO\u001b[0m    | Task run 'first_etl-0' - <class 'pandas.core.frame.DataFrame'>\n"
      ]
     },
     "metadata": {},
     "output_type": "display_data"
    },
    {
     "data": {
      "text/html": [
       "<pre style=\"white-space:pre;overflow-x:auto;line-height:normal;font-family:Menlo,'DejaVu Sans Mono',consolas,'Courier New',monospace\">09:13:36.845 | <span style=\"color: #008080; text-decoration-color: #008080\">INFO</span>    | Task run 'first_etl-0' - &lt;class 'pandas.core.frame.DataFrame'&gt;\n",
       "</pre>\n"
      ],
      "text/plain": [
       "09:13:36.845 | \u001b[36mINFO\u001b[0m    | Task run 'first_etl-0' - <class 'pandas.core.frame.DataFrame'>\n"
      ]
     },
     "metadata": {},
     "output_type": "display_data"
    },
    {
     "data": {
      "text/html": [
       "<pre style=\"white-space:pre;overflow-x:auto;line-height:normal;font-family:Menlo,'DejaVu Sans Mono',consolas,'Courier New',monospace\">09:13:36.847 | <span style=\"color: #008080; text-decoration-color: #008080\">INFO</span>    | Task run 'first_etl-0' - &lt;class 'pandas.core.frame.DataFrame'&gt;\n",
       "</pre>\n"
      ],
      "text/plain": [
       "09:13:36.847 | \u001b[36mINFO\u001b[0m    | Task run 'first_etl-0' - <class 'pandas.core.frame.DataFrame'>\n"
      ]
     },
     "metadata": {},
     "output_type": "display_data"
    },
    {
     "data": {
      "text/html": [
       "<pre style=\"white-space:pre;overflow-x:auto;line-height:normal;font-family:Menlo,'DejaVu Sans Mono',consolas,'Courier New',monospace\">09:13:36.849 | <span style=\"color: #008080; text-decoration-color: #008080\">INFO</span>    | Task run 'first_etl-0' - &lt;class 'pandas.core.frame.DataFrame'&gt;\n",
       "</pre>\n"
      ],
      "text/plain": [
       "09:13:36.849 | \u001b[36mINFO\u001b[0m    | Task run 'first_etl-0' - <class 'pandas.core.frame.DataFrame'>\n"
      ]
     },
     "metadata": {},
     "output_type": "display_data"
    },
    {
     "data": {
      "text/html": [
       "<pre style=\"white-space:pre;overflow-x:auto;line-height:normal;font-family:Menlo,'DejaVu Sans Mono',consolas,'Courier New',monospace\">09:13:36.851 | <span style=\"color: #008080; text-decoration-color: #008080\">INFO</span>    | Task run 'first_etl-0' - &lt;class 'pandas.core.frame.DataFrame'&gt;\n",
       "</pre>\n"
      ],
      "text/plain": [
       "09:13:36.851 | \u001b[36mINFO\u001b[0m    | Task run 'first_etl-0' - <class 'pandas.core.frame.DataFrame'>\n"
      ]
     },
     "metadata": {},
     "output_type": "display_data"
    },
    {
     "data": {
      "text/html": [
       "<pre style=\"white-space:pre;overflow-x:auto;line-height:normal;font-family:Menlo,'DejaVu Sans Mono',consolas,'Courier New',monospace\">09:13:36.854 | <span style=\"color: #008080; text-decoration-color: #008080\">INFO</span>    | Task run 'first_etl-0' - &lt;class 'pandas.core.frame.DataFrame'&gt;\n",
       "</pre>\n"
      ],
      "text/plain": [
       "09:13:36.854 | \u001b[36mINFO\u001b[0m    | Task run 'first_etl-0' - <class 'pandas.core.frame.DataFrame'>\n"
      ]
     },
     "metadata": {},
     "output_type": "display_data"
    },
    {
     "data": {
      "text/html": [
       "<pre style=\"white-space:pre;overflow-x:auto;line-height:normal;font-family:Menlo,'DejaVu Sans Mono',consolas,'Courier New',monospace\">09:13:36.856 | <span style=\"color: #008080; text-decoration-color: #008080\">INFO</span>    | Task run 'first_etl-0' - &lt;class 'pandas.core.frame.DataFrame'&gt;\n",
       "</pre>\n"
      ],
      "text/plain": [
       "09:13:36.856 | \u001b[36mINFO\u001b[0m    | Task run 'first_etl-0' - <class 'pandas.core.frame.DataFrame'>\n"
      ]
     },
     "metadata": {},
     "output_type": "display_data"
    },
    {
     "data": {
      "text/html": [
       "<pre style=\"white-space:pre;overflow-x:auto;line-height:normal;font-family:Menlo,'DejaVu Sans Mono',consolas,'Courier New',monospace\">09:13:36.859 | <span style=\"color: #008080; text-decoration-color: #008080\">INFO</span>    | Task run 'first_etl-0' - &lt;class 'pandas.core.frame.DataFrame'&gt;\n",
       "</pre>\n"
      ],
      "text/plain": [
       "09:13:36.859 | \u001b[36mINFO\u001b[0m    | Task run 'first_etl-0' - <class 'pandas.core.frame.DataFrame'>\n"
      ]
     },
     "metadata": {},
     "output_type": "display_data"
    },
    {
     "data": {
      "text/html": [
       "<pre style=\"white-space:pre;overflow-x:auto;line-height:normal;font-family:Menlo,'DejaVu Sans Mono',consolas,'Courier New',monospace\">09:13:36.862 | <span style=\"color: #008080; text-decoration-color: #008080\">INFO</span>    | Task run 'first_etl-0' - &lt;class 'pandas.core.frame.DataFrame'&gt;\n",
       "</pre>\n"
      ],
      "text/plain": [
       "09:13:36.862 | \u001b[36mINFO\u001b[0m    | Task run 'first_etl-0' - <class 'pandas.core.frame.DataFrame'>\n"
      ]
     },
     "metadata": {},
     "output_type": "display_data"
    },
    {
     "data": {
      "text/html": [
       "<pre style=\"white-space:pre;overflow-x:auto;line-height:normal;font-family:Menlo,'DejaVu Sans Mono',consolas,'Courier New',monospace\">09:13:36.864 | <span style=\"color: #008080; text-decoration-color: #008080\">INFO</span>    | Task run 'first_etl-0' - &lt;class 'pandas.core.frame.DataFrame'&gt;\n",
       "</pre>\n"
      ],
      "text/plain": [
       "09:13:36.864 | \u001b[36mINFO\u001b[0m    | Task run 'first_etl-0' - <class 'pandas.core.frame.DataFrame'>\n"
      ]
     },
     "metadata": {},
     "output_type": "display_data"
    },
    {
     "data": {
      "text/html": [
       "<pre style=\"white-space:pre;overflow-x:auto;line-height:normal;font-family:Menlo,'DejaVu Sans Mono',consolas,'Courier New',monospace\">09:13:36.867 | <span style=\"color: #008080; text-decoration-color: #008080\">INFO</span>    | Task run 'first_etl-0' - &lt;class 'pandas.core.frame.DataFrame'&gt;\n",
       "</pre>\n"
      ],
      "text/plain": [
       "09:13:36.867 | \u001b[36mINFO\u001b[0m    | Task run 'first_etl-0' - <class 'pandas.core.frame.DataFrame'>\n"
      ]
     },
     "metadata": {},
     "output_type": "display_data"
    },
    {
     "data": {
      "text/html": [
       "<pre style=\"white-space:pre;overflow-x:auto;line-height:normal;font-family:Menlo,'DejaVu Sans Mono',consolas,'Courier New',monospace\">09:13:36.870 | <span style=\"color: #008080; text-decoration-color: #008080\">INFO</span>    | Task run 'first_etl-0' - &lt;class 'pandas.core.frame.DataFrame'&gt;\n",
       "</pre>\n"
      ],
      "text/plain": [
       "09:13:36.870 | \u001b[36mINFO\u001b[0m    | Task run 'first_etl-0' - <class 'pandas.core.frame.DataFrame'>\n"
      ]
     },
     "metadata": {},
     "output_type": "display_data"
    },
    {
     "data": {
      "text/html": [
       "<pre style=\"white-space:pre;overflow-x:auto;line-height:normal;font-family:Menlo,'DejaVu Sans Mono',consolas,'Courier New',monospace\">09:13:36.874 | <span style=\"color: #008080; text-decoration-color: #008080\">INFO</span>    | Task run 'first_etl-0' - &lt;class 'pandas.core.frame.DataFrame'&gt;\n",
       "</pre>\n"
      ],
      "text/plain": [
       "09:13:36.874 | \u001b[36mINFO\u001b[0m    | Task run 'first_etl-0' - <class 'pandas.core.frame.DataFrame'>\n"
      ]
     },
     "metadata": {},
     "output_type": "display_data"
    },
    {
     "data": {
      "text/html": [
       "<pre style=\"white-space:pre;overflow-x:auto;line-height:normal;font-family:Menlo,'DejaVu Sans Mono',consolas,'Courier New',monospace\">09:13:36.877 | <span style=\"color: #008080; text-decoration-color: #008080\">INFO</span>    | Task run 'first_etl-0' - &lt;class 'pandas.core.frame.DataFrame'&gt;\n",
       "</pre>\n"
      ],
      "text/plain": [
       "09:13:36.877 | \u001b[36mINFO\u001b[0m    | Task run 'first_etl-0' - <class 'pandas.core.frame.DataFrame'>\n"
      ]
     },
     "metadata": {},
     "output_type": "display_data"
    },
    {
     "data": {
      "text/html": [
       "<pre style=\"white-space:pre;overflow-x:auto;line-height:normal;font-family:Menlo,'DejaVu Sans Mono',consolas,'Courier New',monospace\">09:13:36.880 | <span style=\"color: #008080; text-decoration-color: #008080\">INFO</span>    | Task run 'first_etl-0' - &lt;class 'pandas.core.frame.DataFrame'&gt;\n",
       "</pre>\n"
      ],
      "text/plain": [
       "09:13:36.880 | \u001b[36mINFO\u001b[0m    | Task run 'first_etl-0' - <class 'pandas.core.frame.DataFrame'>\n"
      ]
     },
     "metadata": {},
     "output_type": "display_data"
    },
    {
     "data": {
      "text/html": [
       "<pre style=\"white-space:pre;overflow-x:auto;line-height:normal;font-family:Menlo,'DejaVu Sans Mono',consolas,'Courier New',monospace\">09:13:36.882 | <span style=\"color: #008080; text-decoration-color: #008080\">INFO</span>    | Task run 'first_etl-0' - &lt;class 'pandas.core.frame.DataFrame'&gt;\n",
       "</pre>\n"
      ],
      "text/plain": [
       "09:13:36.882 | \u001b[36mINFO\u001b[0m    | Task run 'first_etl-0' - <class 'pandas.core.frame.DataFrame'>\n"
      ]
     },
     "metadata": {},
     "output_type": "display_data"
    },
    {
     "data": {
      "text/html": [
       "<pre style=\"white-space:pre;overflow-x:auto;line-height:normal;font-family:Menlo,'DejaVu Sans Mono',consolas,'Courier New',monospace\">09:13:36.885 | <span style=\"color: #008080; text-decoration-color: #008080\">INFO</span>    | Task run 'first_etl-0' - &lt;class 'pandas.core.frame.DataFrame'&gt;\n",
       "</pre>\n"
      ],
      "text/plain": [
       "09:13:36.885 | \u001b[36mINFO\u001b[0m    | Task run 'first_etl-0' - <class 'pandas.core.frame.DataFrame'>\n"
      ]
     },
     "metadata": {},
     "output_type": "display_data"
    },
    {
     "data": {
      "text/html": [
       "<pre style=\"white-space:pre;overflow-x:auto;line-height:normal;font-family:Menlo,'DejaVu Sans Mono',consolas,'Courier New',monospace\">09:13:36.888 | <span style=\"color: #008080; text-decoration-color: #008080\">INFO</span>    | Task run 'first_etl-0' - &lt;class 'pandas.core.frame.DataFrame'&gt;\n",
       "</pre>\n"
      ],
      "text/plain": [
       "09:13:36.888 | \u001b[36mINFO\u001b[0m    | Task run 'first_etl-0' - <class 'pandas.core.frame.DataFrame'>\n"
      ]
     },
     "metadata": {},
     "output_type": "display_data"
    },
    {
     "data": {
      "text/html": [
       "<pre style=\"white-space:pre;overflow-x:auto;line-height:normal;font-family:Menlo,'DejaVu Sans Mono',consolas,'Courier New',monospace\">09:13:36.891 | <span style=\"color: #008080; text-decoration-color: #008080\">INFO</span>    | Task run 'first_etl-0' - &lt;class 'pandas.core.frame.DataFrame'&gt;\n",
       "</pre>\n"
      ],
      "text/plain": [
       "09:13:36.891 | \u001b[36mINFO\u001b[0m    | Task run 'first_etl-0' - <class 'pandas.core.frame.DataFrame'>\n"
      ]
     },
     "metadata": {},
     "output_type": "display_data"
    },
    {
     "data": {
      "text/html": [
       "<pre style=\"white-space:pre;overflow-x:auto;line-height:normal;font-family:Menlo,'DejaVu Sans Mono',consolas,'Courier New',monospace\">09:13:36.894 | <span style=\"color: #008080; text-decoration-color: #008080\">INFO</span>    | Task run 'first_etl-0' - &lt;class 'pandas.core.frame.DataFrame'&gt;\n",
       "</pre>\n"
      ],
      "text/plain": [
       "09:13:36.894 | \u001b[36mINFO\u001b[0m    | Task run 'first_etl-0' - <class 'pandas.core.frame.DataFrame'>\n"
      ]
     },
     "metadata": {},
     "output_type": "display_data"
    },
    {
     "data": {
      "text/html": [
       "<pre style=\"white-space:pre;overflow-x:auto;line-height:normal;font-family:Menlo,'DejaVu Sans Mono',consolas,'Courier New',monospace\">09:13:36.898 | <span style=\"color: #008080; text-decoration-color: #008080\">INFO</span>    | Task run 'first_etl-0' - &lt;class 'pandas.core.frame.DataFrame'&gt;\n",
       "</pre>\n"
      ],
      "text/plain": [
       "09:13:36.898 | \u001b[36mINFO\u001b[0m    | Task run 'first_etl-0' - <class 'pandas.core.frame.DataFrame'>\n"
      ]
     },
     "metadata": {},
     "output_type": "display_data"
    },
    {
     "data": {
      "text/html": [
       "<pre style=\"white-space:pre;overflow-x:auto;line-height:normal;font-family:Menlo,'DejaVu Sans Mono',consolas,'Courier New',monospace\">09:13:36.900 | <span style=\"color: #008080; text-decoration-color: #008080\">INFO</span>    | Task run 'first_etl-0' - &lt;class 'pandas.core.frame.DataFrame'&gt;\n",
       "</pre>\n"
      ],
      "text/plain": [
       "09:13:36.900 | \u001b[36mINFO\u001b[0m    | Task run 'first_etl-0' - <class 'pandas.core.frame.DataFrame'>\n"
      ]
     },
     "metadata": {},
     "output_type": "display_data"
    },
    {
     "data": {
      "text/html": [
       "<pre style=\"white-space:pre;overflow-x:auto;line-height:normal;font-family:Menlo,'DejaVu Sans Mono',consolas,'Courier New',monospace\">09:13:36.902 | <span style=\"color: #008080; text-decoration-color: #008080\">INFO</span>    | Task run 'first_etl-0' - &lt;class 'pandas.core.frame.DataFrame'&gt;\n",
       "</pre>\n"
      ],
      "text/plain": [
       "09:13:36.902 | \u001b[36mINFO\u001b[0m    | Task run 'first_etl-0' - <class 'pandas.core.frame.DataFrame'>\n"
      ]
     },
     "metadata": {},
     "output_type": "display_data"
    },
    {
     "data": {
      "text/html": [
       "<pre style=\"white-space:pre;overflow-x:auto;line-height:normal;font-family:Menlo,'DejaVu Sans Mono',consolas,'Courier New',monospace\">09:13:36.905 | <span style=\"color: #008080; text-decoration-color: #008080\">INFO</span>    | Task run 'first_etl-0' - &lt;class 'pandas.core.frame.DataFrame'&gt;\n",
       "</pre>\n"
      ],
      "text/plain": [
       "09:13:36.905 | \u001b[36mINFO\u001b[0m    | Task run 'first_etl-0' - <class 'pandas.core.frame.DataFrame'>\n"
      ]
     },
     "metadata": {},
     "output_type": "display_data"
    },
    {
     "data": {
      "text/html": [
       "<pre style=\"white-space:pre;overflow-x:auto;line-height:normal;font-family:Menlo,'DejaVu Sans Mono',consolas,'Courier New',monospace\">09:13:36.908 | <span style=\"color: #008080; text-decoration-color: #008080\">INFO</span>    | Task run 'first_etl-0' - &lt;class 'pandas.core.frame.DataFrame'&gt;\n",
       "</pre>\n"
      ],
      "text/plain": [
       "09:13:36.908 | \u001b[36mINFO\u001b[0m    | Task run 'first_etl-0' - <class 'pandas.core.frame.DataFrame'>\n"
      ]
     },
     "metadata": {},
     "output_type": "display_data"
    },
    {
     "data": {
      "text/html": [
       "<pre style=\"white-space:pre;overflow-x:auto;line-height:normal;font-family:Menlo,'DejaVu Sans Mono',consolas,'Courier New',monospace\">09:13:36.911 | <span style=\"color: #008080; text-decoration-color: #008080\">INFO</span>    | Task run 'first_etl-0' - &lt;class 'pandas.core.frame.DataFrame'&gt;\n",
       "</pre>\n"
      ],
      "text/plain": [
       "09:13:36.911 | \u001b[36mINFO\u001b[0m    | Task run 'first_etl-0' - <class 'pandas.core.frame.DataFrame'>\n"
      ]
     },
     "metadata": {},
     "output_type": "display_data"
    },
    {
     "data": {
      "text/html": [
       "<pre style=\"white-space:pre;overflow-x:auto;line-height:normal;font-family:Menlo,'DejaVu Sans Mono',consolas,'Courier New',monospace\">09:13:36.914 | <span style=\"color: #008080; text-decoration-color: #008080\">INFO</span>    | Task run 'first_etl-0' - &lt;class 'pandas.core.frame.DataFrame'&gt;\n",
       "</pre>\n"
      ],
      "text/plain": [
       "09:13:36.914 | \u001b[36mINFO\u001b[0m    | Task run 'first_etl-0' - <class 'pandas.core.frame.DataFrame'>\n"
      ]
     },
     "metadata": {},
     "output_type": "display_data"
    },
    {
     "data": {
      "text/html": [
       "<pre style=\"white-space:pre;overflow-x:auto;line-height:normal;font-family:Menlo,'DejaVu Sans Mono',consolas,'Courier New',monospace\">09:13:36.917 | <span style=\"color: #008080; text-decoration-color: #008080\">INFO</span>    | Task run 'first_etl-0' - &lt;class 'pandas.core.frame.DataFrame'&gt;\n",
       "</pre>\n"
      ],
      "text/plain": [
       "09:13:36.917 | \u001b[36mINFO\u001b[0m    | Task run 'first_etl-0' - <class 'pandas.core.frame.DataFrame'>\n"
      ]
     },
     "metadata": {},
     "output_type": "display_data"
    },
    {
     "data": {
      "text/html": [
       "<pre style=\"white-space:pre;overflow-x:auto;line-height:normal;font-family:Menlo,'DejaVu Sans Mono',consolas,'Courier New',monospace\">09:13:36.922 | <span style=\"color: #008080; text-decoration-color: #008080\">INFO</span>    | Task run 'first_etl-0' - &lt;class 'pandas.core.frame.DataFrame'&gt;\n",
       "</pre>\n"
      ],
      "text/plain": [
       "09:13:36.922 | \u001b[36mINFO\u001b[0m    | Task run 'first_etl-0' - <class 'pandas.core.frame.DataFrame'>\n"
      ]
     },
     "metadata": {},
     "output_type": "display_data"
    },
    {
     "data": {
      "text/html": [
       "<pre style=\"white-space:pre;overflow-x:auto;line-height:normal;font-family:Menlo,'DejaVu Sans Mono',consolas,'Courier New',monospace\">09:13:36.927 | <span style=\"color: #008080; text-decoration-color: #008080\">INFO</span>    | Task run 'first_etl-0' - &lt;class 'pandas.core.frame.DataFrame'&gt;\n",
       "</pre>\n"
      ],
      "text/plain": [
       "09:13:36.927 | \u001b[36mINFO\u001b[0m    | Task run 'first_etl-0' - <class 'pandas.core.frame.DataFrame'>\n"
      ]
     },
     "metadata": {},
     "output_type": "display_data"
    },
    {
     "data": {
      "text/html": [
       "<pre style=\"white-space:pre;overflow-x:auto;line-height:normal;font-family:Menlo,'DejaVu Sans Mono',consolas,'Courier New',monospace\">09:13:36.930 | <span style=\"color: #008080; text-decoration-color: #008080\">INFO</span>    | Task run 'first_etl-0' - &lt;class 'pandas.core.frame.DataFrame'&gt;\n",
       "</pre>\n"
      ],
      "text/plain": [
       "09:13:36.930 | \u001b[36mINFO\u001b[0m    | Task run 'first_etl-0' - <class 'pandas.core.frame.DataFrame'>\n"
      ]
     },
     "metadata": {},
     "output_type": "display_data"
    },
    {
     "data": {
      "text/html": [
       "<pre style=\"white-space:pre;overflow-x:auto;line-height:normal;font-family:Menlo,'DejaVu Sans Mono',consolas,'Courier New',monospace\">09:13:36.933 | <span style=\"color: #008080; text-decoration-color: #008080\">INFO</span>    | Task run 'first_etl-0' - &lt;class 'pandas.core.frame.DataFrame'&gt;\n",
       "</pre>\n"
      ],
      "text/plain": [
       "09:13:36.933 | \u001b[36mINFO\u001b[0m    | Task run 'first_etl-0' - <class 'pandas.core.frame.DataFrame'>\n"
      ]
     },
     "metadata": {},
     "output_type": "display_data"
    },
    {
     "data": {
      "text/html": [
       "<pre style=\"white-space:pre;overflow-x:auto;line-height:normal;font-family:Menlo,'DejaVu Sans Mono',consolas,'Courier New',monospace\">09:13:36.936 | <span style=\"color: #008080; text-decoration-color: #008080\">INFO</span>    | Task run 'first_etl-0' - &lt;class 'pandas.core.frame.DataFrame'&gt;\n",
       "</pre>\n"
      ],
      "text/plain": [
       "09:13:36.936 | \u001b[36mINFO\u001b[0m    | Task run 'first_etl-0' - <class 'pandas.core.frame.DataFrame'>\n"
      ]
     },
     "metadata": {},
     "output_type": "display_data"
    },
    {
     "data": {
      "text/html": [
       "<pre style=\"white-space:pre;overflow-x:auto;line-height:normal;font-family:Menlo,'DejaVu Sans Mono',consolas,'Courier New',monospace\">09:13:36.938 | <span style=\"color: #008080; text-decoration-color: #008080\">INFO</span>    | Task run 'first_etl-0' - &lt;class 'pandas.core.frame.DataFrame'&gt;\n",
       "</pre>\n"
      ],
      "text/plain": [
       "09:13:36.938 | \u001b[36mINFO\u001b[0m    | Task run 'first_etl-0' - <class 'pandas.core.frame.DataFrame'>\n"
      ]
     },
     "metadata": {},
     "output_type": "display_data"
    },
    {
     "data": {
      "text/html": [
       "<pre style=\"white-space:pre;overflow-x:auto;line-height:normal;font-family:Menlo,'DejaVu Sans Mono',consolas,'Courier New',monospace\">09:13:36.942 | <span style=\"color: #008080; text-decoration-color: #008080\">INFO</span>    | Task run 'first_etl-0' - &lt;class 'pandas.core.frame.DataFrame'&gt;\n",
       "</pre>\n"
      ],
      "text/plain": [
       "09:13:36.942 | \u001b[36mINFO\u001b[0m    | Task run 'first_etl-0' - <class 'pandas.core.frame.DataFrame'>\n"
      ]
     },
     "metadata": {},
     "output_type": "display_data"
    },
    {
     "data": {
      "text/html": [
       "<pre style=\"white-space:pre;overflow-x:auto;line-height:normal;font-family:Menlo,'DejaVu Sans Mono',consolas,'Courier New',monospace\">09:13:36.945 | <span style=\"color: #008080; text-decoration-color: #008080\">INFO</span>    | Task run 'first_etl-0' - &lt;class 'pandas.core.frame.DataFrame'&gt;\n",
       "</pre>\n"
      ],
      "text/plain": [
       "09:13:36.945 | \u001b[36mINFO\u001b[0m    | Task run 'first_etl-0' - <class 'pandas.core.frame.DataFrame'>\n"
      ]
     },
     "metadata": {},
     "output_type": "display_data"
    },
    {
     "data": {
      "text/html": [
       "<pre style=\"white-space:pre;overflow-x:auto;line-height:normal;font-family:Menlo,'DejaVu Sans Mono',consolas,'Courier New',monospace\">09:13:36.948 | <span style=\"color: #008080; text-decoration-color: #008080\">INFO</span>    | Task run 'first_etl-0' - &lt;class 'pandas.core.frame.DataFrame'&gt;\n",
       "</pre>\n"
      ],
      "text/plain": [
       "09:13:36.948 | \u001b[36mINFO\u001b[0m    | Task run 'first_etl-0' - <class 'pandas.core.frame.DataFrame'>\n"
      ]
     },
     "metadata": {},
     "output_type": "display_data"
    },
    {
     "data": {
      "text/html": [
       "<pre style=\"white-space:pre;overflow-x:auto;line-height:normal;font-family:Menlo,'DejaVu Sans Mono',consolas,'Courier New',monospace\">09:13:36.951 | <span style=\"color: #008080; text-decoration-color: #008080\">INFO</span>    | Task run 'first_etl-0' - &lt;class 'pandas.core.frame.DataFrame'&gt;\n",
       "</pre>\n"
      ],
      "text/plain": [
       "09:13:36.951 | \u001b[36mINFO\u001b[0m    | Task run 'first_etl-0' - <class 'pandas.core.frame.DataFrame'>\n"
      ]
     },
     "metadata": {},
     "output_type": "display_data"
    },
    {
     "data": {
      "text/html": [
       "<pre style=\"white-space:pre;overflow-x:auto;line-height:normal;font-family:Menlo,'DejaVu Sans Mono',consolas,'Courier New',monospace\">09:13:36.954 | <span style=\"color: #008080; text-decoration-color: #008080\">INFO</span>    | Task run 'first_etl-0' - &lt;class 'pandas.core.frame.DataFrame'&gt;\n",
       "</pre>\n"
      ],
      "text/plain": [
       "09:13:36.954 | \u001b[36mINFO\u001b[0m    | Task run 'first_etl-0' - <class 'pandas.core.frame.DataFrame'>\n"
      ]
     },
     "metadata": {},
     "output_type": "display_data"
    },
    {
     "data": {
      "text/html": [
       "<pre style=\"white-space:pre;overflow-x:auto;line-height:normal;font-family:Menlo,'DejaVu Sans Mono',consolas,'Courier New',monospace\">09:13:36.957 | <span style=\"color: #008080; text-decoration-color: #008080\">INFO</span>    | Task run 'first_etl-0' - &lt;class 'pandas.core.frame.DataFrame'&gt;\n",
       "</pre>\n"
      ],
      "text/plain": [
       "09:13:36.957 | \u001b[36mINFO\u001b[0m    | Task run 'first_etl-0' - <class 'pandas.core.frame.DataFrame'>\n"
      ]
     },
     "metadata": {},
     "output_type": "display_data"
    },
    {
     "data": {
      "text/html": [
       "<pre style=\"white-space:pre;overflow-x:auto;line-height:normal;font-family:Menlo,'DejaVu Sans Mono',consolas,'Courier New',monospace\">09:13:36.960 | <span style=\"color: #008080; text-decoration-color: #008080\">INFO</span>    | Task run 'first_etl-0' - &lt;class 'pandas.core.frame.DataFrame'&gt;\n",
       "</pre>\n"
      ],
      "text/plain": [
       "09:13:36.960 | \u001b[36mINFO\u001b[0m    | Task run 'first_etl-0' - <class 'pandas.core.frame.DataFrame'>\n"
      ]
     },
     "metadata": {},
     "output_type": "display_data"
    },
    {
     "data": {
      "text/html": [
       "<pre style=\"white-space:pre;overflow-x:auto;line-height:normal;font-family:Menlo,'DejaVu Sans Mono',consolas,'Courier New',monospace\">09:13:36.963 | <span style=\"color: #008080; text-decoration-color: #008080\">INFO</span>    | Task run 'first_etl-0' - &lt;class 'pandas.core.frame.DataFrame'&gt;\n",
       "</pre>\n"
      ],
      "text/plain": [
       "09:13:36.963 | \u001b[36mINFO\u001b[0m    | Task run 'first_etl-0' - <class 'pandas.core.frame.DataFrame'>\n"
      ]
     },
     "metadata": {},
     "output_type": "display_data"
    },
    {
     "data": {
      "text/html": [
       "<pre style=\"white-space:pre;overflow-x:auto;line-height:normal;font-family:Menlo,'DejaVu Sans Mono',consolas,'Courier New',monospace\">09:13:36.965 | <span style=\"color: #008080; text-decoration-color: #008080\">INFO</span>    | Task run 'first_etl-0' - &lt;class 'pandas.core.frame.DataFrame'&gt;\n",
       "</pre>\n"
      ],
      "text/plain": [
       "09:13:36.965 | \u001b[36mINFO\u001b[0m    | Task run 'first_etl-0' - <class 'pandas.core.frame.DataFrame'>\n"
      ]
     },
     "metadata": {},
     "output_type": "display_data"
    },
    {
     "data": {
      "text/html": [
       "<pre style=\"white-space:pre;overflow-x:auto;line-height:normal;font-family:Menlo,'DejaVu Sans Mono',consolas,'Courier New',monospace\">09:13:36.967 | <span style=\"color: #008080; text-decoration-color: #008080\">INFO</span>    | Task run 'first_etl-0' - &lt;class 'pandas.core.frame.DataFrame'&gt;\n",
       "</pre>\n"
      ],
      "text/plain": [
       "09:13:36.967 | \u001b[36mINFO\u001b[0m    | Task run 'first_etl-0' - <class 'pandas.core.frame.DataFrame'>\n"
      ]
     },
     "metadata": {},
     "output_type": "display_data"
    },
    {
     "data": {
      "text/html": [
       "<pre style=\"white-space:pre;overflow-x:auto;line-height:normal;font-family:Menlo,'DejaVu Sans Mono',consolas,'Courier New',monospace\">09:13:36.970 | <span style=\"color: #008080; text-decoration-color: #008080\">INFO</span>    | Task run 'first_etl-0' - &lt;class 'pandas.core.frame.DataFrame'&gt;\n",
       "</pre>\n"
      ],
      "text/plain": [
       "09:13:36.970 | \u001b[36mINFO\u001b[0m    | Task run 'first_etl-0' - <class 'pandas.core.frame.DataFrame'>\n"
      ]
     },
     "metadata": {},
     "output_type": "display_data"
    },
    {
     "data": {
      "text/html": [
       "<pre style=\"white-space:pre;overflow-x:auto;line-height:normal;font-family:Menlo,'DejaVu Sans Mono',consolas,'Courier New',monospace\">09:13:36.973 | <span style=\"color: #008080; text-decoration-color: #008080\">INFO</span>    | Task run 'first_etl-0' - &lt;class 'pandas.core.frame.DataFrame'&gt;\n",
       "</pre>\n"
      ],
      "text/plain": [
       "09:13:36.973 | \u001b[36mINFO\u001b[0m    | Task run 'first_etl-0' - <class 'pandas.core.frame.DataFrame'>\n"
      ]
     },
     "metadata": {},
     "output_type": "display_data"
    },
    {
     "data": {
      "text/html": [
       "<pre style=\"white-space:pre;overflow-x:auto;line-height:normal;font-family:Menlo,'DejaVu Sans Mono',consolas,'Courier New',monospace\">09:13:36.976 | <span style=\"color: #008080; text-decoration-color: #008080\">INFO</span>    | Task run 'first_etl-0' - &lt;class 'pandas.core.frame.DataFrame'&gt;\n",
       "</pre>\n"
      ],
      "text/plain": [
       "09:13:36.976 | \u001b[36mINFO\u001b[0m    | Task run 'first_etl-0' - <class 'pandas.core.frame.DataFrame'>\n"
      ]
     },
     "metadata": {},
     "output_type": "display_data"
    },
    {
     "data": {
      "text/html": [
       "<pre style=\"white-space:pre;overflow-x:auto;line-height:normal;font-family:Menlo,'DejaVu Sans Mono',consolas,'Courier New',monospace\">09:13:36.978 | <span style=\"color: #008080; text-decoration-color: #008080\">INFO</span>    | Task run 'first_etl-0' - &lt;class 'pandas.core.frame.DataFrame'&gt;\n",
       "</pre>\n"
      ],
      "text/plain": [
       "09:13:36.978 | \u001b[36mINFO\u001b[0m    | Task run 'first_etl-0' - <class 'pandas.core.frame.DataFrame'>\n"
      ]
     },
     "metadata": {},
     "output_type": "display_data"
    },
    {
     "data": {
      "text/html": [
       "<pre style=\"white-space:pre;overflow-x:auto;line-height:normal;font-family:Menlo,'DejaVu Sans Mono',consolas,'Courier New',monospace\">09:13:36.981 | <span style=\"color: #008080; text-decoration-color: #008080\">INFO</span>    | Task run 'first_etl-0' - &lt;class 'pandas.core.frame.DataFrame'&gt;\n",
       "</pre>\n"
      ],
      "text/plain": [
       "09:13:36.981 | \u001b[36mINFO\u001b[0m    | Task run 'first_etl-0' - <class 'pandas.core.frame.DataFrame'>\n"
      ]
     },
     "metadata": {},
     "output_type": "display_data"
    },
    {
     "data": {
      "text/html": [
       "<pre style=\"white-space:pre;overflow-x:auto;line-height:normal;font-family:Menlo,'DejaVu Sans Mono',consolas,'Courier New',monospace\">09:13:36.983 | <span style=\"color: #008080; text-decoration-color: #008080\">INFO</span>    | Task run 'first_etl-0' - &lt;class 'pandas.core.frame.DataFrame'&gt;\n",
       "</pre>\n"
      ],
      "text/plain": [
       "09:13:36.983 | \u001b[36mINFO\u001b[0m    | Task run 'first_etl-0' - <class 'pandas.core.frame.DataFrame'>\n"
      ]
     },
     "metadata": {},
     "output_type": "display_data"
    },
    {
     "data": {
      "text/html": [
       "<pre style=\"white-space:pre;overflow-x:auto;line-height:normal;font-family:Menlo,'DejaVu Sans Mono',consolas,'Courier New',monospace\">09:13:36.985 | <span style=\"color: #008080; text-decoration-color: #008080\">INFO</span>    | Task run 'first_etl-0' - &lt;class 'pandas.core.frame.DataFrame'&gt;\n",
       "</pre>\n"
      ],
      "text/plain": [
       "09:13:36.985 | \u001b[36mINFO\u001b[0m    | Task run 'first_etl-0' - <class 'pandas.core.frame.DataFrame'>\n"
      ]
     },
     "metadata": {},
     "output_type": "display_data"
    },
    {
     "data": {
      "text/html": [
       "<pre style=\"white-space:pre;overflow-x:auto;line-height:normal;font-family:Menlo,'DejaVu Sans Mono',consolas,'Courier New',monospace\">09:13:36.988 | <span style=\"color: #008080; text-decoration-color: #008080\">INFO</span>    | Task run 'first_etl-0' - &lt;class 'pandas.core.frame.DataFrame'&gt;\n",
       "</pre>\n"
      ],
      "text/plain": [
       "09:13:36.988 | \u001b[36mINFO\u001b[0m    | Task run 'first_etl-0' - <class 'pandas.core.frame.DataFrame'>\n"
      ]
     },
     "metadata": {},
     "output_type": "display_data"
    },
    {
     "data": {
      "text/html": [
       "<pre style=\"white-space:pre;overflow-x:auto;line-height:normal;font-family:Menlo,'DejaVu Sans Mono',consolas,'Courier New',monospace\">09:13:36.991 | <span style=\"color: #008080; text-decoration-color: #008080\">INFO</span>    | Task run 'first_etl-0' - &lt;class 'pandas.core.frame.DataFrame'&gt;\n",
       "</pre>\n"
      ],
      "text/plain": [
       "09:13:36.991 | \u001b[36mINFO\u001b[0m    | Task run 'first_etl-0' - <class 'pandas.core.frame.DataFrame'>\n"
      ]
     },
     "metadata": {},
     "output_type": "display_data"
    },
    {
     "data": {
      "text/html": [
       "<pre style=\"white-space:pre;overflow-x:auto;line-height:normal;font-family:Menlo,'DejaVu Sans Mono',consolas,'Courier New',monospace\">09:13:36.993 | <span style=\"color: #008080; text-decoration-color: #008080\">INFO</span>    | Task run 'first_etl-0' - &lt;class 'pandas.core.frame.DataFrame'&gt;\n",
       "</pre>\n"
      ],
      "text/plain": [
       "09:13:36.993 | \u001b[36mINFO\u001b[0m    | Task run 'first_etl-0' - <class 'pandas.core.frame.DataFrame'>\n"
      ]
     },
     "metadata": {},
     "output_type": "display_data"
    },
    {
     "data": {
      "text/html": [
       "<pre style=\"white-space:pre;overflow-x:auto;line-height:normal;font-family:Menlo,'DejaVu Sans Mono',consolas,'Courier New',monospace\">09:13:36.995 | <span style=\"color: #008080; text-decoration-color: #008080\">INFO</span>    | Task run 'first_etl-0' - &lt;class 'pandas.core.frame.DataFrame'&gt;\n",
       "</pre>\n"
      ],
      "text/plain": [
       "09:13:36.995 | \u001b[36mINFO\u001b[0m    | Task run 'first_etl-0' - <class 'pandas.core.frame.DataFrame'>\n"
      ]
     },
     "metadata": {},
     "output_type": "display_data"
    },
    {
     "data": {
      "text/html": [
       "<pre style=\"white-space:pre;overflow-x:auto;line-height:normal;font-family:Menlo,'DejaVu Sans Mono',consolas,'Courier New',monospace\">09:13:36.998 | <span style=\"color: #008080; text-decoration-color: #008080\">INFO</span>    | Task run 'first_etl-0' - &lt;class 'pandas.core.frame.DataFrame'&gt;\n",
       "</pre>\n"
      ],
      "text/plain": [
       "09:13:36.998 | \u001b[36mINFO\u001b[0m    | Task run 'first_etl-0' - <class 'pandas.core.frame.DataFrame'>\n"
      ]
     },
     "metadata": {},
     "output_type": "display_data"
    },
    {
     "data": {
      "text/html": [
       "<pre style=\"white-space:pre;overflow-x:auto;line-height:normal;font-family:Menlo,'DejaVu Sans Mono',consolas,'Courier New',monospace\">09:13:37.000 | <span style=\"color: #008080; text-decoration-color: #008080\">INFO</span>    | Task run 'first_etl-0' - &lt;class 'pandas.core.frame.DataFrame'&gt;\n",
       "</pre>\n"
      ],
      "text/plain": [
       "09:13:37.000 | \u001b[36mINFO\u001b[0m    | Task run 'first_etl-0' - <class 'pandas.core.frame.DataFrame'>\n"
      ]
     },
     "metadata": {},
     "output_type": "display_data"
    },
    {
     "data": {
      "text/html": [
       "<pre style=\"white-space:pre;overflow-x:auto;line-height:normal;font-family:Menlo,'DejaVu Sans Mono',consolas,'Courier New',monospace\">09:13:37.003 | <span style=\"color: #008080; text-decoration-color: #008080\">INFO</span>    | Task run 'first_etl-0' - &lt;class 'pandas.core.frame.DataFrame'&gt;\n",
       "</pre>\n"
      ],
      "text/plain": [
       "09:13:37.003 | \u001b[36mINFO\u001b[0m    | Task run 'first_etl-0' - <class 'pandas.core.frame.DataFrame'>\n"
      ]
     },
     "metadata": {},
     "output_type": "display_data"
    },
    {
     "data": {
      "text/html": [
       "<pre style=\"white-space:pre;overflow-x:auto;line-height:normal;font-family:Menlo,'DejaVu Sans Mono',consolas,'Courier New',monospace\">09:13:37.006 | <span style=\"color: #008080; text-decoration-color: #008080\">INFO</span>    | Task run 'first_etl-0' - &lt;class 'pandas.core.frame.DataFrame'&gt;\n",
       "</pre>\n"
      ],
      "text/plain": [
       "09:13:37.006 | \u001b[36mINFO\u001b[0m    | Task run 'first_etl-0' - <class 'pandas.core.frame.DataFrame'>\n"
      ]
     },
     "metadata": {},
     "output_type": "display_data"
    },
    {
     "data": {
      "text/html": [
       "<pre style=\"white-space:pre;overflow-x:auto;line-height:normal;font-family:Menlo,'DejaVu Sans Mono',consolas,'Courier New',monospace\">09:13:37.008 | <span style=\"color: #008080; text-decoration-color: #008080\">INFO</span>    | Task run 'first_etl-0' - &lt;class 'pandas.core.frame.DataFrame'&gt;\n",
       "</pre>\n"
      ],
      "text/plain": [
       "09:13:37.008 | \u001b[36mINFO\u001b[0m    | Task run 'first_etl-0' - <class 'pandas.core.frame.DataFrame'>\n"
      ]
     },
     "metadata": {},
     "output_type": "display_data"
    },
    {
     "data": {
      "text/html": [
       "<pre style=\"white-space:pre;overflow-x:auto;line-height:normal;font-family:Menlo,'DejaVu Sans Mono',consolas,'Courier New',monospace\">09:13:37.011 | <span style=\"color: #008080; text-decoration-color: #008080\">INFO</span>    | Task run 'first_etl-0' - &lt;class 'pandas.core.frame.DataFrame'&gt;\n",
       "</pre>\n"
      ],
      "text/plain": [
       "09:13:37.011 | \u001b[36mINFO\u001b[0m    | Task run 'first_etl-0' - <class 'pandas.core.frame.DataFrame'>\n"
      ]
     },
     "metadata": {},
     "output_type": "display_data"
    },
    {
     "data": {
      "text/html": [
       "<pre style=\"white-space:pre;overflow-x:auto;line-height:normal;font-family:Menlo,'DejaVu Sans Mono',consolas,'Courier New',monospace\">09:13:37.014 | <span style=\"color: #008080; text-decoration-color: #008080\">INFO</span>    | Task run 'first_etl-0' - &lt;class 'pandas.core.frame.DataFrame'&gt;\n",
       "</pre>\n"
      ],
      "text/plain": [
       "09:13:37.014 | \u001b[36mINFO\u001b[0m    | Task run 'first_etl-0' - <class 'pandas.core.frame.DataFrame'>\n"
      ]
     },
     "metadata": {},
     "output_type": "display_data"
    },
    {
     "data": {
      "text/html": [
       "<pre style=\"white-space:pre;overflow-x:auto;line-height:normal;font-family:Menlo,'DejaVu Sans Mono',consolas,'Courier New',monospace\">09:13:37.017 | <span style=\"color: #008080; text-decoration-color: #008080\">INFO</span>    | Task run 'first_etl-0' - &lt;class 'pandas.core.frame.DataFrame'&gt;\n",
       "</pre>\n"
      ],
      "text/plain": [
       "09:13:37.017 | \u001b[36mINFO\u001b[0m    | Task run 'first_etl-0' - <class 'pandas.core.frame.DataFrame'>\n"
      ]
     },
     "metadata": {},
     "output_type": "display_data"
    },
    {
     "data": {
      "text/html": [
       "<pre style=\"white-space:pre;overflow-x:auto;line-height:normal;font-family:Menlo,'DejaVu Sans Mono',consolas,'Courier New',monospace\">09:13:37.020 | <span style=\"color: #008080; text-decoration-color: #008080\">INFO</span>    | Task run 'first_etl-0' - &lt;class 'pandas.core.frame.DataFrame'&gt;\n",
       "</pre>\n"
      ],
      "text/plain": [
       "09:13:37.020 | \u001b[36mINFO\u001b[0m    | Task run 'first_etl-0' - <class 'pandas.core.frame.DataFrame'>\n"
      ]
     },
     "metadata": {},
     "output_type": "display_data"
    },
    {
     "data": {
      "text/html": [
       "<pre style=\"white-space:pre;overflow-x:auto;line-height:normal;font-family:Menlo,'DejaVu Sans Mono',consolas,'Courier New',monospace\">09:13:37.023 | <span style=\"color: #008080; text-decoration-color: #008080\">INFO</span>    | Task run 'first_etl-0' - &lt;class 'pandas.core.frame.DataFrame'&gt;\n",
       "</pre>\n"
      ],
      "text/plain": [
       "09:13:37.023 | \u001b[36mINFO\u001b[0m    | Task run 'first_etl-0' - <class 'pandas.core.frame.DataFrame'>\n"
      ]
     },
     "metadata": {},
     "output_type": "display_data"
    },
    {
     "data": {
      "text/html": [
       "<pre style=\"white-space:pre;overflow-x:auto;line-height:normal;font-family:Menlo,'DejaVu Sans Mono',consolas,'Courier New',monospace\">09:13:37.026 | <span style=\"color: #008080; text-decoration-color: #008080\">INFO</span>    | Task run 'first_etl-0' - &lt;class 'pandas.core.frame.DataFrame'&gt;\n",
       "</pre>\n"
      ],
      "text/plain": [
       "09:13:37.026 | \u001b[36mINFO\u001b[0m    | Task run 'first_etl-0' - <class 'pandas.core.frame.DataFrame'>\n"
      ]
     },
     "metadata": {},
     "output_type": "display_data"
    },
    {
     "data": {
      "text/html": [
       "<pre style=\"white-space:pre;overflow-x:auto;line-height:normal;font-family:Menlo,'DejaVu Sans Mono',consolas,'Courier New',monospace\">09:13:37.029 | <span style=\"color: #008080; text-decoration-color: #008080\">INFO</span>    | Task run 'first_etl-0' - &lt;class 'pandas.core.frame.DataFrame'&gt;\n",
       "</pre>\n"
      ],
      "text/plain": [
       "09:13:37.029 | \u001b[36mINFO\u001b[0m    | Task run 'first_etl-0' - <class 'pandas.core.frame.DataFrame'>\n"
      ]
     },
     "metadata": {},
     "output_type": "display_data"
    },
    {
     "data": {
      "text/html": [
       "<pre style=\"white-space:pre;overflow-x:auto;line-height:normal;font-family:Menlo,'DejaVu Sans Mono',consolas,'Courier New',monospace\">09:13:37.031 | <span style=\"color: #008080; text-decoration-color: #008080\">INFO</span>    | Task run 'first_etl-0' - &lt;class 'pandas.core.frame.DataFrame'&gt;\n",
       "</pre>\n"
      ],
      "text/plain": [
       "09:13:37.031 | \u001b[36mINFO\u001b[0m    | Task run 'first_etl-0' - <class 'pandas.core.frame.DataFrame'>\n"
      ]
     },
     "metadata": {},
     "output_type": "display_data"
    },
    {
     "data": {
      "text/html": [
       "<pre style=\"white-space:pre;overflow-x:auto;line-height:normal;font-family:Menlo,'DejaVu Sans Mono',consolas,'Courier New',monospace\">09:13:37.034 | <span style=\"color: #008080; text-decoration-color: #008080\">INFO</span>    | Task run 'first_etl-0' - &lt;class 'pandas.core.frame.DataFrame'&gt;\n",
       "</pre>\n"
      ],
      "text/plain": [
       "09:13:37.034 | \u001b[36mINFO\u001b[0m    | Task run 'first_etl-0' - <class 'pandas.core.frame.DataFrame'>\n"
      ]
     },
     "metadata": {},
     "output_type": "display_data"
    },
    {
     "data": {
      "text/html": [
       "<pre style=\"white-space:pre;overflow-x:auto;line-height:normal;font-family:Menlo,'DejaVu Sans Mono',consolas,'Courier New',monospace\">09:13:37.037 | <span style=\"color: #008080; text-decoration-color: #008080\">INFO</span>    | Task run 'first_etl-0' - &lt;class 'pandas.core.frame.DataFrame'&gt;\n",
       "</pre>\n"
      ],
      "text/plain": [
       "09:13:37.037 | \u001b[36mINFO\u001b[0m    | Task run 'first_etl-0' - <class 'pandas.core.frame.DataFrame'>\n"
      ]
     },
     "metadata": {},
     "output_type": "display_data"
    },
    {
     "data": {
      "text/html": [
       "<pre style=\"white-space:pre;overflow-x:auto;line-height:normal;font-family:Menlo,'DejaVu Sans Mono',consolas,'Courier New',monospace\">09:13:37.040 | <span style=\"color: #008080; text-decoration-color: #008080\">INFO</span>    | Task run 'first_etl-0' - &lt;class 'pandas.core.frame.DataFrame'&gt;\n",
       "</pre>\n"
      ],
      "text/plain": [
       "09:13:37.040 | \u001b[36mINFO\u001b[0m    | Task run 'first_etl-0' - <class 'pandas.core.frame.DataFrame'>\n"
      ]
     },
     "metadata": {},
     "output_type": "display_data"
    },
    {
     "data": {
      "text/html": [
       "<pre style=\"white-space:pre;overflow-x:auto;line-height:normal;font-family:Menlo,'DejaVu Sans Mono',consolas,'Courier New',monospace\">09:13:37.043 | <span style=\"color: #008080; text-decoration-color: #008080\">INFO</span>    | Task run 'first_etl-0' - &lt;class 'pandas.core.frame.DataFrame'&gt;\n",
       "</pre>\n"
      ],
      "text/plain": [
       "09:13:37.043 | \u001b[36mINFO\u001b[0m    | Task run 'first_etl-0' - <class 'pandas.core.frame.DataFrame'>\n"
      ]
     },
     "metadata": {},
     "output_type": "display_data"
    },
    {
     "data": {
      "text/html": [
       "<pre style=\"white-space:pre;overflow-x:auto;line-height:normal;font-family:Menlo,'DejaVu Sans Mono',consolas,'Courier New',monospace\">09:13:37.046 | <span style=\"color: #008080; text-decoration-color: #008080\">INFO</span>    | Task run 'first_etl-0' - &lt;class 'pandas.core.frame.DataFrame'&gt;\n",
       "</pre>\n"
      ],
      "text/plain": [
       "09:13:37.046 | \u001b[36mINFO\u001b[0m    | Task run 'first_etl-0' - <class 'pandas.core.frame.DataFrame'>\n"
      ]
     },
     "metadata": {},
     "output_type": "display_data"
    },
    {
     "data": {
      "text/html": [
       "<pre style=\"white-space:pre;overflow-x:auto;line-height:normal;font-family:Menlo,'DejaVu Sans Mono',consolas,'Courier New',monospace\">09:13:37.049 | <span style=\"color: #008080; text-decoration-color: #008080\">INFO</span>    | Task run 'first_etl-0' - &lt;class 'pandas.core.frame.DataFrame'&gt;\n",
       "</pre>\n"
      ],
      "text/plain": [
       "09:13:37.049 | \u001b[36mINFO\u001b[0m    | Task run 'first_etl-0' - <class 'pandas.core.frame.DataFrame'>\n"
      ]
     },
     "metadata": {},
     "output_type": "display_data"
    },
    {
     "data": {
      "text/html": [
       "<pre style=\"white-space:pre;overflow-x:auto;line-height:normal;font-family:Menlo,'DejaVu Sans Mono',consolas,'Courier New',monospace\">09:13:37.051 | <span style=\"color: #008080; text-decoration-color: #008080\">INFO</span>    | Task run 'first_etl-0' - &lt;class 'pandas.core.frame.DataFrame'&gt;\n",
       "</pre>\n"
      ],
      "text/plain": [
       "09:13:37.051 | \u001b[36mINFO\u001b[0m    | Task run 'first_etl-0' - <class 'pandas.core.frame.DataFrame'>\n"
      ]
     },
     "metadata": {},
     "output_type": "display_data"
    },
    {
     "data": {
      "text/html": [
       "<pre style=\"white-space:pre;overflow-x:auto;line-height:normal;font-family:Menlo,'DejaVu Sans Mono',consolas,'Courier New',monospace\">09:13:37.054 | <span style=\"color: #008080; text-decoration-color: #008080\">INFO</span>    | Task run 'first_etl-0' - &lt;class 'pandas.core.frame.DataFrame'&gt;\n",
       "</pre>\n"
      ],
      "text/plain": [
       "09:13:37.054 | \u001b[36mINFO\u001b[0m    | Task run 'first_etl-0' - <class 'pandas.core.frame.DataFrame'>\n"
      ]
     },
     "metadata": {},
     "output_type": "display_data"
    },
    {
     "data": {
      "text/html": [
       "<pre style=\"white-space:pre;overflow-x:auto;line-height:normal;font-family:Menlo,'DejaVu Sans Mono',consolas,'Courier New',monospace\">09:13:37.057 | <span style=\"color: #008080; text-decoration-color: #008080\">INFO</span>    | Task run 'first_etl-0' - &lt;class 'pandas.core.frame.DataFrame'&gt;\n",
       "</pre>\n"
      ],
      "text/plain": [
       "09:13:37.057 | \u001b[36mINFO\u001b[0m    | Task run 'first_etl-0' - <class 'pandas.core.frame.DataFrame'>\n"
      ]
     },
     "metadata": {},
     "output_type": "display_data"
    },
    {
     "data": {
      "text/html": [
       "<pre style=\"white-space:pre;overflow-x:auto;line-height:normal;font-family:Menlo,'DejaVu Sans Mono',consolas,'Courier New',monospace\">09:13:37.062 | <span style=\"color: #008080; text-decoration-color: #008080\">INFO</span>    | Task run 'first_etl-0' - &lt;class 'pandas.core.frame.DataFrame'&gt;\n",
       "</pre>\n"
      ],
      "text/plain": [
       "09:13:37.062 | \u001b[36mINFO\u001b[0m    | Task run 'first_etl-0' - <class 'pandas.core.frame.DataFrame'>\n"
      ]
     },
     "metadata": {},
     "output_type": "display_data"
    },
    {
     "data": {
      "text/html": [
       "<pre style=\"white-space:pre;overflow-x:auto;line-height:normal;font-family:Menlo,'DejaVu Sans Mono',consolas,'Courier New',monospace\">09:13:37.065 | <span style=\"color: #008080; text-decoration-color: #008080\">INFO</span>    | Task run 'first_etl-0' - &lt;class 'pandas.core.frame.DataFrame'&gt;\n",
       "</pre>\n"
      ],
      "text/plain": [
       "09:13:37.065 | \u001b[36mINFO\u001b[0m    | Task run 'first_etl-0' - <class 'pandas.core.frame.DataFrame'>\n"
      ]
     },
     "metadata": {},
     "output_type": "display_data"
    },
    {
     "data": {
      "text/html": [
       "<pre style=\"white-space:pre;overflow-x:auto;line-height:normal;font-family:Menlo,'DejaVu Sans Mono',consolas,'Courier New',monospace\">09:13:37.067 | <span style=\"color: #008080; text-decoration-color: #008080\">INFO</span>    | Task run 'first_etl-0' - &lt;class 'pandas.core.frame.DataFrame'&gt;\n",
       "</pre>\n"
      ],
      "text/plain": [
       "09:13:37.067 | \u001b[36mINFO\u001b[0m    | Task run 'first_etl-0' - <class 'pandas.core.frame.DataFrame'>\n"
      ]
     },
     "metadata": {},
     "output_type": "display_data"
    },
    {
     "data": {
      "text/html": [
       "<pre style=\"white-space:pre;overflow-x:auto;line-height:normal;font-family:Menlo,'DejaVu Sans Mono',consolas,'Courier New',monospace\">09:13:37.070 | <span style=\"color: #008080; text-decoration-color: #008080\">INFO</span>    | Task run 'first_etl-0' - &lt;class 'pandas.core.frame.DataFrame'&gt;\n",
       "</pre>\n"
      ],
      "text/plain": [
       "09:13:37.070 | \u001b[36mINFO\u001b[0m    | Task run 'first_etl-0' - <class 'pandas.core.frame.DataFrame'>\n"
      ]
     },
     "metadata": {},
     "output_type": "display_data"
    },
    {
     "data": {
      "text/html": [
       "<pre style=\"white-space:pre;overflow-x:auto;line-height:normal;font-family:Menlo,'DejaVu Sans Mono',consolas,'Courier New',monospace\">09:13:37.074 | <span style=\"color: #008080; text-decoration-color: #008080\">INFO</span>    | Task run 'first_etl-0' - &lt;class 'pandas.core.frame.DataFrame'&gt;\n",
       "</pre>\n"
      ],
      "text/plain": [
       "09:13:37.074 | \u001b[36mINFO\u001b[0m    | Task run 'first_etl-0' - <class 'pandas.core.frame.DataFrame'>\n"
      ]
     },
     "metadata": {},
     "output_type": "display_data"
    },
    {
     "data": {
      "text/html": [
       "<pre style=\"white-space:pre;overflow-x:auto;line-height:normal;font-family:Menlo,'DejaVu Sans Mono',consolas,'Courier New',monospace\">09:13:37.078 | <span style=\"color: #008080; text-decoration-color: #008080\">INFO</span>    | Task run 'first_etl-0' - &lt;class 'pandas.core.frame.DataFrame'&gt;\n",
       "</pre>\n"
      ],
      "text/plain": [
       "09:13:37.078 | \u001b[36mINFO\u001b[0m    | Task run 'first_etl-0' - <class 'pandas.core.frame.DataFrame'>\n"
      ]
     },
     "metadata": {},
     "output_type": "display_data"
    },
    {
     "data": {
      "text/html": [
       "<pre style=\"white-space:pre;overflow-x:auto;line-height:normal;font-family:Menlo,'DejaVu Sans Mono',consolas,'Courier New',monospace\">09:13:37.081 | <span style=\"color: #008080; text-decoration-color: #008080\">INFO</span>    | Task run 'first_etl-0' - &lt;class 'pandas.core.frame.DataFrame'&gt;\n",
       "</pre>\n"
      ],
      "text/plain": [
       "09:13:37.081 | \u001b[36mINFO\u001b[0m    | Task run 'first_etl-0' - <class 'pandas.core.frame.DataFrame'>\n"
      ]
     },
     "metadata": {},
     "output_type": "display_data"
    },
    {
     "data": {
      "text/html": [
       "<pre style=\"white-space:pre;overflow-x:auto;line-height:normal;font-family:Menlo,'DejaVu Sans Mono',consolas,'Courier New',monospace\">09:13:37.084 | <span style=\"color: #008080; text-decoration-color: #008080\">INFO</span>    | Task run 'first_etl-0' - &lt;class 'pandas.core.frame.DataFrame'&gt;\n",
       "</pre>\n"
      ],
      "text/plain": [
       "09:13:37.084 | \u001b[36mINFO\u001b[0m    | Task run 'first_etl-0' - <class 'pandas.core.frame.DataFrame'>\n"
      ]
     },
     "metadata": {},
     "output_type": "display_data"
    },
    {
     "data": {
      "text/html": [
       "<pre style=\"white-space:pre;overflow-x:auto;line-height:normal;font-family:Menlo,'DejaVu Sans Mono',consolas,'Courier New',monospace\">09:13:37.087 | <span style=\"color: #008080; text-decoration-color: #008080\">INFO</span>    | Task run 'first_etl-0' - &lt;class 'pandas.core.frame.DataFrame'&gt;\n",
       "</pre>\n"
      ],
      "text/plain": [
       "09:13:37.087 | \u001b[36mINFO\u001b[0m    | Task run 'first_etl-0' - <class 'pandas.core.frame.DataFrame'>\n"
      ]
     },
     "metadata": {},
     "output_type": "display_data"
    },
    {
     "data": {
      "text/html": [
       "<pre style=\"white-space:pre;overflow-x:auto;line-height:normal;font-family:Menlo,'DejaVu Sans Mono',consolas,'Courier New',monospace\">09:13:37.090 | <span style=\"color: #008080; text-decoration-color: #008080\">INFO</span>    | Task run 'first_etl-0' - &lt;class 'pandas.core.frame.DataFrame'&gt;\n",
       "</pre>\n"
      ],
      "text/plain": [
       "09:13:37.090 | \u001b[36mINFO\u001b[0m    | Task run 'first_etl-0' - <class 'pandas.core.frame.DataFrame'>\n"
      ]
     },
     "metadata": {},
     "output_type": "display_data"
    },
    {
     "data": {
      "text/html": [
       "<pre style=\"white-space:pre;overflow-x:auto;line-height:normal;font-family:Menlo,'DejaVu Sans Mono',consolas,'Courier New',monospace\">09:13:37.093 | <span style=\"color: #008080; text-decoration-color: #008080\">INFO</span>    | Task run 'first_etl-0' - &lt;class 'pandas.core.frame.DataFrame'&gt;\n",
       "</pre>\n"
      ],
      "text/plain": [
       "09:13:37.093 | \u001b[36mINFO\u001b[0m    | Task run 'first_etl-0' - <class 'pandas.core.frame.DataFrame'>\n"
      ]
     },
     "metadata": {},
     "output_type": "display_data"
    },
    {
     "data": {
      "text/html": [
       "<pre style=\"white-space:pre;overflow-x:auto;line-height:normal;font-family:Menlo,'DejaVu Sans Mono',consolas,'Courier New',monospace\">09:13:37.096 | <span style=\"color: #008080; text-decoration-color: #008080\">INFO</span>    | Task run 'first_etl-0' - &lt;class 'pandas.core.frame.DataFrame'&gt;\n",
       "</pre>\n"
      ],
      "text/plain": [
       "09:13:37.096 | \u001b[36mINFO\u001b[0m    | Task run 'first_etl-0' - <class 'pandas.core.frame.DataFrame'>\n"
      ]
     },
     "metadata": {},
     "output_type": "display_data"
    },
    {
     "data": {
      "text/html": [
       "<pre style=\"white-space:pre;overflow-x:auto;line-height:normal;font-family:Menlo,'DejaVu Sans Mono',consolas,'Courier New',monospace\">09:13:37.099 | <span style=\"color: #008080; text-decoration-color: #008080\">INFO</span>    | Task run 'first_etl-0' - &lt;class 'pandas.core.frame.DataFrame'&gt;\n",
       "</pre>\n"
      ],
      "text/plain": [
       "09:13:37.099 | \u001b[36mINFO\u001b[0m    | Task run 'first_etl-0' - <class 'pandas.core.frame.DataFrame'>\n"
      ]
     },
     "metadata": {},
     "output_type": "display_data"
    },
    {
     "data": {
      "text/html": [
       "<pre style=\"white-space:pre;overflow-x:auto;line-height:normal;font-family:Menlo,'DejaVu Sans Mono',consolas,'Courier New',monospace\">09:13:37.101 | <span style=\"color: #008080; text-decoration-color: #008080\">INFO</span>    | Task run 'first_etl-0' - &lt;class 'pandas.core.frame.DataFrame'&gt;\n",
       "</pre>\n"
      ],
      "text/plain": [
       "09:13:37.101 | \u001b[36mINFO\u001b[0m    | Task run 'first_etl-0' - <class 'pandas.core.frame.DataFrame'>\n"
      ]
     },
     "metadata": {},
     "output_type": "display_data"
    },
    {
     "data": {
      "text/html": [
       "<pre style=\"white-space:pre;overflow-x:auto;line-height:normal;font-family:Menlo,'DejaVu Sans Mono',consolas,'Courier New',monospace\">09:13:37.105 | <span style=\"color: #008080; text-decoration-color: #008080\">INFO</span>    | Task run 'first_etl-0' - &lt;class 'pandas.core.frame.DataFrame'&gt;\n",
       "</pre>\n"
      ],
      "text/plain": [
       "09:13:37.105 | \u001b[36mINFO\u001b[0m    | Task run 'first_etl-0' - <class 'pandas.core.frame.DataFrame'>\n"
      ]
     },
     "metadata": {},
     "output_type": "display_data"
    },
    {
     "data": {
      "text/html": [
       "<pre style=\"white-space:pre;overflow-x:auto;line-height:normal;font-family:Menlo,'DejaVu Sans Mono',consolas,'Courier New',monospace\">09:13:37.108 | <span style=\"color: #008080; text-decoration-color: #008080\">INFO</span>    | Task run 'first_etl-0' - &lt;class 'pandas.core.frame.DataFrame'&gt;\n",
       "</pre>\n"
      ],
      "text/plain": [
       "09:13:37.108 | \u001b[36mINFO\u001b[0m    | Task run 'first_etl-0' - <class 'pandas.core.frame.DataFrame'>\n"
      ]
     },
     "metadata": {},
     "output_type": "display_data"
    },
    {
     "data": {
      "text/html": [
       "<pre style=\"white-space:pre;overflow-x:auto;line-height:normal;font-family:Menlo,'DejaVu Sans Mono',consolas,'Courier New',monospace\">09:13:37.110 | <span style=\"color: #008080; text-decoration-color: #008080\">INFO</span>    | Task run 'first_etl-0' - &lt;class 'pandas.core.frame.DataFrame'&gt;\n",
       "</pre>\n"
      ],
      "text/plain": [
       "09:13:37.110 | \u001b[36mINFO\u001b[0m    | Task run 'first_etl-0' - <class 'pandas.core.frame.DataFrame'>\n"
      ]
     },
     "metadata": {},
     "output_type": "display_data"
    },
    {
     "data": {
      "text/html": [
       "<pre style=\"white-space:pre;overflow-x:auto;line-height:normal;font-family:Menlo,'DejaVu Sans Mono',consolas,'Courier New',monospace\">09:13:37.114 | <span style=\"color: #008080; text-decoration-color: #008080\">INFO</span>    | Task run 'first_etl-0' - &lt;class 'pandas.core.frame.DataFrame'&gt;\n",
       "</pre>\n"
      ],
      "text/plain": [
       "09:13:37.114 | \u001b[36mINFO\u001b[0m    | Task run 'first_etl-0' - <class 'pandas.core.frame.DataFrame'>\n"
      ]
     },
     "metadata": {},
     "output_type": "display_data"
    },
    {
     "data": {
      "text/html": [
       "<pre style=\"white-space:pre;overflow-x:auto;line-height:normal;font-family:Menlo,'DejaVu Sans Mono',consolas,'Courier New',monospace\">09:13:37.117 | <span style=\"color: #008080; text-decoration-color: #008080\">INFO</span>    | Task run 'first_etl-0' - &lt;class 'pandas.core.frame.DataFrame'&gt;\n",
       "</pre>\n"
      ],
      "text/plain": [
       "09:13:37.117 | \u001b[36mINFO\u001b[0m    | Task run 'first_etl-0' - <class 'pandas.core.frame.DataFrame'>\n"
      ]
     },
     "metadata": {},
     "output_type": "display_data"
    },
    {
     "data": {
      "text/html": [
       "<pre style=\"white-space:pre;overflow-x:auto;line-height:normal;font-family:Menlo,'DejaVu Sans Mono',consolas,'Courier New',monospace\">09:13:37.121 | <span style=\"color: #008080; text-decoration-color: #008080\">INFO</span>    | Task run 'first_etl-0' - &lt;class 'pandas.core.frame.DataFrame'&gt;\n",
       "</pre>\n"
      ],
      "text/plain": [
       "09:13:37.121 | \u001b[36mINFO\u001b[0m    | Task run 'first_etl-0' - <class 'pandas.core.frame.DataFrame'>\n"
      ]
     },
     "metadata": {},
     "output_type": "display_data"
    },
    {
     "data": {
      "text/html": [
       "<pre style=\"white-space:pre;overflow-x:auto;line-height:normal;font-family:Menlo,'DejaVu Sans Mono',consolas,'Courier New',monospace\">09:13:37.124 | <span style=\"color: #008080; text-decoration-color: #008080\">INFO</span>    | Task run 'first_etl-0' - &lt;class 'pandas.core.frame.DataFrame'&gt;\n",
       "</pre>\n"
      ],
      "text/plain": [
       "09:13:37.124 | \u001b[36mINFO\u001b[0m    | Task run 'first_etl-0' - <class 'pandas.core.frame.DataFrame'>\n"
      ]
     },
     "metadata": {},
     "output_type": "display_data"
    },
    {
     "data": {
      "text/html": [
       "<pre style=\"white-space:pre;overflow-x:auto;line-height:normal;font-family:Menlo,'DejaVu Sans Mono',consolas,'Courier New',monospace\">09:13:37.127 | <span style=\"color: #008080; text-decoration-color: #008080\">INFO</span>    | Task run 'first_etl-0' - &lt;class 'pandas.core.frame.DataFrame'&gt;\n",
       "</pre>\n"
      ],
      "text/plain": [
       "09:13:37.127 | \u001b[36mINFO\u001b[0m    | Task run 'first_etl-0' - <class 'pandas.core.frame.DataFrame'>\n"
      ]
     },
     "metadata": {},
     "output_type": "display_data"
    },
    {
     "data": {
      "text/html": [
       "<pre style=\"white-space:pre;overflow-x:auto;line-height:normal;font-family:Menlo,'DejaVu Sans Mono',consolas,'Courier New',monospace\">09:13:37.130 | <span style=\"color: #008080; text-decoration-color: #008080\">INFO</span>    | Task run 'first_etl-0' - &lt;class 'pandas.core.frame.DataFrame'&gt;\n",
       "</pre>\n"
      ],
      "text/plain": [
       "09:13:37.130 | \u001b[36mINFO\u001b[0m    | Task run 'first_etl-0' - <class 'pandas.core.frame.DataFrame'>\n"
      ]
     },
     "metadata": {},
     "output_type": "display_data"
    },
    {
     "data": {
      "text/html": [
       "<pre style=\"white-space:pre;overflow-x:auto;line-height:normal;font-family:Menlo,'DejaVu Sans Mono',consolas,'Courier New',monospace\">09:13:37.132 | <span style=\"color: #008080; text-decoration-color: #008080\">INFO</span>    | Task run 'first_etl-0' - &lt;class 'pandas.core.frame.DataFrame'&gt;\n",
       "</pre>\n"
      ],
      "text/plain": [
       "09:13:37.132 | \u001b[36mINFO\u001b[0m    | Task run 'first_etl-0' - <class 'pandas.core.frame.DataFrame'>\n"
      ]
     },
     "metadata": {},
     "output_type": "display_data"
    },
    {
     "data": {
      "text/html": [
       "<pre style=\"white-space:pre;overflow-x:auto;line-height:normal;font-family:Menlo,'DejaVu Sans Mono',consolas,'Courier New',monospace\">09:13:37.135 | <span style=\"color: #008080; text-decoration-color: #008080\">INFO</span>    | Task run 'first_etl-0' - &lt;class 'pandas.core.frame.DataFrame'&gt;\n",
       "</pre>\n"
      ],
      "text/plain": [
       "09:13:37.135 | \u001b[36mINFO\u001b[0m    | Task run 'first_etl-0' - <class 'pandas.core.frame.DataFrame'>\n"
      ]
     },
     "metadata": {},
     "output_type": "display_data"
    },
    {
     "data": {
      "text/html": [
       "<pre style=\"white-space:pre;overflow-x:auto;line-height:normal;font-family:Menlo,'DejaVu Sans Mono',consolas,'Courier New',monospace\">09:13:37.139 | <span style=\"color: #008080; text-decoration-color: #008080\">INFO</span>    | Task run 'first_etl-0' - &lt;class 'pandas.core.frame.DataFrame'&gt;\n",
       "</pre>\n"
      ],
      "text/plain": [
       "09:13:37.139 | \u001b[36mINFO\u001b[0m    | Task run 'first_etl-0' - <class 'pandas.core.frame.DataFrame'>\n"
      ]
     },
     "metadata": {},
     "output_type": "display_data"
    },
    {
     "data": {
      "text/html": [
       "<pre style=\"white-space:pre;overflow-x:auto;line-height:normal;font-family:Menlo,'DejaVu Sans Mono',consolas,'Courier New',monospace\">09:13:37.142 | <span style=\"color: #008080; text-decoration-color: #008080\">INFO</span>    | Task run 'first_etl-0' - &lt;class 'pandas.core.frame.DataFrame'&gt;\n",
       "</pre>\n"
      ],
      "text/plain": [
       "09:13:37.142 | \u001b[36mINFO\u001b[0m    | Task run 'first_etl-0' - <class 'pandas.core.frame.DataFrame'>\n"
      ]
     },
     "metadata": {},
     "output_type": "display_data"
    },
    {
     "data": {
      "text/html": [
       "<pre style=\"white-space:pre;overflow-x:auto;line-height:normal;font-family:Menlo,'DejaVu Sans Mono',consolas,'Courier New',monospace\">09:13:37.144 | <span style=\"color: #008080; text-decoration-color: #008080\">INFO</span>    | Task run 'first_etl-0' - &lt;class 'pandas.core.frame.DataFrame'&gt;\n",
       "</pre>\n"
      ],
      "text/plain": [
       "09:13:37.144 | \u001b[36mINFO\u001b[0m    | Task run 'first_etl-0' - <class 'pandas.core.frame.DataFrame'>\n"
      ]
     },
     "metadata": {},
     "output_type": "display_data"
    },
    {
     "data": {
      "text/html": [
       "<pre style=\"white-space:pre;overflow-x:auto;line-height:normal;font-family:Menlo,'DejaVu Sans Mono',consolas,'Courier New',monospace\">09:13:37.147 | <span style=\"color: #008080; text-decoration-color: #008080\">INFO</span>    | Task run 'first_etl-0' - &lt;class 'pandas.core.frame.DataFrame'&gt;\n",
       "</pre>\n"
      ],
      "text/plain": [
       "09:13:37.147 | \u001b[36mINFO\u001b[0m    | Task run 'first_etl-0' - <class 'pandas.core.frame.DataFrame'>\n"
      ]
     },
     "metadata": {},
     "output_type": "display_data"
    },
    {
     "data": {
      "text/html": [
       "<pre style=\"white-space:pre;overflow-x:auto;line-height:normal;font-family:Menlo,'DejaVu Sans Mono',consolas,'Courier New',monospace\">09:13:37.149 | <span style=\"color: #008080; text-decoration-color: #008080\">INFO</span>    | Task run 'first_etl-0' - &lt;class 'pandas.core.frame.DataFrame'&gt;\n",
       "</pre>\n"
      ],
      "text/plain": [
       "09:13:37.149 | \u001b[36mINFO\u001b[0m    | Task run 'first_etl-0' - <class 'pandas.core.frame.DataFrame'>\n"
      ]
     },
     "metadata": {},
     "output_type": "display_data"
    },
    {
     "data": {
      "text/html": [
       "<pre style=\"white-space:pre;overflow-x:auto;line-height:normal;font-family:Menlo,'DejaVu Sans Mono',consolas,'Courier New',monospace\">09:13:37.151 | <span style=\"color: #008080; text-decoration-color: #008080\">INFO</span>    | Task run 'first_etl-0' - &lt;class 'pandas.core.frame.DataFrame'&gt;\n",
       "</pre>\n"
      ],
      "text/plain": [
       "09:13:37.151 | \u001b[36mINFO\u001b[0m    | Task run 'first_etl-0' - <class 'pandas.core.frame.DataFrame'>\n"
      ]
     },
     "metadata": {},
     "output_type": "display_data"
    },
    {
     "data": {
      "text/html": [
       "<pre style=\"white-space:pre;overflow-x:auto;line-height:normal;font-family:Menlo,'DejaVu Sans Mono',consolas,'Courier New',monospace\">09:13:37.154 | <span style=\"color: #008080; text-decoration-color: #008080\">INFO</span>    | Task run 'first_etl-0' - &lt;class 'pandas.core.frame.DataFrame'&gt;\n",
       "</pre>\n"
      ],
      "text/plain": [
       "09:13:37.154 | \u001b[36mINFO\u001b[0m    | Task run 'first_etl-0' - <class 'pandas.core.frame.DataFrame'>\n"
      ]
     },
     "metadata": {},
     "output_type": "display_data"
    },
    {
     "data": {
      "text/html": [
       "<pre style=\"white-space:pre;overflow-x:auto;line-height:normal;font-family:Menlo,'DejaVu Sans Mono',consolas,'Courier New',monospace\">09:13:37.158 | <span style=\"color: #008080; text-decoration-color: #008080\">INFO</span>    | Task run 'first_etl-0' - &lt;class 'pandas.core.frame.DataFrame'&gt;\n",
       "</pre>\n"
      ],
      "text/plain": [
       "09:13:37.158 | \u001b[36mINFO\u001b[0m    | Task run 'first_etl-0' - <class 'pandas.core.frame.DataFrame'>\n"
      ]
     },
     "metadata": {},
     "output_type": "display_data"
    },
    {
     "data": {
      "text/html": [
       "<pre style=\"white-space:pre;overflow-x:auto;line-height:normal;font-family:Menlo,'DejaVu Sans Mono',consolas,'Courier New',monospace\">09:13:37.161 | <span style=\"color: #008080; text-decoration-color: #008080\">INFO</span>    | Task run 'first_etl-0' - &lt;class 'pandas.core.frame.DataFrame'&gt;\n",
       "</pre>\n"
      ],
      "text/plain": [
       "09:13:37.161 | \u001b[36mINFO\u001b[0m    | Task run 'first_etl-0' - <class 'pandas.core.frame.DataFrame'>\n"
      ]
     },
     "metadata": {},
     "output_type": "display_data"
    },
    {
     "data": {
      "text/html": [
       "<pre style=\"white-space:pre;overflow-x:auto;line-height:normal;font-family:Menlo,'DejaVu Sans Mono',consolas,'Courier New',monospace\">09:13:37.165 | <span style=\"color: #008080; text-decoration-color: #008080\">INFO</span>    | Task run 'first_etl-0' - &lt;class 'pandas.core.frame.DataFrame'&gt;\n",
       "</pre>\n"
      ],
      "text/plain": [
       "09:13:37.165 | \u001b[36mINFO\u001b[0m    | Task run 'first_etl-0' - <class 'pandas.core.frame.DataFrame'>\n"
      ]
     },
     "metadata": {},
     "output_type": "display_data"
    },
    {
     "data": {
      "text/html": [
       "<pre style=\"white-space:pre;overflow-x:auto;line-height:normal;font-family:Menlo,'DejaVu Sans Mono',consolas,'Courier New',monospace\">09:13:37.170 | <span style=\"color: #008080; text-decoration-color: #008080\">INFO</span>    | Task run 'first_etl-0' - &lt;class 'pandas.core.frame.DataFrame'&gt;\n",
       "</pre>\n"
      ],
      "text/plain": [
       "09:13:37.170 | \u001b[36mINFO\u001b[0m    | Task run 'first_etl-0' - <class 'pandas.core.frame.DataFrame'>\n"
      ]
     },
     "metadata": {},
     "output_type": "display_data"
    },
    {
     "data": {
      "text/html": [
       "<pre style=\"white-space:pre;overflow-x:auto;line-height:normal;font-family:Menlo,'DejaVu Sans Mono',consolas,'Courier New',monospace\">09:13:37.177 | <span style=\"color: #008080; text-decoration-color: #008080\">INFO</span>    | Task run 'first_etl-0' - &lt;class 'pandas.core.frame.DataFrame'&gt;\n",
       "</pre>\n"
      ],
      "text/plain": [
       "09:13:37.177 | \u001b[36mINFO\u001b[0m    | Task run 'first_etl-0' - <class 'pandas.core.frame.DataFrame'>\n"
      ]
     },
     "metadata": {},
     "output_type": "display_data"
    },
    {
     "data": {
      "text/html": [
       "<pre style=\"white-space:pre;overflow-x:auto;line-height:normal;font-family:Menlo,'DejaVu Sans Mono',consolas,'Courier New',monospace\">09:13:37.180 | <span style=\"color: #008080; text-decoration-color: #008080\">INFO</span>    | Task run 'first_etl-0' - &lt;class 'pandas.core.frame.DataFrame'&gt;\n",
       "</pre>\n"
      ],
      "text/plain": [
       "09:13:37.180 | \u001b[36mINFO\u001b[0m    | Task run 'first_etl-0' - <class 'pandas.core.frame.DataFrame'>\n"
      ]
     },
     "metadata": {},
     "output_type": "display_data"
    },
    {
     "data": {
      "text/html": [
       "<pre style=\"white-space:pre;overflow-x:auto;line-height:normal;font-family:Menlo,'DejaVu Sans Mono',consolas,'Courier New',monospace\">09:13:37.183 | <span style=\"color: #008080; text-decoration-color: #008080\">INFO</span>    | Task run 'first_etl-0' - &lt;class 'pandas.core.frame.DataFrame'&gt;\n",
       "</pre>\n"
      ],
      "text/plain": [
       "09:13:37.183 | \u001b[36mINFO\u001b[0m    | Task run 'first_etl-0' - <class 'pandas.core.frame.DataFrame'>\n"
      ]
     },
     "metadata": {},
     "output_type": "display_data"
    },
    {
     "data": {
      "text/html": [
       "<pre style=\"white-space:pre;overflow-x:auto;line-height:normal;font-family:Menlo,'DejaVu Sans Mono',consolas,'Courier New',monospace\">09:13:37.187 | <span style=\"color: #008080; text-decoration-color: #008080\">INFO</span>    | Task run 'first_etl-0' - &lt;class 'pandas.core.frame.DataFrame'&gt;\n",
       "</pre>\n"
      ],
      "text/plain": [
       "09:13:37.187 | \u001b[36mINFO\u001b[0m    | Task run 'first_etl-0' - <class 'pandas.core.frame.DataFrame'>\n"
      ]
     },
     "metadata": {},
     "output_type": "display_data"
    },
    {
     "data": {
      "text/html": [
       "<pre style=\"white-space:pre;overflow-x:auto;line-height:normal;font-family:Menlo,'DejaVu Sans Mono',consolas,'Courier New',monospace\">09:13:37.192 | <span style=\"color: #008080; text-decoration-color: #008080\">INFO</span>    | Task run 'first_etl-0' - &lt;class 'pandas.core.frame.DataFrame'&gt;\n",
       "</pre>\n"
      ],
      "text/plain": [
       "09:13:37.192 | \u001b[36mINFO\u001b[0m    | Task run 'first_etl-0' - <class 'pandas.core.frame.DataFrame'>\n"
      ]
     },
     "metadata": {},
     "output_type": "display_data"
    },
    {
     "data": {
      "text/html": [
       "<pre style=\"white-space:pre;overflow-x:auto;line-height:normal;font-family:Menlo,'DejaVu Sans Mono',consolas,'Courier New',monospace\">09:13:37.195 | <span style=\"color: #008080; text-decoration-color: #008080\">INFO</span>    | Task run 'first_etl-0' - &lt;class 'pandas.core.frame.DataFrame'&gt;\n",
       "</pre>\n"
      ],
      "text/plain": [
       "09:13:37.195 | \u001b[36mINFO\u001b[0m    | Task run 'first_etl-0' - <class 'pandas.core.frame.DataFrame'>\n"
      ]
     },
     "metadata": {},
     "output_type": "display_data"
    },
    {
     "data": {
      "text/html": [
       "<pre style=\"white-space:pre;overflow-x:auto;line-height:normal;font-family:Menlo,'DejaVu Sans Mono',consolas,'Courier New',monospace\">09:13:37.198 | <span style=\"color: #008080; text-decoration-color: #008080\">INFO</span>    | Task run 'first_etl-0' - &lt;class 'pandas.core.frame.DataFrame'&gt;\n",
       "</pre>\n"
      ],
      "text/plain": [
       "09:13:37.198 | \u001b[36mINFO\u001b[0m    | Task run 'first_etl-0' - <class 'pandas.core.frame.DataFrame'>\n"
      ]
     },
     "metadata": {},
     "output_type": "display_data"
    },
    {
     "data": {
      "text/html": [
       "<pre style=\"white-space:pre;overflow-x:auto;line-height:normal;font-family:Menlo,'DejaVu Sans Mono',consolas,'Courier New',monospace\">09:13:37.201 | <span style=\"color: #008080; text-decoration-color: #008080\">INFO</span>    | Task run 'first_etl-0' - &lt;class 'pandas.core.frame.DataFrame'&gt;\n",
       "</pre>\n"
      ],
      "text/plain": [
       "09:13:37.201 | \u001b[36mINFO\u001b[0m    | Task run 'first_etl-0' - <class 'pandas.core.frame.DataFrame'>\n"
      ]
     },
     "metadata": {},
     "output_type": "display_data"
    },
    {
     "data": {
      "text/html": [
       "<pre style=\"white-space:pre;overflow-x:auto;line-height:normal;font-family:Menlo,'DejaVu Sans Mono',consolas,'Courier New',monospace\">09:13:37.204 | <span style=\"color: #008080; text-decoration-color: #008080\">INFO</span>    | Task run 'first_etl-0' - &lt;class 'pandas.core.frame.DataFrame'&gt;\n",
       "</pre>\n"
      ],
      "text/plain": [
       "09:13:37.204 | \u001b[36mINFO\u001b[0m    | Task run 'first_etl-0' - <class 'pandas.core.frame.DataFrame'>\n"
      ]
     },
     "metadata": {},
     "output_type": "display_data"
    },
    {
     "data": {
      "text/html": [
       "<pre style=\"white-space:pre;overflow-x:auto;line-height:normal;font-family:Menlo,'DejaVu Sans Mono',consolas,'Courier New',monospace\">09:13:37.207 | <span style=\"color: #008080; text-decoration-color: #008080\">INFO</span>    | Task run 'first_etl-0' - &lt;class 'pandas.core.frame.DataFrame'&gt;\n",
       "</pre>\n"
      ],
      "text/plain": [
       "09:13:37.207 | \u001b[36mINFO\u001b[0m    | Task run 'first_etl-0' - <class 'pandas.core.frame.DataFrame'>\n"
      ]
     },
     "metadata": {},
     "output_type": "display_data"
    },
    {
     "data": {
      "text/html": [
       "<pre style=\"white-space:pre;overflow-x:auto;line-height:normal;font-family:Menlo,'DejaVu Sans Mono',consolas,'Courier New',monospace\">09:13:37.210 | <span style=\"color: #008080; text-decoration-color: #008080\">INFO</span>    | Task run 'first_etl-0' - &lt;class 'pandas.core.frame.DataFrame'&gt;\n",
       "</pre>\n"
      ],
      "text/plain": [
       "09:13:37.210 | \u001b[36mINFO\u001b[0m    | Task run 'first_etl-0' - <class 'pandas.core.frame.DataFrame'>\n"
      ]
     },
     "metadata": {},
     "output_type": "display_data"
    },
    {
     "data": {
      "text/html": [
       "<pre style=\"white-space:pre;overflow-x:auto;line-height:normal;font-family:Menlo,'DejaVu Sans Mono',consolas,'Courier New',monospace\">09:13:37.213 | <span style=\"color: #008080; text-decoration-color: #008080\">INFO</span>    | Task run 'first_etl-0' - &lt;class 'pandas.core.frame.DataFrame'&gt;\n",
       "</pre>\n"
      ],
      "text/plain": [
       "09:13:37.213 | \u001b[36mINFO\u001b[0m    | Task run 'first_etl-0' - <class 'pandas.core.frame.DataFrame'>\n"
      ]
     },
     "metadata": {},
     "output_type": "display_data"
    },
    {
     "data": {
      "text/html": [
       "<pre style=\"white-space:pre;overflow-x:auto;line-height:normal;font-family:Menlo,'DejaVu Sans Mono',consolas,'Courier New',monospace\">09:13:37.216 | <span style=\"color: #008080; text-decoration-color: #008080\">INFO</span>    | Task run 'first_etl-0' - &lt;class 'pandas.core.frame.DataFrame'&gt;\n",
       "</pre>\n"
      ],
      "text/plain": [
       "09:13:37.216 | \u001b[36mINFO\u001b[0m    | Task run 'first_etl-0' - <class 'pandas.core.frame.DataFrame'>\n"
      ]
     },
     "metadata": {},
     "output_type": "display_data"
    },
    {
     "data": {
      "text/html": [
       "<pre style=\"white-space:pre;overflow-x:auto;line-height:normal;font-family:Menlo,'DejaVu Sans Mono',consolas,'Courier New',monospace\">09:13:37.219 | <span style=\"color: #008080; text-decoration-color: #008080\">INFO</span>    | Task run 'first_etl-0' - &lt;class 'pandas.core.frame.DataFrame'&gt;\n",
       "</pre>\n"
      ],
      "text/plain": [
       "09:13:37.219 | \u001b[36mINFO\u001b[0m    | Task run 'first_etl-0' - <class 'pandas.core.frame.DataFrame'>\n"
      ]
     },
     "metadata": {},
     "output_type": "display_data"
    },
    {
     "data": {
      "text/html": [
       "<pre style=\"white-space:pre;overflow-x:auto;line-height:normal;font-family:Menlo,'DejaVu Sans Mono',consolas,'Courier New',monospace\">09:13:37.223 | <span style=\"color: #008080; text-decoration-color: #008080\">INFO</span>    | Task run 'first_etl-0' - &lt;class 'pandas.core.frame.DataFrame'&gt;\n",
       "</pre>\n"
      ],
      "text/plain": [
       "09:13:37.223 | \u001b[36mINFO\u001b[0m    | Task run 'first_etl-0' - <class 'pandas.core.frame.DataFrame'>\n"
      ]
     },
     "metadata": {},
     "output_type": "display_data"
    },
    {
     "data": {
      "text/html": [
       "<pre style=\"white-space:pre;overflow-x:auto;line-height:normal;font-family:Menlo,'DejaVu Sans Mono',consolas,'Courier New',monospace\">09:13:37.227 | <span style=\"color: #008080; text-decoration-color: #008080\">INFO</span>    | Task run 'first_etl-0' - &lt;class 'pandas.core.frame.DataFrame'&gt;\n",
       "</pre>\n"
      ],
      "text/plain": [
       "09:13:37.227 | \u001b[36mINFO\u001b[0m    | Task run 'first_etl-0' - <class 'pandas.core.frame.DataFrame'>\n"
      ]
     },
     "metadata": {},
     "output_type": "display_data"
    },
    {
     "data": {
      "text/html": [
       "<pre style=\"white-space:pre;overflow-x:auto;line-height:normal;font-family:Menlo,'DejaVu Sans Mono',consolas,'Courier New',monospace\">09:13:37.229 | <span style=\"color: #008080; text-decoration-color: #008080\">INFO</span>    | Task run 'first_etl-0' - &lt;class 'pandas.core.frame.DataFrame'&gt;\n",
       "</pre>\n"
      ],
      "text/plain": [
       "09:13:37.229 | \u001b[36mINFO\u001b[0m    | Task run 'first_etl-0' - <class 'pandas.core.frame.DataFrame'>\n"
      ]
     },
     "metadata": {},
     "output_type": "display_data"
    },
    {
     "data": {
      "text/html": [
       "<pre style=\"white-space:pre;overflow-x:auto;line-height:normal;font-family:Menlo,'DejaVu Sans Mono',consolas,'Courier New',monospace\">09:13:37.232 | <span style=\"color: #008080; text-decoration-color: #008080\">INFO</span>    | Task run 'first_etl-0' - &lt;class 'pandas.core.frame.DataFrame'&gt;\n",
       "</pre>\n"
      ],
      "text/plain": [
       "09:13:37.232 | \u001b[36mINFO\u001b[0m    | Task run 'first_etl-0' - <class 'pandas.core.frame.DataFrame'>\n"
      ]
     },
     "metadata": {},
     "output_type": "display_data"
    },
    {
     "data": {
      "text/html": [
       "<pre style=\"white-space:pre;overflow-x:auto;line-height:normal;font-family:Menlo,'DejaVu Sans Mono',consolas,'Courier New',monospace\">09:13:37.236 | <span style=\"color: #008080; text-decoration-color: #008080\">INFO</span>    | Task run 'first_etl-0' - &lt;class 'pandas.core.frame.DataFrame'&gt;\n",
       "</pre>\n"
      ],
      "text/plain": [
       "09:13:37.236 | \u001b[36mINFO\u001b[0m    | Task run 'first_etl-0' - <class 'pandas.core.frame.DataFrame'>\n"
      ]
     },
     "metadata": {},
     "output_type": "display_data"
    },
    {
     "data": {
      "text/html": [
       "<pre style=\"white-space:pre;overflow-x:auto;line-height:normal;font-family:Menlo,'DejaVu Sans Mono',consolas,'Courier New',monospace\">09:13:37.239 | <span style=\"color: #008080; text-decoration-color: #008080\">INFO</span>    | Task run 'first_etl-0' - &lt;class 'pandas.core.frame.DataFrame'&gt;\n",
       "</pre>\n"
      ],
      "text/plain": [
       "09:13:37.239 | \u001b[36mINFO\u001b[0m    | Task run 'first_etl-0' - <class 'pandas.core.frame.DataFrame'>\n"
      ]
     },
     "metadata": {},
     "output_type": "display_data"
    },
    {
     "data": {
      "text/html": [
       "<pre style=\"white-space:pre;overflow-x:auto;line-height:normal;font-family:Menlo,'DejaVu Sans Mono',consolas,'Courier New',monospace\">09:13:37.243 | <span style=\"color: #008080; text-decoration-color: #008080\">INFO</span>    | Task run 'first_etl-0' - &lt;class 'pandas.core.frame.DataFrame'&gt;\n",
       "</pre>\n"
      ],
      "text/plain": [
       "09:13:37.243 | \u001b[36mINFO\u001b[0m    | Task run 'first_etl-0' - <class 'pandas.core.frame.DataFrame'>\n"
      ]
     },
     "metadata": {},
     "output_type": "display_data"
    },
    {
     "data": {
      "text/html": [
       "<pre style=\"white-space:pre;overflow-x:auto;line-height:normal;font-family:Menlo,'DejaVu Sans Mono',consolas,'Courier New',monospace\">09:13:37.245 | <span style=\"color: #008080; text-decoration-color: #008080\">INFO</span>    | Task run 'first_etl-0' - &lt;class 'pandas.core.frame.DataFrame'&gt;\n",
       "</pre>\n"
      ],
      "text/plain": [
       "09:13:37.245 | \u001b[36mINFO\u001b[0m    | Task run 'first_etl-0' - <class 'pandas.core.frame.DataFrame'>\n"
      ]
     },
     "metadata": {},
     "output_type": "display_data"
    },
    {
     "data": {
      "text/html": [
       "<pre style=\"white-space:pre;overflow-x:auto;line-height:normal;font-family:Menlo,'DejaVu Sans Mono',consolas,'Courier New',monospace\">09:13:37.248 | <span style=\"color: #008080; text-decoration-color: #008080\">INFO</span>    | Task run 'first_etl-0' - &lt;class 'pandas.core.frame.DataFrame'&gt;\n",
       "</pre>\n"
      ],
      "text/plain": [
       "09:13:37.248 | \u001b[36mINFO\u001b[0m    | Task run 'first_etl-0' - <class 'pandas.core.frame.DataFrame'>\n"
      ]
     },
     "metadata": {},
     "output_type": "display_data"
    },
    {
     "data": {
      "text/html": [
       "<pre style=\"white-space:pre;overflow-x:auto;line-height:normal;font-family:Menlo,'DejaVu Sans Mono',consolas,'Courier New',monospace\">09:13:37.251 | <span style=\"color: #008080; text-decoration-color: #008080\">INFO</span>    | Task run 'first_etl-0' - &lt;class 'pandas.core.frame.DataFrame'&gt;\n",
       "</pre>\n"
      ],
      "text/plain": [
       "09:13:37.251 | \u001b[36mINFO\u001b[0m    | Task run 'first_etl-0' - <class 'pandas.core.frame.DataFrame'>\n"
      ]
     },
     "metadata": {},
     "output_type": "display_data"
    },
    {
     "data": {
      "text/html": [
       "<pre style=\"white-space:pre;overflow-x:auto;line-height:normal;font-family:Menlo,'DejaVu Sans Mono',consolas,'Courier New',monospace\">09:13:37.255 | <span style=\"color: #008080; text-decoration-color: #008080\">INFO</span>    | Task run 'first_etl-0' - &lt;class 'pandas.core.frame.DataFrame'&gt;\n",
       "</pre>\n"
      ],
      "text/plain": [
       "09:13:37.255 | \u001b[36mINFO\u001b[0m    | Task run 'first_etl-0' - <class 'pandas.core.frame.DataFrame'>\n"
      ]
     },
     "metadata": {},
     "output_type": "display_data"
    },
    {
     "data": {
      "text/html": [
       "<pre style=\"white-space:pre;overflow-x:auto;line-height:normal;font-family:Menlo,'DejaVu Sans Mono',consolas,'Courier New',monospace\">09:13:37.258 | <span style=\"color: #008080; text-decoration-color: #008080\">INFO</span>    | Task run 'first_etl-0' - &lt;class 'pandas.core.frame.DataFrame'&gt;\n",
       "</pre>\n"
      ],
      "text/plain": [
       "09:13:37.258 | \u001b[36mINFO\u001b[0m    | Task run 'first_etl-0' - <class 'pandas.core.frame.DataFrame'>\n"
      ]
     },
     "metadata": {},
     "output_type": "display_data"
    },
    {
     "data": {
      "text/html": [
       "<pre style=\"white-space:pre;overflow-x:auto;line-height:normal;font-family:Menlo,'DejaVu Sans Mono',consolas,'Courier New',monospace\">09:13:37.260 | <span style=\"color: #008080; text-decoration-color: #008080\">INFO</span>    | Task run 'first_etl-0' - &lt;class 'pandas.core.frame.DataFrame'&gt;\n",
       "</pre>\n"
      ],
      "text/plain": [
       "09:13:37.260 | \u001b[36mINFO\u001b[0m    | Task run 'first_etl-0' - <class 'pandas.core.frame.DataFrame'>\n"
      ]
     },
     "metadata": {},
     "output_type": "display_data"
    },
    {
     "data": {
      "text/html": [
       "<pre style=\"white-space:pre;overflow-x:auto;line-height:normal;font-family:Menlo,'DejaVu Sans Mono',consolas,'Courier New',monospace\">09:13:37.263 | <span style=\"color: #008080; text-decoration-color: #008080\">INFO</span>    | Task run 'first_etl-0' - &lt;class 'pandas.core.frame.DataFrame'&gt;\n",
       "</pre>\n"
      ],
      "text/plain": [
       "09:13:37.263 | \u001b[36mINFO\u001b[0m    | Task run 'first_etl-0' - <class 'pandas.core.frame.DataFrame'>\n"
      ]
     },
     "metadata": {},
     "output_type": "display_data"
    },
    {
     "data": {
      "text/html": [
       "<pre style=\"white-space:pre;overflow-x:auto;line-height:normal;font-family:Menlo,'DejaVu Sans Mono',consolas,'Courier New',monospace\">09:13:37.266 | <span style=\"color: #008080; text-decoration-color: #008080\">INFO</span>    | Task run 'first_etl-0' - &lt;class 'pandas.core.frame.DataFrame'&gt;\n",
       "</pre>\n"
      ],
      "text/plain": [
       "09:13:37.266 | \u001b[36mINFO\u001b[0m    | Task run 'first_etl-0' - <class 'pandas.core.frame.DataFrame'>\n"
      ]
     },
     "metadata": {},
     "output_type": "display_data"
    },
    {
     "data": {
      "text/html": [
       "<pre style=\"white-space:pre;overflow-x:auto;line-height:normal;font-family:Menlo,'DejaVu Sans Mono',consolas,'Courier New',monospace\">09:13:37.268 | <span style=\"color: #008080; text-decoration-color: #008080\">INFO</span>    | Task run 'first_etl-0' - &lt;class 'pandas.core.frame.DataFrame'&gt;\n",
       "</pre>\n"
      ],
      "text/plain": [
       "09:13:37.268 | \u001b[36mINFO\u001b[0m    | Task run 'first_etl-0' - <class 'pandas.core.frame.DataFrame'>\n"
      ]
     },
     "metadata": {},
     "output_type": "display_data"
    },
    {
     "data": {
      "text/html": [
       "<pre style=\"white-space:pre;overflow-x:auto;line-height:normal;font-family:Menlo,'DejaVu Sans Mono',consolas,'Courier New',monospace\">09:13:37.271 | <span style=\"color: #008080; text-decoration-color: #008080\">INFO</span>    | Task run 'first_etl-0' - &lt;class 'pandas.core.frame.DataFrame'&gt;\n",
       "</pre>\n"
      ],
      "text/plain": [
       "09:13:37.271 | \u001b[36mINFO\u001b[0m    | Task run 'first_etl-0' - <class 'pandas.core.frame.DataFrame'>\n"
      ]
     },
     "metadata": {},
     "output_type": "display_data"
    },
    {
     "data": {
      "text/html": [
       "<pre style=\"white-space:pre;overflow-x:auto;line-height:normal;font-family:Menlo,'DejaVu Sans Mono',consolas,'Courier New',monospace\">09:13:37.273 | <span style=\"color: #008080; text-decoration-color: #008080\">INFO</span>    | Task run 'first_etl-0' - &lt;class 'pandas.core.frame.DataFrame'&gt;\n",
       "</pre>\n"
      ],
      "text/plain": [
       "09:13:37.273 | \u001b[36mINFO\u001b[0m    | Task run 'first_etl-0' - <class 'pandas.core.frame.DataFrame'>\n"
      ]
     },
     "metadata": {},
     "output_type": "display_data"
    },
    {
     "data": {
      "text/html": [
       "<pre style=\"white-space:pre;overflow-x:auto;line-height:normal;font-family:Menlo,'DejaVu Sans Mono',consolas,'Courier New',monospace\">09:13:37.276 | <span style=\"color: #008080; text-decoration-color: #008080\">INFO</span>    | Task run 'first_etl-0' - &lt;class 'pandas.core.frame.DataFrame'&gt;\n",
       "</pre>\n"
      ],
      "text/plain": [
       "09:13:37.276 | \u001b[36mINFO\u001b[0m    | Task run 'first_etl-0' - <class 'pandas.core.frame.DataFrame'>\n"
      ]
     },
     "metadata": {},
     "output_type": "display_data"
    },
    {
     "data": {
      "text/html": [
       "<pre style=\"white-space:pre;overflow-x:auto;line-height:normal;font-family:Menlo,'DejaVu Sans Mono',consolas,'Courier New',monospace\">09:13:37.278 | <span style=\"color: #008080; text-decoration-color: #008080\">INFO</span>    | Task run 'first_etl-0' - &lt;class 'pandas.core.frame.DataFrame'&gt;\n",
       "</pre>\n"
      ],
      "text/plain": [
       "09:13:37.278 | \u001b[36mINFO\u001b[0m    | Task run 'first_etl-0' - <class 'pandas.core.frame.DataFrame'>\n"
      ]
     },
     "metadata": {},
     "output_type": "display_data"
    },
    {
     "data": {
      "text/html": [
       "<pre style=\"white-space:pre;overflow-x:auto;line-height:normal;font-family:Menlo,'DejaVu Sans Mono',consolas,'Courier New',monospace\">09:13:37.281 | <span style=\"color: #008080; text-decoration-color: #008080\">INFO</span>    | Task run 'first_etl-0' - &lt;class 'pandas.core.frame.DataFrame'&gt;\n",
       "</pre>\n"
      ],
      "text/plain": [
       "09:13:37.281 | \u001b[36mINFO\u001b[0m    | Task run 'first_etl-0' - <class 'pandas.core.frame.DataFrame'>\n"
      ]
     },
     "metadata": {},
     "output_type": "display_data"
    },
    {
     "data": {
      "text/html": [
       "<pre style=\"white-space:pre;overflow-x:auto;line-height:normal;font-family:Menlo,'DejaVu Sans Mono',consolas,'Courier New',monospace\">09:13:37.284 | <span style=\"color: #008080; text-decoration-color: #008080\">INFO</span>    | Task run 'first_etl-0' - &lt;class 'pandas.core.frame.DataFrame'&gt;\n",
       "</pre>\n"
      ],
      "text/plain": [
       "09:13:37.284 | \u001b[36mINFO\u001b[0m    | Task run 'first_etl-0' - <class 'pandas.core.frame.DataFrame'>\n"
      ]
     },
     "metadata": {},
     "output_type": "display_data"
    },
    {
     "data": {
      "text/html": [
       "<pre style=\"white-space:pre;overflow-x:auto;line-height:normal;font-family:Menlo,'DejaVu Sans Mono',consolas,'Courier New',monospace\">09:13:37.286 | <span style=\"color: #008080; text-decoration-color: #008080\">INFO</span>    | Task run 'first_etl-0' - &lt;class 'pandas.core.frame.DataFrame'&gt;\n",
       "</pre>\n"
      ],
      "text/plain": [
       "09:13:37.286 | \u001b[36mINFO\u001b[0m    | Task run 'first_etl-0' - <class 'pandas.core.frame.DataFrame'>\n"
      ]
     },
     "metadata": {},
     "output_type": "display_data"
    },
    {
     "data": {
      "text/html": [
       "<pre style=\"white-space:pre;overflow-x:auto;line-height:normal;font-family:Menlo,'DejaVu Sans Mono',consolas,'Courier New',monospace\">09:13:37.289 | <span style=\"color: #008080; text-decoration-color: #008080\">INFO</span>    | Task run 'first_etl-0' - &lt;class 'pandas.core.frame.DataFrame'&gt;\n",
       "</pre>\n"
      ],
      "text/plain": [
       "09:13:37.289 | \u001b[36mINFO\u001b[0m    | Task run 'first_etl-0' - <class 'pandas.core.frame.DataFrame'>\n"
      ]
     },
     "metadata": {},
     "output_type": "display_data"
    },
    {
     "data": {
      "text/html": [
       "<pre style=\"white-space:pre;overflow-x:auto;line-height:normal;font-family:Menlo,'DejaVu Sans Mono',consolas,'Courier New',monospace\">09:13:37.291 | <span style=\"color: #008080; text-decoration-color: #008080\">INFO</span>    | Task run 'first_etl-0' - &lt;class 'pandas.core.frame.DataFrame'&gt;\n",
       "</pre>\n"
      ],
      "text/plain": [
       "09:13:37.291 | \u001b[36mINFO\u001b[0m    | Task run 'first_etl-0' - <class 'pandas.core.frame.DataFrame'>\n"
      ]
     },
     "metadata": {},
     "output_type": "display_data"
    },
    {
     "data": {
      "text/html": [
       "<pre style=\"white-space:pre;overflow-x:auto;line-height:normal;font-family:Menlo,'DejaVu Sans Mono',consolas,'Courier New',monospace\">09:13:37.294 | <span style=\"color: #008080; text-decoration-color: #008080\">INFO</span>    | Task run 'first_etl-0' - &lt;class 'pandas.core.frame.DataFrame'&gt;\n",
       "</pre>\n"
      ],
      "text/plain": [
       "09:13:37.294 | \u001b[36mINFO\u001b[0m    | Task run 'first_etl-0' - <class 'pandas.core.frame.DataFrame'>\n"
      ]
     },
     "metadata": {},
     "output_type": "display_data"
    },
    {
     "data": {
      "text/html": [
       "<pre style=\"white-space:pre;overflow-x:auto;line-height:normal;font-family:Menlo,'DejaVu Sans Mono',consolas,'Courier New',monospace\">09:13:37.296 | <span style=\"color: #008080; text-decoration-color: #008080\">INFO</span>    | Task run 'first_etl-0' - &lt;class 'pandas.core.frame.DataFrame'&gt;\n",
       "</pre>\n"
      ],
      "text/plain": [
       "09:13:37.296 | \u001b[36mINFO\u001b[0m    | Task run 'first_etl-0' - <class 'pandas.core.frame.DataFrame'>\n"
      ]
     },
     "metadata": {},
     "output_type": "display_data"
    },
    {
     "data": {
      "text/html": [
       "<pre style=\"white-space:pre;overflow-x:auto;line-height:normal;font-family:Menlo,'DejaVu Sans Mono',consolas,'Courier New',monospace\">09:13:37.299 | <span style=\"color: #008080; text-decoration-color: #008080\">INFO</span>    | Task run 'first_etl-0' - &lt;class 'pandas.core.frame.DataFrame'&gt;\n",
       "</pre>\n"
      ],
      "text/plain": [
       "09:13:37.299 | \u001b[36mINFO\u001b[0m    | Task run 'first_etl-0' - <class 'pandas.core.frame.DataFrame'>\n"
      ]
     },
     "metadata": {},
     "output_type": "display_data"
    },
    {
     "data": {
      "text/html": [
       "<pre style=\"white-space:pre;overflow-x:auto;line-height:normal;font-family:Menlo,'DejaVu Sans Mono',consolas,'Courier New',monospace\">09:13:37.302 | <span style=\"color: #008080; text-decoration-color: #008080\">INFO</span>    | Task run 'first_etl-0' - &lt;class 'pandas.core.frame.DataFrame'&gt;\n",
       "</pre>\n"
      ],
      "text/plain": [
       "09:13:37.302 | \u001b[36mINFO\u001b[0m    | Task run 'first_etl-0' - <class 'pandas.core.frame.DataFrame'>\n"
      ]
     },
     "metadata": {},
     "output_type": "display_data"
    },
    {
     "data": {
      "text/html": [
       "<pre style=\"white-space:pre;overflow-x:auto;line-height:normal;font-family:Menlo,'DejaVu Sans Mono',consolas,'Courier New',monospace\">09:13:37.304 | <span style=\"color: #008080; text-decoration-color: #008080\">INFO</span>    | Task run 'first_etl-0' - &lt;class 'pandas.core.frame.DataFrame'&gt;\n",
       "</pre>\n"
      ],
      "text/plain": [
       "09:13:37.304 | \u001b[36mINFO\u001b[0m    | Task run 'first_etl-0' - <class 'pandas.core.frame.DataFrame'>\n"
      ]
     },
     "metadata": {},
     "output_type": "display_data"
    },
    {
     "data": {
      "text/html": [
       "<pre style=\"white-space:pre;overflow-x:auto;line-height:normal;font-family:Menlo,'DejaVu Sans Mono',consolas,'Courier New',monospace\">09:13:37.306 | <span style=\"color: #008080; text-decoration-color: #008080\">INFO</span>    | Task run 'first_etl-0' - &lt;class 'pandas.core.frame.DataFrame'&gt;\n",
       "</pre>\n"
      ],
      "text/plain": [
       "09:13:37.306 | \u001b[36mINFO\u001b[0m    | Task run 'first_etl-0' - <class 'pandas.core.frame.DataFrame'>\n"
      ]
     },
     "metadata": {},
     "output_type": "display_data"
    },
    {
     "data": {
      "text/html": [
       "<pre style=\"white-space:pre;overflow-x:auto;line-height:normal;font-family:Menlo,'DejaVu Sans Mono',consolas,'Courier New',monospace\">09:13:37.309 | <span style=\"color: #008080; text-decoration-color: #008080\">INFO</span>    | Task run 'first_etl-0' - &lt;class 'pandas.core.frame.DataFrame'&gt;\n",
       "</pre>\n"
      ],
      "text/plain": [
       "09:13:37.309 | \u001b[36mINFO\u001b[0m    | Task run 'first_etl-0' - <class 'pandas.core.frame.DataFrame'>\n"
      ]
     },
     "metadata": {},
     "output_type": "display_data"
    },
    {
     "data": {
      "text/html": [
       "<pre style=\"white-space:pre;overflow-x:auto;line-height:normal;font-family:Menlo,'DejaVu Sans Mono',consolas,'Courier New',monospace\">09:13:37.311 | <span style=\"color: #008080; text-decoration-color: #008080\">INFO</span>    | Task run 'first_etl-0' - &lt;class 'pandas.core.frame.DataFrame'&gt;\n",
       "</pre>\n"
      ],
      "text/plain": [
       "09:13:37.311 | \u001b[36mINFO\u001b[0m    | Task run 'first_etl-0' - <class 'pandas.core.frame.DataFrame'>\n"
      ]
     },
     "metadata": {},
     "output_type": "display_data"
    },
    {
     "data": {
      "text/html": [
       "<pre style=\"white-space:pre;overflow-x:auto;line-height:normal;font-family:Menlo,'DejaVu Sans Mono',consolas,'Courier New',monospace\">09:13:37.313 | <span style=\"color: #008080; text-decoration-color: #008080\">INFO</span>    | Task run 'first_etl-0' - &lt;class 'pandas.core.frame.DataFrame'&gt;\n",
       "</pre>\n"
      ],
      "text/plain": [
       "09:13:37.313 | \u001b[36mINFO\u001b[0m    | Task run 'first_etl-0' - <class 'pandas.core.frame.DataFrame'>\n"
      ]
     },
     "metadata": {},
     "output_type": "display_data"
    },
    {
     "data": {
      "text/html": [
       "<pre style=\"white-space:pre;overflow-x:auto;line-height:normal;font-family:Menlo,'DejaVu Sans Mono',consolas,'Courier New',monospace\">09:13:37.315 | <span style=\"color: #008080; text-decoration-color: #008080\">INFO</span>    | Task run 'first_etl-0' - &lt;class 'pandas.core.frame.DataFrame'&gt;\n",
       "</pre>\n"
      ],
      "text/plain": [
       "09:13:37.315 | \u001b[36mINFO\u001b[0m    | Task run 'first_etl-0' - <class 'pandas.core.frame.DataFrame'>\n"
      ]
     },
     "metadata": {},
     "output_type": "display_data"
    },
    {
     "data": {
      "text/html": [
       "<pre style=\"white-space:pre;overflow-x:auto;line-height:normal;font-family:Menlo,'DejaVu Sans Mono',consolas,'Courier New',monospace\">09:13:37.318 | <span style=\"color: #008080; text-decoration-color: #008080\">INFO</span>    | Task run 'first_etl-0' - &lt;class 'pandas.core.frame.DataFrame'&gt;\n",
       "</pre>\n"
      ],
      "text/plain": [
       "09:13:37.318 | \u001b[36mINFO\u001b[0m    | Task run 'first_etl-0' - <class 'pandas.core.frame.DataFrame'>\n"
      ]
     },
     "metadata": {},
     "output_type": "display_data"
    },
    {
     "data": {
      "text/html": [
       "<pre style=\"white-space:pre;overflow-x:auto;line-height:normal;font-family:Menlo,'DejaVu Sans Mono',consolas,'Courier New',monospace\">09:13:37.321 | <span style=\"color: #008080; text-decoration-color: #008080\">INFO</span>    | Task run 'first_etl-0' - &lt;class 'pandas.core.frame.DataFrame'&gt;\n",
       "</pre>\n"
      ],
      "text/plain": [
       "09:13:37.321 | \u001b[36mINFO\u001b[0m    | Task run 'first_etl-0' - <class 'pandas.core.frame.DataFrame'>\n"
      ]
     },
     "metadata": {},
     "output_type": "display_data"
    },
    {
     "data": {
      "text/html": [
       "<pre style=\"white-space:pre;overflow-x:auto;line-height:normal;font-family:Menlo,'DejaVu Sans Mono',consolas,'Courier New',monospace\">09:13:37.323 | <span style=\"color: #008080; text-decoration-color: #008080\">INFO</span>    | Task run 'first_etl-0' - &lt;class 'pandas.core.frame.DataFrame'&gt;\n",
       "</pre>\n"
      ],
      "text/plain": [
       "09:13:37.323 | \u001b[36mINFO\u001b[0m    | Task run 'first_etl-0' - <class 'pandas.core.frame.DataFrame'>\n"
      ]
     },
     "metadata": {},
     "output_type": "display_data"
    },
    {
     "data": {
      "text/html": [
       "<pre style=\"white-space:pre;overflow-x:auto;line-height:normal;font-family:Menlo,'DejaVu Sans Mono',consolas,'Courier New',monospace\">09:13:37.326 | <span style=\"color: #008080; text-decoration-color: #008080\">INFO</span>    | Task run 'first_etl-0' - &lt;class 'pandas.core.frame.DataFrame'&gt;\n",
       "</pre>\n"
      ],
      "text/plain": [
       "09:13:37.326 | \u001b[36mINFO\u001b[0m    | Task run 'first_etl-0' - <class 'pandas.core.frame.DataFrame'>\n"
      ]
     },
     "metadata": {},
     "output_type": "display_data"
    },
    {
     "data": {
      "text/html": [
       "<pre style=\"white-space:pre;overflow-x:auto;line-height:normal;font-family:Menlo,'DejaVu Sans Mono',consolas,'Courier New',monospace\">09:13:37.328 | <span style=\"color: #008080; text-decoration-color: #008080\">INFO</span>    | Task run 'first_etl-0' - &lt;class 'pandas.core.frame.DataFrame'&gt;\n",
       "</pre>\n"
      ],
      "text/plain": [
       "09:13:37.328 | \u001b[36mINFO\u001b[0m    | Task run 'first_etl-0' - <class 'pandas.core.frame.DataFrame'>\n"
      ]
     },
     "metadata": {},
     "output_type": "display_data"
    },
    {
     "data": {
      "text/html": [
       "<pre style=\"white-space:pre;overflow-x:auto;line-height:normal;font-family:Menlo,'DejaVu Sans Mono',consolas,'Courier New',monospace\">09:13:37.330 | <span style=\"color: #008080; text-decoration-color: #008080\">INFO</span>    | Task run 'first_etl-0' - &lt;class 'pandas.core.frame.DataFrame'&gt;\n",
       "</pre>\n"
      ],
      "text/plain": [
       "09:13:37.330 | \u001b[36mINFO\u001b[0m    | Task run 'first_etl-0' - <class 'pandas.core.frame.DataFrame'>\n"
      ]
     },
     "metadata": {},
     "output_type": "display_data"
    },
    {
     "data": {
      "text/html": [
       "<pre style=\"white-space:pre;overflow-x:auto;line-height:normal;font-family:Menlo,'DejaVu Sans Mono',consolas,'Courier New',monospace\">09:13:37.333 | <span style=\"color: #008080; text-decoration-color: #008080\">INFO</span>    | Task run 'first_etl-0' - &lt;class 'pandas.core.frame.DataFrame'&gt;\n",
       "</pre>\n"
      ],
      "text/plain": [
       "09:13:37.333 | \u001b[36mINFO\u001b[0m    | Task run 'first_etl-0' - <class 'pandas.core.frame.DataFrame'>\n"
      ]
     },
     "metadata": {},
     "output_type": "display_data"
    },
    {
     "data": {
      "text/html": [
       "<pre style=\"white-space:pre;overflow-x:auto;line-height:normal;font-family:Menlo,'DejaVu Sans Mono',consolas,'Courier New',monospace\">09:13:37.336 | <span style=\"color: #008080; text-decoration-color: #008080\">INFO</span>    | Task run 'first_etl-0' - &lt;class 'pandas.core.frame.DataFrame'&gt;\n",
       "</pre>\n"
      ],
      "text/plain": [
       "09:13:37.336 | \u001b[36mINFO\u001b[0m    | Task run 'first_etl-0' - <class 'pandas.core.frame.DataFrame'>\n"
      ]
     },
     "metadata": {},
     "output_type": "display_data"
    },
    {
     "data": {
      "text/html": [
       "<pre style=\"white-space:pre;overflow-x:auto;line-height:normal;font-family:Menlo,'DejaVu Sans Mono',consolas,'Courier New',monospace\">09:13:37.340 | <span style=\"color: #008080; text-decoration-color: #008080\">INFO</span>    | Task run 'first_etl-0' - &lt;class 'pandas.core.frame.DataFrame'&gt;\n",
       "</pre>\n"
      ],
      "text/plain": [
       "09:13:37.340 | \u001b[36mINFO\u001b[0m    | Task run 'first_etl-0' - <class 'pandas.core.frame.DataFrame'>\n"
      ]
     },
     "metadata": {},
     "output_type": "display_data"
    },
    {
     "data": {
      "text/html": [
       "<pre style=\"white-space:pre;overflow-x:auto;line-height:normal;font-family:Menlo,'DejaVu Sans Mono',consolas,'Courier New',monospace\">09:13:37.342 | <span style=\"color: #008080; text-decoration-color: #008080\">INFO</span>    | Task run 'first_etl-0' - &lt;class 'pandas.core.frame.DataFrame'&gt;\n",
       "</pre>\n"
      ],
      "text/plain": [
       "09:13:37.342 | \u001b[36mINFO\u001b[0m    | Task run 'first_etl-0' - <class 'pandas.core.frame.DataFrame'>\n"
      ]
     },
     "metadata": {},
     "output_type": "display_data"
    },
    {
     "data": {
      "text/html": [
       "<pre style=\"white-space:pre;overflow-x:auto;line-height:normal;font-family:Menlo,'DejaVu Sans Mono',consolas,'Courier New',monospace\">09:13:37.345 | <span style=\"color: #008080; text-decoration-color: #008080\">INFO</span>    | Task run 'first_etl-0' - &lt;class 'pandas.core.frame.DataFrame'&gt;\n",
       "</pre>\n"
      ],
      "text/plain": [
       "09:13:37.345 | \u001b[36mINFO\u001b[0m    | Task run 'first_etl-0' - <class 'pandas.core.frame.DataFrame'>\n"
      ]
     },
     "metadata": {},
     "output_type": "display_data"
    },
    {
     "data": {
      "text/html": [
       "<pre style=\"white-space:pre;overflow-x:auto;line-height:normal;font-family:Menlo,'DejaVu Sans Mono',consolas,'Courier New',monospace\">09:13:37.348 | <span style=\"color: #008080; text-decoration-color: #008080\">INFO</span>    | Task run 'first_etl-0' - &lt;class 'pandas.core.frame.DataFrame'&gt;\n",
       "</pre>\n"
      ],
      "text/plain": [
       "09:13:37.348 | \u001b[36mINFO\u001b[0m    | Task run 'first_etl-0' - <class 'pandas.core.frame.DataFrame'>\n"
      ]
     },
     "metadata": {},
     "output_type": "display_data"
    },
    {
     "data": {
      "text/html": [
       "<pre style=\"white-space:pre;overflow-x:auto;line-height:normal;font-family:Menlo,'DejaVu Sans Mono',consolas,'Courier New',monospace\">09:13:37.351 | <span style=\"color: #008080; text-decoration-color: #008080\">INFO</span>    | Task run 'first_etl-0' - &lt;class 'pandas.core.frame.DataFrame'&gt;\n",
       "</pre>\n"
      ],
      "text/plain": [
       "09:13:37.351 | \u001b[36mINFO\u001b[0m    | Task run 'first_etl-0' - <class 'pandas.core.frame.DataFrame'>\n"
      ]
     },
     "metadata": {},
     "output_type": "display_data"
    },
    {
     "data": {
      "text/html": [
       "<pre style=\"white-space:pre;overflow-x:auto;line-height:normal;font-family:Menlo,'DejaVu Sans Mono',consolas,'Courier New',monospace\">09:13:37.354 | <span style=\"color: #008080; text-decoration-color: #008080\">INFO</span>    | Task run 'first_etl-0' - &lt;class 'pandas.core.frame.DataFrame'&gt;\n",
       "</pre>\n"
      ],
      "text/plain": [
       "09:13:37.354 | \u001b[36mINFO\u001b[0m    | Task run 'first_etl-0' - <class 'pandas.core.frame.DataFrame'>\n"
      ]
     },
     "metadata": {},
     "output_type": "display_data"
    },
    {
     "data": {
      "text/html": [
       "<pre style=\"white-space:pre;overflow-x:auto;line-height:normal;font-family:Menlo,'DejaVu Sans Mono',consolas,'Courier New',monospace\">09:13:37.358 | <span style=\"color: #008080; text-decoration-color: #008080\">INFO</span>    | Task run 'first_etl-0' - &lt;class 'pandas.core.frame.DataFrame'&gt;\n",
       "</pre>\n"
      ],
      "text/plain": [
       "09:13:37.358 | \u001b[36mINFO\u001b[0m    | Task run 'first_etl-0' - <class 'pandas.core.frame.DataFrame'>\n"
      ]
     },
     "metadata": {},
     "output_type": "display_data"
    },
    {
     "data": {
      "text/html": [
       "<pre style=\"white-space:pre;overflow-x:auto;line-height:normal;font-family:Menlo,'DejaVu Sans Mono',consolas,'Courier New',monospace\">09:13:37.360 | <span style=\"color: #008080; text-decoration-color: #008080\">INFO</span>    | Task run 'first_etl-0' - &lt;class 'pandas.core.frame.DataFrame'&gt;\n",
       "</pre>\n"
      ],
      "text/plain": [
       "09:13:37.360 | \u001b[36mINFO\u001b[0m    | Task run 'first_etl-0' - <class 'pandas.core.frame.DataFrame'>\n"
      ]
     },
     "metadata": {},
     "output_type": "display_data"
    },
    {
     "data": {
      "text/html": [
       "<pre style=\"white-space:pre;overflow-x:auto;line-height:normal;font-family:Menlo,'DejaVu Sans Mono',consolas,'Courier New',monospace\">09:13:37.363 | <span style=\"color: #008080; text-decoration-color: #008080\">INFO</span>    | Task run 'first_etl-0' - &lt;class 'pandas.core.frame.DataFrame'&gt;\n",
       "</pre>\n"
      ],
      "text/plain": [
       "09:13:37.363 | \u001b[36mINFO\u001b[0m    | Task run 'first_etl-0' - <class 'pandas.core.frame.DataFrame'>\n"
      ]
     },
     "metadata": {},
     "output_type": "display_data"
    },
    {
     "data": {
      "text/html": [
       "<pre style=\"white-space:pre;overflow-x:auto;line-height:normal;font-family:Menlo,'DejaVu Sans Mono',consolas,'Courier New',monospace\">09:13:37.366 | <span style=\"color: #008080; text-decoration-color: #008080\">INFO</span>    | Task run 'first_etl-0' - &lt;class 'pandas.core.frame.DataFrame'&gt;\n",
       "</pre>\n"
      ],
      "text/plain": [
       "09:13:37.366 | \u001b[36mINFO\u001b[0m    | Task run 'first_etl-0' - <class 'pandas.core.frame.DataFrame'>\n"
      ]
     },
     "metadata": {},
     "output_type": "display_data"
    },
    {
     "data": {
      "text/html": [
       "<pre style=\"white-space:pre;overflow-x:auto;line-height:normal;font-family:Menlo,'DejaVu Sans Mono',consolas,'Courier New',monospace\">09:13:37.369 | <span style=\"color: #008080; text-decoration-color: #008080\">INFO</span>    | Task run 'first_etl-0' - &lt;class 'pandas.core.frame.DataFrame'&gt;\n",
       "</pre>\n"
      ],
      "text/plain": [
       "09:13:37.369 | \u001b[36mINFO\u001b[0m    | Task run 'first_etl-0' - <class 'pandas.core.frame.DataFrame'>\n"
      ]
     },
     "metadata": {},
     "output_type": "display_data"
    },
    {
     "data": {
      "text/html": [
       "<pre style=\"white-space:pre;overflow-x:auto;line-height:normal;font-family:Menlo,'DejaVu Sans Mono',consolas,'Courier New',monospace\">09:13:37.372 | <span style=\"color: #008080; text-decoration-color: #008080\">INFO</span>    | Task run 'first_etl-0' - &lt;class 'pandas.core.frame.DataFrame'&gt;\n",
       "</pre>\n"
      ],
      "text/plain": [
       "09:13:37.372 | \u001b[36mINFO\u001b[0m    | Task run 'first_etl-0' - <class 'pandas.core.frame.DataFrame'>\n"
      ]
     },
     "metadata": {},
     "output_type": "display_data"
    },
    {
     "data": {
      "text/html": [
       "<pre style=\"white-space:pre;overflow-x:auto;line-height:normal;font-family:Menlo,'DejaVu Sans Mono',consolas,'Courier New',monospace\">09:13:37.374 | <span style=\"color: #008080; text-decoration-color: #008080\">INFO</span>    | Task run 'first_etl-0' - &lt;class 'pandas.core.frame.DataFrame'&gt;\n",
       "</pre>\n"
      ],
      "text/plain": [
       "09:13:37.374 | \u001b[36mINFO\u001b[0m    | Task run 'first_etl-0' - <class 'pandas.core.frame.DataFrame'>\n"
      ]
     },
     "metadata": {},
     "output_type": "display_data"
    },
    {
     "data": {
      "text/html": [
       "<pre style=\"white-space:pre;overflow-x:auto;line-height:normal;font-family:Menlo,'DejaVu Sans Mono',consolas,'Courier New',monospace\">09:13:37.377 | <span style=\"color: #008080; text-decoration-color: #008080\">INFO</span>    | Task run 'first_etl-0' - &lt;class 'pandas.core.frame.DataFrame'&gt;\n",
       "</pre>\n"
      ],
      "text/plain": [
       "09:13:37.377 | \u001b[36mINFO\u001b[0m    | Task run 'first_etl-0' - <class 'pandas.core.frame.DataFrame'>\n"
      ]
     },
     "metadata": {},
     "output_type": "display_data"
    },
    {
     "data": {
      "text/html": [
       "<pre style=\"white-space:pre;overflow-x:auto;line-height:normal;font-family:Menlo,'DejaVu Sans Mono',consolas,'Courier New',monospace\">09:13:37.380 | <span style=\"color: #008080; text-decoration-color: #008080\">INFO</span>    | Task run 'first_etl-0' - &lt;class 'pandas.core.frame.DataFrame'&gt;\n",
       "</pre>\n"
      ],
      "text/plain": [
       "09:13:37.380 | \u001b[36mINFO\u001b[0m    | Task run 'first_etl-0' - <class 'pandas.core.frame.DataFrame'>\n"
      ]
     },
     "metadata": {},
     "output_type": "display_data"
    },
    {
     "data": {
      "text/html": [
       "<pre style=\"white-space:pre;overflow-x:auto;line-height:normal;font-family:Menlo,'DejaVu Sans Mono',consolas,'Courier New',monospace\">09:13:37.384 | <span style=\"color: #008080; text-decoration-color: #008080\">INFO</span>    | Task run 'first_etl-0' - &lt;class 'pandas.core.frame.DataFrame'&gt;\n",
       "</pre>\n"
      ],
      "text/plain": [
       "09:13:37.384 | \u001b[36mINFO\u001b[0m    | Task run 'first_etl-0' - <class 'pandas.core.frame.DataFrame'>\n"
      ]
     },
     "metadata": {},
     "output_type": "display_data"
    },
    {
     "data": {
      "text/html": [
       "<pre style=\"white-space:pre;overflow-x:auto;line-height:normal;font-family:Menlo,'DejaVu Sans Mono',consolas,'Courier New',monospace\">09:13:37.387 | <span style=\"color: #008080; text-decoration-color: #008080\">INFO</span>    | Task run 'first_etl-0' - &lt;class 'pandas.core.frame.DataFrame'&gt;\n",
       "</pre>\n"
      ],
      "text/plain": [
       "09:13:37.387 | \u001b[36mINFO\u001b[0m    | Task run 'first_etl-0' - <class 'pandas.core.frame.DataFrame'>\n"
      ]
     },
     "metadata": {},
     "output_type": "display_data"
    },
    {
     "data": {
      "text/html": [
       "<pre style=\"white-space:pre;overflow-x:auto;line-height:normal;font-family:Menlo,'DejaVu Sans Mono',consolas,'Courier New',monospace\">09:13:37.391 | <span style=\"color: #008080; text-decoration-color: #008080\">INFO</span>    | Task run 'first_etl-0' - &lt;class 'pandas.core.frame.DataFrame'&gt;\n",
       "</pre>\n"
      ],
      "text/plain": [
       "09:13:37.391 | \u001b[36mINFO\u001b[0m    | Task run 'first_etl-0' - <class 'pandas.core.frame.DataFrame'>\n"
      ]
     },
     "metadata": {},
     "output_type": "display_data"
    },
    {
     "data": {
      "text/html": [
       "<pre style=\"white-space:pre;overflow-x:auto;line-height:normal;font-family:Menlo,'DejaVu Sans Mono',consolas,'Courier New',monospace\">09:13:37.394 | <span style=\"color: #008080; text-decoration-color: #008080\">INFO</span>    | Task run 'first_etl-0' - &lt;class 'pandas.core.frame.DataFrame'&gt;\n",
       "</pre>\n"
      ],
      "text/plain": [
       "09:13:37.394 | \u001b[36mINFO\u001b[0m    | Task run 'first_etl-0' - <class 'pandas.core.frame.DataFrame'>\n"
      ]
     },
     "metadata": {},
     "output_type": "display_data"
    },
    {
     "data": {
      "text/html": [
       "<pre style=\"white-space:pre;overflow-x:auto;line-height:normal;font-family:Menlo,'DejaVu Sans Mono',consolas,'Courier New',monospace\">09:13:37.397 | <span style=\"color: #008080; text-decoration-color: #008080\">INFO</span>    | Task run 'first_etl-0' - &lt;class 'pandas.core.frame.DataFrame'&gt;\n",
       "</pre>\n"
      ],
      "text/plain": [
       "09:13:37.397 | \u001b[36mINFO\u001b[0m    | Task run 'first_etl-0' - <class 'pandas.core.frame.DataFrame'>\n"
      ]
     },
     "metadata": {},
     "output_type": "display_data"
    },
    {
     "data": {
      "text/html": [
       "<pre style=\"white-space:pre;overflow-x:auto;line-height:normal;font-family:Menlo,'DejaVu Sans Mono',consolas,'Courier New',monospace\">09:13:37.400 | <span style=\"color: #008080; text-decoration-color: #008080\">INFO</span>    | Task run 'first_etl-0' - &lt;class 'pandas.core.frame.DataFrame'&gt;\n",
       "</pre>\n"
      ],
      "text/plain": [
       "09:13:37.400 | \u001b[36mINFO\u001b[0m    | Task run 'first_etl-0' - <class 'pandas.core.frame.DataFrame'>\n"
      ]
     },
     "metadata": {},
     "output_type": "display_data"
    },
    {
     "data": {
      "text/html": [
       "<pre style=\"white-space:pre;overflow-x:auto;line-height:normal;font-family:Menlo,'DejaVu Sans Mono',consolas,'Courier New',monospace\">09:13:37.403 | <span style=\"color: #008080; text-decoration-color: #008080\">INFO</span>    | Task run 'first_etl-0' - &lt;class 'pandas.core.frame.DataFrame'&gt;\n",
       "</pre>\n"
      ],
      "text/plain": [
       "09:13:37.403 | \u001b[36mINFO\u001b[0m    | Task run 'first_etl-0' - <class 'pandas.core.frame.DataFrame'>\n"
      ]
     },
     "metadata": {},
     "output_type": "display_data"
    },
    {
     "data": {
      "text/html": [
       "<pre style=\"white-space:pre;overflow-x:auto;line-height:normal;font-family:Menlo,'DejaVu Sans Mono',consolas,'Courier New',monospace\">09:13:37.407 | <span style=\"color: #008080; text-decoration-color: #008080\">INFO</span>    | Task run 'first_etl-0' - &lt;class 'pandas.core.frame.DataFrame'&gt;\n",
       "</pre>\n"
      ],
      "text/plain": [
       "09:13:37.407 | \u001b[36mINFO\u001b[0m    | Task run 'first_etl-0' - <class 'pandas.core.frame.DataFrame'>\n"
      ]
     },
     "metadata": {},
     "output_type": "display_data"
    },
    {
     "data": {
      "text/html": [
       "<pre style=\"white-space:pre;overflow-x:auto;line-height:normal;font-family:Menlo,'DejaVu Sans Mono',consolas,'Courier New',monospace\">09:13:37.410 | <span style=\"color: #008080; text-decoration-color: #008080\">INFO</span>    | Task run 'first_etl-0' - &lt;class 'pandas.core.frame.DataFrame'&gt;\n",
       "</pre>\n"
      ],
      "text/plain": [
       "09:13:37.410 | \u001b[36mINFO\u001b[0m    | Task run 'first_etl-0' - <class 'pandas.core.frame.DataFrame'>\n"
      ]
     },
     "metadata": {},
     "output_type": "display_data"
    },
    {
     "data": {
      "text/html": [
       "<pre style=\"white-space:pre;overflow-x:auto;line-height:normal;font-family:Menlo,'DejaVu Sans Mono',consolas,'Courier New',monospace\">09:13:37.413 | <span style=\"color: #008080; text-decoration-color: #008080\">INFO</span>    | Task run 'first_etl-0' - &lt;class 'pandas.core.frame.DataFrame'&gt;\n",
       "</pre>\n"
      ],
      "text/plain": [
       "09:13:37.413 | \u001b[36mINFO\u001b[0m    | Task run 'first_etl-0' - <class 'pandas.core.frame.DataFrame'>\n"
      ]
     },
     "metadata": {},
     "output_type": "display_data"
    },
    {
     "data": {
      "text/html": [
       "<pre style=\"white-space:pre;overflow-x:auto;line-height:normal;font-family:Menlo,'DejaVu Sans Mono',consolas,'Courier New',monospace\">09:13:37.416 | <span style=\"color: #008080; text-decoration-color: #008080\">INFO</span>    | Task run 'first_etl-0' - &lt;class 'pandas.core.frame.DataFrame'&gt;\n",
       "</pre>\n"
      ],
      "text/plain": [
       "09:13:37.416 | \u001b[36mINFO\u001b[0m    | Task run 'first_etl-0' - <class 'pandas.core.frame.DataFrame'>\n"
      ]
     },
     "metadata": {},
     "output_type": "display_data"
    },
    {
     "data": {
      "text/html": [
       "<pre style=\"white-space:pre;overflow-x:auto;line-height:normal;font-family:Menlo,'DejaVu Sans Mono',consolas,'Courier New',monospace\">09:13:37.419 | <span style=\"color: #008080; text-decoration-color: #008080\">INFO</span>    | Task run 'first_etl-0' - &lt;class 'pandas.core.frame.DataFrame'&gt;\n",
       "</pre>\n"
      ],
      "text/plain": [
       "09:13:37.419 | \u001b[36mINFO\u001b[0m    | Task run 'first_etl-0' - <class 'pandas.core.frame.DataFrame'>\n"
      ]
     },
     "metadata": {},
     "output_type": "display_data"
    },
    {
     "data": {
      "text/html": [
       "<pre style=\"white-space:pre;overflow-x:auto;line-height:normal;font-family:Menlo,'DejaVu Sans Mono',consolas,'Courier New',monospace\">09:13:37.422 | <span style=\"color: #008080; text-decoration-color: #008080\">INFO</span>    | Task run 'first_etl-0' - &lt;class 'pandas.core.frame.DataFrame'&gt;\n",
       "</pre>\n"
      ],
      "text/plain": [
       "09:13:37.422 | \u001b[36mINFO\u001b[0m    | Task run 'first_etl-0' - <class 'pandas.core.frame.DataFrame'>\n"
      ]
     },
     "metadata": {},
     "output_type": "display_data"
    },
    {
     "data": {
      "text/html": [
       "<pre style=\"white-space:pre;overflow-x:auto;line-height:normal;font-family:Menlo,'DejaVu Sans Mono',consolas,'Courier New',monospace\">09:13:37.425 | <span style=\"color: #008080; text-decoration-color: #008080\">INFO</span>    | Task run 'first_etl-0' - &lt;class 'pandas.core.frame.DataFrame'&gt;\n",
       "</pre>\n"
      ],
      "text/plain": [
       "09:13:37.425 | \u001b[36mINFO\u001b[0m    | Task run 'first_etl-0' - <class 'pandas.core.frame.DataFrame'>\n"
      ]
     },
     "metadata": {},
     "output_type": "display_data"
    },
    {
     "data": {
      "text/html": [
       "<pre style=\"white-space:pre;overflow-x:auto;line-height:normal;font-family:Menlo,'DejaVu Sans Mono',consolas,'Courier New',monospace\">09:13:37.428 | <span style=\"color: #008080; text-decoration-color: #008080\">INFO</span>    | Task run 'first_etl-0' - &lt;class 'pandas.core.frame.DataFrame'&gt;\n",
       "</pre>\n"
      ],
      "text/plain": [
       "09:13:37.428 | \u001b[36mINFO\u001b[0m    | Task run 'first_etl-0' - <class 'pandas.core.frame.DataFrame'>\n"
      ]
     },
     "metadata": {},
     "output_type": "display_data"
    },
    {
     "data": {
      "text/html": [
       "<pre style=\"white-space:pre;overflow-x:auto;line-height:normal;font-family:Menlo,'DejaVu Sans Mono',consolas,'Courier New',monospace\">09:13:37.431 | <span style=\"color: #008080; text-decoration-color: #008080\">INFO</span>    | Task run 'first_etl-0' - &lt;class 'pandas.core.frame.DataFrame'&gt;\n",
       "</pre>\n"
      ],
      "text/plain": [
       "09:13:37.431 | \u001b[36mINFO\u001b[0m    | Task run 'first_etl-0' - <class 'pandas.core.frame.DataFrame'>\n"
      ]
     },
     "metadata": {},
     "output_type": "display_data"
    },
    {
     "data": {
      "text/html": [
       "<pre style=\"white-space:pre;overflow-x:auto;line-height:normal;font-family:Menlo,'DejaVu Sans Mono',consolas,'Courier New',monospace\">09:13:37.434 | <span style=\"color: #008080; text-decoration-color: #008080\">INFO</span>    | Task run 'first_etl-0' - &lt;class 'pandas.core.frame.DataFrame'&gt;\n",
       "</pre>\n"
      ],
      "text/plain": [
       "09:13:37.434 | \u001b[36mINFO\u001b[0m    | Task run 'first_etl-0' - <class 'pandas.core.frame.DataFrame'>\n"
      ]
     },
     "metadata": {},
     "output_type": "display_data"
    },
    {
     "data": {
      "text/html": [
       "<pre style=\"white-space:pre;overflow-x:auto;line-height:normal;font-family:Menlo,'DejaVu Sans Mono',consolas,'Courier New',monospace\">09:13:37.436 | <span style=\"color: #008080; text-decoration-color: #008080\">INFO</span>    | Task run 'first_etl-0' - &lt;class 'pandas.core.frame.DataFrame'&gt;\n",
       "</pre>\n"
      ],
      "text/plain": [
       "09:13:37.436 | \u001b[36mINFO\u001b[0m    | Task run 'first_etl-0' - <class 'pandas.core.frame.DataFrame'>\n"
      ]
     },
     "metadata": {},
     "output_type": "display_data"
    },
    {
     "data": {
      "text/html": [
       "<pre style=\"white-space:pre;overflow-x:auto;line-height:normal;font-family:Menlo,'DejaVu Sans Mono',consolas,'Courier New',monospace\">09:13:37.439 | <span style=\"color: #008080; text-decoration-color: #008080\">INFO</span>    | Task run 'first_etl-0' - &lt;class 'pandas.core.frame.DataFrame'&gt;\n",
       "</pre>\n"
      ],
      "text/plain": [
       "09:13:37.439 | \u001b[36mINFO\u001b[0m    | Task run 'first_etl-0' - <class 'pandas.core.frame.DataFrame'>\n"
      ]
     },
     "metadata": {},
     "output_type": "display_data"
    },
    {
     "data": {
      "text/html": [
       "<pre style=\"white-space:pre;overflow-x:auto;line-height:normal;font-family:Menlo,'DejaVu Sans Mono',consolas,'Courier New',monospace\">09:13:37.442 | <span style=\"color: #008080; text-decoration-color: #008080\">INFO</span>    | Task run 'first_etl-0' - &lt;class 'pandas.core.frame.DataFrame'&gt;\n",
       "</pre>\n"
      ],
      "text/plain": [
       "09:13:37.442 | \u001b[36mINFO\u001b[0m    | Task run 'first_etl-0' - <class 'pandas.core.frame.DataFrame'>\n"
      ]
     },
     "metadata": {},
     "output_type": "display_data"
    },
    {
     "data": {
      "text/html": [
       "<pre style=\"white-space:pre;overflow-x:auto;line-height:normal;font-family:Menlo,'DejaVu Sans Mono',consolas,'Courier New',monospace\">09:13:37.444 | <span style=\"color: #008080; text-decoration-color: #008080\">INFO</span>    | Task run 'first_etl-0' - &lt;class 'pandas.core.frame.DataFrame'&gt;\n",
       "</pre>\n"
      ],
      "text/plain": [
       "09:13:37.444 | \u001b[36mINFO\u001b[0m    | Task run 'first_etl-0' - <class 'pandas.core.frame.DataFrame'>\n"
      ]
     },
     "metadata": {},
     "output_type": "display_data"
    },
    {
     "data": {
      "text/html": [
       "<pre style=\"white-space:pre;overflow-x:auto;line-height:normal;font-family:Menlo,'DejaVu Sans Mono',consolas,'Courier New',monospace\">09:13:37.447 | <span style=\"color: #008080; text-decoration-color: #008080\">INFO</span>    | Task run 'first_etl-0' - &lt;class 'pandas.core.frame.DataFrame'&gt;\n",
       "</pre>\n"
      ],
      "text/plain": [
       "09:13:37.447 | \u001b[36mINFO\u001b[0m    | Task run 'first_etl-0' - <class 'pandas.core.frame.DataFrame'>\n"
      ]
     },
     "metadata": {},
     "output_type": "display_data"
    },
    {
     "data": {
      "text/html": [
       "<pre style=\"white-space:pre;overflow-x:auto;line-height:normal;font-family:Menlo,'DejaVu Sans Mono',consolas,'Courier New',monospace\">09:13:37.450 | <span style=\"color: #008080; text-decoration-color: #008080\">INFO</span>    | Task run 'first_etl-0' - &lt;class 'pandas.core.frame.DataFrame'&gt;\n",
       "</pre>\n"
      ],
      "text/plain": [
       "09:13:37.450 | \u001b[36mINFO\u001b[0m    | Task run 'first_etl-0' - <class 'pandas.core.frame.DataFrame'>\n"
      ]
     },
     "metadata": {},
     "output_type": "display_data"
    },
    {
     "data": {
      "text/html": [
       "<pre style=\"white-space:pre;overflow-x:auto;line-height:normal;font-family:Menlo,'DejaVu Sans Mono',consolas,'Courier New',monospace\">09:13:37.454 | <span style=\"color: #008080; text-decoration-color: #008080\">INFO</span>    | Task run 'first_etl-0' - &lt;class 'pandas.core.frame.DataFrame'&gt;\n",
       "</pre>\n"
      ],
      "text/plain": [
       "09:13:37.454 | \u001b[36mINFO\u001b[0m    | Task run 'first_etl-0' - <class 'pandas.core.frame.DataFrame'>\n"
      ]
     },
     "metadata": {},
     "output_type": "display_data"
    },
    {
     "data": {
      "text/html": [
       "<pre style=\"white-space:pre;overflow-x:auto;line-height:normal;font-family:Menlo,'DejaVu Sans Mono',consolas,'Courier New',monospace\">09:13:37.456 | <span style=\"color: #008080; text-decoration-color: #008080\">INFO</span>    | Task run 'first_etl-0' - &lt;class 'pandas.core.frame.DataFrame'&gt;\n",
       "</pre>\n"
      ],
      "text/plain": [
       "09:13:37.456 | \u001b[36mINFO\u001b[0m    | Task run 'first_etl-0' - <class 'pandas.core.frame.DataFrame'>\n"
      ]
     },
     "metadata": {},
     "output_type": "display_data"
    },
    {
     "data": {
      "text/html": [
       "<pre style=\"white-space:pre;overflow-x:auto;line-height:normal;font-family:Menlo,'DejaVu Sans Mono',consolas,'Courier New',monospace\">09:13:37.460 | <span style=\"color: #008080; text-decoration-color: #008080\">INFO</span>    | Task run 'first_etl-0' - &lt;class 'pandas.core.frame.DataFrame'&gt;\n",
       "</pre>\n"
      ],
      "text/plain": [
       "09:13:37.460 | \u001b[36mINFO\u001b[0m    | Task run 'first_etl-0' - <class 'pandas.core.frame.DataFrame'>\n"
      ]
     },
     "metadata": {},
     "output_type": "display_data"
    },
    {
     "data": {
      "text/html": [
       "<pre style=\"white-space:pre;overflow-x:auto;line-height:normal;font-family:Menlo,'DejaVu Sans Mono',consolas,'Courier New',monospace\">09:13:37.463 | <span style=\"color: #008080; text-decoration-color: #008080\">INFO</span>    | Task run 'first_etl-0' - &lt;class 'pandas.core.frame.DataFrame'&gt;\n",
       "</pre>\n"
      ],
      "text/plain": [
       "09:13:37.463 | \u001b[36mINFO\u001b[0m    | Task run 'first_etl-0' - <class 'pandas.core.frame.DataFrame'>\n"
      ]
     },
     "metadata": {},
     "output_type": "display_data"
    },
    {
     "data": {
      "text/html": [
       "<pre style=\"white-space:pre;overflow-x:auto;line-height:normal;font-family:Menlo,'DejaVu Sans Mono',consolas,'Courier New',monospace\">09:13:37.466 | <span style=\"color: #008080; text-decoration-color: #008080\">INFO</span>    | Task run 'first_etl-0' - &lt;class 'pandas.core.frame.DataFrame'&gt;\n",
       "</pre>\n"
      ],
      "text/plain": [
       "09:13:37.466 | \u001b[36mINFO\u001b[0m    | Task run 'first_etl-0' - <class 'pandas.core.frame.DataFrame'>\n"
      ]
     },
     "metadata": {},
     "output_type": "display_data"
    },
    {
     "data": {
      "text/html": [
       "<pre style=\"white-space:pre;overflow-x:auto;line-height:normal;font-family:Menlo,'DejaVu Sans Mono',consolas,'Courier New',monospace\">09:13:37.469 | <span style=\"color: #008080; text-decoration-color: #008080\">INFO</span>    | Task run 'first_etl-0' - &lt;class 'pandas.core.frame.DataFrame'&gt;\n",
       "</pre>\n"
      ],
      "text/plain": [
       "09:13:37.469 | \u001b[36mINFO\u001b[0m    | Task run 'first_etl-0' - <class 'pandas.core.frame.DataFrame'>\n"
      ]
     },
     "metadata": {},
     "output_type": "display_data"
    },
    {
     "data": {
      "text/html": [
       "<pre style=\"white-space:pre;overflow-x:auto;line-height:normal;font-family:Menlo,'DejaVu Sans Mono',consolas,'Courier New',monospace\">09:13:37.473 | <span style=\"color: #008080; text-decoration-color: #008080\">INFO</span>    | Task run 'first_etl-0' - &lt;class 'pandas.core.frame.DataFrame'&gt;\n",
       "</pre>\n"
      ],
      "text/plain": [
       "09:13:37.473 | \u001b[36mINFO\u001b[0m    | Task run 'first_etl-0' - <class 'pandas.core.frame.DataFrame'>\n"
      ]
     },
     "metadata": {},
     "output_type": "display_data"
    },
    {
     "data": {
      "text/html": [
       "<pre style=\"white-space:pre;overflow-x:auto;line-height:normal;font-family:Menlo,'DejaVu Sans Mono',consolas,'Courier New',monospace\">09:13:37.476 | <span style=\"color: #008080; text-decoration-color: #008080\">INFO</span>    | Task run 'first_etl-0' - &lt;class 'pandas.core.frame.DataFrame'&gt;\n",
       "</pre>\n"
      ],
      "text/plain": [
       "09:13:37.476 | \u001b[36mINFO\u001b[0m    | Task run 'first_etl-0' - <class 'pandas.core.frame.DataFrame'>\n"
      ]
     },
     "metadata": {},
     "output_type": "display_data"
    },
    {
     "data": {
      "text/html": [
       "<pre style=\"white-space:pre;overflow-x:auto;line-height:normal;font-family:Menlo,'DejaVu Sans Mono',consolas,'Courier New',monospace\">09:13:37.478 | <span style=\"color: #008080; text-decoration-color: #008080\">INFO</span>    | Task run 'first_etl-0' - &lt;class 'pandas.core.frame.DataFrame'&gt;\n",
       "</pre>\n"
      ],
      "text/plain": [
       "09:13:37.478 | \u001b[36mINFO\u001b[0m    | Task run 'first_etl-0' - <class 'pandas.core.frame.DataFrame'>\n"
      ]
     },
     "metadata": {},
     "output_type": "display_data"
    },
    {
     "data": {
      "text/html": [
       "<pre style=\"white-space:pre;overflow-x:auto;line-height:normal;font-family:Menlo,'DejaVu Sans Mono',consolas,'Courier New',monospace\">09:13:37.481 | <span style=\"color: #008080; text-decoration-color: #008080\">INFO</span>    | Task run 'first_etl-0' - &lt;class 'pandas.core.frame.DataFrame'&gt;\n",
       "</pre>\n"
      ],
      "text/plain": [
       "09:13:37.481 | \u001b[36mINFO\u001b[0m    | Task run 'first_etl-0' - <class 'pandas.core.frame.DataFrame'>\n"
      ]
     },
     "metadata": {},
     "output_type": "display_data"
    },
    {
     "data": {
      "text/html": [
       "<pre style=\"white-space:pre;overflow-x:auto;line-height:normal;font-family:Menlo,'DejaVu Sans Mono',consolas,'Courier New',monospace\">09:13:37.483 | <span style=\"color: #008080; text-decoration-color: #008080\">INFO</span>    | Task run 'first_etl-0' - &lt;class 'pandas.core.frame.DataFrame'&gt;\n",
       "</pre>\n"
      ],
      "text/plain": [
       "09:13:37.483 | \u001b[36mINFO\u001b[0m    | Task run 'first_etl-0' - <class 'pandas.core.frame.DataFrame'>\n"
      ]
     },
     "metadata": {},
     "output_type": "display_data"
    },
    {
     "data": {
      "text/html": [
       "<pre style=\"white-space:pre;overflow-x:auto;line-height:normal;font-family:Menlo,'DejaVu Sans Mono',consolas,'Courier New',monospace\">09:13:37.486 | <span style=\"color: #008080; text-decoration-color: #008080\">INFO</span>    | Task run 'first_etl-0' - &lt;class 'pandas.core.frame.DataFrame'&gt;\n",
       "</pre>\n"
      ],
      "text/plain": [
       "09:13:37.486 | \u001b[36mINFO\u001b[0m    | Task run 'first_etl-0' - <class 'pandas.core.frame.DataFrame'>\n"
      ]
     },
     "metadata": {},
     "output_type": "display_data"
    },
    {
     "data": {
      "text/html": [
       "<pre style=\"white-space:pre;overflow-x:auto;line-height:normal;font-family:Menlo,'DejaVu Sans Mono',consolas,'Courier New',monospace\">09:13:37.489 | <span style=\"color: #008080; text-decoration-color: #008080\">INFO</span>    | Task run 'first_etl-0' - &lt;class 'pandas.core.frame.DataFrame'&gt;\n",
       "</pre>\n"
      ],
      "text/plain": [
       "09:13:37.489 | \u001b[36mINFO\u001b[0m    | Task run 'first_etl-0' - <class 'pandas.core.frame.DataFrame'>\n"
      ]
     },
     "metadata": {},
     "output_type": "display_data"
    },
    {
     "data": {
      "text/html": [
       "<pre style=\"white-space:pre;overflow-x:auto;line-height:normal;font-family:Menlo,'DejaVu Sans Mono',consolas,'Courier New',monospace\">09:13:37.493 | <span style=\"color: #008080; text-decoration-color: #008080\">INFO</span>    | Task run 'first_etl-0' - &lt;class 'pandas.core.frame.DataFrame'&gt;\n",
       "</pre>\n"
      ],
      "text/plain": [
       "09:13:37.493 | \u001b[36mINFO\u001b[0m    | Task run 'first_etl-0' - <class 'pandas.core.frame.DataFrame'>\n"
      ]
     },
     "metadata": {},
     "output_type": "display_data"
    },
    {
     "data": {
      "text/html": [
       "<pre style=\"white-space:pre;overflow-x:auto;line-height:normal;font-family:Menlo,'DejaVu Sans Mono',consolas,'Courier New',monospace\">09:13:37.496 | <span style=\"color: #008080; text-decoration-color: #008080\">INFO</span>    | Task run 'first_etl-0' - &lt;class 'pandas.core.frame.DataFrame'&gt;\n",
       "</pre>\n"
      ],
      "text/plain": [
       "09:13:37.496 | \u001b[36mINFO\u001b[0m    | Task run 'first_etl-0' - <class 'pandas.core.frame.DataFrame'>\n"
      ]
     },
     "metadata": {},
     "output_type": "display_data"
    },
    {
     "data": {
      "text/html": [
       "<pre style=\"white-space:pre;overflow-x:auto;line-height:normal;font-family:Menlo,'DejaVu Sans Mono',consolas,'Courier New',monospace\">09:13:37.499 | <span style=\"color: #008080; text-decoration-color: #008080\">INFO</span>    | Task run 'first_etl-0' - &lt;class 'pandas.core.frame.DataFrame'&gt;\n",
       "</pre>\n"
      ],
      "text/plain": [
       "09:13:37.499 | \u001b[36mINFO\u001b[0m    | Task run 'first_etl-0' - <class 'pandas.core.frame.DataFrame'>\n"
      ]
     },
     "metadata": {},
     "output_type": "display_data"
    },
    {
     "data": {
      "text/html": [
       "<pre style=\"white-space:pre;overflow-x:auto;line-height:normal;font-family:Menlo,'DejaVu Sans Mono',consolas,'Courier New',monospace\">09:13:37.501 | <span style=\"color: #008080; text-decoration-color: #008080\">INFO</span>    | Task run 'first_etl-0' - &lt;class 'pandas.core.frame.DataFrame'&gt;\n",
       "</pre>\n"
      ],
      "text/plain": [
       "09:13:37.501 | \u001b[36mINFO\u001b[0m    | Task run 'first_etl-0' - <class 'pandas.core.frame.DataFrame'>\n"
      ]
     },
     "metadata": {},
     "output_type": "display_data"
    },
    {
     "data": {
      "text/html": [
       "<pre style=\"white-space:pre;overflow-x:auto;line-height:normal;font-family:Menlo,'DejaVu Sans Mono',consolas,'Courier New',monospace\">09:13:37.505 | <span style=\"color: #008080; text-decoration-color: #008080\">INFO</span>    | Task run 'first_etl-0' - &lt;class 'pandas.core.frame.DataFrame'&gt;\n",
       "</pre>\n"
      ],
      "text/plain": [
       "09:13:37.505 | \u001b[36mINFO\u001b[0m    | Task run 'first_etl-0' - <class 'pandas.core.frame.DataFrame'>\n"
      ]
     },
     "metadata": {},
     "output_type": "display_data"
    },
    {
     "data": {
      "text/html": [
       "<pre style=\"white-space:pre;overflow-x:auto;line-height:normal;font-family:Menlo,'DejaVu Sans Mono',consolas,'Courier New',monospace\">09:13:37.508 | <span style=\"color: #008080; text-decoration-color: #008080\">INFO</span>    | Task run 'first_etl-0' - &lt;class 'pandas.core.frame.DataFrame'&gt;\n",
       "</pre>\n"
      ],
      "text/plain": [
       "09:13:37.508 | \u001b[36mINFO\u001b[0m    | Task run 'first_etl-0' - <class 'pandas.core.frame.DataFrame'>\n"
      ]
     },
     "metadata": {},
     "output_type": "display_data"
    },
    {
     "data": {
      "text/html": [
       "<pre style=\"white-space:pre;overflow-x:auto;line-height:normal;font-family:Menlo,'DejaVu Sans Mono',consolas,'Courier New',monospace\">09:13:37.511 | <span style=\"color: #008080; text-decoration-color: #008080\">INFO</span>    | Task run 'first_etl-0' - &lt;class 'pandas.core.frame.DataFrame'&gt;\n",
       "</pre>\n"
      ],
      "text/plain": [
       "09:13:37.511 | \u001b[36mINFO\u001b[0m    | Task run 'first_etl-0' - <class 'pandas.core.frame.DataFrame'>\n"
      ]
     },
     "metadata": {},
     "output_type": "display_data"
    },
    {
     "data": {
      "text/html": [
       "<pre style=\"white-space:pre;overflow-x:auto;line-height:normal;font-family:Menlo,'DejaVu Sans Mono',consolas,'Courier New',monospace\">09:13:37.514 | <span style=\"color: #008080; text-decoration-color: #008080\">INFO</span>    | Task run 'first_etl-0' - &lt;class 'pandas.core.frame.DataFrame'&gt;\n",
       "</pre>\n"
      ],
      "text/plain": [
       "09:13:37.514 | \u001b[36mINFO\u001b[0m    | Task run 'first_etl-0' - <class 'pandas.core.frame.DataFrame'>\n"
      ]
     },
     "metadata": {},
     "output_type": "display_data"
    },
    {
     "data": {
      "text/html": [
       "<pre style=\"white-space:pre;overflow-x:auto;line-height:normal;font-family:Menlo,'DejaVu Sans Mono',consolas,'Courier New',monospace\">09:13:37.516 | <span style=\"color: #008080; text-decoration-color: #008080\">INFO</span>    | Task run 'first_etl-0' - &lt;class 'pandas.core.frame.DataFrame'&gt;\n",
       "</pre>\n"
      ],
      "text/plain": [
       "09:13:37.516 | \u001b[36mINFO\u001b[0m    | Task run 'first_etl-0' - <class 'pandas.core.frame.DataFrame'>\n"
      ]
     },
     "metadata": {},
     "output_type": "display_data"
    },
    {
     "data": {
      "text/html": [
       "<pre style=\"white-space:pre;overflow-x:auto;line-height:normal;font-family:Menlo,'DejaVu Sans Mono',consolas,'Courier New',monospace\">09:13:37.519 | <span style=\"color: #008080; text-decoration-color: #008080\">INFO</span>    | Task run 'first_etl-0' - &lt;class 'pandas.core.frame.DataFrame'&gt;\n",
       "</pre>\n"
      ],
      "text/plain": [
       "09:13:37.519 | \u001b[36mINFO\u001b[0m    | Task run 'first_etl-0' - <class 'pandas.core.frame.DataFrame'>\n"
      ]
     },
     "metadata": {},
     "output_type": "display_data"
    },
    {
     "data": {
      "text/html": [
       "<pre style=\"white-space:pre;overflow-x:auto;line-height:normal;font-family:Menlo,'DejaVu Sans Mono',consolas,'Courier New',monospace\">09:13:37.523 | <span style=\"color: #008080; text-decoration-color: #008080\">INFO</span>    | Task run 'first_etl-0' - &lt;class 'pandas.core.frame.DataFrame'&gt;\n",
       "</pre>\n"
      ],
      "text/plain": [
       "09:13:37.523 | \u001b[36mINFO\u001b[0m    | Task run 'first_etl-0' - <class 'pandas.core.frame.DataFrame'>\n"
      ]
     },
     "metadata": {},
     "output_type": "display_data"
    },
    {
     "data": {
      "text/html": [
       "<pre style=\"white-space:pre;overflow-x:auto;line-height:normal;font-family:Menlo,'DejaVu Sans Mono',consolas,'Courier New',monospace\">09:13:37.526 | <span style=\"color: #008080; text-decoration-color: #008080\">INFO</span>    | Task run 'first_etl-0' - &lt;class 'pandas.core.frame.DataFrame'&gt;\n",
       "</pre>\n"
      ],
      "text/plain": [
       "09:13:37.526 | \u001b[36mINFO\u001b[0m    | Task run 'first_etl-0' - <class 'pandas.core.frame.DataFrame'>\n"
      ]
     },
     "metadata": {},
     "output_type": "display_data"
    },
    {
     "data": {
      "text/html": [
       "<pre style=\"white-space:pre;overflow-x:auto;line-height:normal;font-family:Menlo,'DejaVu Sans Mono',consolas,'Courier New',monospace\">09:13:37.529 | <span style=\"color: #008080; text-decoration-color: #008080\">INFO</span>    | Task run 'first_etl-0' - &lt;class 'pandas.core.frame.DataFrame'&gt;\n",
       "</pre>\n"
      ],
      "text/plain": [
       "09:13:37.529 | \u001b[36mINFO\u001b[0m    | Task run 'first_etl-0' - <class 'pandas.core.frame.DataFrame'>\n"
      ]
     },
     "metadata": {},
     "output_type": "display_data"
    },
    {
     "data": {
      "text/html": [
       "<pre style=\"white-space:pre;overflow-x:auto;line-height:normal;font-family:Menlo,'DejaVu Sans Mono',consolas,'Courier New',monospace\">09:13:37.531 | <span style=\"color: #008080; text-decoration-color: #008080\">INFO</span>    | Task run 'first_etl-0' - &lt;class 'pandas.core.frame.DataFrame'&gt;\n",
       "</pre>\n"
      ],
      "text/plain": [
       "09:13:37.531 | \u001b[36mINFO\u001b[0m    | Task run 'first_etl-0' - <class 'pandas.core.frame.DataFrame'>\n"
      ]
     },
     "metadata": {},
     "output_type": "display_data"
    },
    {
     "data": {
      "text/html": [
       "<pre style=\"white-space:pre;overflow-x:auto;line-height:normal;font-family:Menlo,'DejaVu Sans Mono',consolas,'Courier New',monospace\">09:13:37.534 | <span style=\"color: #008080; text-decoration-color: #008080\">INFO</span>    | Task run 'first_etl-0' - &lt;class 'pandas.core.frame.DataFrame'&gt;\n",
       "</pre>\n"
      ],
      "text/plain": [
       "09:13:37.534 | \u001b[36mINFO\u001b[0m    | Task run 'first_etl-0' - <class 'pandas.core.frame.DataFrame'>\n"
      ]
     },
     "metadata": {},
     "output_type": "display_data"
    },
    {
     "data": {
      "text/html": [
       "<pre style=\"white-space:pre;overflow-x:auto;line-height:normal;font-family:Menlo,'DejaVu Sans Mono',consolas,'Courier New',monospace\">09:13:37.536 | <span style=\"color: #008080; text-decoration-color: #008080\">INFO</span>    | Task run 'first_etl-0' - &lt;class 'pandas.core.frame.DataFrame'&gt;\n",
       "</pre>\n"
      ],
      "text/plain": [
       "09:13:37.536 | \u001b[36mINFO\u001b[0m    | Task run 'first_etl-0' - <class 'pandas.core.frame.DataFrame'>\n"
      ]
     },
     "metadata": {},
     "output_type": "display_data"
    },
    {
     "data": {
      "text/html": [
       "<pre style=\"white-space:pre;overflow-x:auto;line-height:normal;font-family:Menlo,'DejaVu Sans Mono',consolas,'Courier New',monospace\">09:13:37.538 | <span style=\"color: #008080; text-decoration-color: #008080\">INFO</span>    | Task run 'first_etl-0' - &lt;class 'pandas.core.frame.DataFrame'&gt;\n",
       "</pre>\n"
      ],
      "text/plain": [
       "09:13:37.538 | \u001b[36mINFO\u001b[0m    | Task run 'first_etl-0' - <class 'pandas.core.frame.DataFrame'>\n"
      ]
     },
     "metadata": {},
     "output_type": "display_data"
    },
    {
     "data": {
      "text/html": [
       "<pre style=\"white-space:pre;overflow-x:auto;line-height:normal;font-family:Menlo,'DejaVu Sans Mono',consolas,'Courier New',monospace\">09:13:37.541 | <span style=\"color: #008080; text-decoration-color: #008080\">INFO</span>    | Task run 'first_etl-0' - &lt;class 'pandas.core.frame.DataFrame'&gt;\n",
       "</pre>\n"
      ],
      "text/plain": [
       "09:13:37.541 | \u001b[36mINFO\u001b[0m    | Task run 'first_etl-0' - <class 'pandas.core.frame.DataFrame'>\n"
      ]
     },
     "metadata": {},
     "output_type": "display_data"
    },
    {
     "data": {
      "text/html": [
       "<pre style=\"white-space:pre;overflow-x:auto;line-height:normal;font-family:Menlo,'DejaVu Sans Mono',consolas,'Courier New',monospace\">09:13:37.543 | <span style=\"color: #008080; text-decoration-color: #008080\">INFO</span>    | Task run 'first_etl-0' - &lt;class 'pandas.core.frame.DataFrame'&gt;\n",
       "</pre>\n"
      ],
      "text/plain": [
       "09:13:37.543 | \u001b[36mINFO\u001b[0m    | Task run 'first_etl-0' - <class 'pandas.core.frame.DataFrame'>\n"
      ]
     },
     "metadata": {},
     "output_type": "display_data"
    },
    {
     "data": {
      "text/html": [
       "<pre style=\"white-space:pre;overflow-x:auto;line-height:normal;font-family:Menlo,'DejaVu Sans Mono',consolas,'Courier New',monospace\">09:13:37.546 | <span style=\"color: #008080; text-decoration-color: #008080\">INFO</span>    | Task run 'first_etl-0' - &lt;class 'pandas.core.frame.DataFrame'&gt;\n",
       "</pre>\n"
      ],
      "text/plain": [
       "09:13:37.546 | \u001b[36mINFO\u001b[0m    | Task run 'first_etl-0' - <class 'pandas.core.frame.DataFrame'>\n"
      ]
     },
     "metadata": {},
     "output_type": "display_data"
    },
    {
     "data": {
      "text/html": [
       "<pre style=\"white-space:pre;overflow-x:auto;line-height:normal;font-family:Menlo,'DejaVu Sans Mono',consolas,'Courier New',monospace\">09:13:37.549 | <span style=\"color: #008080; text-decoration-color: #008080\">INFO</span>    | Task run 'first_etl-0' - &lt;class 'pandas.core.frame.DataFrame'&gt;\n",
       "</pre>\n"
      ],
      "text/plain": [
       "09:13:37.549 | \u001b[36mINFO\u001b[0m    | Task run 'first_etl-0' - <class 'pandas.core.frame.DataFrame'>\n"
      ]
     },
     "metadata": {},
     "output_type": "display_data"
    },
    {
     "data": {
      "text/html": [
       "<pre style=\"white-space:pre;overflow-x:auto;line-height:normal;font-family:Menlo,'DejaVu Sans Mono',consolas,'Courier New',monospace\">09:13:37.551 | <span style=\"color: #008080; text-decoration-color: #008080\">INFO</span>    | Task run 'first_etl-0' - &lt;class 'pandas.core.frame.DataFrame'&gt;\n",
       "</pre>\n"
      ],
      "text/plain": [
       "09:13:37.551 | \u001b[36mINFO\u001b[0m    | Task run 'first_etl-0' - <class 'pandas.core.frame.DataFrame'>\n"
      ]
     },
     "metadata": {},
     "output_type": "display_data"
    },
    {
     "data": {
      "text/html": [
       "<pre style=\"white-space:pre;overflow-x:auto;line-height:normal;font-family:Menlo,'DejaVu Sans Mono',consolas,'Courier New',monospace\">09:13:37.554 | <span style=\"color: #008080; text-decoration-color: #008080\">INFO</span>    | Task run 'first_etl-0' - &lt;class 'pandas.core.frame.DataFrame'&gt;\n",
       "</pre>\n"
      ],
      "text/plain": [
       "09:13:37.554 | \u001b[36mINFO\u001b[0m    | Task run 'first_etl-0' - <class 'pandas.core.frame.DataFrame'>\n"
      ]
     },
     "metadata": {},
     "output_type": "display_data"
    },
    {
     "data": {
      "text/html": [
       "<pre style=\"white-space:pre;overflow-x:auto;line-height:normal;font-family:Menlo,'DejaVu Sans Mono',consolas,'Courier New',monospace\">09:13:37.556 | <span style=\"color: #008080; text-decoration-color: #008080\">INFO</span>    | Task run 'first_etl-0' - &lt;class 'pandas.core.frame.DataFrame'&gt;\n",
       "</pre>\n"
      ],
      "text/plain": [
       "09:13:37.556 | \u001b[36mINFO\u001b[0m    | Task run 'first_etl-0' - <class 'pandas.core.frame.DataFrame'>\n"
      ]
     },
     "metadata": {},
     "output_type": "display_data"
    },
    {
     "data": {
      "text/html": [
       "<pre style=\"white-space:pre;overflow-x:auto;line-height:normal;font-family:Menlo,'DejaVu Sans Mono',consolas,'Courier New',monospace\">09:13:37.560 | <span style=\"color: #008080; text-decoration-color: #008080\">INFO</span>    | Task run 'first_etl-0' - &lt;class 'pandas.core.frame.DataFrame'&gt;\n",
       "</pre>\n"
      ],
      "text/plain": [
       "09:13:37.560 | \u001b[36mINFO\u001b[0m    | Task run 'first_etl-0' - <class 'pandas.core.frame.DataFrame'>\n"
      ]
     },
     "metadata": {},
     "output_type": "display_data"
    },
    {
     "data": {
      "text/html": [
       "<pre style=\"white-space:pre;overflow-x:auto;line-height:normal;font-family:Menlo,'DejaVu Sans Mono',consolas,'Courier New',monospace\">09:13:37.563 | <span style=\"color: #008080; text-decoration-color: #008080\">INFO</span>    | Task run 'first_etl-0' - &lt;class 'pandas.core.frame.DataFrame'&gt;\n",
       "</pre>\n"
      ],
      "text/plain": [
       "09:13:37.563 | \u001b[36mINFO\u001b[0m    | Task run 'first_etl-0' - <class 'pandas.core.frame.DataFrame'>\n"
      ]
     },
     "metadata": {},
     "output_type": "display_data"
    },
    {
     "data": {
      "text/html": [
       "<pre style=\"white-space:pre;overflow-x:auto;line-height:normal;font-family:Menlo,'DejaVu Sans Mono',consolas,'Courier New',monospace\">09:13:37.565 | <span style=\"color: #008080; text-decoration-color: #008080\">INFO</span>    | Task run 'first_etl-0' - &lt;class 'pandas.core.frame.DataFrame'&gt;\n",
       "</pre>\n"
      ],
      "text/plain": [
       "09:13:37.565 | \u001b[36mINFO\u001b[0m    | Task run 'first_etl-0' - <class 'pandas.core.frame.DataFrame'>\n"
      ]
     },
     "metadata": {},
     "output_type": "display_data"
    },
    {
     "data": {
      "text/html": [
       "<pre style=\"white-space:pre;overflow-x:auto;line-height:normal;font-family:Menlo,'DejaVu Sans Mono',consolas,'Courier New',monospace\">09:13:37.568 | <span style=\"color: #008080; text-decoration-color: #008080\">INFO</span>    | Task run 'first_etl-0' - &lt;class 'pandas.core.frame.DataFrame'&gt;\n",
       "</pre>\n"
      ],
      "text/plain": [
       "09:13:37.568 | \u001b[36mINFO\u001b[0m    | Task run 'first_etl-0' - <class 'pandas.core.frame.DataFrame'>\n"
      ]
     },
     "metadata": {},
     "output_type": "display_data"
    },
    {
     "data": {
      "text/html": [
       "<pre style=\"white-space:pre;overflow-x:auto;line-height:normal;font-family:Menlo,'DejaVu Sans Mono',consolas,'Courier New',monospace\">09:13:37.571 | <span style=\"color: #008080; text-decoration-color: #008080\">INFO</span>    | Task run 'first_etl-0' - &lt;class 'pandas.core.frame.DataFrame'&gt;\n",
       "</pre>\n"
      ],
      "text/plain": [
       "09:13:37.571 | \u001b[36mINFO\u001b[0m    | Task run 'first_etl-0' - <class 'pandas.core.frame.DataFrame'>\n"
      ]
     },
     "metadata": {},
     "output_type": "display_data"
    },
    {
     "data": {
      "text/html": [
       "<pre style=\"white-space:pre;overflow-x:auto;line-height:normal;font-family:Menlo,'DejaVu Sans Mono',consolas,'Courier New',monospace\">09:13:37.574 | <span style=\"color: #008080; text-decoration-color: #008080\">INFO</span>    | Task run 'first_etl-0' - &lt;class 'pandas.core.frame.DataFrame'&gt;\n",
       "</pre>\n"
      ],
      "text/plain": [
       "09:13:37.574 | \u001b[36mINFO\u001b[0m    | Task run 'first_etl-0' - <class 'pandas.core.frame.DataFrame'>\n"
      ]
     },
     "metadata": {},
     "output_type": "display_data"
    },
    {
     "data": {
      "text/html": [
       "<pre style=\"white-space:pre;overflow-x:auto;line-height:normal;font-family:Menlo,'DejaVu Sans Mono',consolas,'Courier New',monospace\">09:13:37.577 | <span style=\"color: #008080; text-decoration-color: #008080\">INFO</span>    | Task run 'first_etl-0' - &lt;class 'pandas.core.frame.DataFrame'&gt;\n",
       "</pre>\n"
      ],
      "text/plain": [
       "09:13:37.577 | \u001b[36mINFO\u001b[0m    | Task run 'first_etl-0' - <class 'pandas.core.frame.DataFrame'>\n"
      ]
     },
     "metadata": {},
     "output_type": "display_data"
    },
    {
     "data": {
      "text/html": [
       "<pre style=\"white-space:pre;overflow-x:auto;line-height:normal;font-family:Menlo,'DejaVu Sans Mono',consolas,'Courier New',monospace\">09:13:37.579 | <span style=\"color: #008080; text-decoration-color: #008080\">INFO</span>    | Task run 'first_etl-0' - &lt;class 'pandas.core.frame.DataFrame'&gt;\n",
       "</pre>\n"
      ],
      "text/plain": [
       "09:13:37.579 | \u001b[36mINFO\u001b[0m    | Task run 'first_etl-0' - <class 'pandas.core.frame.DataFrame'>\n"
      ]
     },
     "metadata": {},
     "output_type": "display_data"
    },
    {
     "data": {
      "text/html": [
       "<pre style=\"white-space:pre;overflow-x:auto;line-height:normal;font-family:Menlo,'DejaVu Sans Mono',consolas,'Courier New',monospace\">09:13:37.582 | <span style=\"color: #008080; text-decoration-color: #008080\">INFO</span>    | Task run 'first_etl-0' - &lt;class 'pandas.core.frame.DataFrame'&gt;\n",
       "</pre>\n"
      ],
      "text/plain": [
       "09:13:37.582 | \u001b[36mINFO\u001b[0m    | Task run 'first_etl-0' - <class 'pandas.core.frame.DataFrame'>\n"
      ]
     },
     "metadata": {},
     "output_type": "display_data"
    },
    {
     "data": {
      "text/html": [
       "<pre style=\"white-space:pre;overflow-x:auto;line-height:normal;font-family:Menlo,'DejaVu Sans Mono',consolas,'Courier New',monospace\">09:13:37.585 | <span style=\"color: #008080; text-decoration-color: #008080\">INFO</span>    | Task run 'first_etl-0' - &lt;class 'pandas.core.frame.DataFrame'&gt;\n",
       "</pre>\n"
      ],
      "text/plain": [
       "09:13:37.585 | \u001b[36mINFO\u001b[0m    | Task run 'first_etl-0' - <class 'pandas.core.frame.DataFrame'>\n"
      ]
     },
     "metadata": {},
     "output_type": "display_data"
    },
    {
     "data": {
      "text/html": [
       "<pre style=\"white-space:pre;overflow-x:auto;line-height:normal;font-family:Menlo,'DejaVu Sans Mono',consolas,'Courier New',monospace\">09:13:37.588 | <span style=\"color: #008080; text-decoration-color: #008080\">INFO</span>    | Task run 'first_etl-0' - &lt;class 'pandas.core.frame.DataFrame'&gt;\n",
       "</pre>\n"
      ],
      "text/plain": [
       "09:13:37.588 | \u001b[36mINFO\u001b[0m    | Task run 'first_etl-0' - <class 'pandas.core.frame.DataFrame'>\n"
      ]
     },
     "metadata": {},
     "output_type": "display_data"
    },
    {
     "data": {
      "text/html": [
       "<pre style=\"white-space:pre;overflow-x:auto;line-height:normal;font-family:Menlo,'DejaVu Sans Mono',consolas,'Courier New',monospace\">09:13:37.591 | <span style=\"color: #008080; text-decoration-color: #008080\">INFO</span>    | Task run 'first_etl-0' - &lt;class 'pandas.core.frame.DataFrame'&gt;\n",
       "</pre>\n"
      ],
      "text/plain": [
       "09:13:37.591 | \u001b[36mINFO\u001b[0m    | Task run 'first_etl-0' - <class 'pandas.core.frame.DataFrame'>\n"
      ]
     },
     "metadata": {},
     "output_type": "display_data"
    },
    {
     "data": {
      "text/html": [
       "<pre style=\"white-space:pre;overflow-x:auto;line-height:normal;font-family:Menlo,'DejaVu Sans Mono',consolas,'Courier New',monospace\">09:13:37.594 | <span style=\"color: #008080; text-decoration-color: #008080\">INFO</span>    | Task run 'first_etl-0' - &lt;class 'pandas.core.frame.DataFrame'&gt;\n",
       "</pre>\n"
      ],
      "text/plain": [
       "09:13:37.594 | \u001b[36mINFO\u001b[0m    | Task run 'first_etl-0' - <class 'pandas.core.frame.DataFrame'>\n"
      ]
     },
     "metadata": {},
     "output_type": "display_data"
    },
    {
     "data": {
      "text/html": [
       "<pre style=\"white-space:pre;overflow-x:auto;line-height:normal;font-family:Menlo,'DejaVu Sans Mono',consolas,'Courier New',monospace\">09:13:37.596 | <span style=\"color: #008080; text-decoration-color: #008080\">INFO</span>    | Task run 'first_etl-0' - &lt;class 'pandas.core.frame.DataFrame'&gt;\n",
       "</pre>\n"
      ],
      "text/plain": [
       "09:13:37.596 | \u001b[36mINFO\u001b[0m    | Task run 'first_etl-0' - <class 'pandas.core.frame.DataFrame'>\n"
      ]
     },
     "metadata": {},
     "output_type": "display_data"
    },
    {
     "data": {
      "text/html": [
       "<pre style=\"white-space:pre;overflow-x:auto;line-height:normal;font-family:Menlo,'DejaVu Sans Mono',consolas,'Courier New',monospace\">09:13:37.600 | <span style=\"color: #008080; text-decoration-color: #008080\">INFO</span>    | Task run 'first_etl-0' - &lt;class 'pandas.core.frame.DataFrame'&gt;\n",
       "</pre>\n"
      ],
      "text/plain": [
       "09:13:37.600 | \u001b[36mINFO\u001b[0m    | Task run 'first_etl-0' - <class 'pandas.core.frame.DataFrame'>\n"
      ]
     },
     "metadata": {},
     "output_type": "display_data"
    },
    {
     "data": {
      "text/html": [
       "<pre style=\"white-space:pre;overflow-x:auto;line-height:normal;font-family:Menlo,'DejaVu Sans Mono',consolas,'Courier New',monospace\">09:13:37.604 | <span style=\"color: #008080; text-decoration-color: #008080\">INFO</span>    | Task run 'first_etl-0' - &lt;class 'pandas.core.frame.DataFrame'&gt;\n",
       "</pre>\n"
      ],
      "text/plain": [
       "09:13:37.604 | \u001b[36mINFO\u001b[0m    | Task run 'first_etl-0' - <class 'pandas.core.frame.DataFrame'>\n"
      ]
     },
     "metadata": {},
     "output_type": "display_data"
    },
    {
     "data": {
      "text/html": [
       "<pre style=\"white-space:pre;overflow-x:auto;line-height:normal;font-family:Menlo,'DejaVu Sans Mono',consolas,'Courier New',monospace\">09:13:37.608 | <span style=\"color: #008080; text-decoration-color: #008080\">INFO</span>    | Task run 'first_etl-0' - &lt;class 'pandas.core.frame.DataFrame'&gt;\n",
       "</pre>\n"
      ],
      "text/plain": [
       "09:13:37.608 | \u001b[36mINFO\u001b[0m    | Task run 'first_etl-0' - <class 'pandas.core.frame.DataFrame'>\n"
      ]
     },
     "metadata": {},
     "output_type": "display_data"
    },
    {
     "data": {
      "text/html": [
       "<pre style=\"white-space:pre;overflow-x:auto;line-height:normal;font-family:Menlo,'DejaVu Sans Mono',consolas,'Courier New',monospace\">09:13:37.610 | <span style=\"color: #008080; text-decoration-color: #008080\">INFO</span>    | Task run 'first_etl-0' - &lt;class 'pandas.core.frame.DataFrame'&gt;\n",
       "</pre>\n"
      ],
      "text/plain": [
       "09:13:37.610 | \u001b[36mINFO\u001b[0m    | Task run 'first_etl-0' - <class 'pandas.core.frame.DataFrame'>\n"
      ]
     },
     "metadata": {},
     "output_type": "display_data"
    },
    {
     "data": {
      "text/html": [
       "<pre style=\"white-space:pre;overflow-x:auto;line-height:normal;font-family:Menlo,'DejaVu Sans Mono',consolas,'Courier New',monospace\">09:13:37.613 | <span style=\"color: #008080; text-decoration-color: #008080\">INFO</span>    | Task run 'first_etl-0' - &lt;class 'pandas.core.frame.DataFrame'&gt;\n",
       "</pre>\n"
      ],
      "text/plain": [
       "09:13:37.613 | \u001b[36mINFO\u001b[0m    | Task run 'first_etl-0' - <class 'pandas.core.frame.DataFrame'>\n"
      ]
     },
     "metadata": {},
     "output_type": "display_data"
    },
    {
     "data": {
      "text/html": [
       "<pre style=\"white-space:pre;overflow-x:auto;line-height:normal;font-family:Menlo,'DejaVu Sans Mono',consolas,'Courier New',monospace\">09:13:37.615 | <span style=\"color: #008080; text-decoration-color: #008080\">INFO</span>    | Task run 'first_etl-0' - &lt;class 'pandas.core.frame.DataFrame'&gt;\n",
       "</pre>\n"
      ],
      "text/plain": [
       "09:13:37.615 | \u001b[36mINFO\u001b[0m    | Task run 'first_etl-0' - <class 'pandas.core.frame.DataFrame'>\n"
      ]
     },
     "metadata": {},
     "output_type": "display_data"
    },
    {
     "data": {
      "text/html": [
       "<pre style=\"white-space:pre;overflow-x:auto;line-height:normal;font-family:Menlo,'DejaVu Sans Mono',consolas,'Courier New',monospace\">09:13:37.617 | <span style=\"color: #008080; text-decoration-color: #008080\">INFO</span>    | Task run 'first_etl-0' - &lt;class 'pandas.core.frame.DataFrame'&gt;\n",
       "</pre>\n"
      ],
      "text/plain": [
       "09:13:37.617 | \u001b[36mINFO\u001b[0m    | Task run 'first_etl-0' - <class 'pandas.core.frame.DataFrame'>\n"
      ]
     },
     "metadata": {},
     "output_type": "display_data"
    },
    {
     "data": {
      "text/html": [
       "<pre style=\"white-space:pre;overflow-x:auto;line-height:normal;font-family:Menlo,'DejaVu Sans Mono',consolas,'Courier New',monospace\">09:13:37.620 | <span style=\"color: #008080; text-decoration-color: #008080\">INFO</span>    | Task run 'first_etl-0' - &lt;class 'pandas.core.frame.DataFrame'&gt;\n",
       "</pre>\n"
      ],
      "text/plain": [
       "09:13:37.620 | \u001b[36mINFO\u001b[0m    | Task run 'first_etl-0' - <class 'pandas.core.frame.DataFrame'>\n"
      ]
     },
     "metadata": {},
     "output_type": "display_data"
    },
    {
     "data": {
      "text/html": [
       "<pre style=\"white-space:pre;overflow-x:auto;line-height:normal;font-family:Menlo,'DejaVu Sans Mono',consolas,'Courier New',monospace\">09:13:37.623 | <span style=\"color: #008080; text-decoration-color: #008080\">INFO</span>    | Task run 'first_etl-0' - &lt;class 'pandas.core.frame.DataFrame'&gt;\n",
       "</pre>\n"
      ],
      "text/plain": [
       "09:13:37.623 | \u001b[36mINFO\u001b[0m    | Task run 'first_etl-0' - <class 'pandas.core.frame.DataFrame'>\n"
      ]
     },
     "metadata": {},
     "output_type": "display_data"
    },
    {
     "data": {
      "text/html": [
       "<pre style=\"white-space:pre;overflow-x:auto;line-height:normal;font-family:Menlo,'DejaVu Sans Mono',consolas,'Courier New',monospace\">09:13:37.626 | <span style=\"color: #008080; text-decoration-color: #008080\">INFO</span>    | Task run 'first_etl-0' - &lt;class 'pandas.core.frame.DataFrame'&gt;\n",
       "</pre>\n"
      ],
      "text/plain": [
       "09:13:37.626 | \u001b[36mINFO\u001b[0m    | Task run 'first_etl-0' - <class 'pandas.core.frame.DataFrame'>\n"
      ]
     },
     "metadata": {},
     "output_type": "display_data"
    },
    {
     "data": {
      "text/html": [
       "<pre style=\"white-space:pre;overflow-x:auto;line-height:normal;font-family:Menlo,'DejaVu Sans Mono',consolas,'Courier New',monospace\">09:13:37.629 | <span style=\"color: #008080; text-decoration-color: #008080\">INFO</span>    | Task run 'first_etl-0' - &lt;class 'pandas.core.frame.DataFrame'&gt;\n",
       "</pre>\n"
      ],
      "text/plain": [
       "09:13:37.629 | \u001b[36mINFO\u001b[0m    | Task run 'first_etl-0' - <class 'pandas.core.frame.DataFrame'>\n"
      ]
     },
     "metadata": {},
     "output_type": "display_data"
    },
    {
     "data": {
      "text/html": [
       "<pre style=\"white-space:pre;overflow-x:auto;line-height:normal;font-family:Menlo,'DejaVu Sans Mono',consolas,'Courier New',monospace\">09:13:37.631 | <span style=\"color: #008080; text-decoration-color: #008080\">INFO</span>    | Task run 'first_etl-0' - &lt;class 'pandas.core.frame.DataFrame'&gt;\n",
       "</pre>\n"
      ],
      "text/plain": [
       "09:13:37.631 | \u001b[36mINFO\u001b[0m    | Task run 'first_etl-0' - <class 'pandas.core.frame.DataFrame'>\n"
      ]
     },
     "metadata": {},
     "output_type": "display_data"
    },
    {
     "data": {
      "text/html": [
       "<pre style=\"white-space:pre;overflow-x:auto;line-height:normal;font-family:Menlo,'DejaVu Sans Mono',consolas,'Courier New',monospace\">09:13:37.633 | <span style=\"color: #008080; text-decoration-color: #008080\">INFO</span>    | Task run 'first_etl-0' - &lt;class 'pandas.core.frame.DataFrame'&gt;\n",
       "</pre>\n"
      ],
      "text/plain": [
       "09:13:37.633 | \u001b[36mINFO\u001b[0m    | Task run 'first_etl-0' - <class 'pandas.core.frame.DataFrame'>\n"
      ]
     },
     "metadata": {},
     "output_type": "display_data"
    },
    {
     "data": {
      "text/html": [
       "<pre style=\"white-space:pre;overflow-x:auto;line-height:normal;font-family:Menlo,'DejaVu Sans Mono',consolas,'Courier New',monospace\">09:13:37.636 | <span style=\"color: #008080; text-decoration-color: #008080\">INFO</span>    | Task run 'first_etl-0' - &lt;class 'pandas.core.frame.DataFrame'&gt;\n",
       "</pre>\n"
      ],
      "text/plain": [
       "09:13:37.636 | \u001b[36mINFO\u001b[0m    | Task run 'first_etl-0' - <class 'pandas.core.frame.DataFrame'>\n"
      ]
     },
     "metadata": {},
     "output_type": "display_data"
    },
    {
     "data": {
      "text/html": [
       "<pre style=\"white-space:pre;overflow-x:auto;line-height:normal;font-family:Menlo,'DejaVu Sans Mono',consolas,'Courier New',monospace\">09:13:37.639 | <span style=\"color: #008080; text-decoration-color: #008080\">INFO</span>    | Task run 'first_etl-0' - &lt;class 'pandas.core.frame.DataFrame'&gt;\n",
       "</pre>\n"
      ],
      "text/plain": [
       "09:13:37.639 | \u001b[36mINFO\u001b[0m    | Task run 'first_etl-0' - <class 'pandas.core.frame.DataFrame'>\n"
      ]
     },
     "metadata": {},
     "output_type": "display_data"
    },
    {
     "data": {
      "text/html": [
       "<pre style=\"white-space:pre;overflow-x:auto;line-height:normal;font-family:Menlo,'DejaVu Sans Mono',consolas,'Courier New',monospace\">09:13:37.642 | <span style=\"color: #008080; text-decoration-color: #008080\">INFO</span>    | Task run 'first_etl-0' - &lt;class 'pandas.core.frame.DataFrame'&gt;\n",
       "</pre>\n"
      ],
      "text/plain": [
       "09:13:37.642 | \u001b[36mINFO\u001b[0m    | Task run 'first_etl-0' - <class 'pandas.core.frame.DataFrame'>\n"
      ]
     },
     "metadata": {},
     "output_type": "display_data"
    },
    {
     "data": {
      "text/html": [
       "<pre style=\"white-space:pre;overflow-x:auto;line-height:normal;font-family:Menlo,'DejaVu Sans Mono',consolas,'Courier New',monospace\">09:13:37.645 | <span style=\"color: #008080; text-decoration-color: #008080\">INFO</span>    | Task run 'first_etl-0' - &lt;class 'pandas.core.frame.DataFrame'&gt;\n",
       "</pre>\n"
      ],
      "text/plain": [
       "09:13:37.645 | \u001b[36mINFO\u001b[0m    | Task run 'first_etl-0' - <class 'pandas.core.frame.DataFrame'>\n"
      ]
     },
     "metadata": {},
     "output_type": "display_data"
    },
    {
     "data": {
      "text/html": [
       "<pre style=\"white-space:pre;overflow-x:auto;line-height:normal;font-family:Menlo,'DejaVu Sans Mono',consolas,'Courier New',monospace\">09:13:37.649 | <span style=\"color: #008080; text-decoration-color: #008080\">INFO</span>    | Task run 'first_etl-0' - &lt;class 'pandas.core.frame.DataFrame'&gt;\n",
       "</pre>\n"
      ],
      "text/plain": [
       "09:13:37.649 | \u001b[36mINFO\u001b[0m    | Task run 'first_etl-0' - <class 'pandas.core.frame.DataFrame'>\n"
      ]
     },
     "metadata": {},
     "output_type": "display_data"
    },
    {
     "data": {
      "text/html": [
       "<pre style=\"white-space:pre;overflow-x:auto;line-height:normal;font-family:Menlo,'DejaVu Sans Mono',consolas,'Courier New',monospace\">09:13:37.652 | <span style=\"color: #008080; text-decoration-color: #008080\">INFO</span>    | Task run 'first_etl-0' - &lt;class 'pandas.core.frame.DataFrame'&gt;\n",
       "</pre>\n"
      ],
      "text/plain": [
       "09:13:37.652 | \u001b[36mINFO\u001b[0m    | Task run 'first_etl-0' - <class 'pandas.core.frame.DataFrame'>\n"
      ]
     },
     "metadata": {},
     "output_type": "display_data"
    },
    {
     "data": {
      "text/html": [
       "<pre style=\"white-space:pre;overflow-x:auto;line-height:normal;font-family:Menlo,'DejaVu Sans Mono',consolas,'Courier New',monospace\">09:13:37.655 | <span style=\"color: #008080; text-decoration-color: #008080\">INFO</span>    | Task run 'first_etl-0' - &lt;class 'pandas.core.frame.DataFrame'&gt;\n",
       "</pre>\n"
      ],
      "text/plain": [
       "09:13:37.655 | \u001b[36mINFO\u001b[0m    | Task run 'first_etl-0' - <class 'pandas.core.frame.DataFrame'>\n"
      ]
     },
     "metadata": {},
     "output_type": "display_data"
    },
    {
     "data": {
      "text/html": [
       "<pre style=\"white-space:pre;overflow-x:auto;line-height:normal;font-family:Menlo,'DejaVu Sans Mono',consolas,'Courier New',monospace\">09:13:37.657 | <span style=\"color: #008080; text-decoration-color: #008080\">INFO</span>    | Task run 'first_etl-0' - &lt;class 'pandas.core.frame.DataFrame'&gt;\n",
       "</pre>\n"
      ],
      "text/plain": [
       "09:13:37.657 | \u001b[36mINFO\u001b[0m    | Task run 'first_etl-0' - <class 'pandas.core.frame.DataFrame'>\n"
      ]
     },
     "metadata": {},
     "output_type": "display_data"
    },
    {
     "data": {
      "text/html": [
       "<pre style=\"white-space:pre;overflow-x:auto;line-height:normal;font-family:Menlo,'DejaVu Sans Mono',consolas,'Courier New',monospace\">09:13:37.660 | <span style=\"color: #008080; text-decoration-color: #008080\">INFO</span>    | Task run 'first_etl-0' - &lt;class 'pandas.core.frame.DataFrame'&gt;\n",
       "</pre>\n"
      ],
      "text/plain": [
       "09:13:37.660 | \u001b[36mINFO\u001b[0m    | Task run 'first_etl-0' - <class 'pandas.core.frame.DataFrame'>\n"
      ]
     },
     "metadata": {},
     "output_type": "display_data"
    },
    {
     "data": {
      "text/html": [
       "<pre style=\"white-space:pre;overflow-x:auto;line-height:normal;font-family:Menlo,'DejaVu Sans Mono',consolas,'Courier New',monospace\">09:13:37.663 | <span style=\"color: #008080; text-decoration-color: #008080\">INFO</span>    | Task run 'first_etl-0' - &lt;class 'pandas.core.frame.DataFrame'&gt;\n",
       "</pre>\n"
      ],
      "text/plain": [
       "09:13:37.663 | \u001b[36mINFO\u001b[0m    | Task run 'first_etl-0' - <class 'pandas.core.frame.DataFrame'>\n"
      ]
     },
     "metadata": {},
     "output_type": "display_data"
    },
    {
     "data": {
      "text/html": [
       "<pre style=\"white-space:pre;overflow-x:auto;line-height:normal;font-family:Menlo,'DejaVu Sans Mono',consolas,'Courier New',monospace\">09:13:37.666 | <span style=\"color: #008080; text-decoration-color: #008080\">INFO</span>    | Task run 'first_etl-0' - &lt;class 'pandas.core.frame.DataFrame'&gt;\n",
       "</pre>\n"
      ],
      "text/plain": [
       "09:13:37.666 | \u001b[36mINFO\u001b[0m    | Task run 'first_etl-0' - <class 'pandas.core.frame.DataFrame'>\n"
      ]
     },
     "metadata": {},
     "output_type": "display_data"
    },
    {
     "data": {
      "text/html": [
       "<pre style=\"white-space:pre;overflow-x:auto;line-height:normal;font-family:Menlo,'DejaVu Sans Mono',consolas,'Courier New',monospace\">09:13:37.668 | <span style=\"color: #008080; text-decoration-color: #008080\">INFO</span>    | Task run 'first_etl-0' - &lt;class 'pandas.core.frame.DataFrame'&gt;\n",
       "</pre>\n"
      ],
      "text/plain": [
       "09:13:37.668 | \u001b[36mINFO\u001b[0m    | Task run 'first_etl-0' - <class 'pandas.core.frame.DataFrame'>\n"
      ]
     },
     "metadata": {},
     "output_type": "display_data"
    },
    {
     "data": {
      "text/html": [
       "<pre style=\"white-space:pre;overflow-x:auto;line-height:normal;font-family:Menlo,'DejaVu Sans Mono',consolas,'Courier New',monospace\">09:13:37.671 | <span style=\"color: #008080; text-decoration-color: #008080\">INFO</span>    | Task run 'first_etl-0' - &lt;class 'pandas.core.frame.DataFrame'&gt;\n",
       "</pre>\n"
      ],
      "text/plain": [
       "09:13:37.671 | \u001b[36mINFO\u001b[0m    | Task run 'first_etl-0' - <class 'pandas.core.frame.DataFrame'>\n"
      ]
     },
     "metadata": {},
     "output_type": "display_data"
    },
    {
     "data": {
      "text/html": [
       "<pre style=\"white-space:pre;overflow-x:auto;line-height:normal;font-family:Menlo,'DejaVu Sans Mono',consolas,'Courier New',monospace\">09:13:37.674 | <span style=\"color: #008080; text-decoration-color: #008080\">INFO</span>    | Task run 'first_etl-0' - &lt;class 'pandas.core.frame.DataFrame'&gt;\n",
       "</pre>\n"
      ],
      "text/plain": [
       "09:13:37.674 | \u001b[36mINFO\u001b[0m    | Task run 'first_etl-0' - <class 'pandas.core.frame.DataFrame'>\n"
      ]
     },
     "metadata": {},
     "output_type": "display_data"
    },
    {
     "data": {
      "text/html": [
       "<pre style=\"white-space:pre;overflow-x:auto;line-height:normal;font-family:Menlo,'DejaVu Sans Mono',consolas,'Courier New',monospace\">09:13:37.677 | <span style=\"color: #008080; text-decoration-color: #008080\">INFO</span>    | Task run 'first_etl-0' - &lt;class 'pandas.core.frame.DataFrame'&gt;\n",
       "</pre>\n"
      ],
      "text/plain": [
       "09:13:37.677 | \u001b[36mINFO\u001b[0m    | Task run 'first_etl-0' - <class 'pandas.core.frame.DataFrame'>\n"
      ]
     },
     "metadata": {},
     "output_type": "display_data"
    },
    {
     "data": {
      "text/html": [
       "<pre style=\"white-space:pre;overflow-x:auto;line-height:normal;font-family:Menlo,'DejaVu Sans Mono',consolas,'Courier New',monospace\">09:13:37.679 | <span style=\"color: #008080; text-decoration-color: #008080\">INFO</span>    | Task run 'first_etl-0' - &lt;class 'pandas.core.frame.DataFrame'&gt;\n",
       "</pre>\n"
      ],
      "text/plain": [
       "09:13:37.679 | \u001b[36mINFO\u001b[0m    | Task run 'first_etl-0' - <class 'pandas.core.frame.DataFrame'>\n"
      ]
     },
     "metadata": {},
     "output_type": "display_data"
    },
    {
     "data": {
      "text/html": [
       "<pre style=\"white-space:pre;overflow-x:auto;line-height:normal;font-family:Menlo,'DejaVu Sans Mono',consolas,'Courier New',monospace\">09:13:37.682 | <span style=\"color: #008080; text-decoration-color: #008080\">INFO</span>    | Task run 'first_etl-0' - &lt;class 'pandas.core.frame.DataFrame'&gt;\n",
       "</pre>\n"
      ],
      "text/plain": [
       "09:13:37.682 | \u001b[36mINFO\u001b[0m    | Task run 'first_etl-0' - <class 'pandas.core.frame.DataFrame'>\n"
      ]
     },
     "metadata": {},
     "output_type": "display_data"
    },
    {
     "data": {
      "text/html": [
       "<pre style=\"white-space:pre;overflow-x:auto;line-height:normal;font-family:Menlo,'DejaVu Sans Mono',consolas,'Courier New',monospace\">09:13:37.685 | <span style=\"color: #008080; text-decoration-color: #008080\">INFO</span>    | Task run 'first_etl-0' - &lt;class 'pandas.core.frame.DataFrame'&gt;\n",
       "</pre>\n"
      ],
      "text/plain": [
       "09:13:37.685 | \u001b[36mINFO\u001b[0m    | Task run 'first_etl-0' - <class 'pandas.core.frame.DataFrame'>\n"
      ]
     },
     "metadata": {},
     "output_type": "display_data"
    },
    {
     "data": {
      "text/html": [
       "<pre style=\"white-space:pre;overflow-x:auto;line-height:normal;font-family:Menlo,'DejaVu Sans Mono',consolas,'Courier New',monospace\">09:13:37.689 | <span style=\"color: #008080; text-decoration-color: #008080\">INFO</span>    | Task run 'first_etl-0' - &lt;class 'pandas.core.frame.DataFrame'&gt;\n",
       "</pre>\n"
      ],
      "text/plain": [
       "09:13:37.689 | \u001b[36mINFO\u001b[0m    | Task run 'first_etl-0' - <class 'pandas.core.frame.DataFrame'>\n"
      ]
     },
     "metadata": {},
     "output_type": "display_data"
    },
    {
     "data": {
      "text/html": [
       "<pre style=\"white-space:pre;overflow-x:auto;line-height:normal;font-family:Menlo,'DejaVu Sans Mono',consolas,'Courier New',monospace\">09:13:37.693 | <span style=\"color: #008080; text-decoration-color: #008080\">INFO</span>    | Task run 'first_etl-0' - &lt;class 'pandas.core.frame.DataFrame'&gt;\n",
       "</pre>\n"
      ],
      "text/plain": [
       "09:13:37.693 | \u001b[36mINFO\u001b[0m    | Task run 'first_etl-0' - <class 'pandas.core.frame.DataFrame'>\n"
      ]
     },
     "metadata": {},
     "output_type": "display_data"
    },
    {
     "data": {
      "text/html": [
       "<pre style=\"white-space:pre;overflow-x:auto;line-height:normal;font-family:Menlo,'DejaVu Sans Mono',consolas,'Courier New',monospace\">09:13:37.696 | <span style=\"color: #008080; text-decoration-color: #008080\">INFO</span>    | Task run 'first_etl-0' - &lt;class 'pandas.core.frame.DataFrame'&gt;\n",
       "</pre>\n"
      ],
      "text/plain": [
       "09:13:37.696 | \u001b[36mINFO\u001b[0m    | Task run 'first_etl-0' - <class 'pandas.core.frame.DataFrame'>\n"
      ]
     },
     "metadata": {},
     "output_type": "display_data"
    },
    {
     "data": {
      "text/html": [
       "<pre style=\"white-space:pre;overflow-x:auto;line-height:normal;font-family:Menlo,'DejaVu Sans Mono',consolas,'Courier New',monospace\">09:13:37.698 | <span style=\"color: #008080; text-decoration-color: #008080\">INFO</span>    | Task run 'first_etl-0' - &lt;class 'pandas.core.frame.DataFrame'&gt;\n",
       "</pre>\n"
      ],
      "text/plain": [
       "09:13:37.698 | \u001b[36mINFO\u001b[0m    | Task run 'first_etl-0' - <class 'pandas.core.frame.DataFrame'>\n"
      ]
     },
     "metadata": {},
     "output_type": "display_data"
    },
    {
     "data": {
      "text/html": [
       "<pre style=\"white-space:pre;overflow-x:auto;line-height:normal;font-family:Menlo,'DejaVu Sans Mono',consolas,'Courier New',monospace\">09:13:37.702 | <span style=\"color: #008080; text-decoration-color: #008080\">INFO</span>    | Task run 'first_etl-0' - &lt;class 'pandas.core.frame.DataFrame'&gt;\n",
       "</pre>\n"
      ],
      "text/plain": [
       "09:13:37.702 | \u001b[36mINFO\u001b[0m    | Task run 'first_etl-0' - <class 'pandas.core.frame.DataFrame'>\n"
      ]
     },
     "metadata": {},
     "output_type": "display_data"
    },
    {
     "data": {
      "text/html": [
       "<pre style=\"white-space:pre;overflow-x:auto;line-height:normal;font-family:Menlo,'DejaVu Sans Mono',consolas,'Courier New',monospace\">09:13:37.705 | <span style=\"color: #008080; text-decoration-color: #008080\">INFO</span>    | Task run 'first_etl-0' - &lt;class 'pandas.core.frame.DataFrame'&gt;\n",
       "</pre>\n"
      ],
      "text/plain": [
       "09:13:37.705 | \u001b[36mINFO\u001b[0m    | Task run 'first_etl-0' - <class 'pandas.core.frame.DataFrame'>\n"
      ]
     },
     "metadata": {},
     "output_type": "display_data"
    },
    {
     "data": {
      "text/html": [
       "<pre style=\"white-space:pre;overflow-x:auto;line-height:normal;font-family:Menlo,'DejaVu Sans Mono',consolas,'Courier New',monospace\">09:13:37.709 | <span style=\"color: #008080; text-decoration-color: #008080\">INFO</span>    | Task run 'first_etl-0' - &lt;class 'pandas.core.frame.DataFrame'&gt;\n",
       "</pre>\n"
      ],
      "text/plain": [
       "09:13:37.709 | \u001b[36mINFO\u001b[0m    | Task run 'first_etl-0' - <class 'pandas.core.frame.DataFrame'>\n"
      ]
     },
     "metadata": {},
     "output_type": "display_data"
    },
    {
     "data": {
      "text/html": [
       "<pre style=\"white-space:pre;overflow-x:auto;line-height:normal;font-family:Menlo,'DejaVu Sans Mono',consolas,'Courier New',monospace\">09:13:37.713 | <span style=\"color: #008080; text-decoration-color: #008080\">INFO</span>    | Task run 'first_etl-0' - &lt;class 'pandas.core.frame.DataFrame'&gt;\n",
       "</pre>\n"
      ],
      "text/plain": [
       "09:13:37.713 | \u001b[36mINFO\u001b[0m    | Task run 'first_etl-0' - <class 'pandas.core.frame.DataFrame'>\n"
      ]
     },
     "metadata": {},
     "output_type": "display_data"
    },
    {
     "data": {
      "text/html": [
       "<pre style=\"white-space:pre;overflow-x:auto;line-height:normal;font-family:Menlo,'DejaVu Sans Mono',consolas,'Courier New',monospace\">09:13:37.716 | <span style=\"color: #008080; text-decoration-color: #008080\">INFO</span>    | Task run 'first_etl-0' - &lt;class 'pandas.core.frame.DataFrame'&gt;\n",
       "</pre>\n"
      ],
      "text/plain": [
       "09:13:37.716 | \u001b[36mINFO\u001b[0m    | Task run 'first_etl-0' - <class 'pandas.core.frame.DataFrame'>\n"
      ]
     },
     "metadata": {},
     "output_type": "display_data"
    },
    {
     "data": {
      "text/html": [
       "<pre style=\"white-space:pre;overflow-x:auto;line-height:normal;font-family:Menlo,'DejaVu Sans Mono',consolas,'Courier New',monospace\">09:13:37.719 | <span style=\"color: #008080; text-decoration-color: #008080\">INFO</span>    | Task run 'first_etl-0' - &lt;class 'pandas.core.frame.DataFrame'&gt;\n",
       "</pre>\n"
      ],
      "text/plain": [
       "09:13:37.719 | \u001b[36mINFO\u001b[0m    | Task run 'first_etl-0' - <class 'pandas.core.frame.DataFrame'>\n"
      ]
     },
     "metadata": {},
     "output_type": "display_data"
    },
    {
     "data": {
      "text/html": [
       "<pre style=\"white-space:pre;overflow-x:auto;line-height:normal;font-family:Menlo,'DejaVu Sans Mono',consolas,'Courier New',monospace\">09:13:37.722 | <span style=\"color: #008080; text-decoration-color: #008080\">INFO</span>    | Task run 'first_etl-0' - &lt;class 'pandas.core.frame.DataFrame'&gt;\n",
       "</pre>\n"
      ],
      "text/plain": [
       "09:13:37.722 | \u001b[36mINFO\u001b[0m    | Task run 'first_etl-0' - <class 'pandas.core.frame.DataFrame'>\n"
      ]
     },
     "metadata": {},
     "output_type": "display_data"
    },
    {
     "data": {
      "text/html": [
       "<pre style=\"white-space:pre;overflow-x:auto;line-height:normal;font-family:Menlo,'DejaVu Sans Mono',consolas,'Courier New',monospace\">09:13:37.724 | <span style=\"color: #008080; text-decoration-color: #008080\">INFO</span>    | Task run 'first_etl-0' - &lt;class 'pandas.core.frame.DataFrame'&gt;\n",
       "</pre>\n"
      ],
      "text/plain": [
       "09:13:37.724 | \u001b[36mINFO\u001b[0m    | Task run 'first_etl-0' - <class 'pandas.core.frame.DataFrame'>\n"
      ]
     },
     "metadata": {},
     "output_type": "display_data"
    },
    {
     "data": {
      "text/html": [
       "<pre style=\"white-space:pre;overflow-x:auto;line-height:normal;font-family:Menlo,'DejaVu Sans Mono',consolas,'Courier New',monospace\">09:13:37.726 | <span style=\"color: #008080; text-decoration-color: #008080\">INFO</span>    | Task run 'first_etl-0' - &lt;class 'pandas.core.frame.DataFrame'&gt;\n",
       "</pre>\n"
      ],
      "text/plain": [
       "09:13:37.726 | \u001b[36mINFO\u001b[0m    | Task run 'first_etl-0' - <class 'pandas.core.frame.DataFrame'>\n"
      ]
     },
     "metadata": {},
     "output_type": "display_data"
    },
    {
     "data": {
      "text/html": [
       "<pre style=\"white-space:pre;overflow-x:auto;line-height:normal;font-family:Menlo,'DejaVu Sans Mono',consolas,'Courier New',monospace\">09:13:37.729 | <span style=\"color: #008080; text-decoration-color: #008080\">INFO</span>    | Task run 'first_etl-0' - &lt;class 'pandas.core.frame.DataFrame'&gt;\n",
       "</pre>\n"
      ],
      "text/plain": [
       "09:13:37.729 | \u001b[36mINFO\u001b[0m    | Task run 'first_etl-0' - <class 'pandas.core.frame.DataFrame'>\n"
      ]
     },
     "metadata": {},
     "output_type": "display_data"
    },
    {
     "data": {
      "text/html": [
       "<pre style=\"white-space:pre;overflow-x:auto;line-height:normal;font-family:Menlo,'DejaVu Sans Mono',consolas,'Courier New',monospace\">09:13:37.731 | <span style=\"color: #008080; text-decoration-color: #008080\">INFO</span>    | Task run 'first_etl-0' - &lt;class 'pandas.core.frame.DataFrame'&gt;\n",
       "</pre>\n"
      ],
      "text/plain": [
       "09:13:37.731 | \u001b[36mINFO\u001b[0m    | Task run 'first_etl-0' - <class 'pandas.core.frame.DataFrame'>\n"
      ]
     },
     "metadata": {},
     "output_type": "display_data"
    },
    {
     "data": {
      "text/html": [
       "<pre style=\"white-space:pre;overflow-x:auto;line-height:normal;font-family:Menlo,'DejaVu Sans Mono',consolas,'Courier New',monospace\">09:13:37.734 | <span style=\"color: #008080; text-decoration-color: #008080\">INFO</span>    | Task run 'first_etl-0' - &lt;class 'pandas.core.frame.DataFrame'&gt;\n",
       "</pre>\n"
      ],
      "text/plain": [
       "09:13:37.734 | \u001b[36mINFO\u001b[0m    | Task run 'first_etl-0' - <class 'pandas.core.frame.DataFrame'>\n"
      ]
     },
     "metadata": {},
     "output_type": "display_data"
    },
    {
     "data": {
      "text/html": [
       "<pre style=\"white-space:pre;overflow-x:auto;line-height:normal;font-family:Menlo,'DejaVu Sans Mono',consolas,'Courier New',monospace\">09:13:37.736 | <span style=\"color: #008080; text-decoration-color: #008080\">INFO</span>    | Task run 'first_etl-0' - &lt;class 'pandas.core.frame.DataFrame'&gt;\n",
       "</pre>\n"
      ],
      "text/plain": [
       "09:13:37.736 | \u001b[36mINFO\u001b[0m    | Task run 'first_etl-0' - <class 'pandas.core.frame.DataFrame'>\n"
      ]
     },
     "metadata": {},
     "output_type": "display_data"
    },
    {
     "data": {
      "text/html": [
       "<pre style=\"white-space:pre;overflow-x:auto;line-height:normal;font-family:Menlo,'DejaVu Sans Mono',consolas,'Courier New',monospace\">09:13:37.739 | <span style=\"color: #008080; text-decoration-color: #008080\">INFO</span>    | Task run 'first_etl-0' - &lt;class 'pandas.core.frame.DataFrame'&gt;\n",
       "</pre>\n"
      ],
      "text/plain": [
       "09:13:37.739 | \u001b[36mINFO\u001b[0m    | Task run 'first_etl-0' - <class 'pandas.core.frame.DataFrame'>\n"
      ]
     },
     "metadata": {},
     "output_type": "display_data"
    },
    {
     "data": {
      "text/html": [
       "<pre style=\"white-space:pre;overflow-x:auto;line-height:normal;font-family:Menlo,'DejaVu Sans Mono',consolas,'Courier New',monospace\">09:13:37.741 | <span style=\"color: #008080; text-decoration-color: #008080\">INFO</span>    | Task run 'first_etl-0' - &lt;class 'pandas.core.frame.DataFrame'&gt;\n",
       "</pre>\n"
      ],
      "text/plain": [
       "09:13:37.741 | \u001b[36mINFO\u001b[0m    | Task run 'first_etl-0' - <class 'pandas.core.frame.DataFrame'>\n"
      ]
     },
     "metadata": {},
     "output_type": "display_data"
    },
    {
     "data": {
      "text/html": [
       "<pre style=\"white-space:pre;overflow-x:auto;line-height:normal;font-family:Menlo,'DejaVu Sans Mono',consolas,'Courier New',monospace\">09:13:37.745 | <span style=\"color: #008080; text-decoration-color: #008080\">INFO</span>    | Task run 'first_etl-0' - &lt;class 'pandas.core.frame.DataFrame'&gt;\n",
       "</pre>\n"
      ],
      "text/plain": [
       "09:13:37.745 | \u001b[36mINFO\u001b[0m    | Task run 'first_etl-0' - <class 'pandas.core.frame.DataFrame'>\n"
      ]
     },
     "metadata": {},
     "output_type": "display_data"
    },
    {
     "data": {
      "text/html": [
       "<pre style=\"white-space:pre;overflow-x:auto;line-height:normal;font-family:Menlo,'DejaVu Sans Mono',consolas,'Courier New',monospace\">09:13:37.748 | <span style=\"color: #008080; text-decoration-color: #008080\">INFO</span>    | Task run 'first_etl-0' - &lt;class 'pandas.core.frame.DataFrame'&gt;\n",
       "</pre>\n"
      ],
      "text/plain": [
       "09:13:37.748 | \u001b[36mINFO\u001b[0m    | Task run 'first_etl-0' - <class 'pandas.core.frame.DataFrame'>\n"
      ]
     },
     "metadata": {},
     "output_type": "display_data"
    },
    {
     "data": {
      "text/html": [
       "<pre style=\"white-space:pre;overflow-x:auto;line-height:normal;font-family:Menlo,'DejaVu Sans Mono',consolas,'Courier New',monospace\">09:13:37.750 | <span style=\"color: #008080; text-decoration-color: #008080\">INFO</span>    | Task run 'first_etl-0' - &lt;class 'pandas.core.frame.DataFrame'&gt;\n",
       "</pre>\n"
      ],
      "text/plain": [
       "09:13:37.750 | \u001b[36mINFO\u001b[0m    | Task run 'first_etl-0' - <class 'pandas.core.frame.DataFrame'>\n"
      ]
     },
     "metadata": {},
     "output_type": "display_data"
    },
    {
     "data": {
      "text/html": [
       "<pre style=\"white-space:pre;overflow-x:auto;line-height:normal;font-family:Menlo,'DejaVu Sans Mono',consolas,'Courier New',monospace\">09:13:37.753 | <span style=\"color: #008080; text-decoration-color: #008080\">INFO</span>    | Task run 'first_etl-0' - &lt;class 'pandas.core.frame.DataFrame'&gt;\n",
       "</pre>\n"
      ],
      "text/plain": [
       "09:13:37.753 | \u001b[36mINFO\u001b[0m    | Task run 'first_etl-0' - <class 'pandas.core.frame.DataFrame'>\n"
      ]
     },
     "metadata": {},
     "output_type": "display_data"
    },
    {
     "data": {
      "text/html": [
       "<pre style=\"white-space:pre;overflow-x:auto;line-height:normal;font-family:Menlo,'DejaVu Sans Mono',consolas,'Courier New',monospace\">09:13:37.757 | <span style=\"color: #008080; text-decoration-color: #008080\">INFO</span>    | Task run 'first_etl-0' - &lt;class 'pandas.core.frame.DataFrame'&gt;\n",
       "</pre>\n"
      ],
      "text/plain": [
       "09:13:37.757 | \u001b[36mINFO\u001b[0m    | Task run 'first_etl-0' - <class 'pandas.core.frame.DataFrame'>\n"
      ]
     },
     "metadata": {},
     "output_type": "display_data"
    },
    {
     "data": {
      "text/html": [
       "<pre style=\"white-space:pre;overflow-x:auto;line-height:normal;font-family:Menlo,'DejaVu Sans Mono',consolas,'Courier New',monospace\">09:13:37.759 | <span style=\"color: #008080; text-decoration-color: #008080\">INFO</span>    | Task run 'first_etl-0' - &lt;class 'pandas.core.frame.DataFrame'&gt;\n",
       "</pre>\n"
      ],
      "text/plain": [
       "09:13:37.759 | \u001b[36mINFO\u001b[0m    | Task run 'first_etl-0' - <class 'pandas.core.frame.DataFrame'>\n"
      ]
     },
     "metadata": {},
     "output_type": "display_data"
    },
    {
     "data": {
      "text/html": [
       "<pre style=\"white-space:pre;overflow-x:auto;line-height:normal;font-family:Menlo,'DejaVu Sans Mono',consolas,'Courier New',monospace\">09:13:37.762 | <span style=\"color: #008080; text-decoration-color: #008080\">INFO</span>    | Task run 'first_etl-0' - &lt;class 'pandas.core.frame.DataFrame'&gt;\n",
       "</pre>\n"
      ],
      "text/plain": [
       "09:13:37.762 | \u001b[36mINFO\u001b[0m    | Task run 'first_etl-0' - <class 'pandas.core.frame.DataFrame'>\n"
      ]
     },
     "metadata": {},
     "output_type": "display_data"
    },
    {
     "data": {
      "text/html": [
       "<pre style=\"white-space:pre;overflow-x:auto;line-height:normal;font-family:Menlo,'DejaVu Sans Mono',consolas,'Courier New',monospace\">09:13:37.764 | <span style=\"color: #008080; text-decoration-color: #008080\">INFO</span>    | Task run 'first_etl-0' - &lt;class 'pandas.core.frame.DataFrame'&gt;\n",
       "</pre>\n"
      ],
      "text/plain": [
       "09:13:37.764 | \u001b[36mINFO\u001b[0m    | Task run 'first_etl-0' - <class 'pandas.core.frame.DataFrame'>\n"
      ]
     },
     "metadata": {},
     "output_type": "display_data"
    },
    {
     "data": {
      "text/html": [
       "<pre style=\"white-space:pre;overflow-x:auto;line-height:normal;font-family:Menlo,'DejaVu Sans Mono',consolas,'Courier New',monospace\">09:13:37.767 | <span style=\"color: #008080; text-decoration-color: #008080\">INFO</span>    | Task run 'first_etl-0' - &lt;class 'pandas.core.frame.DataFrame'&gt;\n",
       "</pre>\n"
      ],
      "text/plain": [
       "09:13:37.767 | \u001b[36mINFO\u001b[0m    | Task run 'first_etl-0' - <class 'pandas.core.frame.DataFrame'>\n"
      ]
     },
     "metadata": {},
     "output_type": "display_data"
    },
    {
     "data": {
      "text/html": [
       "<pre style=\"white-space:pre;overflow-x:auto;line-height:normal;font-family:Menlo,'DejaVu Sans Mono',consolas,'Courier New',monospace\">09:13:37.770 | <span style=\"color: #008080; text-decoration-color: #008080\">INFO</span>    | Task run 'first_etl-0' - &lt;class 'pandas.core.frame.DataFrame'&gt;\n",
       "</pre>\n"
      ],
      "text/plain": [
       "09:13:37.770 | \u001b[36mINFO\u001b[0m    | Task run 'first_etl-0' - <class 'pandas.core.frame.DataFrame'>\n"
      ]
     },
     "metadata": {},
     "output_type": "display_data"
    },
    {
     "data": {
      "text/html": [
       "<pre style=\"white-space:pre;overflow-x:auto;line-height:normal;font-family:Menlo,'DejaVu Sans Mono',consolas,'Courier New',monospace\">09:13:37.773 | <span style=\"color: #008080; text-decoration-color: #008080\">INFO</span>    | Task run 'first_etl-0' - &lt;class 'pandas.core.frame.DataFrame'&gt;\n",
       "</pre>\n"
      ],
      "text/plain": [
       "09:13:37.773 | \u001b[36mINFO\u001b[0m    | Task run 'first_etl-0' - <class 'pandas.core.frame.DataFrame'>\n"
      ]
     },
     "metadata": {},
     "output_type": "display_data"
    },
    {
     "data": {
      "text/html": [
       "<pre style=\"white-space:pre;overflow-x:auto;line-height:normal;font-family:Menlo,'DejaVu Sans Mono',consolas,'Courier New',monospace\">09:13:37.776 | <span style=\"color: #008080; text-decoration-color: #008080\">INFO</span>    | Task run 'first_etl-0' - &lt;class 'pandas.core.frame.DataFrame'&gt;\n",
       "</pre>\n"
      ],
      "text/plain": [
       "09:13:37.776 | \u001b[36mINFO\u001b[0m    | Task run 'first_etl-0' - <class 'pandas.core.frame.DataFrame'>\n"
      ]
     },
     "metadata": {},
     "output_type": "display_data"
    },
    {
     "data": {
      "text/html": [
       "<pre style=\"white-space:pre;overflow-x:auto;line-height:normal;font-family:Menlo,'DejaVu Sans Mono',consolas,'Courier New',monospace\">09:13:37.780 | <span style=\"color: #008080; text-decoration-color: #008080\">INFO</span>    | Task run 'first_etl-0' - &lt;class 'pandas.core.frame.DataFrame'&gt;\n",
       "</pre>\n"
      ],
      "text/plain": [
       "09:13:37.780 | \u001b[36mINFO\u001b[0m    | Task run 'first_etl-0' - <class 'pandas.core.frame.DataFrame'>\n"
      ]
     },
     "metadata": {},
     "output_type": "display_data"
    },
    {
     "data": {
      "text/html": [
       "<pre style=\"white-space:pre;overflow-x:auto;line-height:normal;font-family:Menlo,'DejaVu Sans Mono',consolas,'Courier New',monospace\">09:13:37.783 | <span style=\"color: #008080; text-decoration-color: #008080\">INFO</span>    | Task run 'first_etl-0' - &lt;class 'pandas.core.frame.DataFrame'&gt;\n",
       "</pre>\n"
      ],
      "text/plain": [
       "09:13:37.783 | \u001b[36mINFO\u001b[0m    | Task run 'first_etl-0' - <class 'pandas.core.frame.DataFrame'>\n"
      ]
     },
     "metadata": {},
     "output_type": "display_data"
    },
    {
     "data": {
      "text/html": [
       "<pre style=\"white-space:pre;overflow-x:auto;line-height:normal;font-family:Menlo,'DejaVu Sans Mono',consolas,'Courier New',monospace\">09:13:37.787 | <span style=\"color: #008080; text-decoration-color: #008080\">INFO</span>    | Task run 'first_etl-0' - &lt;class 'pandas.core.frame.DataFrame'&gt;\n",
       "</pre>\n"
      ],
      "text/plain": [
       "09:13:37.787 | \u001b[36mINFO\u001b[0m    | Task run 'first_etl-0' - <class 'pandas.core.frame.DataFrame'>\n"
      ]
     },
     "metadata": {},
     "output_type": "display_data"
    },
    {
     "data": {
      "text/html": [
       "<pre style=\"white-space:pre;overflow-x:auto;line-height:normal;font-family:Menlo,'DejaVu Sans Mono',consolas,'Courier New',monospace\">09:13:37.792 | <span style=\"color: #008080; text-decoration-color: #008080\">INFO</span>    | Task run 'first_etl-0' - &lt;class 'pandas.core.frame.DataFrame'&gt;\n",
       "</pre>\n"
      ],
      "text/plain": [
       "09:13:37.792 | \u001b[36mINFO\u001b[0m    | Task run 'first_etl-0' - <class 'pandas.core.frame.DataFrame'>\n"
      ]
     },
     "metadata": {},
     "output_type": "display_data"
    },
    {
     "data": {
      "text/html": [
       "<pre style=\"white-space:pre;overflow-x:auto;line-height:normal;font-family:Menlo,'DejaVu Sans Mono',consolas,'Courier New',monospace\">09:13:37.796 | <span style=\"color: #008080; text-decoration-color: #008080\">INFO</span>    | Task run 'first_etl-0' - &lt;class 'pandas.core.frame.DataFrame'&gt;\n",
       "</pre>\n"
      ],
      "text/plain": [
       "09:13:37.796 | \u001b[36mINFO\u001b[0m    | Task run 'first_etl-0' - <class 'pandas.core.frame.DataFrame'>\n"
      ]
     },
     "metadata": {},
     "output_type": "display_data"
    },
    {
     "data": {
      "text/html": [
       "<pre style=\"white-space:pre;overflow-x:auto;line-height:normal;font-family:Menlo,'DejaVu Sans Mono',consolas,'Courier New',monospace\">09:13:37.800 | <span style=\"color: #008080; text-decoration-color: #008080\">INFO</span>    | Task run 'first_etl-0' - &lt;class 'pandas.core.frame.DataFrame'&gt;\n",
       "</pre>\n"
      ],
      "text/plain": [
       "09:13:37.800 | \u001b[36mINFO\u001b[0m    | Task run 'first_etl-0' - <class 'pandas.core.frame.DataFrame'>\n"
      ]
     },
     "metadata": {},
     "output_type": "display_data"
    },
    {
     "data": {
      "text/html": [
       "<pre style=\"white-space:pre;overflow-x:auto;line-height:normal;font-family:Menlo,'DejaVu Sans Mono',consolas,'Courier New',monospace\">09:13:37.803 | <span style=\"color: #008080; text-decoration-color: #008080\">INFO</span>    | Task run 'first_etl-0' - &lt;class 'pandas.core.frame.DataFrame'&gt;\n",
       "</pre>\n"
      ],
      "text/plain": [
       "09:13:37.803 | \u001b[36mINFO\u001b[0m    | Task run 'first_etl-0' - <class 'pandas.core.frame.DataFrame'>\n"
      ]
     },
     "metadata": {},
     "output_type": "display_data"
    },
    {
     "data": {
      "text/html": [
       "<pre style=\"white-space:pre;overflow-x:auto;line-height:normal;font-family:Menlo,'DejaVu Sans Mono',consolas,'Courier New',monospace\">09:13:37.807 | <span style=\"color: #008080; text-decoration-color: #008080\">INFO</span>    | Task run 'first_etl-0' - &lt;class 'pandas.core.frame.DataFrame'&gt;\n",
       "</pre>\n"
      ],
      "text/plain": [
       "09:13:37.807 | \u001b[36mINFO\u001b[0m    | Task run 'first_etl-0' - <class 'pandas.core.frame.DataFrame'>\n"
      ]
     },
     "metadata": {},
     "output_type": "display_data"
    },
    {
     "data": {
      "text/html": [
       "<pre style=\"white-space:pre;overflow-x:auto;line-height:normal;font-family:Menlo,'DejaVu Sans Mono',consolas,'Courier New',monospace\">09:13:37.810 | <span style=\"color: #008080; text-decoration-color: #008080\">INFO</span>    | Task run 'first_etl-0' - &lt;class 'pandas.core.frame.DataFrame'&gt;\n",
       "</pre>\n"
      ],
      "text/plain": [
       "09:13:37.810 | \u001b[36mINFO\u001b[0m    | Task run 'first_etl-0' - <class 'pandas.core.frame.DataFrame'>\n"
      ]
     },
     "metadata": {},
     "output_type": "display_data"
    },
    {
     "data": {
      "text/html": [
       "<pre style=\"white-space:pre;overflow-x:auto;line-height:normal;font-family:Menlo,'DejaVu Sans Mono',consolas,'Courier New',monospace\">09:13:37.814 | <span style=\"color: #008080; text-decoration-color: #008080\">INFO</span>    | Task run 'first_etl-0' - &lt;class 'pandas.core.frame.DataFrame'&gt;\n",
       "</pre>\n"
      ],
      "text/plain": [
       "09:13:37.814 | \u001b[36mINFO\u001b[0m    | Task run 'first_etl-0' - <class 'pandas.core.frame.DataFrame'>\n"
      ]
     },
     "metadata": {},
     "output_type": "display_data"
    },
    {
     "data": {
      "text/html": [
       "<pre style=\"white-space:pre;overflow-x:auto;line-height:normal;font-family:Menlo,'DejaVu Sans Mono',consolas,'Courier New',monospace\">09:13:37.817 | <span style=\"color: #008080; text-decoration-color: #008080\">INFO</span>    | Task run 'first_etl-0' - &lt;class 'pandas.core.frame.DataFrame'&gt;\n",
       "</pre>\n"
      ],
      "text/plain": [
       "09:13:37.817 | \u001b[36mINFO\u001b[0m    | Task run 'first_etl-0' - <class 'pandas.core.frame.DataFrame'>\n"
      ]
     },
     "metadata": {},
     "output_type": "display_data"
    },
    {
     "data": {
      "text/html": [
       "<pre style=\"white-space:pre;overflow-x:auto;line-height:normal;font-family:Menlo,'DejaVu Sans Mono',consolas,'Courier New',monospace\">09:13:37.822 | <span style=\"color: #008080; text-decoration-color: #008080\">INFO</span>    | Task run 'first_etl-0' - &lt;class 'pandas.core.frame.DataFrame'&gt;\n",
       "</pre>\n"
      ],
      "text/plain": [
       "09:13:37.822 | \u001b[36mINFO\u001b[0m    | Task run 'first_etl-0' - <class 'pandas.core.frame.DataFrame'>\n"
      ]
     },
     "metadata": {},
     "output_type": "display_data"
    },
    {
     "data": {
      "text/html": [
       "<pre style=\"white-space:pre;overflow-x:auto;line-height:normal;font-family:Menlo,'DejaVu Sans Mono',consolas,'Courier New',monospace\">09:13:37.825 | <span style=\"color: #008080; text-decoration-color: #008080\">INFO</span>    | Task run 'first_etl-0' - &lt;class 'pandas.core.frame.DataFrame'&gt;\n",
       "</pre>\n"
      ],
      "text/plain": [
       "09:13:37.825 | \u001b[36mINFO\u001b[0m    | Task run 'first_etl-0' - <class 'pandas.core.frame.DataFrame'>\n"
      ]
     },
     "metadata": {},
     "output_type": "display_data"
    },
    {
     "data": {
      "text/html": [
       "<pre style=\"white-space:pre;overflow-x:auto;line-height:normal;font-family:Menlo,'DejaVu Sans Mono',consolas,'Courier New',monospace\">09:13:37.828 | <span style=\"color: #008080; text-decoration-color: #008080\">INFO</span>    | Task run 'first_etl-0' - &lt;class 'pandas.core.frame.DataFrame'&gt;\n",
       "</pre>\n"
      ],
      "text/plain": [
       "09:13:37.828 | \u001b[36mINFO\u001b[0m    | Task run 'first_etl-0' - <class 'pandas.core.frame.DataFrame'>\n"
      ]
     },
     "metadata": {},
     "output_type": "display_data"
    },
    {
     "data": {
      "text/html": [
       "<pre style=\"white-space:pre;overflow-x:auto;line-height:normal;font-family:Menlo,'DejaVu Sans Mono',consolas,'Courier New',monospace\">09:13:37.830 | <span style=\"color: #008080; text-decoration-color: #008080\">INFO</span>    | Task run 'first_etl-0' - &lt;class 'pandas.core.frame.DataFrame'&gt;\n",
       "</pre>\n"
      ],
      "text/plain": [
       "09:13:37.830 | \u001b[36mINFO\u001b[0m    | Task run 'first_etl-0' - <class 'pandas.core.frame.DataFrame'>\n"
      ]
     },
     "metadata": {},
     "output_type": "display_data"
    },
    {
     "data": {
      "text/html": [
       "<pre style=\"white-space:pre;overflow-x:auto;line-height:normal;font-family:Menlo,'DejaVu Sans Mono',consolas,'Courier New',monospace\">09:13:37.832 | <span style=\"color: #008080; text-decoration-color: #008080\">INFO</span>    | Task run 'first_etl-0' - &lt;class 'pandas.core.frame.DataFrame'&gt;\n",
       "</pre>\n"
      ],
      "text/plain": [
       "09:13:37.832 | \u001b[36mINFO\u001b[0m    | Task run 'first_etl-0' - <class 'pandas.core.frame.DataFrame'>\n"
      ]
     },
     "metadata": {},
     "output_type": "display_data"
    },
    {
     "data": {
      "text/html": [
       "<pre style=\"white-space:pre;overflow-x:auto;line-height:normal;font-family:Menlo,'DejaVu Sans Mono',consolas,'Courier New',monospace\">09:13:37.835 | <span style=\"color: #008080; text-decoration-color: #008080\">INFO</span>    | Task run 'first_etl-0' - &lt;class 'pandas.core.frame.DataFrame'&gt;\n",
       "</pre>\n"
      ],
      "text/plain": [
       "09:13:37.835 | \u001b[36mINFO\u001b[0m    | Task run 'first_etl-0' - <class 'pandas.core.frame.DataFrame'>\n"
      ]
     },
     "metadata": {},
     "output_type": "display_data"
    },
    {
     "data": {
      "text/html": [
       "<pre style=\"white-space:pre;overflow-x:auto;line-height:normal;font-family:Menlo,'DejaVu Sans Mono',consolas,'Courier New',monospace\">09:13:37.837 | <span style=\"color: #008080; text-decoration-color: #008080\">INFO</span>    | Task run 'first_etl-0' - &lt;class 'pandas.core.frame.DataFrame'&gt;\n",
       "</pre>\n"
      ],
      "text/plain": [
       "09:13:37.837 | \u001b[36mINFO\u001b[0m    | Task run 'first_etl-0' - <class 'pandas.core.frame.DataFrame'>\n"
      ]
     },
     "metadata": {},
     "output_type": "display_data"
    },
    {
     "data": {
      "text/html": [
       "<pre style=\"white-space:pre;overflow-x:auto;line-height:normal;font-family:Menlo,'DejaVu Sans Mono',consolas,'Courier New',monospace\">09:13:37.840 | <span style=\"color: #008080; text-decoration-color: #008080\">INFO</span>    | Task run 'first_etl-0' - &lt;class 'pandas.core.frame.DataFrame'&gt;\n",
       "</pre>\n"
      ],
      "text/plain": [
       "09:13:37.840 | \u001b[36mINFO\u001b[0m    | Task run 'first_etl-0' - <class 'pandas.core.frame.DataFrame'>\n"
      ]
     },
     "metadata": {},
     "output_type": "display_data"
    },
    {
     "data": {
      "text/html": [
       "<pre style=\"white-space:pre;overflow-x:auto;line-height:normal;font-family:Menlo,'DejaVu Sans Mono',consolas,'Courier New',monospace\">09:13:37.844 | <span style=\"color: #008080; text-decoration-color: #008080\">INFO</span>    | Task run 'first_etl-0' - &lt;class 'pandas.core.frame.DataFrame'&gt;\n",
       "</pre>\n"
      ],
      "text/plain": [
       "09:13:37.844 | \u001b[36mINFO\u001b[0m    | Task run 'first_etl-0' - <class 'pandas.core.frame.DataFrame'>\n"
      ]
     },
     "metadata": {},
     "output_type": "display_data"
    },
    {
     "data": {
      "text/html": [
       "<pre style=\"white-space:pre;overflow-x:auto;line-height:normal;font-family:Menlo,'DejaVu Sans Mono',consolas,'Courier New',monospace\">09:13:37.846 | <span style=\"color: #008080; text-decoration-color: #008080\">INFO</span>    | Task run 'first_etl-0' - &lt;class 'pandas.core.frame.DataFrame'&gt;\n",
       "</pre>\n"
      ],
      "text/plain": [
       "09:13:37.846 | \u001b[36mINFO\u001b[0m    | Task run 'first_etl-0' - <class 'pandas.core.frame.DataFrame'>\n"
      ]
     },
     "metadata": {},
     "output_type": "display_data"
    },
    {
     "data": {
      "text/html": [
       "<pre style=\"white-space:pre;overflow-x:auto;line-height:normal;font-family:Menlo,'DejaVu Sans Mono',consolas,'Courier New',monospace\">09:13:37.849 | <span style=\"color: #008080; text-decoration-color: #008080\">INFO</span>    | Task run 'first_etl-0' - &lt;class 'pandas.core.frame.DataFrame'&gt;\n",
       "</pre>\n"
      ],
      "text/plain": [
       "09:13:37.849 | \u001b[36mINFO\u001b[0m    | Task run 'first_etl-0' - <class 'pandas.core.frame.DataFrame'>\n"
      ]
     },
     "metadata": {},
     "output_type": "display_data"
    },
    {
     "data": {
      "text/html": [
       "<pre style=\"white-space:pre;overflow-x:auto;line-height:normal;font-family:Menlo,'DejaVu Sans Mono',consolas,'Courier New',monospace\">09:13:37.852 | <span style=\"color: #008080; text-decoration-color: #008080\">INFO</span>    | Task run 'first_etl-0' - &lt;class 'pandas.core.frame.DataFrame'&gt;\n",
       "</pre>\n"
      ],
      "text/plain": [
       "09:13:37.852 | \u001b[36mINFO\u001b[0m    | Task run 'first_etl-0' - <class 'pandas.core.frame.DataFrame'>\n"
      ]
     },
     "metadata": {},
     "output_type": "display_data"
    },
    {
     "data": {
      "text/html": [
       "<pre style=\"white-space:pre;overflow-x:auto;line-height:normal;font-family:Menlo,'DejaVu Sans Mono',consolas,'Courier New',monospace\">09:13:37.855 | <span style=\"color: #008080; text-decoration-color: #008080\">INFO</span>    | Task run 'first_etl-0' - &lt;class 'pandas.core.frame.DataFrame'&gt;\n",
       "</pre>\n"
      ],
      "text/plain": [
       "09:13:37.855 | \u001b[36mINFO\u001b[0m    | Task run 'first_etl-0' - <class 'pandas.core.frame.DataFrame'>\n"
      ]
     },
     "metadata": {},
     "output_type": "display_data"
    },
    {
     "data": {
      "text/html": [
       "<pre style=\"white-space:pre;overflow-x:auto;line-height:normal;font-family:Menlo,'DejaVu Sans Mono',consolas,'Courier New',monospace\">09:13:37.858 | <span style=\"color: #008080; text-decoration-color: #008080\">INFO</span>    | Task run 'first_etl-0' - &lt;class 'pandas.core.frame.DataFrame'&gt;\n",
       "</pre>\n"
      ],
      "text/plain": [
       "09:13:37.858 | \u001b[36mINFO\u001b[0m    | Task run 'first_etl-0' - <class 'pandas.core.frame.DataFrame'>\n"
      ]
     },
     "metadata": {},
     "output_type": "display_data"
    },
    {
     "data": {
      "text/html": [
       "<pre style=\"white-space:pre;overflow-x:auto;line-height:normal;font-family:Menlo,'DejaVu Sans Mono',consolas,'Courier New',monospace\">09:13:37.860 | <span style=\"color: #008080; text-decoration-color: #008080\">INFO</span>    | Task run 'first_etl-0' - &lt;class 'pandas.core.frame.DataFrame'&gt;\n",
       "</pre>\n"
      ],
      "text/plain": [
       "09:13:37.860 | \u001b[36mINFO\u001b[0m    | Task run 'first_etl-0' - <class 'pandas.core.frame.DataFrame'>\n"
      ]
     },
     "metadata": {},
     "output_type": "display_data"
    },
    {
     "data": {
      "text/html": [
       "<pre style=\"white-space:pre;overflow-x:auto;line-height:normal;font-family:Menlo,'DejaVu Sans Mono',consolas,'Courier New',monospace\">09:13:37.863 | <span style=\"color: #008080; text-decoration-color: #008080\">INFO</span>    | Task run 'first_etl-0' - &lt;class 'pandas.core.frame.DataFrame'&gt;\n",
       "</pre>\n"
      ],
      "text/plain": [
       "09:13:37.863 | \u001b[36mINFO\u001b[0m    | Task run 'first_etl-0' - <class 'pandas.core.frame.DataFrame'>\n"
      ]
     },
     "metadata": {},
     "output_type": "display_data"
    },
    {
     "data": {
      "text/html": [
       "<pre style=\"white-space:pre;overflow-x:auto;line-height:normal;font-family:Menlo,'DejaVu Sans Mono',consolas,'Courier New',monospace\">09:13:37.865 | <span style=\"color: #008080; text-decoration-color: #008080\">INFO</span>    | Task run 'first_etl-0' - &lt;class 'pandas.core.frame.DataFrame'&gt;\n",
       "</pre>\n"
      ],
      "text/plain": [
       "09:13:37.865 | \u001b[36mINFO\u001b[0m    | Task run 'first_etl-0' - <class 'pandas.core.frame.DataFrame'>\n"
      ]
     },
     "metadata": {},
     "output_type": "display_data"
    },
    {
     "data": {
      "text/html": [
       "<pre style=\"white-space:pre;overflow-x:auto;line-height:normal;font-family:Menlo,'DejaVu Sans Mono',consolas,'Courier New',monospace\">09:13:37.867 | <span style=\"color: #008080; text-decoration-color: #008080\">INFO</span>    | Task run 'first_etl-0' - &lt;class 'pandas.core.frame.DataFrame'&gt;\n",
       "</pre>\n"
      ],
      "text/plain": [
       "09:13:37.867 | \u001b[36mINFO\u001b[0m    | Task run 'first_etl-0' - <class 'pandas.core.frame.DataFrame'>\n"
      ]
     },
     "metadata": {},
     "output_type": "display_data"
    },
    {
     "data": {
      "text/html": [
       "<pre style=\"white-space:pre;overflow-x:auto;line-height:normal;font-family:Menlo,'DejaVu Sans Mono',consolas,'Courier New',monospace\">09:13:37.870 | <span style=\"color: #008080; text-decoration-color: #008080\">INFO</span>    | Task run 'first_etl-0' - &lt;class 'pandas.core.frame.DataFrame'&gt;\n",
       "</pre>\n"
      ],
      "text/plain": [
       "09:13:37.870 | \u001b[36mINFO\u001b[0m    | Task run 'first_etl-0' - <class 'pandas.core.frame.DataFrame'>\n"
      ]
     },
     "metadata": {},
     "output_type": "display_data"
    },
    {
     "data": {
      "text/html": [
       "<pre style=\"white-space:pre;overflow-x:auto;line-height:normal;font-family:Menlo,'DejaVu Sans Mono',consolas,'Courier New',monospace\">09:13:37.873 | <span style=\"color: #008080; text-decoration-color: #008080\">INFO</span>    | Task run 'first_etl-0' - &lt;class 'pandas.core.frame.DataFrame'&gt;\n",
       "</pre>\n"
      ],
      "text/plain": [
       "09:13:37.873 | \u001b[36mINFO\u001b[0m    | Task run 'first_etl-0' - <class 'pandas.core.frame.DataFrame'>\n"
      ]
     },
     "metadata": {},
     "output_type": "display_data"
    },
    {
     "data": {
      "text/html": [
       "<pre style=\"white-space:pre;overflow-x:auto;line-height:normal;font-family:Menlo,'DejaVu Sans Mono',consolas,'Courier New',monospace\">09:13:37.876 | <span style=\"color: #008080; text-decoration-color: #008080\">INFO</span>    | Task run 'first_etl-0' - &lt;class 'pandas.core.frame.DataFrame'&gt;\n",
       "</pre>\n"
      ],
      "text/plain": [
       "09:13:37.876 | \u001b[36mINFO\u001b[0m    | Task run 'first_etl-0' - <class 'pandas.core.frame.DataFrame'>\n"
      ]
     },
     "metadata": {},
     "output_type": "display_data"
    },
    {
     "data": {
      "text/html": [
       "<pre style=\"white-space:pre;overflow-x:auto;line-height:normal;font-family:Menlo,'DejaVu Sans Mono',consolas,'Courier New',monospace\">09:13:37.879 | <span style=\"color: #008080; text-decoration-color: #008080\">INFO</span>    | Task run 'first_etl-0' - &lt;class 'pandas.core.frame.DataFrame'&gt;\n",
       "</pre>\n"
      ],
      "text/plain": [
       "09:13:37.879 | \u001b[36mINFO\u001b[0m    | Task run 'first_etl-0' - <class 'pandas.core.frame.DataFrame'>\n"
      ]
     },
     "metadata": {},
     "output_type": "display_data"
    },
    {
     "data": {
      "text/html": [
       "<pre style=\"white-space:pre;overflow-x:auto;line-height:normal;font-family:Menlo,'DejaVu Sans Mono',consolas,'Courier New',monospace\">09:13:37.881 | <span style=\"color: #008080; text-decoration-color: #008080\">INFO</span>    | Task run 'first_etl-0' - &lt;class 'pandas.core.frame.DataFrame'&gt;\n",
       "</pre>\n"
      ],
      "text/plain": [
       "09:13:37.881 | \u001b[36mINFO\u001b[0m    | Task run 'first_etl-0' - <class 'pandas.core.frame.DataFrame'>\n"
      ]
     },
     "metadata": {},
     "output_type": "display_data"
    },
    {
     "data": {
      "text/html": [
       "<pre style=\"white-space:pre;overflow-x:auto;line-height:normal;font-family:Menlo,'DejaVu Sans Mono',consolas,'Courier New',monospace\">09:13:37.884 | <span style=\"color: #008080; text-decoration-color: #008080\">INFO</span>    | Task run 'first_etl-0' - &lt;class 'pandas.core.frame.DataFrame'&gt;\n",
       "</pre>\n"
      ],
      "text/plain": [
       "09:13:37.884 | \u001b[36mINFO\u001b[0m    | Task run 'first_etl-0' - <class 'pandas.core.frame.DataFrame'>\n"
      ]
     },
     "metadata": {},
     "output_type": "display_data"
    },
    {
     "data": {
      "text/html": [
       "<pre style=\"white-space:pre;overflow-x:auto;line-height:normal;font-family:Menlo,'DejaVu Sans Mono',consolas,'Courier New',monospace\">09:13:37.886 | <span style=\"color: #008080; text-decoration-color: #008080\">INFO</span>    | Task run 'first_etl-0' - &lt;class 'pandas.core.frame.DataFrame'&gt;\n",
       "</pre>\n"
      ],
      "text/plain": [
       "09:13:37.886 | \u001b[36mINFO\u001b[0m    | Task run 'first_etl-0' - <class 'pandas.core.frame.DataFrame'>\n"
      ]
     },
     "metadata": {},
     "output_type": "display_data"
    },
    {
     "data": {
      "text/html": [
       "<pre style=\"white-space:pre;overflow-x:auto;line-height:normal;font-family:Menlo,'DejaVu Sans Mono',consolas,'Courier New',monospace\">09:13:37.889 | <span style=\"color: #008080; text-decoration-color: #008080\">INFO</span>    | Task run 'first_etl-0' - &lt;class 'pandas.core.frame.DataFrame'&gt;\n",
       "</pre>\n"
      ],
      "text/plain": [
       "09:13:37.889 | \u001b[36mINFO\u001b[0m    | Task run 'first_etl-0' - <class 'pandas.core.frame.DataFrame'>\n"
      ]
     },
     "metadata": {},
     "output_type": "display_data"
    },
    {
     "data": {
      "text/html": [
       "<pre style=\"white-space:pre;overflow-x:auto;line-height:normal;font-family:Menlo,'DejaVu Sans Mono',consolas,'Courier New',monospace\">09:13:37.892 | <span style=\"color: #008080; text-decoration-color: #008080\">INFO</span>    | Task run 'first_etl-0' - &lt;class 'pandas.core.frame.DataFrame'&gt;\n",
       "</pre>\n"
      ],
      "text/plain": [
       "09:13:37.892 | \u001b[36mINFO\u001b[0m    | Task run 'first_etl-0' - <class 'pandas.core.frame.DataFrame'>\n"
      ]
     },
     "metadata": {},
     "output_type": "display_data"
    },
    {
     "data": {
      "text/html": [
       "<pre style=\"white-space:pre;overflow-x:auto;line-height:normal;font-family:Menlo,'DejaVu Sans Mono',consolas,'Courier New',monospace\">09:13:37.895 | <span style=\"color: #008080; text-decoration-color: #008080\">INFO</span>    | Task run 'first_etl-0' - &lt;class 'pandas.core.frame.DataFrame'&gt;\n",
       "</pre>\n"
      ],
      "text/plain": [
       "09:13:37.895 | \u001b[36mINFO\u001b[0m    | Task run 'first_etl-0' - <class 'pandas.core.frame.DataFrame'>\n"
      ]
     },
     "metadata": {},
     "output_type": "display_data"
    },
    {
     "data": {
      "text/html": [
       "<pre style=\"white-space:pre;overflow-x:auto;line-height:normal;font-family:Menlo,'DejaVu Sans Mono',consolas,'Courier New',monospace\">09:13:37.898 | <span style=\"color: #008080; text-decoration-color: #008080\">INFO</span>    | Task run 'first_etl-0' - &lt;class 'pandas.core.frame.DataFrame'&gt;\n",
       "</pre>\n"
      ],
      "text/plain": [
       "09:13:37.898 | \u001b[36mINFO\u001b[0m    | Task run 'first_etl-0' - <class 'pandas.core.frame.DataFrame'>\n"
      ]
     },
     "metadata": {},
     "output_type": "display_data"
    },
    {
     "data": {
      "text/html": [
       "<pre style=\"white-space:pre;overflow-x:auto;line-height:normal;font-family:Menlo,'DejaVu Sans Mono',consolas,'Courier New',monospace\">09:13:37.901 | <span style=\"color: #008080; text-decoration-color: #008080\">INFO</span>    | Task run 'first_etl-0' - &lt;class 'pandas.core.frame.DataFrame'&gt;\n",
       "</pre>\n"
      ],
      "text/plain": [
       "09:13:37.901 | \u001b[36mINFO\u001b[0m    | Task run 'first_etl-0' - <class 'pandas.core.frame.DataFrame'>\n"
      ]
     },
     "metadata": {},
     "output_type": "display_data"
    },
    {
     "data": {
      "text/html": [
       "<pre style=\"white-space:pre;overflow-x:auto;line-height:normal;font-family:Menlo,'DejaVu Sans Mono',consolas,'Courier New',monospace\">09:13:37.904 | <span style=\"color: #008080; text-decoration-color: #008080\">INFO</span>    | Task run 'first_etl-0' - &lt;class 'pandas.core.frame.DataFrame'&gt;\n",
       "</pre>\n"
      ],
      "text/plain": [
       "09:13:37.904 | \u001b[36mINFO\u001b[0m    | Task run 'first_etl-0' - <class 'pandas.core.frame.DataFrame'>\n"
      ]
     },
     "metadata": {},
     "output_type": "display_data"
    },
    {
     "data": {
      "text/html": [
       "<pre style=\"white-space:pre;overflow-x:auto;line-height:normal;font-family:Menlo,'DejaVu Sans Mono',consolas,'Courier New',monospace\">09:13:37.906 | <span style=\"color: #008080; text-decoration-color: #008080\">INFO</span>    | Task run 'first_etl-0' - &lt;class 'pandas.core.frame.DataFrame'&gt;\n",
       "</pre>\n"
      ],
      "text/plain": [
       "09:13:37.906 | \u001b[36mINFO\u001b[0m    | Task run 'first_etl-0' - <class 'pandas.core.frame.DataFrame'>\n"
      ]
     },
     "metadata": {},
     "output_type": "display_data"
    },
    {
     "data": {
      "text/html": [
       "<pre style=\"white-space:pre;overflow-x:auto;line-height:normal;font-family:Menlo,'DejaVu Sans Mono',consolas,'Courier New',monospace\">09:13:37.909 | <span style=\"color: #008080; text-decoration-color: #008080\">INFO</span>    | Task run 'first_etl-0' - &lt;class 'pandas.core.frame.DataFrame'&gt;\n",
       "</pre>\n"
      ],
      "text/plain": [
       "09:13:37.909 | \u001b[36mINFO\u001b[0m    | Task run 'first_etl-0' - <class 'pandas.core.frame.DataFrame'>\n"
      ]
     },
     "metadata": {},
     "output_type": "display_data"
    },
    {
     "data": {
      "text/html": [
       "<pre style=\"white-space:pre;overflow-x:auto;line-height:normal;font-family:Menlo,'DejaVu Sans Mono',consolas,'Courier New',monospace\">09:13:37.911 | <span style=\"color: #008080; text-decoration-color: #008080\">INFO</span>    | Task run 'first_etl-0' - &lt;class 'pandas.core.frame.DataFrame'&gt;\n",
       "</pre>\n"
      ],
      "text/plain": [
       "09:13:37.911 | \u001b[36mINFO\u001b[0m    | Task run 'first_etl-0' - <class 'pandas.core.frame.DataFrame'>\n"
      ]
     },
     "metadata": {},
     "output_type": "display_data"
    },
    {
     "data": {
      "text/html": [
       "<pre style=\"white-space:pre;overflow-x:auto;line-height:normal;font-family:Menlo,'DejaVu Sans Mono',consolas,'Courier New',monospace\">09:13:37.914 | <span style=\"color: #008080; text-decoration-color: #008080\">INFO</span>    | Task run 'first_etl-0' - &lt;class 'pandas.core.frame.DataFrame'&gt;\n",
       "</pre>\n"
      ],
      "text/plain": [
       "09:13:37.914 | \u001b[36mINFO\u001b[0m    | Task run 'first_etl-0' - <class 'pandas.core.frame.DataFrame'>\n"
      ]
     },
     "metadata": {},
     "output_type": "display_data"
    },
    {
     "data": {
      "text/html": [
       "<pre style=\"white-space:pre;overflow-x:auto;line-height:normal;font-family:Menlo,'DejaVu Sans Mono',consolas,'Courier New',monospace\">09:13:37.916 | <span style=\"color: #008080; text-decoration-color: #008080\">INFO</span>    | Task run 'first_etl-0' - &lt;class 'pandas.core.frame.DataFrame'&gt;\n",
       "</pre>\n"
      ],
      "text/plain": [
       "09:13:37.916 | \u001b[36mINFO\u001b[0m    | Task run 'first_etl-0' - <class 'pandas.core.frame.DataFrame'>\n"
      ]
     },
     "metadata": {},
     "output_type": "display_data"
    },
    {
     "data": {
      "text/html": [
       "<pre style=\"white-space:pre;overflow-x:auto;line-height:normal;font-family:Menlo,'DejaVu Sans Mono',consolas,'Courier New',monospace\">09:13:37.919 | <span style=\"color: #008080; text-decoration-color: #008080\">INFO</span>    | Task run 'first_etl-0' - &lt;class 'pandas.core.frame.DataFrame'&gt;\n",
       "</pre>\n"
      ],
      "text/plain": [
       "09:13:37.919 | \u001b[36mINFO\u001b[0m    | Task run 'first_etl-0' - <class 'pandas.core.frame.DataFrame'>\n"
      ]
     },
     "metadata": {},
     "output_type": "display_data"
    },
    {
     "data": {
      "text/html": [
       "<pre style=\"white-space:pre;overflow-x:auto;line-height:normal;font-family:Menlo,'DejaVu Sans Mono',consolas,'Courier New',monospace\">09:13:37.922 | <span style=\"color: #008080; text-decoration-color: #008080\">INFO</span>    | Task run 'first_etl-0' - &lt;class 'pandas.core.frame.DataFrame'&gt;\n",
       "</pre>\n"
      ],
      "text/plain": [
       "09:13:37.922 | \u001b[36mINFO\u001b[0m    | Task run 'first_etl-0' - <class 'pandas.core.frame.DataFrame'>\n"
      ]
     },
     "metadata": {},
     "output_type": "display_data"
    },
    {
     "data": {
      "text/html": [
       "<pre style=\"white-space:pre;overflow-x:auto;line-height:normal;font-family:Menlo,'DejaVu Sans Mono',consolas,'Courier New',monospace\">09:13:37.924 | <span style=\"color: #008080; text-decoration-color: #008080\">INFO</span>    | Task run 'first_etl-0' - &lt;class 'pandas.core.frame.DataFrame'&gt;\n",
       "</pre>\n"
      ],
      "text/plain": [
       "09:13:37.924 | \u001b[36mINFO\u001b[0m    | Task run 'first_etl-0' - <class 'pandas.core.frame.DataFrame'>\n"
      ]
     },
     "metadata": {},
     "output_type": "display_data"
    },
    {
     "data": {
      "text/html": [
       "<pre style=\"white-space:pre;overflow-x:auto;line-height:normal;font-family:Menlo,'DejaVu Sans Mono',consolas,'Courier New',monospace\">09:13:37.927 | <span style=\"color: #008080; text-decoration-color: #008080\">INFO</span>    | Task run 'first_etl-0' - &lt;class 'pandas.core.frame.DataFrame'&gt;\n",
       "</pre>\n"
      ],
      "text/plain": [
       "09:13:37.927 | \u001b[36mINFO\u001b[0m    | Task run 'first_etl-0' - <class 'pandas.core.frame.DataFrame'>\n"
      ]
     },
     "metadata": {},
     "output_type": "display_data"
    },
    {
     "data": {
      "text/html": [
       "<pre style=\"white-space:pre;overflow-x:auto;line-height:normal;font-family:Menlo,'DejaVu Sans Mono',consolas,'Courier New',monospace\">09:13:37.930 | <span style=\"color: #008080; text-decoration-color: #008080\">INFO</span>    | Task run 'first_etl-0' - &lt;class 'pandas.core.frame.DataFrame'&gt;\n",
       "</pre>\n"
      ],
      "text/plain": [
       "09:13:37.930 | \u001b[36mINFO\u001b[0m    | Task run 'first_etl-0' - <class 'pandas.core.frame.DataFrame'>\n"
      ]
     },
     "metadata": {},
     "output_type": "display_data"
    },
    {
     "data": {
      "text/html": [
       "<pre style=\"white-space:pre;overflow-x:auto;line-height:normal;font-family:Menlo,'DejaVu Sans Mono',consolas,'Courier New',monospace\">09:13:37.933 | <span style=\"color: #008080; text-decoration-color: #008080\">INFO</span>    | Task run 'first_etl-0' - &lt;class 'pandas.core.frame.DataFrame'&gt;\n",
       "</pre>\n"
      ],
      "text/plain": [
       "09:13:37.933 | \u001b[36mINFO\u001b[0m    | Task run 'first_etl-0' - <class 'pandas.core.frame.DataFrame'>\n"
      ]
     },
     "metadata": {},
     "output_type": "display_data"
    },
    {
     "data": {
      "text/html": [
       "<pre style=\"white-space:pre;overflow-x:auto;line-height:normal;font-family:Menlo,'DejaVu Sans Mono',consolas,'Courier New',monospace\">09:13:37.935 | <span style=\"color: #008080; text-decoration-color: #008080\">INFO</span>    | Task run 'first_etl-0' - &lt;class 'pandas.core.frame.DataFrame'&gt;\n",
       "</pre>\n"
      ],
      "text/plain": [
       "09:13:37.935 | \u001b[36mINFO\u001b[0m    | Task run 'first_etl-0' - <class 'pandas.core.frame.DataFrame'>\n"
      ]
     },
     "metadata": {},
     "output_type": "display_data"
    },
    {
     "data": {
      "text/html": [
       "<pre style=\"white-space:pre;overflow-x:auto;line-height:normal;font-family:Menlo,'DejaVu Sans Mono',consolas,'Courier New',monospace\">09:13:37.950 | <span style=\"color: #008080; text-decoration-color: #008080\">INFO</span>    | Task run 'first_etl-0' - &lt;class 'pandas.core.frame.DataFrame'&gt;\n",
       "</pre>\n"
      ],
      "text/plain": [
       "09:13:37.950 | \u001b[36mINFO\u001b[0m    | Task run 'first_etl-0' - <class 'pandas.core.frame.DataFrame'>\n"
      ]
     },
     "metadata": {},
     "output_type": "display_data"
    },
    {
     "data": {
      "text/html": [
       "<pre style=\"white-space:pre;overflow-x:auto;line-height:normal;font-family:Menlo,'DejaVu Sans Mono',consolas,'Courier New',monospace\">09:13:37.954 | <span style=\"color: #008080; text-decoration-color: #008080\">INFO</span>    | Task run 'first_etl-0' - &lt;class 'pandas.core.frame.DataFrame'&gt;\n",
       "</pre>\n"
      ],
      "text/plain": [
       "09:13:37.954 | \u001b[36mINFO\u001b[0m    | Task run 'first_etl-0' - <class 'pandas.core.frame.DataFrame'>\n"
      ]
     },
     "metadata": {},
     "output_type": "display_data"
    },
    {
     "data": {
      "text/html": [
       "<pre style=\"white-space:pre;overflow-x:auto;line-height:normal;font-family:Menlo,'DejaVu Sans Mono',consolas,'Courier New',monospace\">09:13:37.958 | <span style=\"color: #008080; text-decoration-color: #008080\">INFO</span>    | Task run 'first_etl-0' - &lt;class 'pandas.core.frame.DataFrame'&gt;\n",
       "</pre>\n"
      ],
      "text/plain": [
       "09:13:37.958 | \u001b[36mINFO\u001b[0m    | Task run 'first_etl-0' - <class 'pandas.core.frame.DataFrame'>\n"
      ]
     },
     "metadata": {},
     "output_type": "display_data"
    },
    {
     "data": {
      "text/html": [
       "<pre style=\"white-space:pre;overflow-x:auto;line-height:normal;font-family:Menlo,'DejaVu Sans Mono',consolas,'Courier New',monospace\">09:13:37.962 | <span style=\"color: #008080; text-decoration-color: #008080\">INFO</span>    | Task run 'first_etl-0' - &lt;class 'pandas.core.frame.DataFrame'&gt;\n",
       "</pre>\n"
      ],
      "text/plain": [
       "09:13:37.962 | \u001b[36mINFO\u001b[0m    | Task run 'first_etl-0' - <class 'pandas.core.frame.DataFrame'>\n"
      ]
     },
     "metadata": {},
     "output_type": "display_data"
    },
    {
     "data": {
      "text/html": [
       "<pre style=\"white-space:pre;overflow-x:auto;line-height:normal;font-family:Menlo,'DejaVu Sans Mono',consolas,'Courier New',monospace\">09:13:37.966 | <span style=\"color: #008080; text-decoration-color: #008080\">INFO</span>    | Task run 'first_etl-0' - &lt;class 'pandas.core.frame.DataFrame'&gt;\n",
       "</pre>\n"
      ],
      "text/plain": [
       "09:13:37.966 | \u001b[36mINFO\u001b[0m    | Task run 'first_etl-0' - <class 'pandas.core.frame.DataFrame'>\n"
      ]
     },
     "metadata": {},
     "output_type": "display_data"
    },
    {
     "data": {
      "text/html": [
       "<pre style=\"white-space:pre;overflow-x:auto;line-height:normal;font-family:Menlo,'DejaVu Sans Mono',consolas,'Courier New',monospace\">09:13:37.970 | <span style=\"color: #008080; text-decoration-color: #008080\">INFO</span>    | Task run 'first_etl-0' - &lt;class 'pandas.core.frame.DataFrame'&gt;\n",
       "</pre>\n"
      ],
      "text/plain": [
       "09:13:37.970 | \u001b[36mINFO\u001b[0m    | Task run 'first_etl-0' - <class 'pandas.core.frame.DataFrame'>\n"
      ]
     },
     "metadata": {},
     "output_type": "display_data"
    },
    {
     "data": {
      "text/html": [
       "<pre style=\"white-space:pre;overflow-x:auto;line-height:normal;font-family:Menlo,'DejaVu Sans Mono',consolas,'Courier New',monospace\">09:13:37.973 | <span style=\"color: #008080; text-decoration-color: #008080\">INFO</span>    | Task run 'first_etl-0' - &lt;class 'pandas.core.frame.DataFrame'&gt;\n",
       "</pre>\n"
      ],
      "text/plain": [
       "09:13:37.973 | \u001b[36mINFO\u001b[0m    | Task run 'first_etl-0' - <class 'pandas.core.frame.DataFrame'>\n"
      ]
     },
     "metadata": {},
     "output_type": "display_data"
    },
    {
     "data": {
      "text/html": [
       "<pre style=\"white-space:pre;overflow-x:auto;line-height:normal;font-family:Menlo,'DejaVu Sans Mono',consolas,'Courier New',monospace\">09:13:37.977 | <span style=\"color: #008080; text-decoration-color: #008080\">INFO</span>    | Task run 'first_etl-0' - &lt;class 'pandas.core.frame.DataFrame'&gt;\n",
       "</pre>\n"
      ],
      "text/plain": [
       "09:13:37.977 | \u001b[36mINFO\u001b[0m    | Task run 'first_etl-0' - <class 'pandas.core.frame.DataFrame'>\n"
      ]
     },
     "metadata": {},
     "output_type": "display_data"
    },
    {
     "data": {
      "text/html": [
       "<pre style=\"white-space:pre;overflow-x:auto;line-height:normal;font-family:Menlo,'DejaVu Sans Mono',consolas,'Courier New',monospace\">09:13:37.980 | <span style=\"color: #008080; text-decoration-color: #008080\">INFO</span>    | Task run 'first_etl-0' - &lt;class 'pandas.core.frame.DataFrame'&gt;\n",
       "</pre>\n"
      ],
      "text/plain": [
       "09:13:37.980 | \u001b[36mINFO\u001b[0m    | Task run 'first_etl-0' - <class 'pandas.core.frame.DataFrame'>\n"
      ]
     },
     "metadata": {},
     "output_type": "display_data"
    },
    {
     "data": {
      "text/html": [
       "<pre style=\"white-space:pre;overflow-x:auto;line-height:normal;font-family:Menlo,'DejaVu Sans Mono',consolas,'Courier New',monospace\">09:13:37.983 | <span style=\"color: #008080; text-decoration-color: #008080\">INFO</span>    | Task run 'first_etl-0' - &lt;class 'pandas.core.frame.DataFrame'&gt;\n",
       "</pre>\n"
      ],
      "text/plain": [
       "09:13:37.983 | \u001b[36mINFO\u001b[0m    | Task run 'first_etl-0' - <class 'pandas.core.frame.DataFrame'>\n"
      ]
     },
     "metadata": {},
     "output_type": "display_data"
    },
    {
     "data": {
      "text/html": [
       "<pre style=\"white-space:pre;overflow-x:auto;line-height:normal;font-family:Menlo,'DejaVu Sans Mono',consolas,'Courier New',monospace\">09:13:37.986 | <span style=\"color: #008080; text-decoration-color: #008080\">INFO</span>    | Task run 'first_etl-0' - &lt;class 'pandas.core.frame.DataFrame'&gt;\n",
       "</pre>\n"
      ],
      "text/plain": [
       "09:13:37.986 | \u001b[36mINFO\u001b[0m    | Task run 'first_etl-0' - <class 'pandas.core.frame.DataFrame'>\n"
      ]
     },
     "metadata": {},
     "output_type": "display_data"
    },
    {
     "data": {
      "text/html": [
       "<pre style=\"white-space:pre;overflow-x:auto;line-height:normal;font-family:Menlo,'DejaVu Sans Mono',consolas,'Courier New',monospace\">09:13:37.990 | <span style=\"color: #008080; text-decoration-color: #008080\">INFO</span>    | Task run 'first_etl-0' - &lt;class 'pandas.core.frame.DataFrame'&gt;\n",
       "</pre>\n"
      ],
      "text/plain": [
       "09:13:37.990 | \u001b[36mINFO\u001b[0m    | Task run 'first_etl-0' - <class 'pandas.core.frame.DataFrame'>\n"
      ]
     },
     "metadata": {},
     "output_type": "display_data"
    },
    {
     "data": {
      "text/html": [
       "<pre style=\"white-space:pre;overflow-x:auto;line-height:normal;font-family:Menlo,'DejaVu Sans Mono',consolas,'Courier New',monospace\">09:13:37.994 | <span style=\"color: #008080; text-decoration-color: #008080\">INFO</span>    | Task run 'first_etl-0' - &lt;class 'pandas.core.frame.DataFrame'&gt;\n",
       "</pre>\n"
      ],
      "text/plain": [
       "09:13:37.994 | \u001b[36mINFO\u001b[0m    | Task run 'first_etl-0' - <class 'pandas.core.frame.DataFrame'>\n"
      ]
     },
     "metadata": {},
     "output_type": "display_data"
    },
    {
     "data": {
      "text/html": [
       "<pre style=\"white-space:pre;overflow-x:auto;line-height:normal;font-family:Menlo,'DejaVu Sans Mono',consolas,'Courier New',monospace\">09:13:37.998 | <span style=\"color: #008080; text-decoration-color: #008080\">INFO</span>    | Task run 'first_etl-0' - &lt;class 'pandas.core.frame.DataFrame'&gt;\n",
       "</pre>\n"
      ],
      "text/plain": [
       "09:13:37.998 | \u001b[36mINFO\u001b[0m    | Task run 'first_etl-0' - <class 'pandas.core.frame.DataFrame'>\n"
      ]
     },
     "metadata": {},
     "output_type": "display_data"
    },
    {
     "data": {
      "text/html": [
       "<pre style=\"white-space:pre;overflow-x:auto;line-height:normal;font-family:Menlo,'DejaVu Sans Mono',consolas,'Courier New',monospace\">09:13:38.001 | <span style=\"color: #008080; text-decoration-color: #008080\">INFO</span>    | Task run 'first_etl-0' - &lt;class 'pandas.core.frame.DataFrame'&gt;\n",
       "</pre>\n"
      ],
      "text/plain": [
       "09:13:38.001 | \u001b[36mINFO\u001b[0m    | Task run 'first_etl-0' - <class 'pandas.core.frame.DataFrame'>\n"
      ]
     },
     "metadata": {},
     "output_type": "display_data"
    },
    {
     "data": {
      "text/html": [
       "<pre style=\"white-space:pre;overflow-x:auto;line-height:normal;font-family:Menlo,'DejaVu Sans Mono',consolas,'Courier New',monospace\">09:13:38.004 | <span style=\"color: #008080; text-decoration-color: #008080\">INFO</span>    | Task run 'first_etl-0' - &lt;class 'pandas.core.frame.DataFrame'&gt;\n",
       "</pre>\n"
      ],
      "text/plain": [
       "09:13:38.004 | \u001b[36mINFO\u001b[0m    | Task run 'first_etl-0' - <class 'pandas.core.frame.DataFrame'>\n"
      ]
     },
     "metadata": {},
     "output_type": "display_data"
    },
    {
     "data": {
      "text/html": [
       "<pre style=\"white-space:pre;overflow-x:auto;line-height:normal;font-family:Menlo,'DejaVu Sans Mono',consolas,'Courier New',monospace\">09:13:38.008 | <span style=\"color: #008080; text-decoration-color: #008080\">INFO</span>    | Task run 'first_etl-0' - &lt;class 'pandas.core.frame.DataFrame'&gt;\n",
       "</pre>\n"
      ],
      "text/plain": [
       "09:13:38.008 | \u001b[36mINFO\u001b[0m    | Task run 'first_etl-0' - <class 'pandas.core.frame.DataFrame'>\n"
      ]
     },
     "metadata": {},
     "output_type": "display_data"
    },
    {
     "data": {
      "text/html": [
       "<pre style=\"white-space:pre;overflow-x:auto;line-height:normal;font-family:Menlo,'DejaVu Sans Mono',consolas,'Courier New',monospace\">09:13:38.010 | <span style=\"color: #008080; text-decoration-color: #008080\">INFO</span>    | Task run 'first_etl-0' - &lt;class 'pandas.core.frame.DataFrame'&gt;\n",
       "</pre>\n"
      ],
      "text/plain": [
       "09:13:38.010 | \u001b[36mINFO\u001b[0m    | Task run 'first_etl-0' - <class 'pandas.core.frame.DataFrame'>\n"
      ]
     },
     "metadata": {},
     "output_type": "display_data"
    },
    {
     "data": {
      "text/html": [
       "<pre style=\"white-space:pre;overflow-x:auto;line-height:normal;font-family:Menlo,'DejaVu Sans Mono',consolas,'Courier New',monospace\">09:13:38.013 | <span style=\"color: #008080; text-decoration-color: #008080\">INFO</span>    | Task run 'first_etl-0' - &lt;class 'pandas.core.frame.DataFrame'&gt;\n",
       "</pre>\n"
      ],
      "text/plain": [
       "09:13:38.013 | \u001b[36mINFO\u001b[0m    | Task run 'first_etl-0' - <class 'pandas.core.frame.DataFrame'>\n"
      ]
     },
     "metadata": {},
     "output_type": "display_data"
    },
    {
     "data": {
      "text/html": [
       "<pre style=\"white-space:pre;overflow-x:auto;line-height:normal;font-family:Menlo,'DejaVu Sans Mono',consolas,'Courier New',monospace\">09:13:38.016 | <span style=\"color: #008080; text-decoration-color: #008080\">INFO</span>    | Task run 'first_etl-0' - &lt;class 'pandas.core.frame.DataFrame'&gt;\n",
       "</pre>\n"
      ],
      "text/plain": [
       "09:13:38.016 | \u001b[36mINFO\u001b[0m    | Task run 'first_etl-0' - <class 'pandas.core.frame.DataFrame'>\n"
      ]
     },
     "metadata": {},
     "output_type": "display_data"
    },
    {
     "data": {
      "text/html": [
       "<pre style=\"white-space:pre;overflow-x:auto;line-height:normal;font-family:Menlo,'DejaVu Sans Mono',consolas,'Courier New',monospace\">09:13:38.019 | <span style=\"color: #008080; text-decoration-color: #008080\">INFO</span>    | Task run 'first_etl-0' - &lt;class 'pandas.core.frame.DataFrame'&gt;\n",
       "</pre>\n"
      ],
      "text/plain": [
       "09:13:38.019 | \u001b[36mINFO\u001b[0m    | Task run 'first_etl-0' - <class 'pandas.core.frame.DataFrame'>\n"
      ]
     },
     "metadata": {},
     "output_type": "display_data"
    },
    {
     "data": {
      "text/html": [
       "<pre style=\"white-space:pre;overflow-x:auto;line-height:normal;font-family:Menlo,'DejaVu Sans Mono',consolas,'Courier New',monospace\">09:13:38.023 | <span style=\"color: #008080; text-decoration-color: #008080\">INFO</span>    | Task run 'first_etl-0' - &lt;class 'pandas.core.frame.DataFrame'&gt;\n",
       "</pre>\n"
      ],
      "text/plain": [
       "09:13:38.023 | \u001b[36mINFO\u001b[0m    | Task run 'first_etl-0' - <class 'pandas.core.frame.DataFrame'>\n"
      ]
     },
     "metadata": {},
     "output_type": "display_data"
    },
    {
     "data": {
      "text/html": [
       "<pre style=\"white-space:pre;overflow-x:auto;line-height:normal;font-family:Menlo,'DejaVu Sans Mono',consolas,'Courier New',monospace\">09:13:38.026 | <span style=\"color: #008080; text-decoration-color: #008080\">INFO</span>    | Task run 'first_etl-0' - &lt;class 'pandas.core.frame.DataFrame'&gt;\n",
       "</pre>\n"
      ],
      "text/plain": [
       "09:13:38.026 | \u001b[36mINFO\u001b[0m    | Task run 'first_etl-0' - <class 'pandas.core.frame.DataFrame'>\n"
      ]
     },
     "metadata": {},
     "output_type": "display_data"
    },
    {
     "data": {
      "text/html": [
       "<pre style=\"white-space:pre;overflow-x:auto;line-height:normal;font-family:Menlo,'DejaVu Sans Mono',consolas,'Courier New',monospace\">09:13:38.028 | <span style=\"color: #008080; text-decoration-color: #008080\">INFO</span>    | Task run 'first_etl-0' - &lt;class 'pandas.core.frame.DataFrame'&gt;\n",
       "</pre>\n"
      ],
      "text/plain": [
       "09:13:38.028 | \u001b[36mINFO\u001b[0m    | Task run 'first_etl-0' - <class 'pandas.core.frame.DataFrame'>\n"
      ]
     },
     "metadata": {},
     "output_type": "display_data"
    },
    {
     "data": {
      "text/html": [
       "<pre style=\"white-space:pre;overflow-x:auto;line-height:normal;font-family:Menlo,'DejaVu Sans Mono',consolas,'Courier New',monospace\">09:13:38.031 | <span style=\"color: #008080; text-decoration-color: #008080\">INFO</span>    | Task run 'first_etl-0' - &lt;class 'pandas.core.frame.DataFrame'&gt;\n",
       "</pre>\n"
      ],
      "text/plain": [
       "09:13:38.031 | \u001b[36mINFO\u001b[0m    | Task run 'first_etl-0' - <class 'pandas.core.frame.DataFrame'>\n"
      ]
     },
     "metadata": {},
     "output_type": "display_data"
    },
    {
     "data": {
      "text/html": [
       "<pre style=\"white-space:pre;overflow-x:auto;line-height:normal;font-family:Menlo,'DejaVu Sans Mono',consolas,'Courier New',monospace\">09:13:38.033 | <span style=\"color: #008080; text-decoration-color: #008080\">INFO</span>    | Task run 'first_etl-0' - &lt;class 'pandas.core.frame.DataFrame'&gt;\n",
       "</pre>\n"
      ],
      "text/plain": [
       "09:13:38.033 | \u001b[36mINFO\u001b[0m    | Task run 'first_etl-0' - <class 'pandas.core.frame.DataFrame'>\n"
      ]
     },
     "metadata": {},
     "output_type": "display_data"
    },
    {
     "data": {
      "text/html": [
       "<pre style=\"white-space:pre;overflow-x:auto;line-height:normal;font-family:Menlo,'DejaVu Sans Mono',consolas,'Courier New',monospace\">09:13:38.035 | <span style=\"color: #008080; text-decoration-color: #008080\">INFO</span>    | Task run 'first_etl-0' - &lt;class 'pandas.core.frame.DataFrame'&gt;\n",
       "</pre>\n"
      ],
      "text/plain": [
       "09:13:38.035 | \u001b[36mINFO\u001b[0m    | Task run 'first_etl-0' - <class 'pandas.core.frame.DataFrame'>\n"
      ]
     },
     "metadata": {},
     "output_type": "display_data"
    },
    {
     "data": {
      "text/html": [
       "<pre style=\"white-space:pre;overflow-x:auto;line-height:normal;font-family:Menlo,'DejaVu Sans Mono',consolas,'Courier New',monospace\">09:13:38.039 | <span style=\"color: #008080; text-decoration-color: #008080\">INFO</span>    | Task run 'first_etl-0' - &lt;class 'pandas.core.frame.DataFrame'&gt;\n",
       "</pre>\n"
      ],
      "text/plain": [
       "09:13:38.039 | \u001b[36mINFO\u001b[0m    | Task run 'first_etl-0' - <class 'pandas.core.frame.DataFrame'>\n"
      ]
     },
     "metadata": {},
     "output_type": "display_data"
    },
    {
     "data": {
      "text/html": [
       "<pre style=\"white-space:pre;overflow-x:auto;line-height:normal;font-family:Menlo,'DejaVu Sans Mono',consolas,'Courier New',monospace\">09:13:38.042 | <span style=\"color: #008080; text-decoration-color: #008080\">INFO</span>    | Task run 'first_etl-0' - &lt;class 'pandas.core.frame.DataFrame'&gt;\n",
       "</pre>\n"
      ],
      "text/plain": [
       "09:13:38.042 | \u001b[36mINFO\u001b[0m    | Task run 'first_etl-0' - <class 'pandas.core.frame.DataFrame'>\n"
      ]
     },
     "metadata": {},
     "output_type": "display_data"
    },
    {
     "data": {
      "text/html": [
       "<pre style=\"white-space:pre;overflow-x:auto;line-height:normal;font-family:Menlo,'DejaVu Sans Mono',consolas,'Courier New',monospace\">09:13:38.044 | <span style=\"color: #008080; text-decoration-color: #008080\">INFO</span>    | Task run 'first_etl-0' - &lt;class 'pandas.core.frame.DataFrame'&gt;\n",
       "</pre>\n"
      ],
      "text/plain": [
       "09:13:38.044 | \u001b[36mINFO\u001b[0m    | Task run 'first_etl-0' - <class 'pandas.core.frame.DataFrame'>\n"
      ]
     },
     "metadata": {},
     "output_type": "display_data"
    },
    {
     "data": {
      "text/html": [
       "<pre style=\"white-space:pre;overflow-x:auto;line-height:normal;font-family:Menlo,'DejaVu Sans Mono',consolas,'Courier New',monospace\">09:13:38.047 | <span style=\"color: #008080; text-decoration-color: #008080\">INFO</span>    | Task run 'first_etl-0' - &lt;class 'pandas.core.frame.DataFrame'&gt;\n",
       "</pre>\n"
      ],
      "text/plain": [
       "09:13:38.047 | \u001b[36mINFO\u001b[0m    | Task run 'first_etl-0' - <class 'pandas.core.frame.DataFrame'>\n"
      ]
     },
     "metadata": {},
     "output_type": "display_data"
    },
    {
     "data": {
      "text/html": [
       "<pre style=\"white-space:pre;overflow-x:auto;line-height:normal;font-family:Menlo,'DejaVu Sans Mono',consolas,'Courier New',monospace\">09:13:38.050 | <span style=\"color: #008080; text-decoration-color: #008080\">INFO</span>    | Task run 'first_etl-0' - &lt;class 'pandas.core.frame.DataFrame'&gt;\n",
       "</pre>\n"
      ],
      "text/plain": [
       "09:13:38.050 | \u001b[36mINFO\u001b[0m    | Task run 'first_etl-0' - <class 'pandas.core.frame.DataFrame'>\n"
      ]
     },
     "metadata": {},
     "output_type": "display_data"
    },
    {
     "data": {
      "text/html": [
       "<pre style=\"white-space:pre;overflow-x:auto;line-height:normal;font-family:Menlo,'DejaVu Sans Mono',consolas,'Courier New',monospace\">09:13:38.053 | <span style=\"color: #008080; text-decoration-color: #008080\">INFO</span>    | Task run 'first_etl-0' - &lt;class 'pandas.core.frame.DataFrame'&gt;\n",
       "</pre>\n"
      ],
      "text/plain": [
       "09:13:38.053 | \u001b[36mINFO\u001b[0m    | Task run 'first_etl-0' - <class 'pandas.core.frame.DataFrame'>\n"
      ]
     },
     "metadata": {},
     "output_type": "display_data"
    },
    {
     "data": {
      "text/html": [
       "<pre style=\"white-space:pre;overflow-x:auto;line-height:normal;font-family:Menlo,'DejaVu Sans Mono',consolas,'Courier New',monospace\">09:13:38.056 | <span style=\"color: #008080; text-decoration-color: #008080\">INFO</span>    | Task run 'first_etl-0' - &lt;class 'pandas.core.frame.DataFrame'&gt;\n",
       "</pre>\n"
      ],
      "text/plain": [
       "09:13:38.056 | \u001b[36mINFO\u001b[0m    | Task run 'first_etl-0' - <class 'pandas.core.frame.DataFrame'>\n"
      ]
     },
     "metadata": {},
     "output_type": "display_data"
    },
    {
     "data": {
      "text/html": [
       "<pre style=\"white-space:pre;overflow-x:auto;line-height:normal;font-family:Menlo,'DejaVu Sans Mono',consolas,'Courier New',monospace\">09:13:38.059 | <span style=\"color: #008080; text-decoration-color: #008080\">INFO</span>    | Task run 'first_etl-0' - &lt;class 'pandas.core.frame.DataFrame'&gt;\n",
       "</pre>\n"
      ],
      "text/plain": [
       "09:13:38.059 | \u001b[36mINFO\u001b[0m    | Task run 'first_etl-0' - <class 'pandas.core.frame.DataFrame'>\n"
      ]
     },
     "metadata": {},
     "output_type": "display_data"
    },
    {
     "data": {
      "text/html": [
       "<pre style=\"white-space:pre;overflow-x:auto;line-height:normal;font-family:Menlo,'DejaVu Sans Mono',consolas,'Courier New',monospace\">09:13:38.062 | <span style=\"color: #008080; text-decoration-color: #008080\">INFO</span>    | Task run 'first_etl-0' - &lt;class 'pandas.core.frame.DataFrame'&gt;\n",
       "</pre>\n"
      ],
      "text/plain": [
       "09:13:38.062 | \u001b[36mINFO\u001b[0m    | Task run 'first_etl-0' - <class 'pandas.core.frame.DataFrame'>\n"
      ]
     },
     "metadata": {},
     "output_type": "display_data"
    },
    {
     "data": {
      "text/html": [
       "<pre style=\"white-space:pre;overflow-x:auto;line-height:normal;font-family:Menlo,'DejaVu Sans Mono',consolas,'Courier New',monospace\">09:13:38.065 | <span style=\"color: #008080; text-decoration-color: #008080\">INFO</span>    | Task run 'first_etl-0' - &lt;class 'pandas.core.frame.DataFrame'&gt;\n",
       "</pre>\n"
      ],
      "text/plain": [
       "09:13:38.065 | \u001b[36mINFO\u001b[0m    | Task run 'first_etl-0' - <class 'pandas.core.frame.DataFrame'>\n"
      ]
     },
     "metadata": {},
     "output_type": "display_data"
    },
    {
     "data": {
      "text/html": [
       "<pre style=\"white-space:pre;overflow-x:auto;line-height:normal;font-family:Menlo,'DejaVu Sans Mono',consolas,'Courier New',monospace\">09:13:38.069 | <span style=\"color: #008080; text-decoration-color: #008080\">INFO</span>    | Task run 'first_etl-0' - &lt;class 'pandas.core.frame.DataFrame'&gt;\n",
       "</pre>\n"
      ],
      "text/plain": [
       "09:13:38.069 | \u001b[36mINFO\u001b[0m    | Task run 'first_etl-0' - <class 'pandas.core.frame.DataFrame'>\n"
      ]
     },
     "metadata": {},
     "output_type": "display_data"
    },
    {
     "data": {
      "text/html": [
       "<pre style=\"white-space:pre;overflow-x:auto;line-height:normal;font-family:Menlo,'DejaVu Sans Mono',consolas,'Courier New',monospace\">09:13:38.072 | <span style=\"color: #008080; text-decoration-color: #008080\">INFO</span>    | Task run 'first_etl-0' - &lt;class 'pandas.core.frame.DataFrame'&gt;\n",
       "</pre>\n"
      ],
      "text/plain": [
       "09:13:38.072 | \u001b[36mINFO\u001b[0m    | Task run 'first_etl-0' - <class 'pandas.core.frame.DataFrame'>\n"
      ]
     },
     "metadata": {},
     "output_type": "display_data"
    },
    {
     "data": {
      "text/html": [
       "<pre style=\"white-space:pre;overflow-x:auto;line-height:normal;font-family:Menlo,'DejaVu Sans Mono',consolas,'Courier New',monospace\">09:13:38.075 | <span style=\"color: #008080; text-decoration-color: #008080\">INFO</span>    | Task run 'first_etl-0' - &lt;class 'pandas.core.frame.DataFrame'&gt;\n",
       "</pre>\n"
      ],
      "text/plain": [
       "09:13:38.075 | \u001b[36mINFO\u001b[0m    | Task run 'first_etl-0' - <class 'pandas.core.frame.DataFrame'>\n"
      ]
     },
     "metadata": {},
     "output_type": "display_data"
    },
    {
     "data": {
      "text/html": [
       "<pre style=\"white-space:pre;overflow-x:auto;line-height:normal;font-family:Menlo,'DejaVu Sans Mono',consolas,'Courier New',monospace\">09:13:38.078 | <span style=\"color: #008080; text-decoration-color: #008080\">INFO</span>    | Task run 'first_etl-0' - &lt;class 'pandas.core.frame.DataFrame'&gt;\n",
       "</pre>\n"
      ],
      "text/plain": [
       "09:13:38.078 | \u001b[36mINFO\u001b[0m    | Task run 'first_etl-0' - <class 'pandas.core.frame.DataFrame'>\n"
      ]
     },
     "metadata": {},
     "output_type": "display_data"
    },
    {
     "data": {
      "text/html": [
       "<pre style=\"white-space:pre;overflow-x:auto;line-height:normal;font-family:Menlo,'DejaVu Sans Mono',consolas,'Courier New',monospace\">09:13:38.080 | <span style=\"color: #008080; text-decoration-color: #008080\">INFO</span>    | Task run 'first_etl-0' - &lt;class 'pandas.core.frame.DataFrame'&gt;\n",
       "</pre>\n"
      ],
      "text/plain": [
       "09:13:38.080 | \u001b[36mINFO\u001b[0m    | Task run 'first_etl-0' - <class 'pandas.core.frame.DataFrame'>\n"
      ]
     },
     "metadata": {},
     "output_type": "display_data"
    },
    {
     "data": {
      "text/html": [
       "<pre style=\"white-space:pre;overflow-x:auto;line-height:normal;font-family:Menlo,'DejaVu Sans Mono',consolas,'Courier New',monospace\">09:13:38.082 | <span style=\"color: #008080; text-decoration-color: #008080\">INFO</span>    | Task run 'first_etl-0' - &lt;class 'pandas.core.frame.DataFrame'&gt;\n",
       "</pre>\n"
      ],
      "text/plain": [
       "09:13:38.082 | \u001b[36mINFO\u001b[0m    | Task run 'first_etl-0' - <class 'pandas.core.frame.DataFrame'>\n"
      ]
     },
     "metadata": {},
     "output_type": "display_data"
    },
    {
     "data": {
      "text/html": [
       "<pre style=\"white-space:pre;overflow-x:auto;line-height:normal;font-family:Menlo,'DejaVu Sans Mono',consolas,'Courier New',monospace\">09:13:38.084 | <span style=\"color: #008080; text-decoration-color: #008080\">INFO</span>    | Task run 'first_etl-0' - &lt;class 'pandas.core.frame.DataFrame'&gt;\n",
       "</pre>\n"
      ],
      "text/plain": [
       "09:13:38.084 | \u001b[36mINFO\u001b[0m    | Task run 'first_etl-0' - <class 'pandas.core.frame.DataFrame'>\n"
      ]
     },
     "metadata": {},
     "output_type": "display_data"
    },
    {
     "data": {
      "text/html": [
       "<pre style=\"white-space:pre;overflow-x:auto;line-height:normal;font-family:Menlo,'DejaVu Sans Mono',consolas,'Courier New',monospace\">09:13:38.087 | <span style=\"color: #008080; text-decoration-color: #008080\">INFO</span>    | Task run 'first_etl-0' - &lt;class 'pandas.core.frame.DataFrame'&gt;\n",
       "</pre>\n"
      ],
      "text/plain": [
       "09:13:38.087 | \u001b[36mINFO\u001b[0m    | Task run 'first_etl-0' - <class 'pandas.core.frame.DataFrame'>\n"
      ]
     },
     "metadata": {},
     "output_type": "display_data"
    },
    {
     "data": {
      "text/html": [
       "<pre style=\"white-space:pre;overflow-x:auto;line-height:normal;font-family:Menlo,'DejaVu Sans Mono',consolas,'Courier New',monospace\">09:13:38.090 | <span style=\"color: #008080; text-decoration-color: #008080\">INFO</span>    | Task run 'first_etl-0' - &lt;class 'pandas.core.frame.DataFrame'&gt;\n",
       "</pre>\n"
      ],
      "text/plain": [
       "09:13:38.090 | \u001b[36mINFO\u001b[0m    | Task run 'first_etl-0' - <class 'pandas.core.frame.DataFrame'>\n"
      ]
     },
     "metadata": {},
     "output_type": "display_data"
    },
    {
     "data": {
      "text/html": [
       "<pre style=\"white-space:pre;overflow-x:auto;line-height:normal;font-family:Menlo,'DejaVu Sans Mono',consolas,'Courier New',monospace\">09:13:38.094 | <span style=\"color: #008080; text-decoration-color: #008080\">INFO</span>    | Task run 'first_etl-0' - &lt;class 'pandas.core.frame.DataFrame'&gt;\n",
       "</pre>\n"
      ],
      "text/plain": [
       "09:13:38.094 | \u001b[36mINFO\u001b[0m    | Task run 'first_etl-0' - <class 'pandas.core.frame.DataFrame'>\n"
      ]
     },
     "metadata": {},
     "output_type": "display_data"
    },
    {
     "data": {
      "text/html": [
       "<pre style=\"white-space:pre;overflow-x:auto;line-height:normal;font-family:Menlo,'DejaVu Sans Mono',consolas,'Courier New',monospace\">09:13:38.097 | <span style=\"color: #008080; text-decoration-color: #008080\">INFO</span>    | Task run 'first_etl-0' - &lt;class 'pandas.core.frame.DataFrame'&gt;\n",
       "</pre>\n"
      ],
      "text/plain": [
       "09:13:38.097 | \u001b[36mINFO\u001b[0m    | Task run 'first_etl-0' - <class 'pandas.core.frame.DataFrame'>\n"
      ]
     },
     "metadata": {},
     "output_type": "display_data"
    },
    {
     "data": {
      "text/html": [
       "<pre style=\"white-space:pre;overflow-x:auto;line-height:normal;font-family:Menlo,'DejaVu Sans Mono',consolas,'Courier New',monospace\">09:13:38.101 | <span style=\"color: #008080; text-decoration-color: #008080\">INFO</span>    | Task run 'first_etl-0' - &lt;class 'pandas.core.frame.DataFrame'&gt;\n",
       "</pre>\n"
      ],
      "text/plain": [
       "09:13:38.101 | \u001b[36mINFO\u001b[0m    | Task run 'first_etl-0' - <class 'pandas.core.frame.DataFrame'>\n"
      ]
     },
     "metadata": {},
     "output_type": "display_data"
    },
    {
     "data": {
      "text/html": [
       "<pre style=\"white-space:pre;overflow-x:auto;line-height:normal;font-family:Menlo,'DejaVu Sans Mono',consolas,'Courier New',monospace\">09:13:38.105 | <span style=\"color: #008080; text-decoration-color: #008080\">INFO</span>    | Task run 'first_etl-0' - &lt;class 'pandas.core.frame.DataFrame'&gt;\n",
       "</pre>\n"
      ],
      "text/plain": [
       "09:13:38.105 | \u001b[36mINFO\u001b[0m    | Task run 'first_etl-0' - <class 'pandas.core.frame.DataFrame'>\n"
      ]
     },
     "metadata": {},
     "output_type": "display_data"
    },
    {
     "data": {
      "text/html": [
       "<pre style=\"white-space:pre;overflow-x:auto;line-height:normal;font-family:Menlo,'DejaVu Sans Mono',consolas,'Courier New',monospace\">09:13:38.109 | <span style=\"color: #008080; text-decoration-color: #008080\">INFO</span>    | Task run 'first_etl-0' - &lt;class 'pandas.core.frame.DataFrame'&gt;\n",
       "</pre>\n"
      ],
      "text/plain": [
       "09:13:38.109 | \u001b[36mINFO\u001b[0m    | Task run 'first_etl-0' - <class 'pandas.core.frame.DataFrame'>\n"
      ]
     },
     "metadata": {},
     "output_type": "display_data"
    },
    {
     "data": {
      "text/html": [
       "<pre style=\"white-space:pre;overflow-x:auto;line-height:normal;font-family:Menlo,'DejaVu Sans Mono',consolas,'Courier New',monospace\">09:13:38.112 | <span style=\"color: #008080; text-decoration-color: #008080\">INFO</span>    | Task run 'first_etl-0' - &lt;class 'pandas.core.frame.DataFrame'&gt;\n",
       "</pre>\n"
      ],
      "text/plain": [
       "09:13:38.112 | \u001b[36mINFO\u001b[0m    | Task run 'first_etl-0' - <class 'pandas.core.frame.DataFrame'>\n"
      ]
     },
     "metadata": {},
     "output_type": "display_data"
    },
    {
     "data": {
      "text/html": [
       "<pre style=\"white-space:pre;overflow-x:auto;line-height:normal;font-family:Menlo,'DejaVu Sans Mono',consolas,'Courier New',monospace\">09:13:38.116 | <span style=\"color: #008080; text-decoration-color: #008080\">INFO</span>    | Task run 'first_etl-0' - &lt;class 'pandas.core.frame.DataFrame'&gt;\n",
       "</pre>\n"
      ],
      "text/plain": [
       "09:13:38.116 | \u001b[36mINFO\u001b[0m    | Task run 'first_etl-0' - <class 'pandas.core.frame.DataFrame'>\n"
      ]
     },
     "metadata": {},
     "output_type": "display_data"
    },
    {
     "data": {
      "text/html": [
       "<pre style=\"white-space:pre;overflow-x:auto;line-height:normal;font-family:Menlo,'DejaVu Sans Mono',consolas,'Courier New',monospace\">09:13:38.119 | <span style=\"color: #008080; text-decoration-color: #008080\">INFO</span>    | Task run 'first_etl-0' - &lt;class 'pandas.core.frame.DataFrame'&gt;\n",
       "</pre>\n"
      ],
      "text/plain": [
       "09:13:38.119 | \u001b[36mINFO\u001b[0m    | Task run 'first_etl-0' - <class 'pandas.core.frame.DataFrame'>\n"
      ]
     },
     "metadata": {},
     "output_type": "display_data"
    },
    {
     "data": {
      "text/html": [
       "<pre style=\"white-space:pre;overflow-x:auto;line-height:normal;font-family:Menlo,'DejaVu Sans Mono',consolas,'Courier New',monospace\">09:13:38.121 | <span style=\"color: #008080; text-decoration-color: #008080\">INFO</span>    | Task run 'first_etl-0' - &lt;class 'pandas.core.frame.DataFrame'&gt;\n",
       "</pre>\n"
      ],
      "text/plain": [
       "09:13:38.121 | \u001b[36mINFO\u001b[0m    | Task run 'first_etl-0' - <class 'pandas.core.frame.DataFrame'>\n"
      ]
     },
     "metadata": {},
     "output_type": "display_data"
    },
    {
     "data": {
      "text/html": [
       "<pre style=\"white-space:pre;overflow-x:auto;line-height:normal;font-family:Menlo,'DejaVu Sans Mono',consolas,'Courier New',monospace\">09:13:38.124 | <span style=\"color: #008080; text-decoration-color: #008080\">INFO</span>    | Task run 'first_etl-0' - &lt;class 'pandas.core.frame.DataFrame'&gt;\n",
       "</pre>\n"
      ],
      "text/plain": [
       "09:13:38.124 | \u001b[36mINFO\u001b[0m    | Task run 'first_etl-0' - <class 'pandas.core.frame.DataFrame'>\n"
      ]
     },
     "metadata": {},
     "output_type": "display_data"
    },
    {
     "data": {
      "text/html": [
       "<pre style=\"white-space:pre;overflow-x:auto;line-height:normal;font-family:Menlo,'DejaVu Sans Mono',consolas,'Courier New',monospace\">09:13:38.127 | <span style=\"color: #008080; text-decoration-color: #008080\">INFO</span>    | Task run 'first_etl-0' - &lt;class 'pandas.core.frame.DataFrame'&gt;\n",
       "</pre>\n"
      ],
      "text/plain": [
       "09:13:38.127 | \u001b[36mINFO\u001b[0m    | Task run 'first_etl-0' - <class 'pandas.core.frame.DataFrame'>\n"
      ]
     },
     "metadata": {},
     "output_type": "display_data"
    },
    {
     "data": {
      "text/html": [
       "<pre style=\"white-space:pre;overflow-x:auto;line-height:normal;font-family:Menlo,'DejaVu Sans Mono',consolas,'Courier New',monospace\">09:13:38.129 | <span style=\"color: #008080; text-decoration-color: #008080\">INFO</span>    | Task run 'first_etl-0' - &lt;class 'pandas.core.frame.DataFrame'&gt;\n",
       "</pre>\n"
      ],
      "text/plain": [
       "09:13:38.129 | \u001b[36mINFO\u001b[0m    | Task run 'first_etl-0' - <class 'pandas.core.frame.DataFrame'>\n"
      ]
     },
     "metadata": {},
     "output_type": "display_data"
    },
    {
     "data": {
      "text/html": [
       "<pre style=\"white-space:pre;overflow-x:auto;line-height:normal;font-family:Menlo,'DejaVu Sans Mono',consolas,'Courier New',monospace\">09:13:38.131 | <span style=\"color: #008080; text-decoration-color: #008080\">INFO</span>    | Task run 'first_etl-0' - &lt;class 'pandas.core.frame.DataFrame'&gt;\n",
       "</pre>\n"
      ],
      "text/plain": [
       "09:13:38.131 | \u001b[36mINFO\u001b[0m    | Task run 'first_etl-0' - <class 'pandas.core.frame.DataFrame'>\n"
      ]
     },
     "metadata": {},
     "output_type": "display_data"
    },
    {
     "data": {
      "text/html": [
       "<pre style=\"white-space:pre;overflow-x:auto;line-height:normal;font-family:Menlo,'DejaVu Sans Mono',consolas,'Courier New',monospace\">09:13:38.133 | <span style=\"color: #008080; text-decoration-color: #008080\">INFO</span>    | Task run 'first_etl-0' - &lt;class 'pandas.core.frame.DataFrame'&gt;\n",
       "</pre>\n"
      ],
      "text/plain": [
       "09:13:38.133 | \u001b[36mINFO\u001b[0m    | Task run 'first_etl-0' - <class 'pandas.core.frame.DataFrame'>\n"
      ]
     },
     "metadata": {},
     "output_type": "display_data"
    },
    {
     "data": {
      "text/html": [
       "<pre style=\"white-space:pre;overflow-x:auto;line-height:normal;font-family:Menlo,'DejaVu Sans Mono',consolas,'Courier New',monospace\">09:13:38.135 | <span style=\"color: #008080; text-decoration-color: #008080\">INFO</span>    | Task run 'first_etl-0' - &lt;class 'pandas.core.frame.DataFrame'&gt;\n",
       "</pre>\n"
      ],
      "text/plain": [
       "09:13:38.135 | \u001b[36mINFO\u001b[0m    | Task run 'first_etl-0' - <class 'pandas.core.frame.DataFrame'>\n"
      ]
     },
     "metadata": {},
     "output_type": "display_data"
    },
    {
     "data": {
      "text/html": [
       "<pre style=\"white-space:pre;overflow-x:auto;line-height:normal;font-family:Menlo,'DejaVu Sans Mono',consolas,'Courier New',monospace\">09:13:38.138 | <span style=\"color: #008080; text-decoration-color: #008080\">INFO</span>    | Task run 'first_etl-0' - &lt;class 'pandas.core.frame.DataFrame'&gt;\n",
       "</pre>\n"
      ],
      "text/plain": [
       "09:13:38.138 | \u001b[36mINFO\u001b[0m    | Task run 'first_etl-0' - <class 'pandas.core.frame.DataFrame'>\n"
      ]
     },
     "metadata": {},
     "output_type": "display_data"
    },
    {
     "data": {
      "text/html": [
       "<pre style=\"white-space:pre;overflow-x:auto;line-height:normal;font-family:Menlo,'DejaVu Sans Mono',consolas,'Courier New',monospace\">09:13:38.142 | <span style=\"color: #008080; text-decoration-color: #008080\">INFO</span>    | Task run 'first_etl-0' - &lt;class 'pandas.core.frame.DataFrame'&gt;\n",
       "</pre>\n"
      ],
      "text/plain": [
       "09:13:38.142 | \u001b[36mINFO\u001b[0m    | Task run 'first_etl-0' - <class 'pandas.core.frame.DataFrame'>\n"
      ]
     },
     "metadata": {},
     "output_type": "display_data"
    },
    {
     "data": {
      "text/html": [
       "<pre style=\"white-space:pre;overflow-x:auto;line-height:normal;font-family:Menlo,'DejaVu Sans Mono',consolas,'Courier New',monospace\">09:13:38.144 | <span style=\"color: #008080; text-decoration-color: #008080\">INFO</span>    | Task run 'first_etl-0' - &lt;class 'pandas.core.frame.DataFrame'&gt;\n",
       "</pre>\n"
      ],
      "text/plain": [
       "09:13:38.144 | \u001b[36mINFO\u001b[0m    | Task run 'first_etl-0' - <class 'pandas.core.frame.DataFrame'>\n"
      ]
     },
     "metadata": {},
     "output_type": "display_data"
    },
    {
     "data": {
      "text/html": [
       "<pre style=\"white-space:pre;overflow-x:auto;line-height:normal;font-family:Menlo,'DejaVu Sans Mono',consolas,'Courier New',monospace\">09:13:38.147 | <span style=\"color: #008080; text-decoration-color: #008080\">INFO</span>    | Task run 'first_etl-0' - &lt;class 'pandas.core.frame.DataFrame'&gt;\n",
       "</pre>\n"
      ],
      "text/plain": [
       "09:13:38.147 | \u001b[36mINFO\u001b[0m    | Task run 'first_etl-0' - <class 'pandas.core.frame.DataFrame'>\n"
      ]
     },
     "metadata": {},
     "output_type": "display_data"
    },
    {
     "data": {
      "text/html": [
       "<pre style=\"white-space:pre;overflow-x:auto;line-height:normal;font-family:Menlo,'DejaVu Sans Mono',consolas,'Courier New',monospace\">09:13:38.149 | <span style=\"color: #008080; text-decoration-color: #008080\">INFO</span>    | Task run 'first_etl-0' - &lt;class 'pandas.core.frame.DataFrame'&gt;\n",
       "</pre>\n"
      ],
      "text/plain": [
       "09:13:38.149 | \u001b[36mINFO\u001b[0m    | Task run 'first_etl-0' - <class 'pandas.core.frame.DataFrame'>\n"
      ]
     },
     "metadata": {},
     "output_type": "display_data"
    },
    {
     "data": {
      "text/html": [
       "<pre style=\"white-space:pre;overflow-x:auto;line-height:normal;font-family:Menlo,'DejaVu Sans Mono',consolas,'Courier New',monospace\">09:13:38.152 | <span style=\"color: #008080; text-decoration-color: #008080\">INFO</span>    | Task run 'first_etl-0' - &lt;class 'pandas.core.frame.DataFrame'&gt;\n",
       "</pre>\n"
      ],
      "text/plain": [
       "09:13:38.152 | \u001b[36mINFO\u001b[0m    | Task run 'first_etl-0' - <class 'pandas.core.frame.DataFrame'>\n"
      ]
     },
     "metadata": {},
     "output_type": "display_data"
    },
    {
     "data": {
      "text/html": [
       "<pre style=\"white-space:pre;overflow-x:auto;line-height:normal;font-family:Menlo,'DejaVu Sans Mono',consolas,'Courier New',monospace\">09:13:38.156 | <span style=\"color: #008080; text-decoration-color: #008080\">INFO</span>    | Task run 'first_etl-0' - &lt;class 'pandas.core.frame.DataFrame'&gt;\n",
       "</pre>\n"
      ],
      "text/plain": [
       "09:13:38.156 | \u001b[36mINFO\u001b[0m    | Task run 'first_etl-0' - <class 'pandas.core.frame.DataFrame'>\n"
      ]
     },
     "metadata": {},
     "output_type": "display_data"
    },
    {
     "data": {
      "text/html": [
       "<pre style=\"white-space:pre;overflow-x:auto;line-height:normal;font-family:Menlo,'DejaVu Sans Mono',consolas,'Courier New',monospace\">09:13:38.159 | <span style=\"color: #008080; text-decoration-color: #008080\">INFO</span>    | Task run 'first_etl-0' - &lt;class 'pandas.core.frame.DataFrame'&gt;\n",
       "</pre>\n"
      ],
      "text/plain": [
       "09:13:38.159 | \u001b[36mINFO\u001b[0m    | Task run 'first_etl-0' - <class 'pandas.core.frame.DataFrame'>\n"
      ]
     },
     "metadata": {},
     "output_type": "display_data"
    },
    {
     "data": {
      "text/html": [
       "<pre style=\"white-space:pre;overflow-x:auto;line-height:normal;font-family:Menlo,'DejaVu Sans Mono',consolas,'Courier New',monospace\">09:13:38.161 | <span style=\"color: #008080; text-decoration-color: #008080\">INFO</span>    | Task run 'first_etl-0' - &lt;class 'pandas.core.frame.DataFrame'&gt;\n",
       "</pre>\n"
      ],
      "text/plain": [
       "09:13:38.161 | \u001b[36mINFO\u001b[0m    | Task run 'first_etl-0' - <class 'pandas.core.frame.DataFrame'>\n"
      ]
     },
     "metadata": {},
     "output_type": "display_data"
    },
    {
     "data": {
      "text/html": [
       "<pre style=\"white-space:pre;overflow-x:auto;line-height:normal;font-family:Menlo,'DejaVu Sans Mono',consolas,'Courier New',monospace\">09:13:38.164 | <span style=\"color: #008080; text-decoration-color: #008080\">INFO</span>    | Task run 'first_etl-0' - &lt;class 'pandas.core.frame.DataFrame'&gt;\n",
       "</pre>\n"
      ],
      "text/plain": [
       "09:13:38.164 | \u001b[36mINFO\u001b[0m    | Task run 'first_etl-0' - <class 'pandas.core.frame.DataFrame'>\n"
      ]
     },
     "metadata": {},
     "output_type": "display_data"
    },
    {
     "data": {
      "text/html": [
       "<pre style=\"white-space:pre;overflow-x:auto;line-height:normal;font-family:Menlo,'DejaVu Sans Mono',consolas,'Courier New',monospace\">09:13:38.167 | <span style=\"color: #008080; text-decoration-color: #008080\">INFO</span>    | Task run 'first_etl-0' - &lt;class 'pandas.core.frame.DataFrame'&gt;\n",
       "</pre>\n"
      ],
      "text/plain": [
       "09:13:38.167 | \u001b[36mINFO\u001b[0m    | Task run 'first_etl-0' - <class 'pandas.core.frame.DataFrame'>\n"
      ]
     },
     "metadata": {},
     "output_type": "display_data"
    },
    {
     "data": {
      "text/html": [
       "<pre style=\"white-space:pre;overflow-x:auto;line-height:normal;font-family:Menlo,'DejaVu Sans Mono',consolas,'Courier New',monospace\">09:13:38.170 | <span style=\"color: #008080; text-decoration-color: #008080\">INFO</span>    | Task run 'first_etl-0' - &lt;class 'pandas.core.frame.DataFrame'&gt;\n",
       "</pre>\n"
      ],
      "text/plain": [
       "09:13:38.170 | \u001b[36mINFO\u001b[0m    | Task run 'first_etl-0' - <class 'pandas.core.frame.DataFrame'>\n"
      ]
     },
     "metadata": {},
     "output_type": "display_data"
    },
    {
     "data": {
      "text/html": [
       "<pre style=\"white-space:pre;overflow-x:auto;line-height:normal;font-family:Menlo,'DejaVu Sans Mono',consolas,'Courier New',monospace\">09:13:38.173 | <span style=\"color: #008080; text-decoration-color: #008080\">INFO</span>    | Task run 'first_etl-0' - &lt;class 'pandas.core.frame.DataFrame'&gt;\n",
       "</pre>\n"
      ],
      "text/plain": [
       "09:13:38.173 | \u001b[36mINFO\u001b[0m    | Task run 'first_etl-0' - <class 'pandas.core.frame.DataFrame'>\n"
      ]
     },
     "metadata": {},
     "output_type": "display_data"
    },
    {
     "data": {
      "text/html": [
       "<pre style=\"white-space:pre;overflow-x:auto;line-height:normal;font-family:Menlo,'DejaVu Sans Mono',consolas,'Courier New',monospace\">09:13:38.177 | <span style=\"color: #008080; text-decoration-color: #008080\">INFO</span>    | Task run 'first_etl-0' - &lt;class 'pandas.core.frame.DataFrame'&gt;\n",
       "</pre>\n"
      ],
      "text/plain": [
       "09:13:38.177 | \u001b[36mINFO\u001b[0m    | Task run 'first_etl-0' - <class 'pandas.core.frame.DataFrame'>\n"
      ]
     },
     "metadata": {},
     "output_type": "display_data"
    },
    {
     "data": {
      "text/html": [
       "<pre style=\"white-space:pre;overflow-x:auto;line-height:normal;font-family:Menlo,'DejaVu Sans Mono',consolas,'Courier New',monospace\">09:13:38.180 | <span style=\"color: #008080; text-decoration-color: #008080\">INFO</span>    | Task run 'first_etl-0' - &lt;class 'pandas.core.frame.DataFrame'&gt;\n",
       "</pre>\n"
      ],
      "text/plain": [
       "09:13:38.180 | \u001b[36mINFO\u001b[0m    | Task run 'first_etl-0' - <class 'pandas.core.frame.DataFrame'>\n"
      ]
     },
     "metadata": {},
     "output_type": "display_data"
    },
    {
     "data": {
      "text/html": [
       "<pre style=\"white-space:pre;overflow-x:auto;line-height:normal;font-family:Menlo,'DejaVu Sans Mono',consolas,'Courier New',monospace\">09:13:38.183 | <span style=\"color: #008080; text-decoration-color: #008080\">INFO</span>    | Task run 'first_etl-0' - &lt;class 'pandas.core.frame.DataFrame'&gt;\n",
       "</pre>\n"
      ],
      "text/plain": [
       "09:13:38.183 | \u001b[36mINFO\u001b[0m    | Task run 'first_etl-0' - <class 'pandas.core.frame.DataFrame'>\n"
      ]
     },
     "metadata": {},
     "output_type": "display_data"
    },
    {
     "data": {
      "text/html": [
       "<pre style=\"white-space:pre;overflow-x:auto;line-height:normal;font-family:Menlo,'DejaVu Sans Mono',consolas,'Courier New',monospace\">09:13:38.185 | <span style=\"color: #008080; text-decoration-color: #008080\">INFO</span>    | Task run 'first_etl-0' - &lt;class 'pandas.core.frame.DataFrame'&gt;\n",
       "</pre>\n"
      ],
      "text/plain": [
       "09:13:38.185 | \u001b[36mINFO\u001b[0m    | Task run 'first_etl-0' - <class 'pandas.core.frame.DataFrame'>\n"
      ]
     },
     "metadata": {},
     "output_type": "display_data"
    },
    {
     "data": {
      "text/html": [
       "<pre style=\"white-space:pre;overflow-x:auto;line-height:normal;font-family:Menlo,'DejaVu Sans Mono',consolas,'Courier New',monospace\">09:13:38.189 | <span style=\"color: #008080; text-decoration-color: #008080\">INFO</span>    | Task run 'first_etl-0' - &lt;class 'pandas.core.frame.DataFrame'&gt;\n",
       "</pre>\n"
      ],
      "text/plain": [
       "09:13:38.189 | \u001b[36mINFO\u001b[0m    | Task run 'first_etl-0' - <class 'pandas.core.frame.DataFrame'>\n"
      ]
     },
     "metadata": {},
     "output_type": "display_data"
    },
    {
     "data": {
      "text/html": [
       "<pre style=\"white-space:pre;overflow-x:auto;line-height:normal;font-family:Menlo,'DejaVu Sans Mono',consolas,'Courier New',monospace\">09:13:38.192 | <span style=\"color: #008080; text-decoration-color: #008080\">INFO</span>    | Task run 'first_etl-0' - &lt;class 'pandas.core.frame.DataFrame'&gt;\n",
       "</pre>\n"
      ],
      "text/plain": [
       "09:13:38.192 | \u001b[36mINFO\u001b[0m    | Task run 'first_etl-0' - <class 'pandas.core.frame.DataFrame'>\n"
      ]
     },
     "metadata": {},
     "output_type": "display_data"
    },
    {
     "data": {
      "text/html": [
       "<pre style=\"white-space:pre;overflow-x:auto;line-height:normal;font-family:Menlo,'DejaVu Sans Mono',consolas,'Courier New',monospace\">09:13:38.194 | <span style=\"color: #008080; text-decoration-color: #008080\">INFO</span>    | Task run 'first_etl-0' - &lt;class 'pandas.core.frame.DataFrame'&gt;\n",
       "</pre>\n"
      ],
      "text/plain": [
       "09:13:38.194 | \u001b[36mINFO\u001b[0m    | Task run 'first_etl-0' - <class 'pandas.core.frame.DataFrame'>\n"
      ]
     },
     "metadata": {},
     "output_type": "display_data"
    },
    {
     "data": {
      "text/html": [
       "<pre style=\"white-space:pre;overflow-x:auto;line-height:normal;font-family:Menlo,'DejaVu Sans Mono',consolas,'Courier New',monospace\">09:13:38.197 | <span style=\"color: #008080; text-decoration-color: #008080\">INFO</span>    | Task run 'first_etl-0' - &lt;class 'pandas.core.frame.DataFrame'&gt;\n",
       "</pre>\n"
      ],
      "text/plain": [
       "09:13:38.197 | \u001b[36mINFO\u001b[0m    | Task run 'first_etl-0' - <class 'pandas.core.frame.DataFrame'>\n"
      ]
     },
     "metadata": {},
     "output_type": "display_data"
    },
    {
     "data": {
      "text/html": [
       "<pre style=\"white-space:pre;overflow-x:auto;line-height:normal;font-family:Menlo,'DejaVu Sans Mono',consolas,'Courier New',monospace\">09:13:38.199 | <span style=\"color: #008080; text-decoration-color: #008080\">INFO</span>    | Task run 'first_etl-0' - &lt;class 'pandas.core.frame.DataFrame'&gt;\n",
       "</pre>\n"
      ],
      "text/plain": [
       "09:13:38.199 | \u001b[36mINFO\u001b[0m    | Task run 'first_etl-0' - <class 'pandas.core.frame.DataFrame'>\n"
      ]
     },
     "metadata": {},
     "output_type": "display_data"
    },
    {
     "data": {
      "text/html": [
       "<pre style=\"white-space:pre;overflow-x:auto;line-height:normal;font-family:Menlo,'DejaVu Sans Mono',consolas,'Courier New',monospace\">09:13:38.202 | <span style=\"color: #008080; text-decoration-color: #008080\">INFO</span>    | Task run 'first_etl-0' - &lt;class 'pandas.core.frame.DataFrame'&gt;\n",
       "</pre>\n"
      ],
      "text/plain": [
       "09:13:38.202 | \u001b[36mINFO\u001b[0m    | Task run 'first_etl-0' - <class 'pandas.core.frame.DataFrame'>\n"
      ]
     },
     "metadata": {},
     "output_type": "display_data"
    },
    {
     "data": {
      "text/html": [
       "<pre style=\"white-space:pre;overflow-x:auto;line-height:normal;font-family:Menlo,'DejaVu Sans Mono',consolas,'Courier New',monospace\">09:13:38.205 | <span style=\"color: #008080; text-decoration-color: #008080\">INFO</span>    | Task run 'first_etl-0' - &lt;class 'pandas.core.frame.DataFrame'&gt;\n",
       "</pre>\n"
      ],
      "text/plain": [
       "09:13:38.205 | \u001b[36mINFO\u001b[0m    | Task run 'first_etl-0' - <class 'pandas.core.frame.DataFrame'>\n"
      ]
     },
     "metadata": {},
     "output_type": "display_data"
    },
    {
     "data": {
      "text/html": [
       "<pre style=\"white-space:pre;overflow-x:auto;line-height:normal;font-family:Menlo,'DejaVu Sans Mono',consolas,'Courier New',monospace\">09:13:38.207 | <span style=\"color: #008080; text-decoration-color: #008080\">INFO</span>    | Task run 'first_etl-0' - &lt;class 'pandas.core.frame.DataFrame'&gt;\n",
       "</pre>\n"
      ],
      "text/plain": [
       "09:13:38.207 | \u001b[36mINFO\u001b[0m    | Task run 'first_etl-0' - <class 'pandas.core.frame.DataFrame'>\n"
      ]
     },
     "metadata": {},
     "output_type": "display_data"
    },
    {
     "data": {
      "text/html": [
       "<pre style=\"white-space:pre;overflow-x:auto;line-height:normal;font-family:Menlo,'DejaVu Sans Mono',consolas,'Courier New',monospace\">09:13:38.210 | <span style=\"color: #008080; text-decoration-color: #008080\">INFO</span>    | Task run 'first_etl-0' - &lt;class 'pandas.core.frame.DataFrame'&gt;\n",
       "</pre>\n"
      ],
      "text/plain": [
       "09:13:38.210 | \u001b[36mINFO\u001b[0m    | Task run 'first_etl-0' - <class 'pandas.core.frame.DataFrame'>\n"
      ]
     },
     "metadata": {},
     "output_type": "display_data"
    },
    {
     "data": {
      "text/html": [
       "<pre style=\"white-space:pre;overflow-x:auto;line-height:normal;font-family:Menlo,'DejaVu Sans Mono',consolas,'Courier New',monospace\">09:13:38.212 | <span style=\"color: #008080; text-decoration-color: #008080\">INFO</span>    | Task run 'first_etl-0' - &lt;class 'pandas.core.frame.DataFrame'&gt;\n",
       "</pre>\n"
      ],
      "text/plain": [
       "09:13:38.212 | \u001b[36mINFO\u001b[0m    | Task run 'first_etl-0' - <class 'pandas.core.frame.DataFrame'>\n"
      ]
     },
     "metadata": {},
     "output_type": "display_data"
    },
    {
     "data": {
      "text/html": [
       "<pre style=\"white-space:pre;overflow-x:auto;line-height:normal;font-family:Menlo,'DejaVu Sans Mono',consolas,'Courier New',monospace\">09:13:38.215 | <span style=\"color: #008080; text-decoration-color: #008080\">INFO</span>    | Task run 'first_etl-0' - &lt;class 'pandas.core.frame.DataFrame'&gt;\n",
       "</pre>\n"
      ],
      "text/plain": [
       "09:13:38.215 | \u001b[36mINFO\u001b[0m    | Task run 'first_etl-0' - <class 'pandas.core.frame.DataFrame'>\n"
      ]
     },
     "metadata": {},
     "output_type": "display_data"
    },
    {
     "data": {
      "text/html": [
       "<pre style=\"white-space:pre;overflow-x:auto;line-height:normal;font-family:Menlo,'DejaVu Sans Mono',consolas,'Courier New',monospace\">09:13:38.218 | <span style=\"color: #008080; text-decoration-color: #008080\">INFO</span>    | Task run 'first_etl-0' - &lt;class 'pandas.core.frame.DataFrame'&gt;\n",
       "</pre>\n"
      ],
      "text/plain": [
       "09:13:38.218 | \u001b[36mINFO\u001b[0m    | Task run 'first_etl-0' - <class 'pandas.core.frame.DataFrame'>\n"
      ]
     },
     "metadata": {},
     "output_type": "display_data"
    },
    {
     "data": {
      "text/html": [
       "<pre style=\"white-space:pre;overflow-x:auto;line-height:normal;font-family:Menlo,'DejaVu Sans Mono',consolas,'Courier New',monospace\">09:13:38.221 | <span style=\"color: #008080; text-decoration-color: #008080\">INFO</span>    | Task run 'first_etl-0' - &lt;class 'pandas.core.frame.DataFrame'&gt;\n",
       "</pre>\n"
      ],
      "text/plain": [
       "09:13:38.221 | \u001b[36mINFO\u001b[0m    | Task run 'first_etl-0' - <class 'pandas.core.frame.DataFrame'>\n"
      ]
     },
     "metadata": {},
     "output_type": "display_data"
    },
    {
     "data": {
      "text/html": [
       "<pre style=\"white-space:pre;overflow-x:auto;line-height:normal;font-family:Menlo,'DejaVu Sans Mono',consolas,'Courier New',monospace\">09:13:38.223 | <span style=\"color: #008080; text-decoration-color: #008080\">INFO</span>    | Task run 'first_etl-0' - &lt;class 'pandas.core.frame.DataFrame'&gt;\n",
       "</pre>\n"
      ],
      "text/plain": [
       "09:13:38.223 | \u001b[36mINFO\u001b[0m    | Task run 'first_etl-0' - <class 'pandas.core.frame.DataFrame'>\n"
      ]
     },
     "metadata": {},
     "output_type": "display_data"
    },
    {
     "data": {
      "text/html": [
       "<pre style=\"white-space:pre;overflow-x:auto;line-height:normal;font-family:Menlo,'DejaVu Sans Mono',consolas,'Courier New',monospace\">09:13:38.226 | <span style=\"color: #008080; text-decoration-color: #008080\">INFO</span>    | Task run 'first_etl-0' - &lt;class 'pandas.core.frame.DataFrame'&gt;\n",
       "</pre>\n"
      ],
      "text/plain": [
       "09:13:38.226 | \u001b[36mINFO\u001b[0m    | Task run 'first_etl-0' - <class 'pandas.core.frame.DataFrame'>\n"
      ]
     },
     "metadata": {},
     "output_type": "display_data"
    },
    {
     "data": {
      "text/html": [
       "<pre style=\"white-space:pre;overflow-x:auto;line-height:normal;font-family:Menlo,'DejaVu Sans Mono',consolas,'Courier New',monospace\">09:13:38.228 | <span style=\"color: #008080; text-decoration-color: #008080\">INFO</span>    | Task run 'first_etl-0' - &lt;class 'pandas.core.frame.DataFrame'&gt;\n",
       "</pre>\n"
      ],
      "text/plain": [
       "09:13:38.228 | \u001b[36mINFO\u001b[0m    | Task run 'first_etl-0' - <class 'pandas.core.frame.DataFrame'>\n"
      ]
     },
     "metadata": {},
     "output_type": "display_data"
    },
    {
     "data": {
      "text/html": [
       "<pre style=\"white-space:pre;overflow-x:auto;line-height:normal;font-family:Menlo,'DejaVu Sans Mono',consolas,'Courier New',monospace\">09:13:38.230 | <span style=\"color: #008080; text-decoration-color: #008080\">INFO</span>    | Task run 'first_etl-0' - &lt;class 'pandas.core.frame.DataFrame'&gt;\n",
       "</pre>\n"
      ],
      "text/plain": [
       "09:13:38.230 | \u001b[36mINFO\u001b[0m    | Task run 'first_etl-0' - <class 'pandas.core.frame.DataFrame'>\n"
      ]
     },
     "metadata": {},
     "output_type": "display_data"
    },
    {
     "data": {
      "text/html": [
       "<pre style=\"white-space:pre;overflow-x:auto;line-height:normal;font-family:Menlo,'DejaVu Sans Mono',consolas,'Courier New',monospace\">09:13:38.233 | <span style=\"color: #008080; text-decoration-color: #008080\">INFO</span>    | Task run 'first_etl-0' - &lt;class 'pandas.core.frame.DataFrame'&gt;\n",
       "</pre>\n"
      ],
      "text/plain": [
       "09:13:38.233 | \u001b[36mINFO\u001b[0m    | Task run 'first_etl-0' - <class 'pandas.core.frame.DataFrame'>\n"
      ]
     },
     "metadata": {},
     "output_type": "display_data"
    },
    {
     "data": {
      "text/html": [
       "<pre style=\"white-space:pre;overflow-x:auto;line-height:normal;font-family:Menlo,'DejaVu Sans Mono',consolas,'Courier New',monospace\">09:13:38.235 | <span style=\"color: #008080; text-decoration-color: #008080\">INFO</span>    | Task run 'first_etl-0' - &lt;class 'pandas.core.frame.DataFrame'&gt;\n",
       "</pre>\n"
      ],
      "text/plain": [
       "09:13:38.235 | \u001b[36mINFO\u001b[0m    | Task run 'first_etl-0' - <class 'pandas.core.frame.DataFrame'>\n"
      ]
     },
     "metadata": {},
     "output_type": "display_data"
    },
    {
     "data": {
      "text/html": [
       "<pre style=\"white-space:pre;overflow-x:auto;line-height:normal;font-family:Menlo,'DejaVu Sans Mono',consolas,'Courier New',monospace\">09:13:38.238 | <span style=\"color: #008080; text-decoration-color: #008080\">INFO</span>    | Task run 'first_etl-0' - &lt;class 'pandas.core.frame.DataFrame'&gt;\n",
       "</pre>\n"
      ],
      "text/plain": [
       "09:13:38.238 | \u001b[36mINFO\u001b[0m    | Task run 'first_etl-0' - <class 'pandas.core.frame.DataFrame'>\n"
      ]
     },
     "metadata": {},
     "output_type": "display_data"
    },
    {
     "data": {
      "text/html": [
       "<pre style=\"white-space:pre;overflow-x:auto;line-height:normal;font-family:Menlo,'DejaVu Sans Mono',consolas,'Courier New',monospace\">09:13:38.240 | <span style=\"color: #008080; text-decoration-color: #008080\">INFO</span>    | Task run 'first_etl-0' - &lt;class 'pandas.core.frame.DataFrame'&gt;\n",
       "</pre>\n"
      ],
      "text/plain": [
       "09:13:38.240 | \u001b[36mINFO\u001b[0m    | Task run 'first_etl-0' - <class 'pandas.core.frame.DataFrame'>\n"
      ]
     },
     "metadata": {},
     "output_type": "display_data"
    },
    {
     "data": {
      "text/html": [
       "<pre style=\"white-space:pre;overflow-x:auto;line-height:normal;font-family:Menlo,'DejaVu Sans Mono',consolas,'Courier New',monospace\">09:13:38.243 | <span style=\"color: #008080; text-decoration-color: #008080\">INFO</span>    | Task run 'first_etl-0' - &lt;class 'pandas.core.frame.DataFrame'&gt;\n",
       "</pre>\n"
      ],
      "text/plain": [
       "09:13:38.243 | \u001b[36mINFO\u001b[0m    | Task run 'first_etl-0' - <class 'pandas.core.frame.DataFrame'>\n"
      ]
     },
     "metadata": {},
     "output_type": "display_data"
    },
    {
     "data": {
      "text/html": [
       "<pre style=\"white-space:pre;overflow-x:auto;line-height:normal;font-family:Menlo,'DejaVu Sans Mono',consolas,'Courier New',monospace\">09:13:38.246 | <span style=\"color: #008080; text-decoration-color: #008080\">INFO</span>    | Task run 'first_etl-0' - &lt;class 'pandas.core.frame.DataFrame'&gt;\n",
       "</pre>\n"
      ],
      "text/plain": [
       "09:13:38.246 | \u001b[36mINFO\u001b[0m    | Task run 'first_etl-0' - <class 'pandas.core.frame.DataFrame'>\n"
      ]
     },
     "metadata": {},
     "output_type": "display_data"
    },
    {
     "data": {
      "text/html": [
       "<pre style=\"white-space:pre;overflow-x:auto;line-height:normal;font-family:Menlo,'DejaVu Sans Mono',consolas,'Courier New',monospace\">09:13:38.249 | <span style=\"color: #008080; text-decoration-color: #008080\">INFO</span>    | Task run 'first_etl-0' - &lt;class 'pandas.core.frame.DataFrame'&gt;\n",
       "</pre>\n"
      ],
      "text/plain": [
       "09:13:38.249 | \u001b[36mINFO\u001b[0m    | Task run 'first_etl-0' - <class 'pandas.core.frame.DataFrame'>\n"
      ]
     },
     "metadata": {},
     "output_type": "display_data"
    },
    {
     "data": {
      "text/html": [
       "<pre style=\"white-space:pre;overflow-x:auto;line-height:normal;font-family:Menlo,'DejaVu Sans Mono',consolas,'Courier New',monospace\">09:13:38.253 | <span style=\"color: #008080; text-decoration-color: #008080\">INFO</span>    | Task run 'first_etl-0' - &lt;class 'pandas.core.frame.DataFrame'&gt;\n",
       "</pre>\n"
      ],
      "text/plain": [
       "09:13:38.253 | \u001b[36mINFO\u001b[0m    | Task run 'first_etl-0' - <class 'pandas.core.frame.DataFrame'>\n"
      ]
     },
     "metadata": {},
     "output_type": "display_data"
    },
    {
     "data": {
      "text/html": [
       "<pre style=\"white-space:pre;overflow-x:auto;line-height:normal;font-family:Menlo,'DejaVu Sans Mono',consolas,'Courier New',monospace\">09:13:38.256 | <span style=\"color: #008080; text-decoration-color: #008080\">INFO</span>    | Task run 'first_etl-0' - &lt;class 'pandas.core.frame.DataFrame'&gt;\n",
       "</pre>\n"
      ],
      "text/plain": [
       "09:13:38.256 | \u001b[36mINFO\u001b[0m    | Task run 'first_etl-0' - <class 'pandas.core.frame.DataFrame'>\n"
      ]
     },
     "metadata": {},
     "output_type": "display_data"
    },
    {
     "data": {
      "text/html": [
       "<pre style=\"white-space:pre;overflow-x:auto;line-height:normal;font-family:Menlo,'DejaVu Sans Mono',consolas,'Courier New',monospace\">09:13:38.259 | <span style=\"color: #008080; text-decoration-color: #008080\">INFO</span>    | Task run 'first_etl-0' - &lt;class 'pandas.core.frame.DataFrame'&gt;\n",
       "</pre>\n"
      ],
      "text/plain": [
       "09:13:38.259 | \u001b[36mINFO\u001b[0m    | Task run 'first_etl-0' - <class 'pandas.core.frame.DataFrame'>\n"
      ]
     },
     "metadata": {},
     "output_type": "display_data"
    },
    {
     "data": {
      "text/html": [
       "<pre style=\"white-space:pre;overflow-x:auto;line-height:normal;font-family:Menlo,'DejaVu Sans Mono',consolas,'Courier New',monospace\">09:13:38.262 | <span style=\"color: #008080; text-decoration-color: #008080\">INFO</span>    | Task run 'first_etl-0' - &lt;class 'pandas.core.frame.DataFrame'&gt;\n",
       "</pre>\n"
      ],
      "text/plain": [
       "09:13:38.262 | \u001b[36mINFO\u001b[0m    | Task run 'first_etl-0' - <class 'pandas.core.frame.DataFrame'>\n"
      ]
     },
     "metadata": {},
     "output_type": "display_data"
    },
    {
     "data": {
      "text/html": [
       "<pre style=\"white-space:pre;overflow-x:auto;line-height:normal;font-family:Menlo,'DejaVu Sans Mono',consolas,'Courier New',monospace\">09:13:38.265 | <span style=\"color: #008080; text-decoration-color: #008080\">INFO</span>    | Task run 'first_etl-0' - &lt;class 'pandas.core.frame.DataFrame'&gt;\n",
       "</pre>\n"
      ],
      "text/plain": [
       "09:13:38.265 | \u001b[36mINFO\u001b[0m    | Task run 'first_etl-0' - <class 'pandas.core.frame.DataFrame'>\n"
      ]
     },
     "metadata": {},
     "output_type": "display_data"
    },
    {
     "data": {
      "text/html": [
       "<pre style=\"white-space:pre;overflow-x:auto;line-height:normal;font-family:Menlo,'DejaVu Sans Mono',consolas,'Courier New',monospace\">09:13:38.267 | <span style=\"color: #008080; text-decoration-color: #008080\">INFO</span>    | Task run 'first_etl-0' - &lt;class 'pandas.core.frame.DataFrame'&gt;\n",
       "</pre>\n"
      ],
      "text/plain": [
       "09:13:38.267 | \u001b[36mINFO\u001b[0m    | Task run 'first_etl-0' - <class 'pandas.core.frame.DataFrame'>\n"
      ]
     },
     "metadata": {},
     "output_type": "display_data"
    },
    {
     "data": {
      "text/html": [
       "<pre style=\"white-space:pre;overflow-x:auto;line-height:normal;font-family:Menlo,'DejaVu Sans Mono',consolas,'Courier New',monospace\">09:13:38.270 | <span style=\"color: #008080; text-decoration-color: #008080\">INFO</span>    | Task run 'first_etl-0' - &lt;class 'pandas.core.frame.DataFrame'&gt;\n",
       "</pre>\n"
      ],
      "text/plain": [
       "09:13:38.270 | \u001b[36mINFO\u001b[0m    | Task run 'first_etl-0' - <class 'pandas.core.frame.DataFrame'>\n"
      ]
     },
     "metadata": {},
     "output_type": "display_data"
    },
    {
     "data": {
      "text/html": [
       "<pre style=\"white-space:pre;overflow-x:auto;line-height:normal;font-family:Menlo,'DejaVu Sans Mono',consolas,'Courier New',monospace\">09:13:38.273 | <span style=\"color: #008080; text-decoration-color: #008080\">INFO</span>    | Task run 'first_etl-0' - &lt;class 'pandas.core.frame.DataFrame'&gt;\n",
       "</pre>\n"
      ],
      "text/plain": [
       "09:13:38.273 | \u001b[36mINFO\u001b[0m    | Task run 'first_etl-0' - <class 'pandas.core.frame.DataFrame'>\n"
      ]
     },
     "metadata": {},
     "output_type": "display_data"
    },
    {
     "data": {
      "text/html": [
       "<pre style=\"white-space:pre;overflow-x:auto;line-height:normal;font-family:Menlo,'DejaVu Sans Mono',consolas,'Courier New',monospace\">09:13:38.277 | <span style=\"color: #008080; text-decoration-color: #008080\">INFO</span>    | Task run 'first_etl-0' - &lt;class 'pandas.core.frame.DataFrame'&gt;\n",
       "</pre>\n"
      ],
      "text/plain": [
       "09:13:38.277 | \u001b[36mINFO\u001b[0m    | Task run 'first_etl-0' - <class 'pandas.core.frame.DataFrame'>\n"
      ]
     },
     "metadata": {},
     "output_type": "display_data"
    },
    {
     "data": {
      "text/html": [
       "<pre style=\"white-space:pre;overflow-x:auto;line-height:normal;font-family:Menlo,'DejaVu Sans Mono',consolas,'Courier New',monospace\">09:13:38.280 | <span style=\"color: #008080; text-decoration-color: #008080\">INFO</span>    | Task run 'first_etl-0' - &lt;class 'pandas.core.frame.DataFrame'&gt;\n",
       "</pre>\n"
      ],
      "text/plain": [
       "09:13:38.280 | \u001b[36mINFO\u001b[0m    | Task run 'first_etl-0' - <class 'pandas.core.frame.DataFrame'>\n"
      ]
     },
     "metadata": {},
     "output_type": "display_data"
    },
    {
     "data": {
      "text/html": [
       "<pre style=\"white-space:pre;overflow-x:auto;line-height:normal;font-family:Menlo,'DejaVu Sans Mono',consolas,'Courier New',monospace\">09:13:38.283 | <span style=\"color: #008080; text-decoration-color: #008080\">INFO</span>    | Task run 'first_etl-0' - &lt;class 'pandas.core.frame.DataFrame'&gt;\n",
       "</pre>\n"
      ],
      "text/plain": [
       "09:13:38.283 | \u001b[36mINFO\u001b[0m    | Task run 'first_etl-0' - <class 'pandas.core.frame.DataFrame'>\n"
      ]
     },
     "metadata": {},
     "output_type": "display_data"
    },
    {
     "data": {
      "text/html": [
       "<pre style=\"white-space:pre;overflow-x:auto;line-height:normal;font-family:Menlo,'DejaVu Sans Mono',consolas,'Courier New',monospace\">09:13:38.286 | <span style=\"color: #008080; text-decoration-color: #008080\">INFO</span>    | Task run 'first_etl-0' - &lt;class 'pandas.core.frame.DataFrame'&gt;\n",
       "</pre>\n"
      ],
      "text/plain": [
       "09:13:38.286 | \u001b[36mINFO\u001b[0m    | Task run 'first_etl-0' - <class 'pandas.core.frame.DataFrame'>\n"
      ]
     },
     "metadata": {},
     "output_type": "display_data"
    },
    {
     "data": {
      "text/html": [
       "<pre style=\"white-space:pre;overflow-x:auto;line-height:normal;font-family:Menlo,'DejaVu Sans Mono',consolas,'Courier New',monospace\">09:13:38.289 | <span style=\"color: #008080; text-decoration-color: #008080\">INFO</span>    | Task run 'first_etl-0' - &lt;class 'pandas.core.frame.DataFrame'&gt;\n",
       "</pre>\n"
      ],
      "text/plain": [
       "09:13:38.289 | \u001b[36mINFO\u001b[0m    | Task run 'first_etl-0' - <class 'pandas.core.frame.DataFrame'>\n"
      ]
     },
     "metadata": {},
     "output_type": "display_data"
    },
    {
     "data": {
      "text/html": [
       "<pre style=\"white-space:pre;overflow-x:auto;line-height:normal;font-family:Menlo,'DejaVu Sans Mono',consolas,'Courier New',monospace\">09:13:38.292 | <span style=\"color: #008080; text-decoration-color: #008080\">INFO</span>    | Task run 'first_etl-0' - &lt;class 'pandas.core.frame.DataFrame'&gt;\n",
       "</pre>\n"
      ],
      "text/plain": [
       "09:13:38.292 | \u001b[36mINFO\u001b[0m    | Task run 'first_etl-0' - <class 'pandas.core.frame.DataFrame'>\n"
      ]
     },
     "metadata": {},
     "output_type": "display_data"
    },
    {
     "data": {
      "text/html": [
       "<pre style=\"white-space:pre;overflow-x:auto;line-height:normal;font-family:Menlo,'DejaVu Sans Mono',consolas,'Courier New',monospace\">09:13:38.294 | <span style=\"color: #008080; text-decoration-color: #008080\">INFO</span>    | Task run 'first_etl-0' - &lt;class 'pandas.core.frame.DataFrame'&gt;\n",
       "</pre>\n"
      ],
      "text/plain": [
       "09:13:38.294 | \u001b[36mINFO\u001b[0m    | Task run 'first_etl-0' - <class 'pandas.core.frame.DataFrame'>\n"
      ]
     },
     "metadata": {},
     "output_type": "display_data"
    },
    {
     "data": {
      "text/html": [
       "<pre style=\"white-space:pre;overflow-x:auto;line-height:normal;font-family:Menlo,'DejaVu Sans Mono',consolas,'Courier New',monospace\">09:13:38.297 | <span style=\"color: #008080; text-decoration-color: #008080\">INFO</span>    | Task run 'first_etl-0' - &lt;class 'pandas.core.frame.DataFrame'&gt;\n",
       "</pre>\n"
      ],
      "text/plain": [
       "09:13:38.297 | \u001b[36mINFO\u001b[0m    | Task run 'first_etl-0' - <class 'pandas.core.frame.DataFrame'>\n"
      ]
     },
     "metadata": {},
     "output_type": "display_data"
    },
    {
     "data": {
      "text/html": [
       "<pre style=\"white-space:pre;overflow-x:auto;line-height:normal;font-family:Menlo,'DejaVu Sans Mono',consolas,'Courier New',monospace\">09:13:38.299 | <span style=\"color: #008080; text-decoration-color: #008080\">INFO</span>    | Task run 'first_etl-0' - &lt;class 'pandas.core.frame.DataFrame'&gt;\n",
       "</pre>\n"
      ],
      "text/plain": [
       "09:13:38.299 | \u001b[36mINFO\u001b[0m    | Task run 'first_etl-0' - <class 'pandas.core.frame.DataFrame'>\n"
      ]
     },
     "metadata": {},
     "output_type": "display_data"
    },
    {
     "data": {
      "text/html": [
       "<pre style=\"white-space:pre;overflow-x:auto;line-height:normal;font-family:Menlo,'DejaVu Sans Mono',consolas,'Courier New',monospace\">09:13:38.301 | <span style=\"color: #008080; text-decoration-color: #008080\">INFO</span>    | Task run 'first_etl-0' - &lt;class 'pandas.core.frame.DataFrame'&gt;\n",
       "</pre>\n"
      ],
      "text/plain": [
       "09:13:38.301 | \u001b[36mINFO\u001b[0m    | Task run 'first_etl-0' - <class 'pandas.core.frame.DataFrame'>\n"
      ]
     },
     "metadata": {},
     "output_type": "display_data"
    },
    {
     "data": {
      "text/html": [
       "<pre style=\"white-space:pre;overflow-x:auto;line-height:normal;font-family:Menlo,'DejaVu Sans Mono',consolas,'Courier New',monospace\">09:13:38.304 | <span style=\"color: #008080; text-decoration-color: #008080\">INFO</span>    | Task run 'first_etl-0' - &lt;class 'pandas.core.frame.DataFrame'&gt;\n",
       "</pre>\n"
      ],
      "text/plain": [
       "09:13:38.304 | \u001b[36mINFO\u001b[0m    | Task run 'first_etl-0' - <class 'pandas.core.frame.DataFrame'>\n"
      ]
     },
     "metadata": {},
     "output_type": "display_data"
    },
    {
     "data": {
      "text/html": [
       "<pre style=\"white-space:pre;overflow-x:auto;line-height:normal;font-family:Menlo,'DejaVu Sans Mono',consolas,'Courier New',monospace\">09:13:38.307 | <span style=\"color: #008080; text-decoration-color: #008080\">INFO</span>    | Task run 'first_etl-0' - &lt;class 'pandas.core.frame.DataFrame'&gt;\n",
       "</pre>\n"
      ],
      "text/plain": [
       "09:13:38.307 | \u001b[36mINFO\u001b[0m    | Task run 'first_etl-0' - <class 'pandas.core.frame.DataFrame'>\n"
      ]
     },
     "metadata": {},
     "output_type": "display_data"
    },
    {
     "data": {
      "text/html": [
       "<pre style=\"white-space:pre;overflow-x:auto;line-height:normal;font-family:Menlo,'DejaVu Sans Mono',consolas,'Courier New',monospace\">09:13:38.310 | <span style=\"color: #008080; text-decoration-color: #008080\">INFO</span>    | Task run 'first_etl-0' - &lt;class 'pandas.core.frame.DataFrame'&gt;\n",
       "</pre>\n"
      ],
      "text/plain": [
       "09:13:38.310 | \u001b[36mINFO\u001b[0m    | Task run 'first_etl-0' - <class 'pandas.core.frame.DataFrame'>\n"
      ]
     },
     "metadata": {},
     "output_type": "display_data"
    },
    {
     "data": {
      "text/html": [
       "<pre style=\"white-space:pre;overflow-x:auto;line-height:normal;font-family:Menlo,'DejaVu Sans Mono',consolas,'Courier New',monospace\">09:13:38.312 | <span style=\"color: #008080; text-decoration-color: #008080\">INFO</span>    | Task run 'first_etl-0' - &lt;class 'pandas.core.frame.DataFrame'&gt;\n",
       "</pre>\n"
      ],
      "text/plain": [
       "09:13:38.312 | \u001b[36mINFO\u001b[0m    | Task run 'first_etl-0' - <class 'pandas.core.frame.DataFrame'>\n"
      ]
     },
     "metadata": {},
     "output_type": "display_data"
    },
    {
     "data": {
      "text/html": [
       "<pre style=\"white-space:pre;overflow-x:auto;line-height:normal;font-family:Menlo,'DejaVu Sans Mono',consolas,'Courier New',monospace\">09:13:38.315 | <span style=\"color: #008080; text-decoration-color: #008080\">INFO</span>    | Task run 'first_etl-0' - &lt;class 'pandas.core.frame.DataFrame'&gt;\n",
       "</pre>\n"
      ],
      "text/plain": [
       "09:13:38.315 | \u001b[36mINFO\u001b[0m    | Task run 'first_etl-0' - <class 'pandas.core.frame.DataFrame'>\n"
      ]
     },
     "metadata": {},
     "output_type": "display_data"
    },
    {
     "data": {
      "text/html": [
       "<pre style=\"white-space:pre;overflow-x:auto;line-height:normal;font-family:Menlo,'DejaVu Sans Mono',consolas,'Courier New',monospace\">09:13:38.317 | <span style=\"color: #008080; text-decoration-color: #008080\">INFO</span>    | Task run 'first_etl-0' - &lt;class 'pandas.core.frame.DataFrame'&gt;\n",
       "</pre>\n"
      ],
      "text/plain": [
       "09:13:38.317 | \u001b[36mINFO\u001b[0m    | Task run 'first_etl-0' - <class 'pandas.core.frame.DataFrame'>\n"
      ]
     },
     "metadata": {},
     "output_type": "display_data"
    },
    {
     "data": {
      "text/html": [
       "<pre style=\"white-space:pre;overflow-x:auto;line-height:normal;font-family:Menlo,'DejaVu Sans Mono',consolas,'Courier New',monospace\">09:13:38.320 | <span style=\"color: #008080; text-decoration-color: #008080\">INFO</span>    | Task run 'first_etl-0' - &lt;class 'pandas.core.frame.DataFrame'&gt;\n",
       "</pre>\n"
      ],
      "text/plain": [
       "09:13:38.320 | \u001b[36mINFO\u001b[0m    | Task run 'first_etl-0' - <class 'pandas.core.frame.DataFrame'>\n"
      ]
     },
     "metadata": {},
     "output_type": "display_data"
    },
    {
     "data": {
      "text/html": [
       "<pre style=\"white-space:pre;overflow-x:auto;line-height:normal;font-family:Menlo,'DejaVu Sans Mono',consolas,'Courier New',monospace\">09:13:38.322 | <span style=\"color: #008080; text-decoration-color: #008080\">INFO</span>    | Task run 'first_etl-0' - &lt;class 'pandas.core.frame.DataFrame'&gt;\n",
       "</pre>\n"
      ],
      "text/plain": [
       "09:13:38.322 | \u001b[36mINFO\u001b[0m    | Task run 'first_etl-0' - <class 'pandas.core.frame.DataFrame'>\n"
      ]
     },
     "metadata": {},
     "output_type": "display_data"
    },
    {
     "data": {
      "text/html": [
       "<pre style=\"white-space:pre;overflow-x:auto;line-height:normal;font-family:Menlo,'DejaVu Sans Mono',consolas,'Courier New',monospace\">09:13:38.325 | <span style=\"color: #008080; text-decoration-color: #008080\">INFO</span>    | Task run 'first_etl-0' - &lt;class 'pandas.core.frame.DataFrame'&gt;\n",
       "</pre>\n"
      ],
      "text/plain": [
       "09:13:38.325 | \u001b[36mINFO\u001b[0m    | Task run 'first_etl-0' - <class 'pandas.core.frame.DataFrame'>\n"
      ]
     },
     "metadata": {},
     "output_type": "display_data"
    },
    {
     "data": {
      "text/html": [
       "<pre style=\"white-space:pre;overflow-x:auto;line-height:normal;font-family:Menlo,'DejaVu Sans Mono',consolas,'Courier New',monospace\">09:13:38.328 | <span style=\"color: #008080; text-decoration-color: #008080\">INFO</span>    | Task run 'first_etl-0' - &lt;class 'pandas.core.frame.DataFrame'&gt;\n",
       "</pre>\n"
      ],
      "text/plain": [
       "09:13:38.328 | \u001b[36mINFO\u001b[0m    | Task run 'first_etl-0' - <class 'pandas.core.frame.DataFrame'>\n"
      ]
     },
     "metadata": {},
     "output_type": "display_data"
    },
    {
     "data": {
      "text/html": [
       "<pre style=\"white-space:pre;overflow-x:auto;line-height:normal;font-family:Menlo,'DejaVu Sans Mono',consolas,'Courier New',monospace\">09:13:38.332 | <span style=\"color: #008080; text-decoration-color: #008080\">INFO</span>    | Task run 'first_etl-0' - &lt;class 'pandas.core.frame.DataFrame'&gt;\n",
       "</pre>\n"
      ],
      "text/plain": [
       "09:13:38.332 | \u001b[36mINFO\u001b[0m    | Task run 'first_etl-0' - <class 'pandas.core.frame.DataFrame'>\n"
      ]
     },
     "metadata": {},
     "output_type": "display_data"
    },
    {
     "data": {
      "text/html": [
       "<pre style=\"white-space:pre;overflow-x:auto;line-height:normal;font-family:Menlo,'DejaVu Sans Mono',consolas,'Courier New',monospace\">09:13:38.335 | <span style=\"color: #008080; text-decoration-color: #008080\">INFO</span>    | Task run 'first_etl-0' - &lt;class 'pandas.core.frame.DataFrame'&gt;\n",
       "</pre>\n"
      ],
      "text/plain": [
       "09:13:38.335 | \u001b[36mINFO\u001b[0m    | Task run 'first_etl-0' - <class 'pandas.core.frame.DataFrame'>\n"
      ]
     },
     "metadata": {},
     "output_type": "display_data"
    },
    {
     "data": {
      "text/html": [
       "<pre style=\"white-space:pre;overflow-x:auto;line-height:normal;font-family:Menlo,'DejaVu Sans Mono',consolas,'Courier New',monospace\">09:13:38.339 | <span style=\"color: #008080; text-decoration-color: #008080\">INFO</span>    | Task run 'first_etl-0' - &lt;class 'pandas.core.frame.DataFrame'&gt;\n",
       "</pre>\n"
      ],
      "text/plain": [
       "09:13:38.339 | \u001b[36mINFO\u001b[0m    | Task run 'first_etl-0' - <class 'pandas.core.frame.DataFrame'>\n"
      ]
     },
     "metadata": {},
     "output_type": "display_data"
    },
    {
     "data": {
      "text/html": [
       "<pre style=\"white-space:pre;overflow-x:auto;line-height:normal;font-family:Menlo,'DejaVu Sans Mono',consolas,'Courier New',monospace\">09:13:38.343 | <span style=\"color: #008080; text-decoration-color: #008080\">INFO</span>    | Task run 'first_etl-0' - &lt;class 'pandas.core.frame.DataFrame'&gt;\n",
       "</pre>\n"
      ],
      "text/plain": [
       "09:13:38.343 | \u001b[36mINFO\u001b[0m    | Task run 'first_etl-0' - <class 'pandas.core.frame.DataFrame'>\n"
      ]
     },
     "metadata": {},
     "output_type": "display_data"
    },
    {
     "data": {
      "text/html": [
       "<pre style=\"white-space:pre;overflow-x:auto;line-height:normal;font-family:Menlo,'DejaVu Sans Mono',consolas,'Courier New',monospace\">09:13:38.347 | <span style=\"color: #008080; text-decoration-color: #008080\">INFO</span>    | Task run 'first_etl-0' - &lt;class 'pandas.core.frame.DataFrame'&gt;\n",
       "</pre>\n"
      ],
      "text/plain": [
       "09:13:38.347 | \u001b[36mINFO\u001b[0m    | Task run 'first_etl-0' - <class 'pandas.core.frame.DataFrame'>\n"
      ]
     },
     "metadata": {},
     "output_type": "display_data"
    },
    {
     "data": {
      "text/html": [
       "<pre style=\"white-space:pre;overflow-x:auto;line-height:normal;font-family:Menlo,'DejaVu Sans Mono',consolas,'Courier New',monospace\">09:13:38.351 | <span style=\"color: #008080; text-decoration-color: #008080\">INFO</span>    | Task run 'first_etl-0' - &lt;class 'pandas.core.frame.DataFrame'&gt;\n",
       "</pre>\n"
      ],
      "text/plain": [
       "09:13:38.351 | \u001b[36mINFO\u001b[0m    | Task run 'first_etl-0' - <class 'pandas.core.frame.DataFrame'>\n"
      ]
     },
     "metadata": {},
     "output_type": "display_data"
    },
    {
     "data": {
      "text/html": [
       "<pre style=\"white-space:pre;overflow-x:auto;line-height:normal;font-family:Menlo,'DejaVu Sans Mono',consolas,'Courier New',monospace\">09:13:38.356 | <span style=\"color: #008080; text-decoration-color: #008080\">INFO</span>    | Task run 'first_etl-0' - &lt;class 'pandas.core.frame.DataFrame'&gt;\n",
       "</pre>\n"
      ],
      "text/plain": [
       "09:13:38.356 | \u001b[36mINFO\u001b[0m    | Task run 'first_etl-0' - <class 'pandas.core.frame.DataFrame'>\n"
      ]
     },
     "metadata": {},
     "output_type": "display_data"
    },
    {
     "data": {
      "text/html": [
       "<pre style=\"white-space:pre;overflow-x:auto;line-height:normal;font-family:Menlo,'DejaVu Sans Mono',consolas,'Courier New',monospace\">09:13:38.360 | <span style=\"color: #008080; text-decoration-color: #008080\">INFO</span>    | Task run 'first_etl-0' - &lt;class 'pandas.core.frame.DataFrame'&gt;\n",
       "</pre>\n"
      ],
      "text/plain": [
       "09:13:38.360 | \u001b[36mINFO\u001b[0m    | Task run 'first_etl-0' - <class 'pandas.core.frame.DataFrame'>\n"
      ]
     },
     "metadata": {},
     "output_type": "display_data"
    },
    {
     "data": {
      "text/html": [
       "<pre style=\"white-space:pre;overflow-x:auto;line-height:normal;font-family:Menlo,'DejaVu Sans Mono',consolas,'Courier New',monospace\">09:13:38.363 | <span style=\"color: #008080; text-decoration-color: #008080\">INFO</span>    | Task run 'first_etl-0' - &lt;class 'pandas.core.frame.DataFrame'&gt;\n",
       "</pre>\n"
      ],
      "text/plain": [
       "09:13:38.363 | \u001b[36mINFO\u001b[0m    | Task run 'first_etl-0' - <class 'pandas.core.frame.DataFrame'>\n"
      ]
     },
     "metadata": {},
     "output_type": "display_data"
    },
    {
     "data": {
      "text/html": [
       "<pre style=\"white-space:pre;overflow-x:auto;line-height:normal;font-family:Menlo,'DejaVu Sans Mono',consolas,'Courier New',monospace\">09:13:38.366 | <span style=\"color: #008080; text-decoration-color: #008080\">INFO</span>    | Task run 'first_etl-0' - &lt;class 'pandas.core.frame.DataFrame'&gt;\n",
       "</pre>\n"
      ],
      "text/plain": [
       "09:13:38.366 | \u001b[36mINFO\u001b[0m    | Task run 'first_etl-0' - <class 'pandas.core.frame.DataFrame'>\n"
      ]
     },
     "metadata": {},
     "output_type": "display_data"
    },
    {
     "data": {
      "text/html": [
       "<pre style=\"white-space:pre;overflow-x:auto;line-height:normal;font-family:Menlo,'DejaVu Sans Mono',consolas,'Courier New',monospace\">09:13:38.370 | <span style=\"color: #008080; text-decoration-color: #008080\">INFO</span>    | Task run 'first_etl-0' - &lt;class 'pandas.core.frame.DataFrame'&gt;\n",
       "</pre>\n"
      ],
      "text/plain": [
       "09:13:38.370 | \u001b[36mINFO\u001b[0m    | Task run 'first_etl-0' - <class 'pandas.core.frame.DataFrame'>\n"
      ]
     },
     "metadata": {},
     "output_type": "display_data"
    },
    {
     "data": {
      "text/html": [
       "<pre style=\"white-space:pre;overflow-x:auto;line-height:normal;font-family:Menlo,'DejaVu Sans Mono',consolas,'Courier New',monospace\">09:13:38.373 | <span style=\"color: #008080; text-decoration-color: #008080\">INFO</span>    | Task run 'first_etl-0' - &lt;class 'pandas.core.frame.DataFrame'&gt;\n",
       "</pre>\n"
      ],
      "text/plain": [
       "09:13:38.373 | \u001b[36mINFO\u001b[0m    | Task run 'first_etl-0' - <class 'pandas.core.frame.DataFrame'>\n"
      ]
     },
     "metadata": {},
     "output_type": "display_data"
    },
    {
     "data": {
      "text/html": [
       "<pre style=\"white-space:pre;overflow-x:auto;line-height:normal;font-family:Menlo,'DejaVu Sans Mono',consolas,'Courier New',monospace\">09:13:38.376 | <span style=\"color: #008080; text-decoration-color: #008080\">INFO</span>    | Task run 'first_etl-0' - &lt;class 'pandas.core.frame.DataFrame'&gt;\n",
       "</pre>\n"
      ],
      "text/plain": [
       "09:13:38.376 | \u001b[36mINFO\u001b[0m    | Task run 'first_etl-0' - <class 'pandas.core.frame.DataFrame'>\n"
      ]
     },
     "metadata": {},
     "output_type": "display_data"
    },
    {
     "data": {
      "text/html": [
       "<pre style=\"white-space:pre;overflow-x:auto;line-height:normal;font-family:Menlo,'DejaVu Sans Mono',consolas,'Courier New',monospace\">09:13:38.379 | <span style=\"color: #008080; text-decoration-color: #008080\">INFO</span>    | Task run 'first_etl-0' - &lt;class 'pandas.core.frame.DataFrame'&gt;\n",
       "</pre>\n"
      ],
      "text/plain": [
       "09:13:38.379 | \u001b[36mINFO\u001b[0m    | Task run 'first_etl-0' - <class 'pandas.core.frame.DataFrame'>\n"
      ]
     },
     "metadata": {},
     "output_type": "display_data"
    },
    {
     "data": {
      "text/html": [
       "<pre style=\"white-space:pre;overflow-x:auto;line-height:normal;font-family:Menlo,'DejaVu Sans Mono',consolas,'Courier New',monospace\">09:13:38.382 | <span style=\"color: #008080; text-decoration-color: #008080\">INFO</span>    | Task run 'first_etl-0' - &lt;class 'pandas.core.frame.DataFrame'&gt;\n",
       "</pre>\n"
      ],
      "text/plain": [
       "09:13:38.382 | \u001b[36mINFO\u001b[0m    | Task run 'first_etl-0' - <class 'pandas.core.frame.DataFrame'>\n"
      ]
     },
     "metadata": {},
     "output_type": "display_data"
    },
    {
     "data": {
      "text/html": [
       "<pre style=\"white-space:pre;overflow-x:auto;line-height:normal;font-family:Menlo,'DejaVu Sans Mono',consolas,'Courier New',monospace\">09:13:38.387 | <span style=\"color: #008080; text-decoration-color: #008080\">INFO</span>    | Task run 'first_etl-0' - &lt;class 'pandas.core.frame.DataFrame'&gt;\n",
       "</pre>\n"
      ],
      "text/plain": [
       "09:13:38.387 | \u001b[36mINFO\u001b[0m    | Task run 'first_etl-0' - <class 'pandas.core.frame.DataFrame'>\n"
      ]
     },
     "metadata": {},
     "output_type": "display_data"
    },
    {
     "data": {
      "text/html": [
       "<pre style=\"white-space:pre;overflow-x:auto;line-height:normal;font-family:Menlo,'DejaVu Sans Mono',consolas,'Courier New',monospace\">09:13:38.390 | <span style=\"color: #008080; text-decoration-color: #008080\">INFO</span>    | Task run 'first_etl-0' - &lt;class 'pandas.core.frame.DataFrame'&gt;\n",
       "</pre>\n"
      ],
      "text/plain": [
       "09:13:38.390 | \u001b[36mINFO\u001b[0m    | Task run 'first_etl-0' - <class 'pandas.core.frame.DataFrame'>\n"
      ]
     },
     "metadata": {},
     "output_type": "display_data"
    },
    {
     "data": {
      "text/html": [
       "<pre style=\"white-space:pre;overflow-x:auto;line-height:normal;font-family:Menlo,'DejaVu Sans Mono',consolas,'Courier New',monospace\">09:13:38.393 | <span style=\"color: #008080; text-decoration-color: #008080\">INFO</span>    | Task run 'first_etl-0' - &lt;class 'pandas.core.frame.DataFrame'&gt;\n",
       "</pre>\n"
      ],
      "text/plain": [
       "09:13:38.393 | \u001b[36mINFO\u001b[0m    | Task run 'first_etl-0' - <class 'pandas.core.frame.DataFrame'>\n"
      ]
     },
     "metadata": {},
     "output_type": "display_data"
    },
    {
     "data": {
      "text/html": [
       "<pre style=\"white-space:pre;overflow-x:auto;line-height:normal;font-family:Menlo,'DejaVu Sans Mono',consolas,'Courier New',monospace\">09:13:38.395 | <span style=\"color: #008080; text-decoration-color: #008080\">INFO</span>    | Task run 'first_etl-0' - &lt;class 'pandas.core.frame.DataFrame'&gt;\n",
       "</pre>\n"
      ],
      "text/plain": [
       "09:13:38.395 | \u001b[36mINFO\u001b[0m    | Task run 'first_etl-0' - <class 'pandas.core.frame.DataFrame'>\n"
      ]
     },
     "metadata": {},
     "output_type": "display_data"
    },
    {
     "data": {
      "text/html": [
       "<pre style=\"white-space:pre;overflow-x:auto;line-height:normal;font-family:Menlo,'DejaVu Sans Mono',consolas,'Courier New',monospace\">09:13:38.397 | <span style=\"color: #008080; text-decoration-color: #008080\">INFO</span>    | Task run 'first_etl-0' - &lt;class 'pandas.core.frame.DataFrame'&gt;\n",
       "</pre>\n"
      ],
      "text/plain": [
       "09:13:38.397 | \u001b[36mINFO\u001b[0m    | Task run 'first_etl-0' - <class 'pandas.core.frame.DataFrame'>\n"
      ]
     },
     "metadata": {},
     "output_type": "display_data"
    },
    {
     "data": {
      "text/html": [
       "<pre style=\"white-space:pre;overflow-x:auto;line-height:normal;font-family:Menlo,'DejaVu Sans Mono',consolas,'Courier New',monospace\">09:13:38.400 | <span style=\"color: #008080; text-decoration-color: #008080\">INFO</span>    | Task run 'first_etl-0' - &lt;class 'pandas.core.frame.DataFrame'&gt;\n",
       "</pre>\n"
      ],
      "text/plain": [
       "09:13:38.400 | \u001b[36mINFO\u001b[0m    | Task run 'first_etl-0' - <class 'pandas.core.frame.DataFrame'>\n"
      ]
     },
     "metadata": {},
     "output_type": "display_data"
    },
    {
     "data": {
      "text/html": [
       "<pre style=\"white-space:pre;overflow-x:auto;line-height:normal;font-family:Menlo,'DejaVu Sans Mono',consolas,'Courier New',monospace\">09:13:38.403 | <span style=\"color: #008080; text-decoration-color: #008080\">INFO</span>    | Task run 'first_etl-0' - &lt;class 'pandas.core.frame.DataFrame'&gt;\n",
       "</pre>\n"
      ],
      "text/plain": [
       "09:13:38.403 | \u001b[36mINFO\u001b[0m    | Task run 'first_etl-0' - <class 'pandas.core.frame.DataFrame'>\n"
      ]
     },
     "metadata": {},
     "output_type": "display_data"
    },
    {
     "data": {
      "text/html": [
       "<pre style=\"white-space:pre;overflow-x:auto;line-height:normal;font-family:Menlo,'DejaVu Sans Mono',consolas,'Courier New',monospace\">09:13:38.405 | <span style=\"color: #008080; text-decoration-color: #008080\">INFO</span>    | Task run 'first_etl-0' - &lt;class 'pandas.core.frame.DataFrame'&gt;\n",
       "</pre>\n"
      ],
      "text/plain": [
       "09:13:38.405 | \u001b[36mINFO\u001b[0m    | Task run 'first_etl-0' - <class 'pandas.core.frame.DataFrame'>\n"
      ]
     },
     "metadata": {},
     "output_type": "display_data"
    },
    {
     "data": {
      "text/html": [
       "<pre style=\"white-space:pre;overflow-x:auto;line-height:normal;font-family:Menlo,'DejaVu Sans Mono',consolas,'Courier New',monospace\">09:13:38.408 | <span style=\"color: #008080; text-decoration-color: #008080\">INFO</span>    | Task run 'first_etl-0' - &lt;class 'pandas.core.frame.DataFrame'&gt;\n",
       "</pre>\n"
      ],
      "text/plain": [
       "09:13:38.408 | \u001b[36mINFO\u001b[0m    | Task run 'first_etl-0' - <class 'pandas.core.frame.DataFrame'>\n"
      ]
     },
     "metadata": {},
     "output_type": "display_data"
    },
    {
     "data": {
      "text/html": [
       "<pre style=\"white-space:pre;overflow-x:auto;line-height:normal;font-family:Menlo,'DejaVu Sans Mono',consolas,'Courier New',monospace\">09:13:38.410 | <span style=\"color: #008080; text-decoration-color: #008080\">INFO</span>    | Task run 'first_etl-0' - &lt;class 'pandas.core.frame.DataFrame'&gt;\n",
       "</pre>\n"
      ],
      "text/plain": [
       "09:13:38.410 | \u001b[36mINFO\u001b[0m    | Task run 'first_etl-0' - <class 'pandas.core.frame.DataFrame'>\n"
      ]
     },
     "metadata": {},
     "output_type": "display_data"
    },
    {
     "data": {
      "text/html": [
       "<pre style=\"white-space:pre;overflow-x:auto;line-height:normal;font-family:Menlo,'DejaVu Sans Mono',consolas,'Courier New',monospace\">09:13:38.413 | <span style=\"color: #008080; text-decoration-color: #008080\">INFO</span>    | Task run 'first_etl-0' - &lt;class 'pandas.core.frame.DataFrame'&gt;\n",
       "</pre>\n"
      ],
      "text/plain": [
       "09:13:38.413 | \u001b[36mINFO\u001b[0m    | Task run 'first_etl-0' - <class 'pandas.core.frame.DataFrame'>\n"
      ]
     },
     "metadata": {},
     "output_type": "display_data"
    },
    {
     "data": {
      "text/html": [
       "<pre style=\"white-space:pre;overflow-x:auto;line-height:normal;font-family:Menlo,'DejaVu Sans Mono',consolas,'Courier New',monospace\">09:13:38.416 | <span style=\"color: #008080; text-decoration-color: #008080\">INFO</span>    | Task run 'first_etl-0' - &lt;class 'pandas.core.frame.DataFrame'&gt;\n",
       "</pre>\n"
      ],
      "text/plain": [
       "09:13:38.416 | \u001b[36mINFO\u001b[0m    | Task run 'first_etl-0' - <class 'pandas.core.frame.DataFrame'>\n"
      ]
     },
     "metadata": {},
     "output_type": "display_data"
    },
    {
     "data": {
      "text/html": [
       "<pre style=\"white-space:pre;overflow-x:auto;line-height:normal;font-family:Menlo,'DejaVu Sans Mono',consolas,'Courier New',monospace\">09:13:38.420 | <span style=\"color: #008080; text-decoration-color: #008080\">INFO</span>    | Task run 'first_etl-0' - &lt;class 'pandas.core.frame.DataFrame'&gt;\n",
       "</pre>\n"
      ],
      "text/plain": [
       "09:13:38.420 | \u001b[36mINFO\u001b[0m    | Task run 'first_etl-0' - <class 'pandas.core.frame.DataFrame'>\n"
      ]
     },
     "metadata": {},
     "output_type": "display_data"
    },
    {
     "data": {
      "text/html": [
       "<pre style=\"white-space:pre;overflow-x:auto;line-height:normal;font-family:Menlo,'DejaVu Sans Mono',consolas,'Courier New',monospace\">09:13:38.424 | <span style=\"color: #008080; text-decoration-color: #008080\">INFO</span>    | Task run 'first_etl-0' - &lt;class 'pandas.core.frame.DataFrame'&gt;\n",
       "</pre>\n"
      ],
      "text/plain": [
       "09:13:38.424 | \u001b[36mINFO\u001b[0m    | Task run 'first_etl-0' - <class 'pandas.core.frame.DataFrame'>\n"
      ]
     },
     "metadata": {},
     "output_type": "display_data"
    },
    {
     "data": {
      "text/html": [
       "<pre style=\"white-space:pre;overflow-x:auto;line-height:normal;font-family:Menlo,'DejaVu Sans Mono',consolas,'Courier New',monospace\">09:13:38.427 | <span style=\"color: #008080; text-decoration-color: #008080\">INFO</span>    | Task run 'first_etl-0' - &lt;class 'pandas.core.frame.DataFrame'&gt;\n",
       "</pre>\n"
      ],
      "text/plain": [
       "09:13:38.427 | \u001b[36mINFO\u001b[0m    | Task run 'first_etl-0' - <class 'pandas.core.frame.DataFrame'>\n"
      ]
     },
     "metadata": {},
     "output_type": "display_data"
    },
    {
     "data": {
      "text/html": [
       "<pre style=\"white-space:pre;overflow-x:auto;line-height:normal;font-family:Menlo,'DejaVu Sans Mono',consolas,'Courier New',monospace\">09:13:38.429 | <span style=\"color: #008080; text-decoration-color: #008080\">INFO</span>    | Task run 'first_etl-0' - &lt;class 'pandas.core.frame.DataFrame'&gt;\n",
       "</pre>\n"
      ],
      "text/plain": [
       "09:13:38.429 | \u001b[36mINFO\u001b[0m    | Task run 'first_etl-0' - <class 'pandas.core.frame.DataFrame'>\n"
      ]
     },
     "metadata": {},
     "output_type": "display_data"
    },
    {
     "data": {
      "text/html": [
       "<pre style=\"white-space:pre;overflow-x:auto;line-height:normal;font-family:Menlo,'DejaVu Sans Mono',consolas,'Courier New',monospace\">09:13:38.432 | <span style=\"color: #008080; text-decoration-color: #008080\">INFO</span>    | Task run 'first_etl-0' - &lt;class 'pandas.core.frame.DataFrame'&gt;\n",
       "</pre>\n"
      ],
      "text/plain": [
       "09:13:38.432 | \u001b[36mINFO\u001b[0m    | Task run 'first_etl-0' - <class 'pandas.core.frame.DataFrame'>\n"
      ]
     },
     "metadata": {},
     "output_type": "display_data"
    },
    {
     "data": {
      "text/html": [
       "<pre style=\"white-space:pre;overflow-x:auto;line-height:normal;font-family:Menlo,'DejaVu Sans Mono',consolas,'Courier New',monospace\">09:13:38.435 | <span style=\"color: #008080; text-decoration-color: #008080\">INFO</span>    | Task run 'first_etl-0' - &lt;class 'pandas.core.frame.DataFrame'&gt;\n",
       "</pre>\n"
      ],
      "text/plain": [
       "09:13:38.435 | \u001b[36mINFO\u001b[0m    | Task run 'first_etl-0' - <class 'pandas.core.frame.DataFrame'>\n"
      ]
     },
     "metadata": {},
     "output_type": "display_data"
    },
    {
     "data": {
      "text/html": [
       "<pre style=\"white-space:pre;overflow-x:auto;line-height:normal;font-family:Menlo,'DejaVu Sans Mono',consolas,'Courier New',monospace\">09:13:38.439 | <span style=\"color: #008080; text-decoration-color: #008080\">INFO</span>    | Task run 'first_etl-0' - &lt;class 'pandas.core.frame.DataFrame'&gt;\n",
       "</pre>\n"
      ],
      "text/plain": [
       "09:13:38.439 | \u001b[36mINFO\u001b[0m    | Task run 'first_etl-0' - <class 'pandas.core.frame.DataFrame'>\n"
      ]
     },
     "metadata": {},
     "output_type": "display_data"
    },
    {
     "data": {
      "text/html": [
       "<pre style=\"white-space:pre;overflow-x:auto;line-height:normal;font-family:Menlo,'DejaVu Sans Mono',consolas,'Courier New',monospace\">09:13:38.441 | <span style=\"color: #008080; text-decoration-color: #008080\">INFO</span>    | Task run 'first_etl-0' - &lt;class 'pandas.core.frame.DataFrame'&gt;\n",
       "</pre>\n"
      ],
      "text/plain": [
       "09:13:38.441 | \u001b[36mINFO\u001b[0m    | Task run 'first_etl-0' - <class 'pandas.core.frame.DataFrame'>\n"
      ]
     },
     "metadata": {},
     "output_type": "display_data"
    },
    {
     "data": {
      "text/html": [
       "<pre style=\"white-space:pre;overflow-x:auto;line-height:normal;font-family:Menlo,'DejaVu Sans Mono',consolas,'Courier New',monospace\">09:13:38.444 | <span style=\"color: #008080; text-decoration-color: #008080\">INFO</span>    | Task run 'first_etl-0' - &lt;class 'pandas.core.frame.DataFrame'&gt;\n",
       "</pre>\n"
      ],
      "text/plain": [
       "09:13:38.444 | \u001b[36mINFO\u001b[0m    | Task run 'first_etl-0' - <class 'pandas.core.frame.DataFrame'>\n"
      ]
     },
     "metadata": {},
     "output_type": "display_data"
    },
    {
     "data": {
      "text/html": [
       "<pre style=\"white-space:pre;overflow-x:auto;line-height:normal;font-family:Menlo,'DejaVu Sans Mono',consolas,'Courier New',monospace\">09:13:38.447 | <span style=\"color: #008080; text-decoration-color: #008080\">INFO</span>    | Task run 'first_etl-0' - &lt;class 'pandas.core.frame.DataFrame'&gt;\n",
       "</pre>\n"
      ],
      "text/plain": [
       "09:13:38.447 | \u001b[36mINFO\u001b[0m    | Task run 'first_etl-0' - <class 'pandas.core.frame.DataFrame'>\n"
      ]
     },
     "metadata": {},
     "output_type": "display_data"
    },
    {
     "data": {
      "text/html": [
       "<pre style=\"white-space:pre;overflow-x:auto;line-height:normal;font-family:Menlo,'DejaVu Sans Mono',consolas,'Courier New',monospace\">09:13:38.449 | <span style=\"color: #008080; text-decoration-color: #008080\">INFO</span>    | Task run 'first_etl-0' - &lt;class 'pandas.core.frame.DataFrame'&gt;\n",
       "</pre>\n"
      ],
      "text/plain": [
       "09:13:38.449 | \u001b[36mINFO\u001b[0m    | Task run 'first_etl-0' - <class 'pandas.core.frame.DataFrame'>\n"
      ]
     },
     "metadata": {},
     "output_type": "display_data"
    },
    {
     "data": {
      "text/html": [
       "<pre style=\"white-space:pre;overflow-x:auto;line-height:normal;font-family:Menlo,'DejaVu Sans Mono',consolas,'Courier New',monospace\">09:13:38.452 | <span style=\"color: #008080; text-decoration-color: #008080\">INFO</span>    | Task run 'first_etl-0' - &lt;class 'pandas.core.frame.DataFrame'&gt;\n",
       "</pre>\n"
      ],
      "text/plain": [
       "09:13:38.452 | \u001b[36mINFO\u001b[0m    | Task run 'first_etl-0' - <class 'pandas.core.frame.DataFrame'>\n"
      ]
     },
     "metadata": {},
     "output_type": "display_data"
    },
    {
     "data": {
      "text/html": [
       "<pre style=\"white-space:pre;overflow-x:auto;line-height:normal;font-family:Menlo,'DejaVu Sans Mono',consolas,'Courier New',monospace\">09:13:38.455 | <span style=\"color: #008080; text-decoration-color: #008080\">INFO</span>    | Task run 'first_etl-0' - &lt;class 'pandas.core.frame.DataFrame'&gt;\n",
       "</pre>\n"
      ],
      "text/plain": [
       "09:13:38.455 | \u001b[36mINFO\u001b[0m    | Task run 'first_etl-0' - <class 'pandas.core.frame.DataFrame'>\n"
      ]
     },
     "metadata": {},
     "output_type": "display_data"
    },
    {
     "data": {
      "text/html": [
       "<pre style=\"white-space:pre;overflow-x:auto;line-height:normal;font-family:Menlo,'DejaVu Sans Mono',consolas,'Courier New',monospace\">09:13:38.459 | <span style=\"color: #008080; text-decoration-color: #008080\">INFO</span>    | Task run 'first_etl-0' - &lt;class 'pandas.core.frame.DataFrame'&gt;\n",
       "</pre>\n"
      ],
      "text/plain": [
       "09:13:38.459 | \u001b[36mINFO\u001b[0m    | Task run 'first_etl-0' - <class 'pandas.core.frame.DataFrame'>\n"
      ]
     },
     "metadata": {},
     "output_type": "display_data"
    },
    {
     "data": {
      "text/html": [
       "<pre style=\"white-space:pre;overflow-x:auto;line-height:normal;font-family:Menlo,'DejaVu Sans Mono',consolas,'Courier New',monospace\">09:13:38.463 | <span style=\"color: #008080; text-decoration-color: #008080\">INFO</span>    | Task run 'first_etl-0' - &lt;class 'pandas.core.frame.DataFrame'&gt;\n",
       "</pre>\n"
      ],
      "text/plain": [
       "09:13:38.463 | \u001b[36mINFO\u001b[0m    | Task run 'first_etl-0' - <class 'pandas.core.frame.DataFrame'>\n"
      ]
     },
     "metadata": {},
     "output_type": "display_data"
    },
    {
     "data": {
      "text/html": [
       "<pre style=\"white-space:pre;overflow-x:auto;line-height:normal;font-family:Menlo,'DejaVu Sans Mono',consolas,'Courier New',monospace\">09:13:38.466 | <span style=\"color: #008080; text-decoration-color: #008080\">INFO</span>    | Task run 'first_etl-0' - &lt;class 'pandas.core.frame.DataFrame'&gt;\n",
       "</pre>\n"
      ],
      "text/plain": [
       "09:13:38.466 | \u001b[36mINFO\u001b[0m    | Task run 'first_etl-0' - <class 'pandas.core.frame.DataFrame'>\n"
      ]
     },
     "metadata": {},
     "output_type": "display_data"
    },
    {
     "data": {
      "text/html": [
       "<pre style=\"white-space:pre;overflow-x:auto;line-height:normal;font-family:Menlo,'DejaVu Sans Mono',consolas,'Courier New',monospace\">09:13:38.469 | <span style=\"color: #008080; text-decoration-color: #008080\">INFO</span>    | Task run 'first_etl-0' - &lt;class 'pandas.core.frame.DataFrame'&gt;\n",
       "</pre>\n"
      ],
      "text/plain": [
       "09:13:38.469 | \u001b[36mINFO\u001b[0m    | Task run 'first_etl-0' - <class 'pandas.core.frame.DataFrame'>\n"
      ]
     },
     "metadata": {},
     "output_type": "display_data"
    },
    {
     "data": {
      "text/html": [
       "<pre style=\"white-space:pre;overflow-x:auto;line-height:normal;font-family:Menlo,'DejaVu Sans Mono',consolas,'Courier New',monospace\">09:13:38.472 | <span style=\"color: #008080; text-decoration-color: #008080\">INFO</span>    | Task run 'first_etl-0' - &lt;class 'pandas.core.frame.DataFrame'&gt;\n",
       "</pre>\n"
      ],
      "text/plain": [
       "09:13:38.472 | \u001b[36mINFO\u001b[0m    | Task run 'first_etl-0' - <class 'pandas.core.frame.DataFrame'>\n"
      ]
     },
     "metadata": {},
     "output_type": "display_data"
    },
    {
     "data": {
      "text/html": [
       "<pre style=\"white-space:pre;overflow-x:auto;line-height:normal;font-family:Menlo,'DejaVu Sans Mono',consolas,'Courier New',monospace\">09:13:38.475 | <span style=\"color: #008080; text-decoration-color: #008080\">INFO</span>    | Task run 'first_etl-0' - &lt;class 'pandas.core.frame.DataFrame'&gt;\n",
       "</pre>\n"
      ],
      "text/plain": [
       "09:13:38.475 | \u001b[36mINFO\u001b[0m    | Task run 'first_etl-0' - <class 'pandas.core.frame.DataFrame'>\n"
      ]
     },
     "metadata": {},
     "output_type": "display_data"
    },
    {
     "data": {
      "text/html": [
       "<pre style=\"white-space:pre;overflow-x:auto;line-height:normal;font-family:Menlo,'DejaVu Sans Mono',consolas,'Courier New',monospace\">09:13:38.478 | <span style=\"color: #008080; text-decoration-color: #008080\">INFO</span>    | Task run 'first_etl-0' - &lt;class 'pandas.core.frame.DataFrame'&gt;\n",
       "</pre>\n"
      ],
      "text/plain": [
       "09:13:38.478 | \u001b[36mINFO\u001b[0m    | Task run 'first_etl-0' - <class 'pandas.core.frame.DataFrame'>\n"
      ]
     },
     "metadata": {},
     "output_type": "display_data"
    },
    {
     "data": {
      "text/html": [
       "<pre style=\"white-space:pre;overflow-x:auto;line-height:normal;font-family:Menlo,'DejaVu Sans Mono',consolas,'Courier New',monospace\">09:13:38.480 | <span style=\"color: #008080; text-decoration-color: #008080\">INFO</span>    | Task run 'first_etl-0' - &lt;class 'pandas.core.frame.DataFrame'&gt;\n",
       "</pre>\n"
      ],
      "text/plain": [
       "09:13:38.480 | \u001b[36mINFO\u001b[0m    | Task run 'first_etl-0' - <class 'pandas.core.frame.DataFrame'>\n"
      ]
     },
     "metadata": {},
     "output_type": "display_data"
    },
    {
     "data": {
      "text/html": [
       "<pre style=\"white-space:pre;overflow-x:auto;line-height:normal;font-family:Menlo,'DejaVu Sans Mono',consolas,'Courier New',monospace\">09:13:38.482 | <span style=\"color: #008080; text-decoration-color: #008080\">INFO</span>    | Task run 'first_etl-0' - &lt;class 'pandas.core.frame.DataFrame'&gt;\n",
       "</pre>\n"
      ],
      "text/plain": [
       "09:13:38.482 | \u001b[36mINFO\u001b[0m    | Task run 'first_etl-0' - <class 'pandas.core.frame.DataFrame'>\n"
      ]
     },
     "metadata": {},
     "output_type": "display_data"
    },
    {
     "data": {
      "text/html": [
       "<pre style=\"white-space:pre;overflow-x:auto;line-height:normal;font-family:Menlo,'DejaVu Sans Mono',consolas,'Courier New',monospace\">09:13:38.485 | <span style=\"color: #008080; text-decoration-color: #008080\">INFO</span>    | Task run 'first_etl-0' - &lt;class 'pandas.core.frame.DataFrame'&gt;\n",
       "</pre>\n"
      ],
      "text/plain": [
       "09:13:38.485 | \u001b[36mINFO\u001b[0m    | Task run 'first_etl-0' - <class 'pandas.core.frame.DataFrame'>\n"
      ]
     },
     "metadata": {},
     "output_type": "display_data"
    },
    {
     "data": {
      "text/html": [
       "<pre style=\"white-space:pre;overflow-x:auto;line-height:normal;font-family:Menlo,'DejaVu Sans Mono',consolas,'Courier New',monospace\">09:13:38.487 | <span style=\"color: #008080; text-decoration-color: #008080\">INFO</span>    | Task run 'first_etl-0' - &lt;class 'pandas.core.frame.DataFrame'&gt;\n",
       "</pre>\n"
      ],
      "text/plain": [
       "09:13:38.487 | \u001b[36mINFO\u001b[0m    | Task run 'first_etl-0' - <class 'pandas.core.frame.DataFrame'>\n"
      ]
     },
     "metadata": {},
     "output_type": "display_data"
    },
    {
     "data": {
      "text/html": [
       "<pre style=\"white-space:pre;overflow-x:auto;line-height:normal;font-family:Menlo,'DejaVu Sans Mono',consolas,'Courier New',monospace\">09:13:38.490 | <span style=\"color: #008080; text-decoration-color: #008080\">INFO</span>    | Task run 'first_etl-0' - &lt;class 'pandas.core.frame.DataFrame'&gt;\n",
       "</pre>\n"
      ],
      "text/plain": [
       "09:13:38.490 | \u001b[36mINFO\u001b[0m    | Task run 'first_etl-0' - <class 'pandas.core.frame.DataFrame'>\n"
      ]
     },
     "metadata": {},
     "output_type": "display_data"
    },
    {
     "data": {
      "text/html": [
       "<pre style=\"white-space:pre;overflow-x:auto;line-height:normal;font-family:Menlo,'DejaVu Sans Mono',consolas,'Courier New',monospace\">09:13:38.493 | <span style=\"color: #008080; text-decoration-color: #008080\">INFO</span>    | Task run 'first_etl-0' - &lt;class 'pandas.core.frame.DataFrame'&gt;\n",
       "</pre>\n"
      ],
      "text/plain": [
       "09:13:38.493 | \u001b[36mINFO\u001b[0m    | Task run 'first_etl-0' - <class 'pandas.core.frame.DataFrame'>\n"
      ]
     },
     "metadata": {},
     "output_type": "display_data"
    },
    {
     "data": {
      "text/html": [
       "<pre style=\"white-space:pre;overflow-x:auto;line-height:normal;font-family:Menlo,'DejaVu Sans Mono',consolas,'Courier New',monospace\">09:13:38.495 | <span style=\"color: #008080; text-decoration-color: #008080\">INFO</span>    | Task run 'first_etl-0' - &lt;class 'pandas.core.frame.DataFrame'&gt;\n",
       "</pre>\n"
      ],
      "text/plain": [
       "09:13:38.495 | \u001b[36mINFO\u001b[0m    | Task run 'first_etl-0' - <class 'pandas.core.frame.DataFrame'>\n"
      ]
     },
     "metadata": {},
     "output_type": "display_data"
    },
    {
     "data": {
      "text/html": [
       "<pre style=\"white-space:pre;overflow-x:auto;line-height:normal;font-family:Menlo,'DejaVu Sans Mono',consolas,'Courier New',monospace\">09:13:38.498 | <span style=\"color: #008080; text-decoration-color: #008080\">INFO</span>    | Task run 'first_etl-0' - &lt;class 'pandas.core.frame.DataFrame'&gt;\n",
       "</pre>\n"
      ],
      "text/plain": [
       "09:13:38.498 | \u001b[36mINFO\u001b[0m    | Task run 'first_etl-0' - <class 'pandas.core.frame.DataFrame'>\n"
      ]
     },
     "metadata": {},
     "output_type": "display_data"
    },
    {
     "data": {
      "text/html": [
       "<pre style=\"white-space:pre;overflow-x:auto;line-height:normal;font-family:Menlo,'DejaVu Sans Mono',consolas,'Courier New',monospace\">09:13:38.500 | <span style=\"color: #008080; text-decoration-color: #008080\">INFO</span>    | Task run 'first_etl-0' - &lt;class 'pandas.core.frame.DataFrame'&gt;\n",
       "</pre>\n"
      ],
      "text/plain": [
       "09:13:38.500 | \u001b[36mINFO\u001b[0m    | Task run 'first_etl-0' - <class 'pandas.core.frame.DataFrame'>\n"
      ]
     },
     "metadata": {},
     "output_type": "display_data"
    },
    {
     "data": {
      "text/html": [
       "<pre style=\"white-space:pre;overflow-x:auto;line-height:normal;font-family:Menlo,'DejaVu Sans Mono',consolas,'Courier New',monospace\">09:13:38.502 | <span style=\"color: #008080; text-decoration-color: #008080\">INFO</span>    | Task run 'first_etl-0' - &lt;class 'pandas.core.frame.DataFrame'&gt;\n",
       "</pre>\n"
      ],
      "text/plain": [
       "09:13:38.502 | \u001b[36mINFO\u001b[0m    | Task run 'first_etl-0' - <class 'pandas.core.frame.DataFrame'>\n"
      ]
     },
     "metadata": {},
     "output_type": "display_data"
    },
    {
     "data": {
      "text/html": [
       "<pre style=\"white-space:pre;overflow-x:auto;line-height:normal;font-family:Menlo,'DejaVu Sans Mono',consolas,'Courier New',monospace\">09:13:38.504 | <span style=\"color: #008080; text-decoration-color: #008080\">INFO</span>    | Task run 'first_etl-0' - &lt;class 'pandas.core.frame.DataFrame'&gt;\n",
       "</pre>\n"
      ],
      "text/plain": [
       "09:13:38.504 | \u001b[36mINFO\u001b[0m    | Task run 'first_etl-0' - <class 'pandas.core.frame.DataFrame'>\n"
      ]
     },
     "metadata": {},
     "output_type": "display_data"
    },
    {
     "data": {
      "text/html": [
       "<pre style=\"white-space:pre;overflow-x:auto;line-height:normal;font-family:Menlo,'DejaVu Sans Mono',consolas,'Courier New',monospace\">09:13:38.507 | <span style=\"color: #008080; text-decoration-color: #008080\">INFO</span>    | Task run 'first_etl-0' - &lt;class 'pandas.core.frame.DataFrame'&gt;\n",
       "</pre>\n"
      ],
      "text/plain": [
       "09:13:38.507 | \u001b[36mINFO\u001b[0m    | Task run 'first_etl-0' - <class 'pandas.core.frame.DataFrame'>\n"
      ]
     },
     "metadata": {},
     "output_type": "display_data"
    },
    {
     "data": {
      "text/html": [
       "<pre style=\"white-space:pre;overflow-x:auto;line-height:normal;font-family:Menlo,'DejaVu Sans Mono',consolas,'Courier New',monospace\">09:13:38.509 | <span style=\"color: #008080; text-decoration-color: #008080\">INFO</span>    | Task run 'first_etl-0' - &lt;class 'pandas.core.frame.DataFrame'&gt;\n",
       "</pre>\n"
      ],
      "text/plain": [
       "09:13:38.509 | \u001b[36mINFO\u001b[0m    | Task run 'first_etl-0' - <class 'pandas.core.frame.DataFrame'>\n"
      ]
     },
     "metadata": {},
     "output_type": "display_data"
    },
    {
     "data": {
      "text/html": [
       "<pre style=\"white-space:pre;overflow-x:auto;line-height:normal;font-family:Menlo,'DejaVu Sans Mono',consolas,'Courier New',monospace\">09:13:38.511 | <span style=\"color: #008080; text-decoration-color: #008080\">INFO</span>    | Task run 'first_etl-0' - &lt;class 'pandas.core.frame.DataFrame'&gt;\n",
       "</pre>\n"
      ],
      "text/plain": [
       "09:13:38.511 | \u001b[36mINFO\u001b[0m    | Task run 'first_etl-0' - <class 'pandas.core.frame.DataFrame'>\n"
      ]
     },
     "metadata": {},
     "output_type": "display_data"
    },
    {
     "data": {
      "text/html": [
       "<pre style=\"white-space:pre;overflow-x:auto;line-height:normal;font-family:Menlo,'DejaVu Sans Mono',consolas,'Courier New',monospace\">09:13:38.513 | <span style=\"color: #008080; text-decoration-color: #008080\">INFO</span>    | Task run 'first_etl-0' - &lt;class 'pandas.core.frame.DataFrame'&gt;\n",
       "</pre>\n"
      ],
      "text/plain": [
       "09:13:38.513 | \u001b[36mINFO\u001b[0m    | Task run 'first_etl-0' - <class 'pandas.core.frame.DataFrame'>\n"
      ]
     },
     "metadata": {},
     "output_type": "display_data"
    },
    {
     "data": {
      "text/html": [
       "<pre style=\"white-space:pre;overflow-x:auto;line-height:normal;font-family:Menlo,'DejaVu Sans Mono',consolas,'Courier New',monospace\">09:13:38.516 | <span style=\"color: #008080; text-decoration-color: #008080\">INFO</span>    | Task run 'first_etl-0' - &lt;class 'pandas.core.frame.DataFrame'&gt;\n",
       "</pre>\n"
      ],
      "text/plain": [
       "09:13:38.516 | \u001b[36mINFO\u001b[0m    | Task run 'first_etl-0' - <class 'pandas.core.frame.DataFrame'>\n"
      ]
     },
     "metadata": {},
     "output_type": "display_data"
    },
    {
     "data": {
      "text/html": [
       "<pre style=\"white-space:pre;overflow-x:auto;line-height:normal;font-family:Menlo,'DejaVu Sans Mono',consolas,'Courier New',monospace\">09:13:38.519 | <span style=\"color: #008080; text-decoration-color: #008080\">INFO</span>    | Task run 'first_etl-0' - &lt;class 'pandas.core.frame.DataFrame'&gt;\n",
       "</pre>\n"
      ],
      "text/plain": [
       "09:13:38.519 | \u001b[36mINFO\u001b[0m    | Task run 'first_etl-0' - <class 'pandas.core.frame.DataFrame'>\n"
      ]
     },
     "metadata": {},
     "output_type": "display_data"
    },
    {
     "data": {
      "text/html": [
       "<pre style=\"white-space:pre;overflow-x:auto;line-height:normal;font-family:Menlo,'DejaVu Sans Mono',consolas,'Courier New',monospace\">09:13:38.522 | <span style=\"color: #008080; text-decoration-color: #008080\">INFO</span>    | Task run 'first_etl-0' - &lt;class 'pandas.core.frame.DataFrame'&gt;\n",
       "</pre>\n"
      ],
      "text/plain": [
       "09:13:38.522 | \u001b[36mINFO\u001b[0m    | Task run 'first_etl-0' - <class 'pandas.core.frame.DataFrame'>\n"
      ]
     },
     "metadata": {},
     "output_type": "display_data"
    },
    {
     "data": {
      "text/html": [
       "<pre style=\"white-space:pre;overflow-x:auto;line-height:normal;font-family:Menlo,'DejaVu Sans Mono',consolas,'Courier New',monospace\">09:13:38.525 | <span style=\"color: #008080; text-decoration-color: #008080\">INFO</span>    | Task run 'first_etl-0' - &lt;class 'pandas.core.frame.DataFrame'&gt;\n",
       "</pre>\n"
      ],
      "text/plain": [
       "09:13:38.525 | \u001b[36mINFO\u001b[0m    | Task run 'first_etl-0' - <class 'pandas.core.frame.DataFrame'>\n"
      ]
     },
     "metadata": {},
     "output_type": "display_data"
    },
    {
     "data": {
      "text/html": [
       "<pre style=\"white-space:pre;overflow-x:auto;line-height:normal;font-family:Menlo,'DejaVu Sans Mono',consolas,'Courier New',monospace\">09:13:38.528 | <span style=\"color: #008080; text-decoration-color: #008080\">INFO</span>    | Task run 'first_etl-0' - &lt;class 'pandas.core.frame.DataFrame'&gt;\n",
       "</pre>\n"
      ],
      "text/plain": [
       "09:13:38.528 | \u001b[36mINFO\u001b[0m    | Task run 'first_etl-0' - <class 'pandas.core.frame.DataFrame'>\n"
      ]
     },
     "metadata": {},
     "output_type": "display_data"
    },
    {
     "data": {
      "text/html": [
       "<pre style=\"white-space:pre;overflow-x:auto;line-height:normal;font-family:Menlo,'DejaVu Sans Mono',consolas,'Courier New',monospace\">09:13:38.531 | <span style=\"color: #008080; text-decoration-color: #008080\">INFO</span>    | Task run 'first_etl-0' - &lt;class 'pandas.core.frame.DataFrame'&gt;\n",
       "</pre>\n"
      ],
      "text/plain": [
       "09:13:38.531 | \u001b[36mINFO\u001b[0m    | Task run 'first_etl-0' - <class 'pandas.core.frame.DataFrame'>\n"
      ]
     },
     "metadata": {},
     "output_type": "display_data"
    },
    {
     "data": {
      "text/html": [
       "<pre style=\"white-space:pre;overflow-x:auto;line-height:normal;font-family:Menlo,'DejaVu Sans Mono',consolas,'Courier New',monospace\">09:13:38.535 | <span style=\"color: #008080; text-decoration-color: #008080\">INFO</span>    | Task run 'first_etl-0' - &lt;class 'pandas.core.frame.DataFrame'&gt;\n",
       "</pre>\n"
      ],
      "text/plain": [
       "09:13:38.535 | \u001b[36mINFO\u001b[0m    | Task run 'first_etl-0' - <class 'pandas.core.frame.DataFrame'>\n"
      ]
     },
     "metadata": {},
     "output_type": "display_data"
    },
    {
     "data": {
      "text/html": [
       "<pre style=\"white-space:pre;overflow-x:auto;line-height:normal;font-family:Menlo,'DejaVu Sans Mono',consolas,'Courier New',monospace\">09:13:38.538 | <span style=\"color: #008080; text-decoration-color: #008080\">INFO</span>    | Task run 'first_etl-0' - &lt;class 'pandas.core.frame.DataFrame'&gt;\n",
       "</pre>\n"
      ],
      "text/plain": [
       "09:13:38.538 | \u001b[36mINFO\u001b[0m    | Task run 'first_etl-0' - <class 'pandas.core.frame.DataFrame'>\n"
      ]
     },
     "metadata": {},
     "output_type": "display_data"
    },
    {
     "data": {
      "text/html": [
       "<pre style=\"white-space:pre;overflow-x:auto;line-height:normal;font-family:Menlo,'DejaVu Sans Mono',consolas,'Courier New',monospace\">09:13:38.639 | <span style=\"color: #008080; text-decoration-color: #008080\">INFO</span>    | Task run 'first_etl-0' - Finished in state <span style=\"color: #008000; text-decoration-color: #008000\">Completed</span>()\n",
       "</pre>\n"
      ],
      "text/plain": [
       "09:13:38.639 | \u001b[36mINFO\u001b[0m    | Task run 'first_etl-0' - Finished in state \u001b[32mCompleted\u001b[0m()\n"
      ]
     },
     "metadata": {},
     "output_type": "display_data"
    },
    {
     "data": {
      "text/html": [
       "<pre style=\"white-space:pre;overflow-x:auto;line-height:normal;font-family:Menlo,'DejaVu Sans Mono',consolas,'Courier New',monospace\">09:13:38.743 | <span style=\"color: #008080; text-decoration-color: #008080\">INFO</span>    | Flow run<span style=\"color: #800080; text-decoration-color: #800080\"> 'caped-jaybird'</span> - Finished in state <span style=\"color: #008000; text-decoration-color: #008000\">Completed</span>()\n",
       "</pre>\n"
      ],
      "text/plain": [
       "09:13:38.743 | \u001b[36mINFO\u001b[0m    | Flow run\u001b[35m 'caped-jaybird'\u001b[0m - Finished in state \u001b[32mCompleted\u001b[0m()\n"
      ]
     },
     "metadata": {},
     "output_type": "display_data"
    }
   ],
   "source": [
    "from prefect import task, flow\n",
    "import requests\n",
    "import json\n",
    "from dotenv import load_dotenv\n",
    "from pathlib import Path\n",
    "import os\n",
    "import pandas as pd\n",
    "\n",
    "dot_env = Path(\"/media/zmwaris/mydrive/data-engineering/Project-1/Data-Pipeline-wtih-Kafka_Spark_Hadoop_Prefect/secrets/.env\")\n",
    "secrets = load_dotenv(dotenv_path=dot_env)\n",
    "ALPHAVANTAGE_API_KEY = os.getenv(\"ALPHAVANTAGE_API_KEY\")\n",
    "ALPHAVANTAGE_BASE_URL = os.getenv(\"ALPHAVANTAGE_BASE_URL\")\n",
    "\n",
    "@task(name='first_etl')\n",
    "def get_data(url:str) -> None:\n",
    "    if not url:\n",
    "        return \"Please enter a valid url.\"\n",
    "    response = requests.get(url)\n",
    "    data = response.json()\n",
    "    # res = next(data)\n",
    "    count = 0\n",
    "    for k,v in (data[\"Time Series (Digital Currency Daily)\"].items()):\n",
    "        rec = pd.json_normalize([k, v])\n",
    "        print(type(rec))\n",
    "        yield rec\n",
    "\n",
    "# @task(name='first_etl')\n",
    "# def from_records(rec):\n",
    "#     df = pd.DataFrame(rec)\n",
    "#     print(df)\n",
    "\n",
    "@flow(name='first_etl', log_prints=True)\n",
    "def load_data_using_api(url) -> None:\n",
    "    rec = get_data(url)\n",
    "    return rec\n",
    "\n",
    "if __name__ == \"__main__\":\n",
    "    url = f\"{ALPHAVANTAGE_BASE_URL}function=DIGITAL_CURRENCY_DAILY&symbol=BTC&market=INR&apikey={ALPHAVANTAGE_API_KEY}\"\n",
    "    load_data_using_api(url)"
   ]
  },
  {
   "cell_type": "code",
   "execution_count": null,
   "id": "0bfeb1de",
   "metadata": {},
   "outputs": [],
   "source": []
  }
 ],
 "metadata": {
  "kernelspec": {
   "display_name": "Python 3 (ipykernel)",
   "language": "python",
   "name": "python3"
  },
  "language_info": {
   "codemirror_mode": {
    "name": "ipython",
    "version": 3
   },
   "file_extension": ".py",
   "mimetype": "text/x-python",
   "name": "python",
   "nbconvert_exporter": "python",
   "pygments_lexer": "ipython3",
   "version": "3.11.4"
  }
 },
 "nbformat": 4,
 "nbformat_minor": 5
}
